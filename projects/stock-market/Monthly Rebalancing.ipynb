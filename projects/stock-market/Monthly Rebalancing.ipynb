{
 "cells": [
  {
   "cell_type": "code",
   "execution_count": 15,
   "metadata": {},
   "outputs": [],
   "source": [
    "import numpy as np\n",
    "import pandas as pd\n",
    "import pandas_datareader.data as pdr\n",
    "import datetime\n",
    "import copy\n",
    "import matplotlib.pyplot as plt\n",
    "import os.path\n",
    "from os import path\n",
    "\n",
    "%matplotlib inline"
   ]
  },
  {
   "cell_type": "code",
   "execution_count": 2,
   "metadata": {},
   "outputs": [],
   "source": [
    "def CAGR(df):\n",
    "    \"Calculates Cumulative Annual Growth Rate of a data frame. Expects mon_ret column containing percent change of the adjusted close price of a stock price\"\n",
    "    df[\"cum_return\"] = (1 + df[\"mon_ret\"]).cumprod()\n",
    "    n = len(df)/12\n",
    "    CAGR = (df[\"cum_return\"].tolist()[-1])**(1/n) - 1\n",
    "    return CAGR\n",
    "\n",
    "def volatility(df):\n",
    "    \"Calculates annualized volatility of a data frame. Expects mon_ret column containing percent change of the adjusted close price of a stock price\"\n",
    "    vol = df[\"mon_ret\"].std() * np.sqrt(12)\n",
    "    return vol\n",
    "\n",
    "def sharpe(df, rf):\n",
    "    \"Calculates Sharpe Ratio of a data series; rf is the risk free rate. Expects mon_ret column containing percent change of the adjusted close price of a stock price\"\n",
    "    sr = (CAGR(df) - rf)/volatility(df)\n",
    "    return sr\n",
    "\n",
    "def max_dd(df):\n",
    "    \"Calculate max drawdown of a data frame. Expects mon_ret column containing percent change of the adjusted close price of a stock price\"\n",
    "    df[\"cum_return\"] = (1 + df[\"mon_ret\"]).cumprod()\n",
    "    df[\"cum_roll_max\"] = df[\"cum_return\"].cummax()\n",
    "    df[\"drawdown\"] = df[\"cum_roll_max\"] - df[\"cum_return\"]\n",
    "    df[\"drawdown_pct\"] = df[\"drawdown\"]/df[\"cum_roll_max\"]\n",
    "    max_dd = df[\"drawdown_pct\"].max()\n",
    "    return max_dd"
   ]
  },
  {
   "cell_type": "markdown",
   "metadata": {},
   "source": [
    "### Get historical data for DJ"
   ]
  },
  {
   "cell_type": "code",
   "execution_count": 3,
   "metadata": {},
   "outputs": [],
   "source": [
    "tickers = [\"MMM\",\"AXP\",\"T\",\"BA\",\"CAT\",\"CVX\",\"CSCO\",\"KO\", \"XOM\",\"GE\",\"GS\",\"HD\",\n",
    "           \"IBM\",\"INTC\",\"JNJ\",\"JPM\",\"MCD\",\"MRK\",\"MSFT\",\"NKE\",\"PFE\",\"PG\",\"TRV\",\n",
    "           \"UTX\",\"UNH\",\"VZ\",\"V\",\"WMT\",\"DIS\"]\n",
    "\n",
    "# THIS WOULD WORK ONLY DURING BUILLISH MARKET\n",
    "# tickers = ['XLV', 'XLK', 'XLI', 'XLP', 'XLE', 'XLU', 'XLB', 'XLY', 'XLF', 'IYR']\n",
    "\n",
    "ohlc_mon = {}\n",
    "attempt = 0\n",
    "drop = []\n",
    "\n",
    "if not path.exists('data/returns.csv'):\n",
    "    while len(tickers) != 0 and attempt <= 5:\n",
    "        tickers = [j for j in tickers if j not in drop] # removing stocks whose data has been extracted from the ticker list\n",
    "        for i in range(len(tickers)):\n",
    "            try:\n",
    "                ohlc_mon[tickers[i]] = pdr.get_data_yahoo(tickers[i],datetime.date.today()-datetime.timedelta(1900),datetime.date.today(),interval='m')\n",
    "                ohlc_mon[tickers[i]].dropna(inplace = True)\n",
    "                drop.append(tickers[i])       \n",
    "            except:\n",
    "                print(tickers[i],\" :failed to fetch data...retrying\")\n",
    "                continue\n",
    "        attempt+=1\n",
    "\n",
    "    # redefine tickers variable after removing any tickers with corrupted data\n",
    "    tickers = ohlc_mon.keys()"
   ]
  },
  {
   "cell_type": "markdown",
   "metadata": {},
   "source": [
    "### Backtesting"
   ]
  },
  {
   "cell_type": "code",
   "execution_count": 16,
   "metadata": {},
   "outputs": [
    {
     "name": "stdout",
     "output_type": "stream",
     "text": [
      "Reading previously obtained data\n"
     ]
    }
   ],
   "source": [
    "if not path.exists('data/returns.csv'):\n",
    "    ohlc_dict = copy.deepcopy(ohlc_mon)\n",
    "    return_df = pd.DataFrame()\n",
    "    for ticker in tickers:\n",
    "        print(\"calculating monthly return for \",ticker)\n",
    "        ohlc_dict[ticker][\"mon_ret\"] = ohlc_dict[ticker][\"Adj Close\"].pct_change()\n",
    "        return_df[ticker] = ohlc_dict[ticker][\"mon_ret\"]\n",
    "else:\n",
    "    print('Reading previously obtained data')\n",
    "    return_df = pd.read_csv('data/returns.csv')"
   ]
  },
  {
   "cell_type": "code",
   "execution_count": 5,
   "metadata": {},
   "outputs": [],
   "source": [
    "# function to calculate portfolio return iteratively\n",
    "def pflio(df,m,x):\n",
    "    \"\"\"Returns cumulative portfolio return\n",
    "    DF = dataframe with monthly return info for all stocks\n",
    "    m = number of stock in the portfolio\n",
    "    x = number of underperforming stocks to be removed from portfolio monthly\"\"\"\n",
    "    \n",
    "    portfolio = []\n",
    "    monthly_ret = [0]\n",
    "    \n",
    "    for i in range(1,len(df)):\n",
    "        if len(portfolio) > 0:\n",
    "            monthly_ret.append(df[portfolio].iloc[i,:].mean())\n",
    "            bad_stocks = df[portfolio].iloc[i,:].sort_values(ascending=True)[:x].index.values.tolist()\n",
    "            portfolio = [t for t in portfolio if t not in bad_stocks]\n",
    "        fill = m - len(portfolio)\n",
    "        new_picks = df.iloc[i,:].sort_values(ascending=False)[:fill].index.values.tolist()\n",
    "        portfolio = portfolio + new_picks\n",
    "        # print(portfolio)\n",
    "    monthly_ret_df = pd.DataFrame(np.array(monthly_ret),columns=[\"mon_ret\"])\n",
    "    return monthly_ret_df\n"
   ]
  },
  {
   "cell_type": "code",
   "execution_count": 6,
   "metadata": {},
   "outputs": [
    {
     "name": "stdout",
     "output_type": "stream",
     "text": [
      "CAGR: 0.1533246100740704\n",
      "Sharpe: 0.9875667351541305\n",
      "Max DD: 0.07078267467660831\n"
     ]
    }
   ],
   "source": [
    "\n",
    "#calculating overall strategy's KPIs\n",
    "print(\"CAGR: \" + str(CAGR(pflio(return_df,6,3))))\n",
    "print(\"Sharpe: \" + str(sharpe(pflio(return_df,6,3),0.025)))\n",
    "print(\"Max DD: \" + str(max_dd(pflio(return_df,6,3))))"
   ]
  },
  {
   "cell_type": "code",
   "execution_count": 17,
   "metadata": {},
   "outputs": [
    {
     "name": "stdout",
     "output_type": "stream",
     "text": [
      "Looking at time period 2014-07-18 to 2019-09-30\n",
      "CAGR  : 0.09067766421893886\n",
      "Sharpe: 0.5486461944248292\n",
      "Max DD: 0.11833142572834397\n"
     ]
    }
   ],
   "source": [
    "start_date = datetime.date.today()-datetime.timedelta(1900)\n",
    "end_date = datetime.date.today()\n",
    "\n",
    "print(\"Looking at time period \" + str(start_date) + \" to \" + str(end_date))\n",
    "\n",
    "#calculating KPIs for Index buy and hold strategy over the same period\n",
    "if not path.exists('data/DJI.csv'):\n",
    "    DJI = pdr.get_data_yahoo(\"^DJI\", start_date, end_date, interval='m')\n",
    "    DJI[\"mon_ret\"] = DJI[\"Adj Close\"].pct_change()\n",
    "else:\n",
    "    DJI = pd.read_csv('data/DJI.csv')\n",
    "\n",
    "print(\"CAGR  : \" + str(CAGR(DJI)))\n",
    "print(\"Sharpe: \" + str(sharpe(DJI,0.025)))\n",
    "print(\"Max DD: \" + str(max_dd(DJI)))"
   ]
  },
  {
   "cell_type": "code",
   "execution_count": 18,
   "metadata": {},
   "outputs": [
    {
     "name": "stdout",
     "output_type": "stream",
     "text": [
      "CAGR  : 0.07856925044462737\n",
      "Sharpe: 0.45466530480256884\n",
      "Max DD: 0.13971608780476522\n"
     ]
    }
   ],
   "source": [
    "if not path.exists('data/SPX.csv'):\n",
    "    SPX = pdr.get_data_yahoo(\"^GSPC\", start_date, end_date, interval='m')\n",
    "    SPX[\"mon_ret\"] = SPX[\"Adj Close\"].pct_change()\n",
    "else:\n",
    "    SPX = pd.read_csv('data/SPX.csv')\n",
    "\n",
    "print(\"CAGR  : \" + str(CAGR(SPX)))\n",
    "print(\"Sharpe: \" + str(sharpe(SPX, 0.025)))\n",
    "print(\"Max DD: \" + str(max_dd(SPX)))"
   ]
  },
  {
   "cell_type": "code",
   "execution_count": 9,
   "metadata": {},
   "outputs": [
    {
     "data": {
      "text/plain": [
       "<matplotlib.legend.Legend at 0x19d912197b8>"
      ]
     },
     "execution_count": 9,
     "metadata": {},
     "output_type": "execute_result"
    },
    {
     "data": {
      "image/png": "[encoded data removed]",
      "text/plain": [
       "<Figure size 432x288 with 1 Axes>"
      ]
     },
     "metadata": {
      "needs_background": "light"
     },
     "output_type": "display_data"
    }
   ],
   "source": [
    "#visualization\n",
    "fig, ax = plt.subplots()\n",
    "plt.plot((1+pflio(return_df,6,3)).cumprod())\n",
    "plt.plot((1+DJI[\"mon_ret\"][2:].reset_index(drop=True)).cumprod(), 'r+')\n",
    "plt.plot((1+SPX[\"mon_ret\"][2:].reset_index(drop=True)).cumprod(), 'g--')\n",
    "plt.title(\"Index Return vs Strategy Return\")\n",
    "plt.ylabel(\"cumulative return\")\n",
    "plt.xlabel(\"months\")\n",
    "ax.legend([\"Strategy Return\",\"DJI Index Return\", \"SPX Index Return\"])"
   ]
  },
  {
   "cell_type": "code",
   "execution_count": 13,
   "metadata": {},
   "outputs": [],
   "source": [
    "return_df.to_csv('data/returns.csv')\n",
    "DJI.to_csv('data/DJI.csv')\n",
    "SPX.to_csv('data/SPX.csv')"
   ]
  }
 ],
 "metadata": {
  "kernelspec": {
   "display_name": "Python 3",
   "language": "python",
   "name": "python3"
  },
  "language_info": {
   "codemirror_mode": {
    "name": "ipython",
    "version": 3
   },
   "file_extension": ".py",
   "mimetype": "text/x-python",
   "name": "python",
   "nbconvert_exporter": "python",
   "pygments_lexer": "ipython3",
   "version": "3.7.3"
  }
 },
 "nbformat": 4,
 "nbformat_minor": 2
}
