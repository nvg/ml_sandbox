{
 "cells": [
  {
   "cell_type": "markdown",
   "metadata": {},
   "source": [
    "# Data prepration in python"
   ]
  },
  {
   "cell_type": "markdown",
   "metadata": {},
   "source": [
    "# Data reading"
   ]
  },
  {
   "cell_type": "code",
   "execution_count": 3,
   "metadata": {},
   "outputs": [],
   "source": [
    "import glob\n",
    "import gensim\n",
    "import numpy as np"
   ]
  },
  {
   "cell_type": "code",
   "execution_count": 5,
   "metadata": {},
   "outputs": [],
   "source": [
    "ff=glob.glob(\"Raw_data/*.txt\")"
   ]
  },
  {
   "cell_type": "code",
   "execution_count": 6,
   "metadata": {},
   "outputs": [
    {
     "data": {
      "text/plain": [
       "1000"
      ]
     },
     "execution_count": 6,
     "metadata": {},
     "output_type": "execute_result"
    }
   ],
   "source": [
    "len(ff)"
   ]
  },
  {
   "cell_type": "code",
   "execution_count": 7,
   "metadata": {},
   "outputs": [
    {
     "data": {
      "text/plain": [
       "'Raw_data\\\\Text0001.txt'"
      ]
     },
     "execution_count": 7,
     "metadata": {},
     "output_type": "execute_result"
    }
   ],
   "source": [
    "ff[0]"
   ]
  },
  {
   "cell_type": "code",
   "execution_count": 8,
   "metadata": {},
   "outputs": [],
   "source": [
    "raw_doc=[]\n",
    "for file in ff:\n",
    "    try:\n",
    "        f=open(file,\"r\")\n",
    "        raw_doc.append(f.read())\n",
    "    except:\n",
    "        pass"
   ]
  },
  {
   "cell_type": "code",
   "execution_count": 9,
   "metadata": {},
   "outputs": [
    {
     "data": {
      "text/plain": [
       "764"
      ]
     },
     "execution_count": 9,
     "metadata": {},
     "output_type": "execute_result"
    }
   ],
   "source": [
    "len(raw_doc)"
   ]
  },
  {
   "cell_type": "code",
   "execution_count": 10,
   "metadata": {},
   "outputs": [],
   "source": [
    "clean_texts=[]\n",
    "for text in raw_doc:\n",
    "    #This lowercases, tokenizes, \n",
    "    clean_texts.append(gensim.utils.simple_preprocess(text))"
   ]
  },
  {
   "cell_type": "code",
   "execution_count": 11,
   "metadata": {},
   "outputs": [
    {
     "data": {
      "text/plain": [
       "['finalists',\n",
       " 'in',\n",
       " 'the',\n",
       " 'apertura',\n",
       " 'play',\n",
       " 'offs',\n",
       " 'toluca',\n",
       " 'had',\n",
       " 'drawn',\n",
       " 'their']"
      ]
     },
     "execution_count": 11,
     "metadata": {},
     "output_type": "execute_result"
    }
   ],
   "source": [
    "clean_texts[0][:10]"
   ]
  },
  {
   "cell_type": "code",
   "execution_count": 12,
   "metadata": {},
   "outputs": [
    {
     "name": "stdout",
     "output_type": "stream",
     "text": [
      "20985\n"
     ]
    }
   ],
   "source": [
    "Dictionary=gensim.corpora.Dictionary(clean_texts)\n",
    "print(len(Dictionary))"
   ]
  },
  {
   "cell_type": "code",
   "execution_count": 13,
   "metadata": {},
   "outputs": [
    {
     "name": "stdout",
     "output_type": "stream",
     "text": [
      "0 against\n",
      "1 ahead\n",
      "2 aldo\n",
      "3 all\n",
      "4 also\n",
      "5 apertura\n",
      "6 arizala\n",
      "7 benitez\n",
      "8 britos\n",
      "9 but\n"
     ]
    }
   ],
   "source": [
    "for i in range(10):\n",
    "    print(i,Dictionary[i])"
   ]
  },
  {
   "cell_type": "code",
   "execution_count": 14,
   "metadata": {},
   "outputs": [
    {
     "data": {
      "text/plain": [
       "5"
      ]
     },
     "execution_count": 14,
     "metadata": {},
     "output_type": "execute_result"
    }
   ],
   "source": [
    "Dictionary.token2id['apertura']"
   ]
  },
  {
   "cell_type": "code",
   "execution_count": 15,
   "metadata": {},
   "outputs": [
    {
     "data": {
      "text/plain": [
       "array(['finalists', 'in', 'the', 'apertura', 'play', 'offs', 'toluca',\n",
       "       'had', 'drawn', 'their', 'first', 'two', 'clausura', 'games',\n",
       "       'but', 'got', 'off', 'to', 'good', 'start', 'when', 'edgar',\n",
       "       'benitez', 'put', 'them', 'ahead', 'in', 'the', 'th', 'minute',\n",
       "       'matias', 'britos', 'levelled', 'minutes', 'later', 'but', 'lucas',\n",
       "       'silva', 'netted', 'minutes', 'from', 'the', 'end', 'to', 'ensure',\n",
       "       'the', 'visitors', 'took', 'all', 'three', 'points', 'franco',\n",
       "       'arizala', 'scored', 'minutes', 'from', 'time', 'to', 'ensure',\n",
       "       'jaguares', 'claimed', 'their', 'first', 'point', 'with', 'draw',\n",
       "       'against', 'monterrey', 'who', 'had', 'opened', 'the', 'scoring',\n",
       "       'through', 'aldo', 'de', 'nigris', 'hosts', 'jaguares', 'also',\n",
       "       'had', 'jorge', 'rodriguez', 'sent', 'off', 'in', 'the', 'closing',\n",
       "       'moments'], dtype='<U9')"
      ]
     },
     "execution_count": 15,
     "metadata": {},
     "output_type": "execute_result"
    }
   ],
   "source": [
    "import numpy as np\n",
    "np.array(clean_texts[0]).T"
   ]
  },
  {
   "cell_type": "markdown",
   "metadata": {},
   "source": [
    "Now we will create a corpus. A corpus is a list of bags of words. A bag-of-words representation for a document just lists the number of times each word occurs in the document."
   ]
  },
  {
   "cell_type": "code",
   "execution_count": 16,
   "metadata": {},
   "outputs": [
    {
     "name": "stdout",
     "output_type": "stream",
     "text": [
      "[(0, 1), (1, 1), (2, 1), (3, 1), (4, 1), (5, 1), (6, 1), (7, 1), (8, 1), (9, 2), (10, 1), (11, 1), (12, 1), (13, 1), (14, 1), (15, 1), (16, 1), (17, 1), (18, 2), (19, 1), (20, 2), (21, 1), (22, 2), (23, 1), (24, 1), (25, 1), (26, 3), (27, 1), (28, 3), (29, 2), (30, 1), (31, 1), (32, 1), (33, 1), (34, 1), (35, 1), (36, 3), (37, 1), (38, 1), (39, 1), (40, 1), (41, 2), (42, 1), (43, 1), (44, 1), (45, 1), (46, 1), (47, 1), (48, 1), (49, 1), (50, 1), (51, 1), (52, 1), (53, 1), (54, 1), (55, 6), (56, 2), (57, 1), (58, 1), (59, 1), (60, 1), (61, 3), (62, 1), (63, 1), (64, 1), (65, 1), (66, 1), (67, 1), (68, 1)]\n"
     ]
    }
   ],
   "source": [
    "corpus=[Dictionary.doc2bow(text) for text in clean_texts]\n",
    "print(corpus[0])"
   ]
  },
  {
   "cell_type": "code",
   "execution_count": 17,
   "metadata": {},
   "outputs": [
    {
     "name": "stdout",
     "output_type": "stream",
     "text": [
      "TfidfModel(num_docs=764, num_nnz=206535)\n"
     ]
    }
   ],
   "source": [
    "tf_idf=gensim.models.TfidfModel(corpus)\n",
    "print(tf_idf)"
   ]
  },
  {
   "cell_type": "code",
   "execution_count": 18,
   "metadata": {},
   "outputs": [],
   "source": [
    "ll=np.argsort(np.array([w[1] for w in tf_idf[corpus[0]]]))"
   ]
  },
  {
   "cell_type": "code",
   "execution_count": 19,
   "metadata": {},
   "outputs": [
    {
     "data": {
      "text/plain": [
       "array(['the', 'in', 'to', 'with', 'who', 'but', 'two', 'when', 'all',\n",
       "       'time', 'from', 'also', 'three', 'play', 'good', 'against',\n",
       "       'first', 'games', 'them', 'their', 'got', 'points', 'had', 'end',\n",
       "       'point', 'through', 'put', 'start', 'took', 'th', 'scored', 'off',\n",
       "       'later', 'ahead', 'minute', 'scoring', 'sent', 'draw', 'de',\n",
       "       'moments', 'opened', 'claimed', 'benitez', 'visitors', 'drawn',\n",
       "       'closing', 'hosts', 'silva', 'minutes', 'lucas', 'rodriguez',\n",
       "       'jorge', 'netted', 'levelled', 'edgar', 'offs', 'monterrey',\n",
       "       'aldo', 'finalists', 'nigris', 'toluca', 'franco', 'matias',\n",
       "       'clausura', 'arizala', 'britos', 'apertura', 'ensure', 'jaguares'],\n",
       "      dtype='<U9')"
      ]
     },
     "execution_count": 19,
     "metadata": {},
     "output_type": "execute_result"
    }
   ],
   "source": [
    "np.array([Dictionary[w] for w in ll]).T"
   ]
  },
  {
   "cell_type": "code",
   "execution_count": 21,
   "metadata": {},
   "outputs": [],
   "source": [
    "similarity_object=gensim.similarities.Similarity('Raw_data/',tf_idf[corpus],num_features=len(Dictionary))"
   ]
  },
  {
   "cell_type": "code",
   "execution_count": 22,
   "metadata": {},
   "outputs": [
    {
     "data": {
      "text/plain": [
       "[(0, 0.9999998807907104),\n",
       " (626, 0.27305036783218384),\n",
       " (12, 0.14963755011558533)]"
      ]
     },
     "execution_count": 22,
     "metadata": {},
     "output_type": "execute_result"
    }
   ],
   "source": [
    "similarity_object.num_best = 3\n",
    "similarity_object[tf_idf[corpus[0]]]"
   ]
  },
  {
   "cell_type": "markdown",
   "metadata": {},
   "source": [
    "Now create a query document and convert it to tf-idf."
   ]
  },
  {
   "cell_type": "code",
   "execution_count": 23,
   "metadata": {},
   "outputs": [],
   "source": [
    "text=raw_doc[8]\n",
    "query_doc=gensim.utils.simple_preprocess(text)\n",
    "query_doc_bow=Dictionary.doc2bow(query_doc)\n",
    "query_doc_tf_idf=tf_idf[query_doc_bow]"
   ]
  },
  {
   "cell_type": "code",
   "execution_count": 24,
   "metadata": {},
   "outputs": [],
   "source": [
    "similarity_scores=list(similarity_object[query_doc_tf_idf])"
   ]
  },
  {
   "cell_type": "code",
   "execution_count": 25,
   "metadata": {},
   "outputs": [],
   "source": [
    "max_score=max(similarity_scores)"
   ]
  },
  {
   "cell_type": "code",
   "execution_count": 26,
   "metadata": {},
   "outputs": [
    {
     "name": "stdout",
     "output_type": "stream",
     "text": [
      "(536, 0.1600104123353958)\n"
     ]
    }
   ],
   "source": [
    "print(max_score)"
   ]
  },
  {
   "cell_type": "code",
   "execution_count": 27,
   "metadata": {},
   "outputs": [
    {
     "data": {
      "text/plain": [
       "2"
      ]
     },
     "execution_count": 27,
     "metadata": {},
     "output_type": "execute_result"
    }
   ],
   "source": [
    "similarity_scores.index(max_score)"
   ]
  },
  {
   "cell_type": "code",
   "execution_count": 28,
   "metadata": {},
   "outputs": [
    {
     "name": "stdout",
     "output_type": "stream",
     "text": [
      "(536, 0.1600104123353958)\n",
      "(37, 0.19432590901851654)\n"
     ]
    }
   ],
   "source": [
    "sorted_score=sorted(similarity_scores,reverse=True)\n",
    "print(sorted_score[0])\n",
    "print(sorted_score[1])"
   ]
  },
  {
   "cell_type": "code",
   "execution_count": 29,
   "metadata": {},
   "outputs": [
    {
     "data": {
      "text/plain": [
       "1"
      ]
     },
     "execution_count": 29,
     "metadata": {},
     "output_type": "execute_result"
    }
   ],
   "source": [
    "similarity_scores.index(sorted_score[1])"
   ]
  },
  {
   "cell_type": "code",
   "execution_count": 30,
   "metadata": {},
   "outputs": [
    {
     "data": {
      "text/plain": [
       "'Eurosport - Megadeal mit Nike: Rory McIlroy\\nRelated Content\\nEurosport - Tue, Feb 19, 2013 17:42 GMT\\nRelated Content\\nBet on Golf\\nThe Northern Irishman has not competed since his premature exit from the European Tour\\'s Abu Dhabi Championship but said he was feeling refreshed after mixing some welcome holiday time with 10 days of practice sessions over the past month.\\n\"I\\'m actually much happier with how I\\'m swinging the club,\" world number one McIlroy told reporters at Dove Mountain on Tuesday while preparing for Wednesday\\'s opening round.\\n\"The clubs were performing fine in Abu Dhabi, it was just the fact that I wasn\\'t swinging at my best. I feel like I\\'ve turned a corner with my swing. I\\'ve got it back on track, and that\\'s ultimately what\\'s going to help me play better.\"\\nWidely panned for switching his golf brand last month from Titleist to Nike in a lucrative deal reported to be worth as much as $250 million over 10 years, McIlroy said he now tried to blinker himself from criticism as much as possible.\\n\"At the start (of his career) I guess I paid a lot more attention to it, but now I try to not read anything or not watch anything because you don\\'t want any negative thoughts creeping into your head,\" the 23-year-old added.\\n\"It\\'s part of what we do. We\\'re under the spotlight and we\\'re going to get criticised from time to time, rightfully or wrongfully so. That\\'s just the way it is. I\\'ve learnt that, and I\\'m dealing with it.\"\\nMcIlroy, who has put a new putter and a slightly heavier driver in his bag, said he had prepared himself for likely criticism when his switch to Nike was announced with much fanfare before last month\\'s Abu Dhabi Championship.\\n\"I knew it would happen if I didn\\'t play well, and I probably put a little bit too much pressure on myself to play well because of that,\" he smiled.\\n\"Abu Dhabi was a busy week. There was a lot going on.\\n\"But I\\'ve had a nice few weeks off and I feel like I\\'m coming into this event prepared, ready and swinging the club well. Hopefully that can translate into playing some good golf and getting quite far into this week.\"\\nSix-times major champion Nick Faldo was among those who criticised McIlroy for his switch from Titleist to Nike, telling Reuters it was \"a dangerous move\".\\nMcIlroy responded: \"Nick Faldo doesn\\'t know how I feel over the golf shot and I don\\'t know how he felt, but my guess is he was a little more analytically minded than I am.\\n\"I try and keep things as simple as possible. If I see the ball going in the direction that I want in the flight that I want, then I\\'m happy. It feels good, and hopefully I can show that to everyone this week.\"\\nMcIlroy, who has been vacationing with his girlfriend, former world women\\'s tennis number one Caroline Wozniacki, in recent weeks, will take on a good friend, Ireland\\'s Shane Lowry, in the opening round at Dove Mountain.\\n\"We played foursomes together for Ireland,\" McIlroy grinned.\\n\"We were part of the same Irish amateur team for a few years.\\n\"If we\\'d have thought playing in the European team championships at Western Gailes that we\\'d be playing in the first round of the Match Play here in a few years\\' time ... it\\'s pretty cool to think where we\\'ve come from.\"\\n'"
      ]
     },
     "execution_count": 30,
     "metadata": {},
     "output_type": "execute_result"
    }
   ],
   "source": [
    "raw_doc[40]"
   ]
  },
  {
   "cell_type": "markdown",
   "metadata": {},
   "source": [
    "# Text Summarization"
   ]
  },
  {
   "cell_type": "code",
   "execution_count": 31,
   "metadata": {},
   "outputs": [],
   "source": [
    "from gensim.summarization import summarize\n",
    "from gensim.summarization import keywords"
   ]
  },
  {
   "cell_type": "code",
   "execution_count": 32,
   "metadata": {},
   "outputs": [
    {
     "name": "stdout",
     "output_type": "stream",
     "text": [
      "Widely panned for switching his golf brand last month from Titleist to Nike in a lucrative deal reported to be worth as much as $250 million over 10 years, McIlroy said he now tried to blinker himself from criticism as much as possible.\n",
      "McIlroy, who has put a new putter and a slightly heavier driver in his bag, said he had prepared himself for likely criticism when his switch to Nike was announced with much fanfare before last month's Abu Dhabi Championship.\n",
      "\"But I've had a nice few weeks off and I feel like I'm coming into this event prepared, ready and swinging the club well.\n"
     ]
    }
   ],
   "source": [
    "print(summarize(raw_doc[40],word_count=100))"
   ]
  },
  {
   "cell_type": "code",
   "execution_count": null,
   "metadata": {},
   "outputs": [],
   "source": []
  }
 ],
 "metadata": {
  "kernelspec": {
   "display_name": "Python 3",
   "language": "python",
   "name": "python3"
  },
  "language_info": {
   "codemirror_mode": {
    "name": "ipython",
    "version": 3
   },
   "file_extension": ".py",
   "mimetype": "text/x-python",
   "name": "python",
   "nbconvert_exporter": "python",
   "pygments_lexer": "ipython3",
   "version": "3.7.3"
  }
 },
 "nbformat": 4,
 "nbformat_minor": 2
}
