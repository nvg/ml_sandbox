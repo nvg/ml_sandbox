{
 "cells": [
  {
   "cell_type": "code",
   "execution_count": 1,
   "metadata": {},
   "outputs": [],
   "source": [
    "subscription_key = \"XXXXXXXXXXXXXXXXXXXXXX\"\n",
    "text_analytics_base_url = \"https://textresource2020.cognitiveservices.azure.com/\""
   ]
  },
  {
   "cell_type": "code",
   "execution_count": 2,
   "metadata": {},
   "outputs": [],
   "source": [
    "import requests\n",
    "# pprint is used to format the JSON response\n",
    "from pprint import pprint\n",
    "from IPython.display import HTML"
   ]
  },
  {
   "cell_type": "markdown",
   "metadata": {},
   "source": [
    "# Language"
   ]
  },
  {
   "cell_type": "code",
   "execution_count": 3,
   "metadata": {},
   "outputs": [],
   "source": [
    "documents = { \"documents\": [\n",
    "    { \"id\": \"1\", \"text\": \"This is a document written in English.\" },\n",
    "    { \"id\": \"2\", \"text\": \"Este es un document escrito en Español.\" },\n",
    "    { \"id\": \"3\", \"text\": \"这是一个用中文写的文件\" }\n",
    "]}"
   ]
  },
  {
   "cell_type": "code",
   "execution_count": 5,
   "metadata": {},
   "outputs": [
    {
     "name": "stdout",
     "output_type": "stream",
     "text": [
      "{'documents': [{'detectedLanguages': [{'iso6391Name': 'en',\n",
      "                                       'name': 'English',\n",
      "                                       'score': 1.0}],\n",
      "                'id': '1'},\n",
      "               {'detectedLanguages': [{'iso6391Name': 'es',\n",
      "                                       'name': 'Spanish',\n",
      "                                       'score': 1.0}],\n",
      "                'id': '2'},\n",
      "               {'detectedLanguages': [{'iso6391Name': 'zh_chs',\n",
      "                                       'name': 'Chinese_Simplified',\n",
      "                                       'score': 1.0}],\n",
      "                'id': '3'}],\n",
      " 'errors': []}\n"
     ]
    }
   ],
   "source": [
    "language_api_url = text_analytics_base_url + \"/text/analytics/v2.1/languages\"\n",
    "headers   = {\"Ocp-Apim-Subscription-Key\": subscription_key}\n",
    "response  = requests.post(language_api_url, headers=headers, json=documents)\n",
    "languages = response.json()\n",
    "pprint(languages)"
   ]
  },
  {
   "cell_type": "markdown",
   "metadata": {},
   "source": [
    "# Sentiment"
   ]
  },
  {
   "cell_type": "code",
   "execution_count": 7,
   "metadata": {},
   "outputs": [],
   "source": [
    "documents = {\"documents\" : [\n",
    "  {\"id\": \"1\", \"language\": \"en\", \"text\": \"I had a wonderful experience! The rooms were wonderful and the staff was helpful.\"},\n",
    "  {\"id\": \"2\", \"language\": \"en\", \"text\": \"I had a terrible time at the hotel. The staff was rude and the food was awful.\"},  \n",
    "  {\"id\": \"3\", \"language\": \"es\", \"text\": \"Los caminos que llevan hasta Monte Rainier son espectaculares y hermosos.\"},  \n",
    "  {\"id\": \"4\", \"language\": \"es\", \"text\": \"La carretera estaba atascada. Había mucho tráfico el día de ayer.\"}\n",
    "]}"
   ]
  },
  {
   "cell_type": "code",
   "execution_count": 8,
   "metadata": {},
   "outputs": [
    {
     "name": "stdout",
     "output_type": "stream",
     "text": [
      "{'documents': [{'id': '1', 'score': 0.9708490371704102},\n",
      "               {'id': '2', 'score': 0.0019068121910095215},\n",
      "               {'id': '3', 'score': 0.7456425428390503},\n",
      "               {'id': '4', 'score': 0.334433376789093}],\n",
      " 'errors': []}\n"
     ]
    }
   ],
   "source": [
    "sentiment_url = text_analytics_base_url + \"/text/analytics/v2.1/sentiment\"\n",
    "\n",
    "headers   = {\"Ocp-Apim-Subscription-Key\": subscription_key}\n",
    "response  = requests.post(sentiment_url, headers=headers, json=documents)\n",
    "sentiments = response.json()\n",
    "pprint(sentiments)"
   ]
  },
  {
   "cell_type": "markdown",
   "metadata": {},
   "source": [
    "# Key phrase"
   ]
  },
  {
   "cell_type": "code",
   "execution_count": 9,
   "metadata": {},
   "outputs": [
    {
     "name": "stdout",
     "output_type": "stream",
     "text": [
      "{'documents': [{'id': '1',\n",
      "                'keyPhrases': ['wonderful experience', 'staff', 'rooms']},\n",
      "               {'id': '2',\n",
      "                'keyPhrases': ['food', 'terrible time', 'hotel', 'staff']},\n",
      "               {'id': '3', 'keyPhrases': ['Monte Rainier', 'caminos']},\n",
      "               {'id': '4', 'keyPhrases': ['carretera', 'tráfico', 'día']}],\n",
      " 'errors': []}\n"
     ]
    }
   ],
   "source": [
    "keyphrase_url = text_analytics_base_url + \"/text/analytics/v2.1/keyPhrases\"\n",
    "\n",
    "headers   = {\"Ocp-Apim-Subscription-Key\": subscription_key}\n",
    "response  = requests.post(keyphrase_url, headers=headers, json=documents)\n",
    "key_phrases = response.json()\n",
    "pprint(key_phrases)"
   ]
  },
  {
   "cell_type": "markdown",
   "metadata": {},
   "source": [
    "# Identify Entities"
   ]
  },
  {
   "cell_type": "code",
   "execution_count": 10,
   "metadata": {},
   "outputs": [],
   "source": [
    "documents = {\"documents\" : [\n",
    "  {\"id\": \"1\", \"text\": \"Microsoft was founded by Bill Gates and Paul Allen on April 4, 1975, to develop and sell BASIC interpreters for the Altair 8800.\"}\n",
    "]}"
   ]
  },
  {
   "cell_type": "code",
   "execution_count": 11,
   "metadata": {},
   "outputs": [
    {
     "name": "stdout",
     "output_type": "stream",
     "text": [
      "{'documents': [{'entities': [{'bingId': 'a093e9b9-90f5-a3d5-c4b8-5855e1b01f85',\n",
      "                              'matches': [{'entityTypeScore': 1.0,\n",
      "                                           'length': 9,\n",
      "                                           'offset': 0,\n",
      "                                           'text': 'Microsoft',\n",
      "                                           'wikipediaScore': 0.4312820356939451}],\n",
      "                              'name': 'Microsoft',\n",
      "                              'type': 'Organization',\n",
      "                              'wikipediaId': 'Microsoft',\n",
      "                              'wikipediaLanguage': 'en',\n",
      "                              'wikipediaUrl': 'https://en.wikipedia.org/wiki/Microsoft'},\n",
      "                             {'bingId': '0d47c987-0042-5576-15e8-97af601614fa',\n",
      "                              'matches': [{'entityTypeScore': 0.999847412109375,\n",
      "                                           'length': 10,\n",
      "                                           'offset': 25,\n",
      "                                           'text': 'Bill Gates',\n",
      "                                           'wikipediaScore': 0.49610998585133137}],\n",
      "                              'name': 'Bill Gates',\n",
      "                              'type': 'Person',\n",
      "                              'wikipediaId': 'Bill Gates',\n",
      "                              'wikipediaLanguage': 'en',\n",
      "                              'wikipediaUrl': 'https://en.wikipedia.org/wiki/Bill_Gates'},\n",
      "                             {'bingId': 'df2c4376-9923-6a54-893f-2ee5a5badbc7',\n",
      "                              'matches': [{'entityTypeScore': 0.9988409876823425,\n",
      "                                           'length': 10,\n",
      "                                           'offset': 40,\n",
      "                                           'text': 'Paul Allen',\n",
      "                                           'wikipediaScore': 0.8291266530647086}],\n",
      "                              'name': 'Paul Allen',\n",
      "                              'type': 'Person',\n",
      "                              'wikipediaId': 'Paul Allen',\n",
      "                              'wikipediaLanguage': 'en',\n",
      "                              'wikipediaUrl': 'https://en.wikipedia.org/wiki/Paul_Allen'},\n",
      "                             {'bingId': '52535f87-235e-b513-54fe-c03e4233ac6e',\n",
      "                              'matches': [{'entityTypeScore': 0.8,\n",
      "                                           'length': 7,\n",
      "                                           'offset': 54,\n",
      "                                           'text': 'April 4',\n",
      "                                           'wikipediaScore': 0.6275325637464364}],\n",
      "                              'name': 'April 4',\n",
      "                              'type': 'Other',\n",
      "                              'wikipediaId': 'April 4',\n",
      "                              'wikipediaLanguage': 'en',\n",
      "                              'wikipediaUrl': 'https://en.wikipedia.org/wiki/April_4'},\n",
      "                             {'matches': [{'entityTypeScore': 0.8,\n",
      "                                           'length': 13,\n",
      "                                           'offset': 54,\n",
      "                                           'text': 'April 4, 1975'}],\n",
      "                              'name': 'April 4, 1975',\n",
      "                              'subType': 'Date',\n",
      "                              'type': 'DateTime'},\n",
      "                             {'bingId': '5b16443d-501c-58f3-352e-611bbe75aa6e',\n",
      "                              'matches': [{'entityTypeScore': 0.8,\n",
      "                                           'length': 5,\n",
      "                                           'offset': 89,\n",
      "                                           'text': 'BASIC',\n",
      "                                           'wikipediaScore': 0.2767034941738966}],\n",
      "                              'name': 'BASIC',\n",
      "                              'type': 'Other',\n",
      "                              'wikipediaId': 'BASIC',\n",
      "                              'wikipediaLanguage': 'en',\n",
      "                              'wikipediaUrl': 'https://en.wikipedia.org/wiki/BASIC'},\n",
      "                             {'bingId': '7216c654-3779-68a2-c7b7-12ff3dad5606',\n",
      "                              'matches': [{'entityTypeScore': 0.8,\n",
      "                                           'length': 11,\n",
      "                                           'offset': 116,\n",
      "                                           'text': 'Altair 8800',\n",
      "                                           'wikipediaScore': 0.7664344486697048}],\n",
      "                              'name': 'Altair 8800',\n",
      "                              'type': 'Other',\n",
      "                              'wikipediaId': 'Altair 8800',\n",
      "                              'wikipediaLanguage': 'en',\n",
      "                              'wikipediaUrl': 'https://en.wikipedia.org/wiki/Altair_8800'},\n",
      "                             {'matches': [{'entityTypeScore': 0.5250527262687683,\n",
      "                                           'length': 6,\n",
      "                                           'offset': 116,\n",
      "                                           'text': 'Altair'}],\n",
      "                              'name': 'Altair',\n",
      "                              'type': 'Organization'},\n",
      "                             {'matches': [{'entityTypeScore': 0.8,\n",
      "                                           'length': 4,\n",
      "                                           'offset': 123,\n",
      "                                           'text': '8800'}],\n",
      "                              'name': '8800',\n",
      "                              'subType': 'Number',\n",
      "                              'type': 'Quantity'}],\n",
      "                'id': '1'}],\n",
      " 'errors': []}\n"
     ]
    }
   ],
   "source": [
    "entities_url = text_analytics_base_url + \"/text/analytics/v2.1/entities\"\n",
    "\n",
    "headers   = {\"Ocp-Apim-Subscription-Key\": subscription_key}\n",
    "response  = requests.post(entities_url, headers=headers, json=documents)\n",
    "entities = response.json()\n",
    "pprint(entities)"
   ]
  },
  {
   "cell_type": "code",
   "execution_count": null,
   "metadata": {},
   "outputs": [],
   "source": []
  }
 ],
 "metadata": {
  "kernelspec": {
   "display_name": "Python 3",
   "language": "python",
   "name": "python3"
  },
  "language_info": {
   "codemirror_mode": {
    "name": "ipython",
    "version": 3
   },
   "file_extension": ".py",
   "mimetype": "text/x-python",
   "name": "python",
   "nbconvert_exporter": "python",
   "pygments_lexer": "ipython3",
   "version": "3.7.3"
  }
 },
 "nbformat": 4,
 "nbformat_minor": 2
}
