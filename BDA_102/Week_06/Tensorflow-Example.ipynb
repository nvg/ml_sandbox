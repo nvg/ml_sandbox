{
 "cells": [
  {
   "cell_type": "code",
   "execution_count": 1,
   "metadata": {},
   "outputs": [],
   "source": [
    "import tensorflow as tf"
   ]
  },
  {
   "cell_type": "code",
   "execution_count": 2,
   "metadata": {},
   "outputs": [],
   "source": [
    "constant_A=tf.constant([100])\n",
    "constant_B=tf.constant([300])\n",
    "constant_C=tf.constant([3])"
   ]
  },
  {
   "cell_type": "code",
   "execution_count": 3,
   "metadata": {},
   "outputs": [
    {
     "name": "stdout",
     "output_type": "stream",
     "text": [
      "Tensor(\"Const:0\", shape=(1,), dtype=int32)\n"
     ]
    }
   ],
   "source": [
    "print(constant_A)"
   ]
  },
  {
   "cell_type": "code",
   "execution_count": 4,
   "metadata": {},
   "outputs": [],
   "source": [
    "res_sum=tf.add(constant_A,constant_B)\n",
    "res_mul=tf.multiply(constant_A,constant_C)"
   ]
  },
  {
   "cell_type": "code",
   "execution_count": 5,
   "metadata": {},
   "outputs": [
    {
     "name": "stdout",
     "output_type": "stream",
     "text": [
      "[100]\n",
      "[array([400], dtype=int32), array([300], dtype=int32)]\n"
     ]
    }
   ],
   "source": [
    "with tf.Session() as sess:\n",
    "    print(sess.run(constant_A))\n",
    "    result = sess.run([res_sum,res_mul])\n",
    "    print(result)\n",
    "sess.close()"
   ]
  },
  {
   "cell_type": "markdown",
   "metadata": {},
   "source": [
    "# Rank "
   ]
  },
  {
   "cell_type": "code",
   "execution_count": 6,
   "metadata": {},
   "outputs": [],
   "source": [
    "scalar=tf.constant(100)\n",
    "vector=tf.constant([1,2,3,4,5])\n",
    "matrix=tf.constant([[1,2,3],[4,5,6]])\n",
    "cub_matrix=tf.constant([[[1],[2],[3]],[[4],[5],[6]],[[7],[8],[9]]])"
   ]
  },
  {
   "cell_type": "code",
   "execution_count": 7,
   "metadata": {},
   "outputs": [
    {
     "name": "stdout",
     "output_type": "stream",
     "text": [
      "()\n",
      "(5,)\n",
      "(2, 3)\n",
      "(3, 3, 1)\n"
     ]
    }
   ],
   "source": [
    "print(scalar.get_shape())\n",
    "print(vector.get_shape())\n",
    "print(matrix.get_shape())\n",
    "print(cub_matrix.get_shape())"
   ]
  },
  {
   "cell_type": "markdown",
   "metadata": {},
   "source": [
    "# Tensor convert from python object"
   ]
  },
  {
   "cell_type": "code",
   "execution_count": 8,
   "metadata": {},
   "outputs": [
    {
     "name": "stdout",
     "output_type": "stream",
     "text": [
      "a1dim Shape :  (5,)\n"
     ]
    }
   ],
   "source": [
    "import numpy as np\n",
    "a1dim = np.array([1,2,3,4,5])\n",
    "print(\"a1dim Shape : \",a1dim.shape)"
   ]
  },
  {
   "cell_type": "code",
   "execution_count": 9,
   "metadata": {},
   "outputs": [
    {
     "name": "stdout",
     "output_type": "stream",
     "text": [
      "tf_t :  Tensor(\"Const_7:0\", shape=(5,), dtype=float64)\n",
      "[1. 2. 3. 4. 5.]\n"
     ]
    }
   ],
   "source": [
    "tf_t=tf.convert_to_tensor(a1dim,dtype=tf.float64)\n",
    "print('tf_t : ',tf_t)\n",
    "with tf.Session() as sess:\n",
    "    res=sess.run(tf_t)\n",
    "    print(res)\n",
    "    sess.close()\n"
   ]
  },
  {
   "cell_type": "markdown",
   "metadata": {},
   "source": [
    "# Constant"
   ]
  },
  {
   "cell_type": "code",
   "execution_count": 10,
   "metadata": {},
   "outputs": [],
   "source": [
    "a = tf.constant([2, 2], name=\"vector\") \n",
    "b = tf.constant([[0, 1], [2, 3]], name=\"matrix\")"
   ]
  },
  {
   "cell_type": "code",
   "execution_count": 11,
   "metadata": {},
   "outputs": [],
   "source": [
    "c=tf.zeros([2, 3], tf.int32)\n",
    "d=tf.zeros_like(b)\n",
    "e=tf.ones([2,3], dtype=tf.float32, name=None)\n",
    "f=tf.fill([2, 3], 5)\n",
    "g=tf.linspace(10.0, 13.0, 4, name=\"whatever\")"
   ]
  },
  {
   "cell_type": "code",
   "execution_count": 12,
   "metadata": {},
   "outputs": [
    {
     "name": "stdout",
     "output_type": "stream",
     "text": [
      "[2 2]\n",
      "-------\n",
      "[[0 1]\n",
      " [2 3]]\n",
      "-------\n",
      "[[0 0 0]\n",
      " [0 0 0]]\n",
      "-------\n",
      "[[0 0]\n",
      " [0 0]]\n",
      "-------\n",
      "[[1. 1. 1.]\n",
      " [1. 1. 1.]]\n",
      "-------\n",
      "[[5 5 5]\n",
      " [5 5 5]]\n",
      "-------\n",
      "[10. 11. 12. 13.]\n"
     ]
    }
   ],
   "source": [
    "with tf.Session() as sess:\n",
    "    res=sess.run(a)\n",
    "    print(res)\n",
    "    print('-------')\n",
    "    res=sess.run(b)\n",
    "    print(res)\n",
    "    print('-------')\n",
    "    res=sess.run(c)\n",
    "    print(res)\n",
    "    print('-------')\n",
    "    res=sess.run(d)\n",
    "    print(res)\n",
    "    print('-------')\n",
    "    res=sess.run(e)\n",
    "    print(res)\n",
    "    print('-------')\n",
    "    res=sess.run(f)\n",
    "    print(res)\n",
    "    print('-------')\n",
    "    res=sess.run(g)\n",
    "    print(res)\n",
    "    sess.close()"
   ]
  },
  {
   "cell_type": "markdown",
   "metadata": {},
   "source": [
    "# Variable"
   ]
  },
  {
   "cell_type": "code",
   "execution_count": 13,
   "metadata": {},
   "outputs": [
    {
     "name": "stdout",
     "output_type": "stream",
     "text": [
      "Here is initializing: name: \"init\"\n",
      "op: \"NoOp\"\n",
      "input: \"^scalar/Assign\"\n",
      "input: \"^vector_1/Assign\"\n",
      "input: \"^matrix_1/Assign\"\n",
      "input: \"^Variable/Assign\"\n",
      "\n",
      "222\n",
      "-------\n",
      "[4 6]\n",
      "-------\n",
      "[[1 2]\n",
      " [3 4]]\n",
      "-------\n",
      "[[0. 0. 0. 0. 0.]\n",
      " [0. 0. 0. 0. 0.]\n",
      " [0. 0. 0. 0. 0.]\n",
      " [0. 0. 0. 0. 0.]\n",
      " [0. 0. 0. 0. 0.]\n",
      " [0. 0. 0. 0. 0.]\n",
      " [0. 0. 0. 0. 0.]]\n"
     ]
    }
   ],
   "source": [
    "# Even statically allocated variables should be initialized\n",
    "\n",
    "a = tf.Variable(222, name=\"scalar\") \n",
    "b = tf.Variable([4, 6], name=\"vector\")\n",
    "c = tf.Variable([[1 ,2], [3, 4]], name=\"matrix\")\n",
    "d = tf.Variable(tf.zeros([7,5])) \n",
    "\n",
    "init_op = tf.global_variables_initializer()\n",
    "print('Here is initializing:',init_op)\n",
    "\n",
    "with tf.Session() as sess:\n",
    "    sess.run(init_op)\n",
    "    res=sess.run(a)\n",
    "    print(res)\n",
    "    print('-------')\n",
    "    res=sess.run(b)\n",
    "    print(res)\n",
    "    print('-------')\n",
    "    res=sess.run(c)\n",
    "    print(res)\n",
    "    print('-------')\n",
    "    res=sess.run(d)\n",
    "    print(res)\n",
    "    sess.close()"
   ]
  },
  {
   "cell_type": "markdown",
   "metadata": {},
   "source": [
    "In TensorFlow the differences between constants and variables are that :\n",
    "Constant:\n",
    "1-when you declare some constant, its value can't be changed in the future. \n",
    "2-The initialization should be with a value, not with operation.\n",
    "\n",
    "Variable:\n",
    "1-You can change its value in the future with tf.assign() method.\n",
    "2-The initialization can be achieved with a value or operation.\n"
   ]
  },
  {
   "cell_type": "code",
   "execution_count": 24,
   "metadata": {},
   "outputs": [
    {
     "name": "stdout",
     "output_type": "stream",
     "text": [
      "40\n"
     ]
    }
   ],
   "source": [
    "x = tf.constant(35, name='x')\n",
    "y = tf.Variable(x + 5, name='y')\n",
    "\n",
    "model = tf.global_variables_initializer() \n",
    "\n",
    "with tf.Session() as session:\n",
    "    session.run(model)\n",
    "    print(session.run(y))\n",
    "    sess.close()"
   ]
  },
  {
   "cell_type": "code",
   "execution_count": null,
   "metadata": {},
   "outputs": [],
   "source": [
    "# This code can not be execute as the constant can not be defined as variable\n",
    "x = tf.constant(35, name='x')\n",
    "y = tf.constant(x + 5, name='y')\n",
    "\n",
    "with tf.Session() as session:\n",
    "    print(session.run(x))\n",
    "    print(session.run(y))\n",
    "    sess.close()"
   ]
  },
  {
   "cell_type": "markdown",
   "metadata": {},
   "source": [
    "# Input and Reader"
   ]
  },
  {
   "cell_type": "code",
   "execution_count": 47,
   "metadata": {},
   "outputs": [
    {
     "name": "stdout",
     "output_type": "stream",
     "text": [
      "[6. 7. 8.]\n"
     ]
    }
   ],
   "source": [
    "a = tf.constant([5, 5, 5], tf.float32, name='A')\n",
    "\n",
    "b = tf.placeholder(tf.float32, shape=[3], name='B')\n",
    "\n",
    "c = tf.add(a, b, name=\"Add\")\n",
    "\n",
    "with tf.Session() as sess:\n",
    "    # create a dictionary:\n",
    "    d = {b: [1, 2, 3]}\n",
    "    # feed it to the placeholder\n",
    "    res=sess.run(c, feed_dict=d)\n",
    "    print(res)"
   ]
  },
  {
   "cell_type": "code",
   "execution_count": null,
   "metadata": {},
   "outputs": [],
   "source": []
  }
 ],
 "metadata": {
  "kernelspec": {
   "display_name": "Python 3",
   "language": "python",
   "name": "python3"
  },
  "language_info": {
   "codemirror_mode": {
    "name": "ipython",
    "version": 3
   },
   "file_extension": ".py",
   "mimetype": "text/x-python",
   "name": "python",
   "nbconvert_exporter": "python",
   "pygments_lexer": "ipython3",
   "version": "3.7.4"
  }
 },
 "nbformat": 4,
 "nbformat_minor": 2
}
