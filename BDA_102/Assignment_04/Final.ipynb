{
 "cells": [
  {
   "cell_type": "code",
   "execution_count": 1,
   "metadata": {},
   "outputs": [],
   "source": [
    "import matplotlib.pyplot as plt\n",
    "import numpy as np\n",
    "import pandas as pd\n",
    "from sklearn.model_selection import train_test_split\n",
    "from sklearn.model_selection import cross_val_score\n",
    "from sklearn.model_selection import KFold\n",
    "from sklearn.pipeline import Pipeline\n",
    "from sklearn.preprocessing import MinMaxScaler\n",
    "from keras.models import Sequential\n",
    "from keras.layers import Dense\n",
    "from keras.wrappers.scikit_learn import KerasRegressor"
   ]
  },
  {
   "cell_type": "markdown",
   "metadata": {},
   "source": [
    "For this example, use a linear activation function within the keras library to create a regression-based neural network. \n",
    "Essentially, we are trying to predict the value of a potential car sale (i.e. how much a particular person will spend on buying a car) for a customer based on the following attributes:\n",
    "\n",
    "-Age\n",
    "\n",
    "-Gender\n",
    "\n",
    "-Average miles driven per day\n",
    "\n",
    "-Personal debt\n",
    "\n",
    "-Monthly income"
   ]
  },
  {
   "cell_type": "code",
   "execution_count": 2,
   "metadata": {},
   "outputs": [
    {
     "name": "stdout",
     "output_type": "stream",
     "text": [
      "MinMaxScaler(copy=True, feature_range=(0, 1))\n",
      "MinMaxScaler(copy=True, feature_range=(0, 1))\n"
     ]
    }
   ],
   "source": [
    "dataset=np.loadtxt(\"cars.csv\", delimiter=\",\")\n",
    "X=dataset[:,0:5]\n",
    "Y=dataset[:,5]\n",
    "Y=np.reshape(Y, (-1,1))\n",
    "scaler_x = MinMaxScaler()\n",
    "scaler_y = MinMaxScaler()\n",
    "print(scaler_x.fit(X))\n",
    "xscale=scaler_x.transform(X)\n",
    "print(scaler_y.fit(Y))\n",
    "yscale=scaler_y.transform(Y)"
   ]
  },
  {
   "cell_type": "code",
   "execution_count": 3,
   "metadata": {},
   "outputs": [],
   "source": [
    "X_train, X_test, Y_train, Y_test = train_test_split(xscale, yscale)"
   ]
  },
  {
   "cell_type": "markdown",
   "metadata": {},
   "source": [
    "# Create the model."
   ]
  },
  {
   "cell_type": "code",
   "execution_count": 4,
   "metadata": {},
   "outputs": [
    {
     "name": "stdout",
     "output_type": "stream",
     "text": [
      "WARNING:tensorflow:From /anaconda3/lib/python3.6/site-packages/tensorflow/python/ops/resource_variable_ops.py:435: colocate_with (from tensorflow.python.framework.ops) is deprecated and will be removed in a future version.\n",
      "Instructions for updating:\n",
      "Colocations handled automatically by placer.\n"
     ]
    }
   ],
   "source": [
    "model = Sequential()\n",
    "model.add(Dense(12, input_dim=5, kernel_initializer='normal', activation='relu'))\n",
    "model.add(Dense(8, activation='relu'))\n",
    "model.add(Dense(1, activation='linear'))"
   ]
  },
  {
   "cell_type": "code",
   "execution_count": 5,
   "metadata": {},
   "outputs": [
    {
     "name": "stdout",
     "output_type": "stream",
     "text": [
      "Model: \"sequential_1\"\n",
      "_________________________________________________________________\n",
      "Layer (type)                 Output Shape              Param #   \n",
      "=================================================================\n",
      "dense_1 (Dense)              (None, 12)                72        \n",
      "_________________________________________________________________\n",
      "dense_2 (Dense)              (None, 8)                 104       \n",
      "_________________________________________________________________\n",
      "dense_3 (Dense)              (None, 1)                 9         \n",
      "=================================================================\n",
      "Total params: 185\n",
      "Trainable params: 185\n",
      "Non-trainable params: 0\n",
      "_________________________________________________________________\n"
     ]
    }
   ],
   "source": [
    "model.summary()"
   ]
  },
  {
   "cell_type": "markdown",
   "metadata": {},
   "source": [
    "# compile/fit the model"
   ]
  },
  {
   "cell_type": "code",
   "execution_count": 6,
   "metadata": {},
   "outputs": [],
   "source": [
    "model.compile(loss='mse', optimizer='adam', metrics=['mse','mae'])"
   ]
  },
  {
   "cell_type": "code",
   "execution_count": 7,
   "metadata": {},
   "outputs": [
    {
     "name": "stdout",
     "output_type": "stream",
     "text": [
      "WARNING:tensorflow:From /anaconda3/lib/python3.6/site-packages/tensorflow/python/ops/math_ops.py:3066: to_int32 (from tensorflow.python.ops.math_ops) is deprecated and will be removed in a future version.\n",
      "Instructions for updating:\n",
      "Use tf.cast instead.\n",
      "Train on 577 samples, validate on 145 samples\n",
      "Epoch 1/150\n",
      "577/577 [==============================] - 0s 329us/step - loss: 0.2271 - mse: 0.2271 - mae: 0.3664 - val_loss: 0.2105 - val_mse: 0.2105 - val_mae: 0.3556\n",
      "Epoch 2/150\n",
      "577/577 [==============================] - 0s 49us/step - loss: 0.1775 - mse: 0.1775 - mae: 0.3143 - val_loss: 0.1528 - val_mse: 0.1528 - val_mae: 0.2942\n",
      "Epoch 3/150\n",
      "577/577 [==============================] - 0s 51us/step - loss: 0.1188 - mse: 0.1188 - mae: 0.2582 - val_loss: 0.0948 - val_mse: 0.0948 - val_mae: 0.2398\n",
      "Epoch 4/150\n",
      "577/577 [==============================] - 0s 58us/step - loss: 0.0762 - mse: 0.0762 - mae: 0.2269 - val_loss: 0.0616 - val_mse: 0.0616 - val_mae: 0.2106\n",
      "Epoch 5/150\n",
      "577/577 [==============================] - 0s 64us/step - loss: 0.0588 - mse: 0.0588 - mae: 0.2162 - val_loss: 0.0512 - val_mse: 0.0512 - val_mae: 0.1983\n",
      "Epoch 6/150\n",
      "577/577 [==============================] - 0s 59us/step - loss: 0.0523 - mse: 0.0523 - mae: 0.2062 - val_loss: 0.0475 - val_mse: 0.0475 - val_mae: 0.1907\n",
      "Epoch 7/150\n",
      "577/577 [==============================] - 0s 63us/step - loss: 0.0472 - mse: 0.0472 - mae: 0.1962 - val_loss: 0.0446 - val_mse: 0.0446 - val_mae: 0.1842\n",
      "Epoch 8/150\n",
      "577/577 [==============================] - 0s 76us/step - loss: 0.0424 - mse: 0.0424 - mae: 0.1861 - val_loss: 0.0419 - val_mse: 0.0419 - val_mae: 0.1775\n",
      "Epoch 9/150\n",
      "577/577 [==============================] - 0s 57us/step - loss: 0.0382 - mse: 0.0382 - mae: 0.1762 - val_loss: 0.0392 - val_mse: 0.0392 - val_mae: 0.1700\n",
      "Epoch 10/150\n",
      "577/577 [==============================] - 0s 68us/step - loss: 0.0344 - mse: 0.0344 - mae: 0.1659 - val_loss: 0.0364 - val_mse: 0.0364 - val_mae: 0.1617\n",
      "Epoch 11/150\n",
      "577/577 [==============================] - 0s 63us/step - loss: 0.0309 - mse: 0.0309 - mae: 0.1555 - val_loss: 0.0341 - val_mse: 0.0341 - val_mae: 0.1542\n",
      "Epoch 12/150\n",
      "577/577 [==============================] - 0s 60us/step - loss: 0.0278 - mse: 0.0278 - mae: 0.1454 - val_loss: 0.0320 - val_mse: 0.0320 - val_mae: 0.1474\n",
      "Epoch 13/150\n",
      "577/577 [==============================] - 0s 52us/step - loss: 0.0252 - mse: 0.0252 - mae: 0.1363 - val_loss: 0.0299 - val_mse: 0.0299 - val_mae: 0.1408\n",
      "Epoch 14/150\n",
      "577/577 [==============================] - 0s 59us/step - loss: 0.0230 - mse: 0.0230 - mae: 0.1285 - val_loss: 0.0282 - val_mse: 0.0282 - val_mae: 0.1346\n",
      "Epoch 15/150\n",
      "577/577 [==============================] - 0s 79us/step - loss: 0.0212 - mse: 0.0212 - mae: 0.1220 - val_loss: 0.0267 - val_mse: 0.0267 - val_mae: 0.1285\n",
      "Epoch 16/150\n",
      "577/577 [==============================] - 0s 45us/step - loss: 0.0198 - mse: 0.0198 - mae: 0.1167 - val_loss: 0.0250 - val_mse: 0.0250 - val_mae: 0.1233\n",
      "Epoch 17/150\n",
      "577/577 [==============================] - 0s 53us/step - loss: 0.0185 - mse: 0.0185 - mae: 0.1121 - val_loss: 0.0239 - val_mse: 0.0239 - val_mae: 0.1187\n",
      "Epoch 18/150\n",
      "577/577 [==============================] - 0s 46us/step - loss: 0.0177 - mse: 0.0177 - mae: 0.1083 - val_loss: 0.0229 - val_mse: 0.0229 - val_mae: 0.1150\n",
      "Epoch 19/150\n",
      "577/577 [==============================] - 0s 55us/step - loss: 0.0169 - mse: 0.0169 - mae: 0.1057 - val_loss: 0.0220 - val_mse: 0.0220 - val_mae: 0.1120\n",
      "Epoch 20/150\n",
      "577/577 [==============================] - 0s 66us/step - loss: 0.0165 - mse: 0.0165 - mae: 0.1034 - val_loss: 0.0217 - val_mse: 0.0217 - val_mae: 0.1093\n",
      "Epoch 21/150\n",
      "577/577 [==============================] - 0s 71us/step - loss: 0.0162 - mse: 0.0162 - mae: 0.1021 - val_loss: 0.0208 - val_mse: 0.0208 - val_mae: 0.1067\n",
      "Epoch 22/150\n",
      "577/577 [==============================] - 0s 62us/step - loss: 0.0159 - mse: 0.0159 - mae: 0.1007 - val_loss: 0.0208 - val_mse: 0.0208 - val_mae: 0.1055\n",
      "Epoch 23/150\n",
      "577/577 [==============================] - 0s 76us/step - loss: 0.0158 - mse: 0.0158 - mae: 0.0996 - val_loss: 0.0203 - val_mse: 0.0203 - val_mae: 0.1035\n",
      "Epoch 24/150\n",
      "577/577 [==============================] - 0s 69us/step - loss: 0.0156 - mse: 0.0156 - mae: 0.0989 - val_loss: 0.0203 - val_mse: 0.0203 - val_mae: 0.1029\n",
      "Epoch 25/150\n",
      "577/577 [==============================] - 0s 73us/step - loss: 0.0155 - mse: 0.0155 - mae: 0.0984 - val_loss: 0.0199 - val_mse: 0.0199 - val_mae: 0.1016\n",
      "Epoch 26/150\n",
      "577/577 [==============================] - 0s 86us/step - loss: 0.0154 - mse: 0.0154 - mae: 0.0982 - val_loss: 0.0198 - val_mse: 0.0198 - val_mae: 0.1012\n",
      "Epoch 27/150\n",
      "577/577 [==============================] - 0s 67us/step - loss: 0.0154 - mse: 0.0154 - mae: 0.0982 - val_loss: 0.0197 - val_mse: 0.0197 - val_mae: 0.1006\n",
      "Epoch 28/150\n",
      "577/577 [==============================] - 0s 61us/step - loss: 0.0154 - mse: 0.0154 - mae: 0.0976 - val_loss: 0.0197 - val_mse: 0.0197 - val_mae: 0.1001\n",
      "Epoch 29/150\n",
      "577/577 [==============================] - 0s 61us/step - loss: 0.0153 - mse: 0.0153 - mae: 0.0974 - val_loss: 0.0197 - val_mse: 0.0197 - val_mae: 0.0999\n",
      "Epoch 30/150\n",
      "577/577 [==============================] - 0s 76us/step - loss: 0.0154 - mse: 0.0154 - mae: 0.0974 - val_loss: 0.0197 - val_mse: 0.0197 - val_mae: 0.0998\n",
      "Epoch 31/150\n",
      "577/577 [==============================] - 0s 57us/step - loss: 0.0153 - mse: 0.0153 - mae: 0.0969 - val_loss: 0.0195 - val_mse: 0.0195 - val_mae: 0.0995\n",
      "Epoch 32/150\n",
      "577/577 [==============================] - 0s 61us/step - loss: 0.0153 - mse: 0.0153 - mae: 0.0974 - val_loss: 0.0195 - val_mse: 0.0195 - val_mae: 0.0995\n",
      "Epoch 33/150\n",
      "577/577 [==============================] - 0s 45us/step - loss: 0.0153 - mse: 0.0153 - mae: 0.0966 - val_loss: 0.0196 - val_mse: 0.0196 - val_mae: 0.0994\n",
      "Epoch 34/150\n",
      "577/577 [==============================] - 0s 75us/step - loss: 0.0153 - mse: 0.0153 - mae: 0.0971 - val_loss: 0.0195 - val_mse: 0.0195 - val_mae: 0.0993\n",
      "Epoch 35/150\n",
      "577/577 [==============================] - 0s 56us/step - loss: 0.0153 - mse: 0.0153 - mae: 0.0966 - val_loss: 0.0195 - val_mse: 0.0195 - val_mae: 0.0992\n",
      "Epoch 36/150\n",
      "577/577 [==============================] - 0s 65us/step - loss: 0.0152 - mse: 0.0152 - mae: 0.0964 - val_loss: 0.0195 - val_mse: 0.0195 - val_mae: 0.0992\n",
      "Epoch 37/150\n",
      "577/577 [==============================] - 0s 61us/step - loss: 0.0152 - mse: 0.0152 - mae: 0.0963 - val_loss: 0.0195 - val_mse: 0.0195 - val_mae: 0.0990\n",
      "Epoch 38/150\n",
      "577/577 [==============================] - 0s 74us/step - loss: 0.0152 - mse: 0.0152 - mae: 0.0958 - val_loss: 0.0195 - val_mse: 0.0195 - val_mae: 0.0991\n",
      "Epoch 39/150\n",
      "577/577 [==============================] - 0s 45us/step - loss: 0.0152 - mse: 0.0152 - mae: 0.0959 - val_loss: 0.0195 - val_mse: 0.0195 - val_mae: 0.0989\n",
      "Epoch 40/150\n",
      "577/577 [==============================] - 0s 54us/step - loss: 0.0151 - mse: 0.0151 - mae: 0.0955 - val_loss: 0.0195 - val_mse: 0.0195 - val_mae: 0.0991\n",
      "Epoch 41/150\n",
      "577/577 [==============================] - 0s 50us/step - loss: 0.0152 - mse: 0.0152 - mae: 0.0966 - val_loss: 0.0193 - val_mse: 0.0193 - val_mae: 0.0990\n",
      "Epoch 42/150\n",
      "577/577 [==============================] - 0s 54us/step - loss: 0.0151 - mse: 0.0151 - mae: 0.0952 - val_loss: 0.0196 - val_mse: 0.0196 - val_mae: 0.0994\n",
      "Epoch 43/150\n",
      "577/577 [==============================] - 0s 62us/step - loss: 0.0151 - mse: 0.0151 - mae: 0.0954 - val_loss: 0.0194 - val_mse: 0.0194 - val_mae: 0.0989\n",
      "Epoch 44/150\n",
      "577/577 [==============================] - 0s 63us/step - loss: 0.0150 - mse: 0.0150 - mae: 0.0952 - val_loss: 0.0195 - val_mse: 0.0195 - val_mae: 0.0990\n",
      "Epoch 45/150\n",
      "577/577 [==============================] - 0s 50us/step - loss: 0.0150 - mse: 0.0150 - mae: 0.0954 - val_loss: 0.0194 - val_mse: 0.0194 - val_mae: 0.0989\n",
      "Epoch 46/150\n",
      "577/577 [==============================] - 0s 52us/step - loss: 0.0150 - mse: 0.0150 - mae: 0.0947 - val_loss: 0.0195 - val_mse: 0.0195 - val_mae: 0.0990\n",
      "Epoch 47/150\n",
      "577/577 [==============================] - 0s 51us/step - loss: 0.0150 - mse: 0.0150 - mae: 0.0951 - val_loss: 0.0192 - val_mse: 0.0192 - val_mae: 0.0985\n",
      "Epoch 48/150\n",
      "577/577 [==============================] - 0s 58us/step - loss: 0.0151 - mse: 0.0151 - mae: 0.0946 - val_loss: 0.0194 - val_mse: 0.0194 - val_mae: 0.0988\n",
      "Epoch 49/150\n",
      "577/577 [==============================] - 0s 49us/step - loss: 0.0150 - mse: 0.0150 - mae: 0.0954 - val_loss: 0.0192 - val_mse: 0.0192 - val_mae: 0.0986\n",
      "Epoch 50/150\n",
      "577/577 [==============================] - 0s 71us/step - loss: 0.0149 - mse: 0.0149 - mae: 0.0947 - val_loss: 0.0198 - val_mse: 0.0198 - val_mae: 0.0999\n",
      "Epoch 51/150\n",
      "577/577 [==============================] - 0s 82us/step - loss: 0.0149 - mse: 0.0149 - mae: 0.0942 - val_loss: 0.0192 - val_mse: 0.0192 - val_mae: 0.0990\n",
      "Epoch 52/150\n",
      "577/577 [==============================] - 0s 77us/step - loss: 0.0148 - mse: 0.0148 - mae: 0.0942 - val_loss: 0.0193 - val_mse: 0.0193 - val_mae: 0.0988\n",
      "Epoch 53/150\n",
      "577/577 [==============================] - 0s 77us/step - loss: 0.0148 - mse: 0.0148 - mae: 0.0941 - val_loss: 0.0192 - val_mse: 0.0192 - val_mae: 0.0986\n",
      "Epoch 54/150\n",
      "577/577 [==============================] - 0s 57us/step - loss: 0.0148 - mse: 0.0148 - mae: 0.0938 - val_loss: 0.0193 - val_mse: 0.0193 - val_mae: 0.0989\n",
      "Epoch 55/150\n",
      "577/577 [==============================] - 0s 52us/step - loss: 0.0149 - mse: 0.0149 - mae: 0.0949 - val_loss: 0.0192 - val_mse: 0.0192 - val_mae: 0.0987\n",
      "Epoch 56/150\n",
      "577/577 [==============================] - 0s 57us/step - loss: 0.0151 - mse: 0.0151 - mae: 0.0938 - val_loss: 0.0191 - val_mse: 0.0191 - val_mae: 0.0987\n",
      "Epoch 57/150\n",
      "577/577 [==============================] - 0s 51us/step - loss: 0.0148 - mse: 0.0148 - mae: 0.0948 - val_loss: 0.0191 - val_mse: 0.0191 - val_mae: 0.0987\n",
      "Epoch 58/150\n",
      "577/577 [==============================] - 0s 49us/step - loss: 0.0147 - mse: 0.0147 - mae: 0.0934 - val_loss: 0.0192 - val_mse: 0.0192 - val_mae: 0.0990\n",
      "Epoch 59/150\n",
      "577/577 [==============================] - 0s 51us/step - loss: 0.0146 - mse: 0.0146 - mae: 0.0937 - val_loss: 0.0193 - val_mse: 0.0193 - val_mae: 0.0991\n",
      "Epoch 60/150\n",
      "577/577 [==============================] - 0s 48us/step - loss: 0.0146 - mse: 0.0146 - mae: 0.0934 - val_loss: 0.0191 - val_mse: 0.0191 - val_mae: 0.0988\n",
      "Epoch 61/150\n",
      "577/577 [==============================] - 0s 47us/step - loss: 0.0145 - mse: 0.0145 - mae: 0.0930 - val_loss: 0.0193 - val_mse: 0.0193 - val_mae: 0.0989\n",
      "Epoch 62/150\n",
      "577/577 [==============================] - 0s 45us/step - loss: 0.0146 - mse: 0.0146 - mae: 0.0936 - val_loss: 0.0195 - val_mse: 0.0195 - val_mae: 0.0993\n",
      "Epoch 63/150\n",
      "577/577 [==============================] - 0s 75us/step - loss: 0.0145 - mse: 0.0145 - mae: 0.0927 - val_loss: 0.0192 - val_mse: 0.0192 - val_mae: 0.0990\n",
      "Epoch 64/150\n",
      "577/577 [==============================] - 0s 48us/step - loss: 0.0144 - mse: 0.0144 - mae: 0.0924 - val_loss: 0.0192 - val_mse: 0.0192 - val_mae: 0.0989\n",
      "Epoch 65/150\n",
      "577/577 [==============================] - 0s 49us/step - loss: 0.0144 - mse: 0.0144 - mae: 0.0925 - val_loss: 0.0190 - val_mse: 0.0190 - val_mae: 0.0989\n",
      "Epoch 66/150\n",
      "577/577 [==============================] - 0s 50us/step - loss: 0.0144 - mse: 0.0144 - mae: 0.0926 - val_loss: 0.0189 - val_mse: 0.0189 - val_mae: 0.0990\n",
      "Epoch 67/150\n",
      "577/577 [==============================] - 0s 51us/step - loss: 0.0144 - mse: 0.0144 - mae: 0.0928 - val_loss: 0.0191 - val_mse: 0.0191 - val_mae: 0.0989\n",
      "Epoch 68/150\n",
      "577/577 [==============================] - 0s 53us/step - loss: 0.0143 - mse: 0.0143 - mae: 0.0922 - val_loss: 0.0190 - val_mse: 0.0190 - val_mae: 0.0990\n",
      "Epoch 69/150\n",
      "577/577 [==============================] - 0s 48us/step - loss: 0.0144 - mse: 0.0144 - mae: 0.0924 - val_loss: 0.0194 - val_mse: 0.0194 - val_mae: 0.0991\n",
      "Epoch 70/150\n",
      "577/577 [==============================] - 0s 49us/step - loss: 0.0143 - mse: 0.0143 - mae: 0.0917 - val_loss: 0.0190 - val_mse: 0.0190 - val_mae: 0.0991\n",
      "Epoch 71/150\n",
      "577/577 [==============================] - 0s 43us/step - loss: 0.0142 - mse: 0.0142 - mae: 0.0923 - val_loss: 0.0190 - val_mse: 0.0190 - val_mae: 0.0988\n",
      "Epoch 72/150\n",
      "577/577 [==============================] - 0s 49us/step - loss: 0.0142 - mse: 0.0142 - mae: 0.0915 - val_loss: 0.0189 - val_mse: 0.0189 - val_mae: 0.0991\n",
      "Epoch 73/150\n",
      "577/577 [==============================] - 0s 49us/step - loss: 0.0141 - mse: 0.0141 - mae: 0.0920 - val_loss: 0.0192 - val_mse: 0.0192 - val_mae: 0.0990\n",
      "Epoch 74/150\n",
      "577/577 [==============================] - 0s 51us/step - loss: 0.0141 - mse: 0.0141 - mae: 0.0913 - val_loss: 0.0189 - val_mse: 0.0189 - val_mae: 0.0988\n",
      "Epoch 75/150\n",
      "577/577 [==============================] - 0s 49us/step - loss: 0.0140 - mse: 0.0140 - mae: 0.0915 - val_loss: 0.0190 - val_mse: 0.0190 - val_mae: 0.0988\n",
      "Epoch 76/150\n",
      "577/577 [==============================] - 0s 50us/step - loss: 0.0140 - mse: 0.0140 - mae: 0.0911 - val_loss: 0.0190 - val_mse: 0.0190 - val_mae: 0.0992\n",
      "Epoch 77/150\n",
      "577/577 [==============================] - 0s 57us/step - loss: 0.0140 - mse: 0.0140 - mae: 0.0915 - val_loss: 0.0190 - val_mse: 0.0190 - val_mae: 0.0989\n",
      "Epoch 78/150\n",
      "577/577 [==============================] - 0s 52us/step - loss: 0.0142 - mse: 0.0142 - mae: 0.0911 - val_loss: 0.0189 - val_mse: 0.0189 - val_mae: 0.1000\n",
      "Epoch 79/150\n",
      "577/577 [==============================] - 0s 54us/step - loss: 0.0140 - mse: 0.0140 - mae: 0.0919 - val_loss: 0.0193 - val_mse: 0.0193 - val_mae: 0.0990\n",
      "Epoch 80/150\n",
      "577/577 [==============================] - 0s 42us/step - loss: 0.0140 - mse: 0.0140 - mae: 0.0904 - val_loss: 0.0190 - val_mse: 0.0190 - val_mae: 0.0992\n",
      "Epoch 81/150\n",
      "577/577 [==============================] - 0s 53us/step - loss: 0.0139 - mse: 0.0139 - mae: 0.0908 - val_loss: 0.0188 - val_mse: 0.0188 - val_mae: 0.0988\n",
      "Epoch 82/150\n",
      "577/577 [==============================] - 0s 50us/step - loss: 0.0138 - mse: 0.0138 - mae: 0.0908 - val_loss: 0.0190 - val_mse: 0.0190 - val_mae: 0.0991\n",
      "Epoch 83/150\n",
      "577/577 [==============================] - 0s 48us/step - loss: 0.0138 - mse: 0.0138 - mae: 0.0905 - val_loss: 0.0191 - val_mse: 0.0191 - val_mae: 0.0989\n",
      "Epoch 84/150\n",
      "577/577 [==============================] - 0s 51us/step - loss: 0.0138 - mse: 0.0138 - mae: 0.0911 - val_loss: 0.0189 - val_mse: 0.0189 - val_mae: 0.0989\n",
      "Epoch 85/150\n",
      "577/577 [==============================] - 0s 52us/step - loss: 0.0139 - mse: 0.0139 - mae: 0.0898 - val_loss: 0.0190 - val_mse: 0.0190 - val_mae: 0.0992\n",
      "Epoch 86/150\n",
      "577/577 [==============================] - 0s 51us/step - loss: 0.0137 - mse: 0.0137 - mae: 0.0910 - val_loss: 0.0190 - val_mse: 0.0190 - val_mae: 0.0987\n",
      "Epoch 87/150\n",
      "577/577 [==============================] - 0s 71us/step - loss: 0.0136 - mse: 0.0136 - mae: 0.0893 - val_loss: 0.0187 - val_mse: 0.0187 - val_mae: 0.0987\n",
      "Epoch 88/150\n",
      "577/577 [==============================] - 0s 50us/step - loss: 0.0136 - mse: 0.0136 - mae: 0.0904 - val_loss: 0.0188 - val_mse: 0.0188 - val_mae: 0.0986\n",
      "Epoch 89/150\n",
      "577/577 [==============================] - 0s 54us/step - loss: 0.0136 - mse: 0.0136 - mae: 0.0892 - val_loss: 0.0189 - val_mse: 0.0189 - val_mae: 0.0987\n",
      "Epoch 90/150\n",
      "577/577 [==============================] - 0s 50us/step - loss: 0.0135 - mse: 0.0135 - mae: 0.0891 - val_loss: 0.0188 - val_mse: 0.0188 - val_mae: 0.0990\n",
      "Epoch 91/150\n",
      "577/577 [==============================] - 0s 50us/step - loss: 0.0136 - mse: 0.0136 - mae: 0.0894 - val_loss: 0.0186 - val_mse: 0.0186 - val_mae: 0.0986\n",
      "Epoch 92/150\n",
      "577/577 [==============================] - 0s 47us/step - loss: 0.0135 - mse: 0.0135 - mae: 0.0889 - val_loss: 0.0186 - val_mse: 0.0186 - val_mae: 0.0986\n",
      "Epoch 93/150\n",
      "577/577 [==============================] - 0s 46us/step - loss: 0.0134 - mse: 0.0134 - mae: 0.0891 - val_loss: 0.0190 - val_mse: 0.0190 - val_mae: 0.0985\n",
      "Epoch 94/150\n",
      "577/577 [==============================] - 0s 43us/step - loss: 0.0134 - mse: 0.0134 - mae: 0.0889 - val_loss: 0.0190 - val_mse: 0.0190 - val_mae: 0.0988\n",
      "Epoch 95/150\n",
      "577/577 [==============================] - 0s 49us/step - loss: 0.0134 - mse: 0.0134 - mae: 0.0886 - val_loss: 0.0189 - val_mse: 0.0189 - val_mae: 0.0984\n",
      "Epoch 96/150\n",
      "577/577 [==============================] - 0s 48us/step - loss: 0.0133 - mse: 0.0133 - mae: 0.0878 - val_loss: 0.0187 - val_mse: 0.0187 - val_mae: 0.0985\n",
      "Epoch 97/150\n"
     ]
    },
    {
     "name": "stdout",
     "output_type": "stream",
     "text": [
      "577/577 [==============================] - 0s 73us/step - loss: 0.0134 - mse: 0.0134 - mae: 0.0890 - val_loss: 0.0190 - val_mse: 0.0190 - val_mae: 0.0985\n",
      "Epoch 98/150\n",
      "577/577 [==============================] - 0s 55us/step - loss: 0.0133 - mse: 0.0133 - mae: 0.0886 - val_loss: 0.0189 - val_mse: 0.0189 - val_mae: 0.0987\n",
      "Epoch 99/150\n",
      "577/577 [==============================] - 0s 51us/step - loss: 0.0132 - mse: 0.0132 - mae: 0.0877 - val_loss: 0.0188 - val_mse: 0.0188 - val_mae: 0.0984\n",
      "Epoch 100/150\n",
      "577/577 [==============================] - 0s 67us/step - loss: 0.0132 - mse: 0.0132 - mae: 0.0875 - val_loss: 0.0187 - val_mse: 0.0187 - val_mae: 0.0981\n",
      "Epoch 101/150\n",
      "577/577 [==============================] - 0s 48us/step - loss: 0.0134 - mse: 0.0134 - mae: 0.0891 - val_loss: 0.0192 - val_mse: 0.0192 - val_mae: 0.0985\n",
      "Epoch 102/150\n",
      "577/577 [==============================] - 0s 55us/step - loss: 0.0133 - mse: 0.0133 - mae: 0.0885 - val_loss: 0.0189 - val_mse: 0.0189 - val_mae: 0.0982\n",
      "Epoch 103/150\n",
      "577/577 [==============================] - 0s 55us/step - loss: 0.0132 - mse: 0.0132 - mae: 0.0870 - val_loss: 0.0188 - val_mse: 0.0188 - val_mae: 0.0981\n",
      "Epoch 104/150\n",
      "577/577 [==============================] - 0s 51us/step - loss: 0.0131 - mse: 0.0131 - mae: 0.0878 - val_loss: 0.0191 - val_mse: 0.0191 - val_mae: 0.0982\n",
      "Epoch 105/150\n",
      "577/577 [==============================] - 0s 49us/step - loss: 0.0131 - mse: 0.0131 - mae: 0.0865 - val_loss: 0.0187 - val_mse: 0.0187 - val_mae: 0.0982\n",
      "Epoch 106/150\n",
      "577/577 [==============================] - 0s 47us/step - loss: 0.0132 - mse: 0.0132 - mae: 0.0892 - val_loss: 0.0193 - val_mse: 0.0193 - val_mae: 0.0985\n",
      "Epoch 107/150\n",
      "577/577 [==============================] - 0s 47us/step - loss: 0.0133 - mse: 0.0133 - mae: 0.0874 - val_loss: 0.0188 - val_mse: 0.0188 - val_mae: 0.0983\n",
      "Epoch 108/150\n",
      "577/577 [==============================] - 0s 45us/step - loss: 0.0131 - mse: 0.0131 - mae: 0.0879 - val_loss: 0.0191 - val_mse: 0.0191 - val_mae: 0.0982\n",
      "Epoch 109/150\n",
      "577/577 [==============================] - 0s 52us/step - loss: 0.0132 - mse: 0.0132 - mae: 0.0867 - val_loss: 0.0186 - val_mse: 0.0186 - val_mae: 0.0981\n",
      "Epoch 110/150\n",
      "577/577 [==============================] - 0s 58us/step - loss: 0.0130 - mse: 0.0130 - mae: 0.0869 - val_loss: 0.0190 - val_mse: 0.0190 - val_mae: 0.0981\n",
      "Epoch 111/150\n",
      "577/577 [==============================] - 0s 54us/step - loss: 0.0130 - mse: 0.0130 - mae: 0.0868 - val_loss: 0.0188 - val_mse: 0.0188 - val_mae: 0.0978\n",
      "Epoch 112/150\n",
      "577/577 [==============================] - 0s 54us/step - loss: 0.0130 - mse: 0.0130 - mae: 0.0871 - val_loss: 0.0188 - val_mse: 0.0188 - val_mae: 0.0979\n",
      "Epoch 113/150\n",
      "577/577 [==============================] - 0s 52us/step - loss: 0.0130 - mse: 0.0130 - mae: 0.0858 - val_loss: 0.0188 - val_mse: 0.0188 - val_mae: 0.0980\n",
      "Epoch 114/150\n",
      "577/577 [==============================] - 0s 55us/step - loss: 0.0129 - mse: 0.0129 - mae: 0.0866 - val_loss: 0.0186 - val_mse: 0.0186 - val_mae: 0.0974\n",
      "Epoch 115/150\n",
      "577/577 [==============================] - 0s 52us/step - loss: 0.0129 - mse: 0.0129 - mae: 0.0864 - val_loss: 0.0187 - val_mse: 0.0187 - val_mae: 0.0976\n",
      "Epoch 116/150\n",
      "577/577 [==============================] - 0s 59us/step - loss: 0.0129 - mse: 0.0129 - mae: 0.0863 - val_loss: 0.0190 - val_mse: 0.0190 - val_mae: 0.0977\n",
      "Epoch 117/150\n",
      "577/577 [==============================] - 0s 45us/step - loss: 0.0128 - mse: 0.0128 - mae: 0.0854 - val_loss: 0.0186 - val_mse: 0.0186 - val_mae: 0.0976\n",
      "Epoch 118/150\n",
      "577/577 [==============================] - 0s 54us/step - loss: 0.0132 - mse: 0.0132 - mae: 0.0873 - val_loss: 0.0191 - val_mse: 0.0191 - val_mae: 0.0978\n",
      "Epoch 119/150\n",
      "577/577 [==============================] - 0s 55us/step - loss: 0.0130 - mse: 0.0130 - mae: 0.0871 - val_loss: 0.0188 - val_mse: 0.0188 - val_mae: 0.0977\n",
      "Epoch 120/150\n",
      "577/577 [==============================] - 0s 49us/step - loss: 0.0130 - mse: 0.0130 - mae: 0.0860 - val_loss: 0.0188 - val_mse: 0.0188 - val_mae: 0.0977\n",
      "Epoch 121/150\n",
      "577/577 [==============================] - 0s 60us/step - loss: 0.0129 - mse: 0.0129 - mae: 0.0857 - val_loss: 0.0187 - val_mse: 0.0187 - val_mae: 0.0971\n",
      "Epoch 122/150\n",
      "577/577 [==============================] - 0s 43us/step - loss: 0.0128 - mse: 0.0128 - mae: 0.0859 - val_loss: 0.0190 - val_mse: 0.0190 - val_mae: 0.0974\n",
      "Epoch 123/150\n",
      "577/577 [==============================] - 0s 62us/step - loss: 0.0128 - mse: 0.0128 - mae: 0.0853 - val_loss: 0.0185 - val_mse: 0.0185 - val_mae: 0.0974\n",
      "Epoch 124/150\n",
      "577/577 [==============================] - 0s 49us/step - loss: 0.0127 - mse: 0.0127 - mae: 0.0857 - val_loss: 0.0190 - val_mse: 0.0190 - val_mae: 0.0977\n",
      "Epoch 125/150\n",
      "577/577 [==============================] - 0s 50us/step - loss: 0.0128 - mse: 0.0128 - mae: 0.0851 - val_loss: 0.0186 - val_mse: 0.0186 - val_mae: 0.0974\n",
      "Epoch 126/150\n",
      "577/577 [==============================] - 0s 51us/step - loss: 0.0127 - mse: 0.0127 - mae: 0.0858 - val_loss: 0.0190 - val_mse: 0.0190 - val_mae: 0.0976\n",
      "Epoch 127/150\n",
      "577/577 [==============================] - 0s 44us/step - loss: 0.0127 - mse: 0.0127 - mae: 0.0849 - val_loss: 0.0185 - val_mse: 0.0185 - val_mae: 0.0971\n",
      "Epoch 128/150\n",
      "577/577 [==============================] - 0s 56us/step - loss: 0.0127 - mse: 0.0127 - mae: 0.0858 - val_loss: 0.0188 - val_mse: 0.0188 - val_mae: 0.0972\n",
      "Epoch 129/150\n",
      "577/577 [==============================] - 0s 41us/step - loss: 0.0127 - mse: 0.0127 - mae: 0.0847 - val_loss: 0.0185 - val_mse: 0.0185 - val_mae: 0.0965\n",
      "Epoch 130/150\n",
      "577/577 [==============================] - 0s 52us/step - loss: 0.0127 - mse: 0.0127 - mae: 0.0852 - val_loss: 0.0188 - val_mse: 0.0188 - val_mae: 0.0970\n",
      "Epoch 131/150\n",
      "577/577 [==============================] - 0s 59us/step - loss: 0.0127 - mse: 0.0127 - mae: 0.0851 - val_loss: 0.0187 - val_mse: 0.0187 - val_mae: 0.0969\n",
      "Epoch 132/150\n",
      "577/577 [==============================] - 0s 44us/step - loss: 0.0127 - mse: 0.0127 - mae: 0.0841 - val_loss: 0.0185 - val_mse: 0.0185 - val_mae: 0.0975\n",
      "Epoch 133/150\n",
      "577/577 [==============================] - 0s 145us/step - loss: 0.0128 - mse: 0.0128 - mae: 0.0859 - val_loss: 0.0196 - val_mse: 0.0196 - val_mae: 0.0980\n",
      "Epoch 134/150\n",
      "577/577 [==============================] - 0s 94us/step - loss: 0.0127 - mse: 0.0127 - mae: 0.0848 - val_loss: 0.0183 - val_mse: 0.0183 - val_mae: 0.0965\n",
      "Epoch 135/150\n",
      "577/577 [==============================] - 0s 61us/step - loss: 0.0126 - mse: 0.0126 - mae: 0.0849 - val_loss: 0.0185 - val_mse: 0.0185 - val_mae: 0.0962\n",
      "Epoch 136/150\n",
      "577/577 [==============================] - 0s 55us/step - loss: 0.0125 - mse: 0.0125 - mae: 0.0845 - val_loss: 0.0184 - val_mse: 0.0184 - val_mae: 0.0960\n",
      "Epoch 137/150\n",
      "577/577 [==============================] - 0s 77us/step - loss: 0.0126 - mse: 0.0126 - mae: 0.0843 - val_loss: 0.0184 - val_mse: 0.0184 - val_mae: 0.0962\n",
      "Epoch 138/150\n",
      "577/577 [==============================] - 0s 56us/step - loss: 0.0126 - mse: 0.0126 - mae: 0.0842 - val_loss: 0.0182 - val_mse: 0.0182 - val_mae: 0.0959\n",
      "Epoch 139/150\n",
      "577/577 [==============================] - 0s 71us/step - loss: 0.0126 - mse: 0.0126 - mae: 0.0849 - val_loss: 0.0188 - val_mse: 0.0188 - val_mae: 0.0967\n",
      "Epoch 140/150\n",
      "577/577 [==============================] - 0s 65us/step - loss: 0.0125 - mse: 0.0125 - mae: 0.0850 - val_loss: 0.0183 - val_mse: 0.0183 - val_mae: 0.0958\n",
      "Epoch 141/150\n",
      "577/577 [==============================] - 0s 46us/step - loss: 0.0126 - mse: 0.0126 - mae: 0.0834 - val_loss: 0.0181 - val_mse: 0.0181 - val_mae: 0.0954\n",
      "Epoch 142/150\n",
      "577/577 [==============================] - 0s 69us/step - loss: 0.0126 - mse: 0.0126 - mae: 0.0855 - val_loss: 0.0187 - val_mse: 0.0187 - val_mae: 0.0960\n",
      "Epoch 143/150\n",
      "577/577 [==============================] - 0s 83us/step - loss: 0.0125 - mse: 0.0125 - mae: 0.0840 - val_loss: 0.0183 - val_mse: 0.0183 - val_mae: 0.0952\n",
      "Epoch 144/150\n",
      "577/577 [==============================] - 0s 57us/step - loss: 0.0124 - mse: 0.0124 - mae: 0.0836 - val_loss: 0.0180 - val_mse: 0.0180 - val_mae: 0.0949\n",
      "Epoch 145/150\n",
      "577/577 [==============================] - 0s 63us/step - loss: 0.0124 - mse: 0.0124 - mae: 0.0838 - val_loss: 0.0185 - val_mse: 0.0185 - val_mae: 0.0954\n"
     ]
    },
    {
     "name": "stdout",
     "output_type": "stream",
     "text": [
      "Epoch 146/150\n",
      "577/577 [==============================] - 0s 81us/step - loss: 0.0124 - mse: 0.0124 - mae: 0.0842 - val_loss: 0.0182 - val_mse: 0.0182 - val_mae: 0.0951\n",
      "Epoch 147/150\n",
      "577/577 [==============================] - 0s 60us/step - loss: 0.0123 - mse: 0.0123 - mae: 0.0829 - val_loss: 0.0182 - val_mse: 0.0182 - val_mae: 0.0951\n",
      "Epoch 148/150\n",
      "577/577 [==============================] - 0s 85us/step - loss: 0.0123 - mse: 0.0123 - mae: 0.0835 - val_loss: 0.0184 - val_mse: 0.0184 - val_mae: 0.0955\n",
      "Epoch 149/150\n",
      "577/577 [==============================] - 0s 77us/step - loss: 0.0123 - mse: 0.0123 - mae: 0.0827 - val_loss: 0.0179 - val_mse: 0.0179 - val_mae: 0.0952\n",
      "Epoch 150/150\n",
      "577/577 [==============================] - 0s 75us/step - loss: 0.0124 - mse: 0.0124 - mae: 0.0844 - val_loss: 0.0180 - val_mse: 0.0180 - val_mae: 0.0948\n"
     ]
    },
    {
     "data": {
      "text/plain": [
       "<keras.callbacks.callbacks.History at 0x12f44fd30>"
      ]
     },
     "execution_count": 7,
     "metadata": {},
     "output_type": "execute_result"
    }
   ],
   "source": [
    "model.fit(X_train, Y_train, epochs=150, batch_size=50,  verbose=1, validation_split=0.2)"
   ]
  },
  {
   "cell_type": "markdown",
   "metadata": {},
   "source": [
    "# predict the new set of data"
   ]
  },
  {
   "cell_type": "code",
   "execution_count": 8,
   "metadata": {},
   "outputs": [],
   "source": [
    "Xnew = np.array([[40, 0, 26, 9000, 8000]])"
   ]
  },
  {
   "cell_type": "code",
   "execution_count": 9,
   "metadata": {},
   "outputs": [
    {
     "name": "stdout",
     "output_type": "stream",
     "text": [
      "X=[  40.    0.   26. 9000. 8000.], Predicted=[13749.024]\n"
     ]
    }
   ],
   "source": [
    "Xnew= scaler_x.transform(Xnew)\n",
    "ynew= model.predict(Xnew)\n",
    "ynew = scaler_y.inverse_transform(ynew) \n",
    "Xnew = scaler_x.inverse_transform(Xnew)\n",
    "print(\"X=%s, Predicted=%s\" % (Xnew[0], ynew[0]))"
   ]
  },
  {
   "cell_type": "code",
   "execution_count": null,
   "metadata": {},
   "outputs": [],
   "source": []
  }
 ],
 "metadata": {
  "kernelspec": {
   "display_name": "Python 3",
   "language": "python",
   "name": "python3"
  },
  "language_info": {
   "codemirror_mode": {
    "name": "ipython",
    "version": 3
   },
   "file_extension": ".py",
   "mimetype": "text/x-python",
   "name": "python",
   "nbconvert_exporter": "python",
   "pygments_lexer": "ipython3",
   "version": "3.7.4"
  }
 },
 "nbformat": 4,
 "nbformat_minor": 2
}
