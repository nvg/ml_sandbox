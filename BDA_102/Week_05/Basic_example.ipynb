{
 "cells": [
  {
   "cell_type": "code",
   "execution_count": 3,
   "metadata": {},
   "outputs": [],
   "source": [
    "from keras.models import Sequential\n",
    "from keras.layers import Dense\n",
    "import matplotlib.pyplot as plt\n",
    "import numpy as np\n",
    "import pandas as pd\n",
    "%matplotlib inline"
   ]
  },
  {
   "cell_type": "markdown",
   "metadata": {},
   "source": [
    "The datasets consist of several medical predictor (independent) \n",
    "variables and one target (dependent) variable, Outcome. \n",
    "Independent variables include the number of pregnancies the patient has had,\n",
    "their BMI, insulin level, age, and so on."
   ]
  },
  {
   "cell_type": "code",
   "execution_count": 4,
   "metadata": {},
   "outputs": [],
   "source": [
    "dataset = np.loadtxt(\"pima-indians-diabetes.csv\", delimiter=\",\")"
   ]
  },
  {
   "cell_type": "code",
   "execution_count": 5,
   "metadata": {},
   "outputs": [],
   "source": [
    "dataset=pd.DataFrame(dataset, columns=['pregnancies','Glucose','BloodPressure','SkinThickness',\n",
    "                                       'Insulin','BMI','DiabetesPedigreeF','Age','Outcome'])"
   ]
  },
  {
   "cell_type": "code",
   "execution_count": 6,
   "metadata": {},
   "outputs": [],
   "source": [
    "x=dataset.drop('Outcome',axis=1)\n",
    "y=dataset['Outcome']"
   ]
  },
  {
   "cell_type": "code",
   "execution_count": 7,
   "metadata": {},
   "outputs": [
    {
     "data": {
      "image/png": "[encoded data removed]",
      "text/plain": [
       "<Figure size 432x288 with 1 Axes>"
      ]
     },
     "metadata": {
      "needs_background": "light"
     },
     "output_type": "display_data"
    }
   ],
   "source": [
    "y.value_counts().plot(kind = \"bar\")\n",
    "plt.show()"
   ]
  },
  {
   "cell_type": "markdown",
   "metadata": {},
   "source": [
    "# Build the Model"
   ]
  },
  {
   "cell_type": "code",
   "execution_count": 8,
   "metadata": {},
   "outputs": [],
   "source": [
    "model = Sequential()\n",
    "model.add(Dense(12, input_dim=8, activation='relu'))\n",
    "model.add(Dense(8, activation='relu'))\n",
    "model.add(Dense(1, activation='sigmoid'))"
   ]
  },
  {
   "cell_type": "code",
   "execution_count": 9,
   "metadata": {},
   "outputs": [
    {
     "name": "stdout",
     "output_type": "stream",
     "text": [
      "Epoch 1/20\n",
      "768/768 [==============================] - 1s 1ms/step - loss: 4.9391 - accuracy: 0.5013\n",
      "Epoch 2/20\n",
      "768/768 [==============================] - 0s 192us/step - loss: 1.3366 - accuracy: 0.5664\n",
      "Epoch 3/20\n",
      "768/768 [==============================] - 0s 192us/step - loss: 0.8616 - accuracy: 0.5990\n",
      "Epoch 4/20\n",
      "768/768 [==============================] - 0s 171us/step - loss: 0.7850 - accuracy: 0.6237\n",
      "Epoch 5/20\n",
      "768/768 [==============================] - 0s 192us/step - loss: 0.7576 - accuracy: 0.6484\n",
      "Epoch 6/20\n",
      "768/768 [==============================] - ETA: 0s - loss: 0.7724 - accuracy: 0.62 - 0s 171us/step - loss: 0.7532 - accuracy: 0.6315\n",
      "Epoch 7/20\n",
      "768/768 [==============================] - 0s 192us/step - loss: 0.7283 - accuracy: 0.6341\n",
      "Epoch 8/20\n",
      "768/768 [==============================] - 0s 171us/step - loss: 0.6967 - accuracy: 0.6497\n",
      "Epoch 9/20\n",
      "768/768 [==============================] - 0s 192us/step - loss: 0.6979 - accuracy: 0.6445\n",
      "Epoch 10/20\n",
      "768/768 [==============================] - 0s 180us/step - loss: 0.6812 - accuracy: 0.6562\n",
      "Epoch 11/20\n",
      "768/768 [==============================] - 0s 192us/step - loss: 0.6665 - accuracy: 0.6562\n",
      "Epoch 12/20\n",
      "768/768 [==============================] - 0s 180us/step - loss: 0.6513 - accuracy: 0.6771\n",
      "Epoch 13/20\n",
      "768/768 [==============================] - 0s 192us/step - loss: 0.6428 - accuracy: 0.6758\n",
      "Epoch 14/20\n",
      "768/768 [==============================] - 0s 180us/step - loss: 0.6374 - accuracy: 0.6797\n",
      "Epoch 15/20\n",
      "768/768 [==============================] - 0s 192us/step - loss: 0.6241 - accuracy: 0.6888\n",
      "Epoch 16/20\n",
      "768/768 [==============================] - 0s 200us/step - loss: 0.6181 - accuracy: 0.7161\n",
      "Epoch 17/20\n",
      "768/768 [==============================] - 0s 200us/step - loss: 0.6297 - accuracy: 0.6784\n",
      "Epoch 18/20\n",
      "768/768 [==============================] - 0s 212us/step - loss: 0.6257 - accuracy: 0.7018\n",
      "Epoch 19/20\n",
      "768/768 [==============================] - 0s 220us/step - loss: 0.6109 - accuracy: 0.7005\n",
      "Epoch 20/20\n",
      "768/768 [==============================] - 0s 220us/step - loss: 0.6190 - accuracy: 0.7057\n"
     ]
    },
    {
     "data": {
      "text/plain": [
       "<keras.callbacks.callbacks.History at 0x159c0a6ee08>"
      ]
     },
     "execution_count": 9,
     "metadata": {},
     "output_type": "execute_result"
    }
   ],
   "source": [
    "model.compile(loss='binary_crossentropy', optimizer='adam', metrics=['accuracy'])\n",
    "model.fit(x, y, epochs=20,batch_size=10)"
   ]
  },
  {
   "cell_type": "code",
   "execution_count": 10,
   "metadata": {},
   "outputs": [
    {
     "data": {
      "text/plain": [
       "['loss', 'accuracy']"
      ]
     },
     "execution_count": 10,
     "metadata": {},
     "output_type": "execute_result"
    }
   ],
   "source": [
    "model.metrics_names"
   ]
  },
  {
   "cell_type": "code",
   "execution_count": 11,
   "metadata": {},
   "outputs": [
    {
     "name": "stdout",
     "output_type": "stream",
     "text": [
      "768/768 [==============================] - 0s 131us/step\n"
     ]
    }
   ],
   "source": [
    "scores = model.evaluate(x, y)"
   ]
  },
  {
   "cell_type": "code",
   "execution_count": 12,
   "metadata": {},
   "outputs": [
    {
     "data": {
      "text/plain": [
       "[0.5800753061970075, 0.73046875]"
      ]
     },
     "execution_count": 12,
     "metadata": {},
     "output_type": "execute_result"
    }
   ],
   "source": [
    "#first one is score and the second one is accuracy\n",
    "scores"
   ]
  },
  {
   "cell_type": "code",
   "execution_count": null,
   "metadata": {},
   "outputs": [],
   "source": []
  },
  {
   "cell_type": "code",
   "execution_count": null,
   "metadata": {},
   "outputs": [],
   "source": []
  }
 ],
 "metadata": {
  "kernelspec": {
   "display_name": "Python 3",
   "language": "python",
   "name": "python3"
  },
  "language_info": {
   "codemirror_mode": {
    "name": "ipython",
    "version": 3
   },
   "file_extension": ".py",
   "mimetype": "text/x-python",
   "name": "python",
   "nbconvert_exporter": "python",
   "pygments_lexer": "ipython3",
   "version": "3.7.4"
  }
 },
 "nbformat": 4,
 "nbformat_minor": 2
}
