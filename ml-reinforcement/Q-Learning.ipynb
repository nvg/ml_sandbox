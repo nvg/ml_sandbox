{
 "cells": [
  {
   "cell_type": "markdown",
   "metadata": {},
   "source": [
    "# Q-Learning\n",
    "\n",
    "Q-learning is a model-free reinforcement learning algorithm(algorithm seeks to find the best action given the current state). The goal of Q-learning is to learn a policy, which tells an agent what action to take under what circumstances. It does not require a model (hence the connotation \"model-free\") of the environment, and it can handle problems with stochastic transitions and rewards, without requiring adaptations. Q-learning seeks to learn a policy that maximizes the total reward. The 'q' in q-learning stands for quality. Quality in this case represents how useful a given action is in gaining some future reward.\n",
    "\n",
    "## Algorithm\n",
    "\n",
    "When q-learning is performed we create what’s called a q-table or matrix that follows the shape of [state, action] and we initialize our values to zero. We then update and store our q-values after an episode. This q-table becomes a reference table for our agent to select the best action based on the q-value.\n",
    "\n",
    "The next step is simply for the agent to interact with the environment and make updates to the state action pairs in our q-table Q[state, action].\n",
    "\n",
    "An agent interacts with the environment in 1 of 2 ways. The first is to use the q-table as a reference and view all possible actions for a given state. The agent then selects the action based on the max value of those actions. This is known as exploiting since we use the information we have available to us to make a decision.\n",
    "\n",
    "The second way to take action is to act randomly. This is called exploring. Instead of selecting actions based on the max future reward we select an action at random. Acting randomly is important because it allows the agent to explore and discover new states that otherwise may not be selected during the exploitation process. You can balance exploration/exploitation using epsilon (ε) and setting the value of how often you want to explore vs exploit.\n",
    "\n",
    "The updates occur after each step or action and ends when an episode is done. Done in this case means reaching some terminal point by the agent.\n",
    "\n",
    "Here are the 3 basic steps:\n",
    "\n",
    "    Agent starts in a state (s1) takes an action (a1) and receives a reward (r1)\n",
    "    Agent selects action by referencing Q-table with highest value (max) OR by random (epsilon, ε)\n",
    "    Update q-values\n",
    "\n",
    "### Update rule for q-learning:\n",
    "\n",
    "```Update q valuesQ[state, action] = Q[state, action] + lr * (reward + gamma * np.max(Q[new_state, :]) — Q[state, action])```\n",
    "\n",
    "Here we adjust our q-values based on the difference between the discounted new values and the old values. We discount the new values using gamma and we adjust our step size using learning rate (lr)\n",
    "\n",
    "## Definitions\n",
    "\n",
    "* Learning Rate: lr or learning rate, often referred to as alpha or α, can simply be defined as how much you accept the new value vs the old value. Above we are taking the difference between new and old and then multiplying that value by the learning rate. This value then gets added to our previous q-value which essentially moves it in the direction of our latest update.\n",
    "\n",
    "* Gamma: gamma or γ is a discount factor. It’s used to balance immediate and future reward. From our update rule above you can see that we apply the discount to the future reward. Typically this value can range anywhere from 0.8 to 0.99.\n",
    "\n",
    "* Reward: reward is the value received after completing a certain action at a given state. A reward can happen at any given time step or only at the terminal time step.\n",
    "\n",
    "* Max: np.max() uses the numpy library and is taking the maximum of the future reward and applying it to the reward for the current state. What this does is impact the current action by the possible future reward. This is the beauty of q-learning. We’re allocating future reward to current actions to help the agent select the highest return action at any given state.\n",
    "\n",
    "https://towardsdatascience.com/simple-reinforcement-learning-q-learning-fcddc4b6fe56"
   ]
  },
  {
   "cell_type": "code",
   "execution_count": 1,
   "metadata": {},
   "outputs": [],
   "source": [
    "import numpy as np\n",
    "\n",
    "# Setting the parameters gamma and alpha for the Q-Learning\n",
    "gamma = 0.75\n",
    "alpha = 0.9 \n",
    "\n",
    "# Define the states, actions and rewards\n",
    "location_to_state = {'A': 0,\n",
    "                     'B': 1,\n",
    "                     'C': 2,\n",
    "                     'D': 3,\n",
    "                     'E': 4,\n",
    "                     'F': 5,\n",
    "                     'G': 6,\n",
    "                     'H': 7,\n",
    "                     'I': 8,\n",
    "                     'J': 9,\n",
    "                     'K': 10,\n",
    "                     'L': 11}\n",
    "actions = [0,1,2,3,4,5,6,7,8,9,10,11]\n",
    "R = np.array([[0,1,0,0,0,0,0,0,0,0,0,0],\n",
    "              [1,0,1,0,0,1,0,0,0,0,0,0],\n",
    "              [0,1,0,0,0,0,1,0,0,0,0,0],\n",
    "              [0,0,0,0,0,0,0,1,0,0,0,0],\n",
    "              [0,0,0,0,0,0,0,0,1,0,0,0],\n",
    "              [0,1,0,0,0,0,0,0,0,1,0,0],\n",
    "              [0,0,1,0,0,0,1,1,0,0,0,0],\n",
    "              [0,0,0,1,0,0,1,0,0,0,0,1],\n",
    "              [0,0,0,0,1,0,0,0,0,1,0,0],\n",
    "              [0,0,0,0,0,1,0,0,1,0,1,0],\n",
    "              [0,0,0,0,0,0,0,0,0,1,0,1],\n",
    "              [0,0,0,0,0,0,0,1,0,0,1,0]])"
   ]
  },
  {
   "cell_type": "code",
   "execution_count": 2,
   "metadata": {},
   "outputs": [],
   "source": [
    "# Making a mapping from the states to the locations\n",
    "state_to_location = {state: location for location, state in location_to_state.items()} "
   ]
  },
  {
   "cell_type": "code",
   "execution_count": 3,
   "metadata": {},
   "outputs": [],
   "source": [
    "# Making a function that returns the shortest route from a starting to ending location\n",
    "def route(starting_location, ending_location):\n",
    "    R_new = np.copy(R)\n",
    "    ending_state = location_to_state[ending_location]\n",
    "    R_new[ending_state, ending_state] = 1000\n",
    "    Q = np.array(np.zeros([12,12]))\n",
    "    for i in range(1000):\n",
    "        current_state = np.random.randint(0,12)\n",
    "        playable_actions = []\n",
    "        for j in range(12):\n",
    "            if R_new[current_state, j] > 0:\n",
    "                playable_actions.append(j)\n",
    "        next_state = np.random.choice(playable_actions)\n",
    "        TD = R_new[current_state, next_state] + gamma * Q[next_state, np.argmax(Q[next_state,])] - Q[current_state, next_state]\n",
    "        Q[current_state, next_state] = Q[current_state, next_state] + alpha * TD\n",
    "    route = [starting_location]\n",
    "    next_location = starting_location\n",
    "    while (next_location != ending_location):\n",
    "        starting_state = location_to_state[starting_location]\n",
    "        next_state = np.argmax(Q[starting_state,])\n",
    "        next_location = state_to_location[next_state]\n",
    "        route.append(next_location)\n",
    "        starting_location = next_location\n",
    "    return route  "
   ]
  },
  {
   "cell_type": "code",
   "execution_count": 4,
   "metadata": {},
   "outputs": [
    {
     "name": "stdout",
     "output_type": "stream",
     "text": [
      "Route:\n"
     ]
    },
    {
     "data": {
      "text/plain": [
       "['E', 'I', 'J', 'K', 'L', 'H', 'G']"
      ]
     },
     "execution_count": 4,
     "metadata": {},
     "output_type": "execute_result"
    }
   ],
   "source": [
    "# Making the final function that returns the optimal route\n",
    "def best_route(starting_location, intermediary_location, ending_location):\n",
    "    return route(starting_location, intermediary_location) + route(intermediary_location, ending_location)[1:]\n",
    "\n",
    "# Printing the final route\n",
    "print('Route:')\n",
    "best_route('E', 'K', 'G')  "
   ]
  }
 ],
 "metadata": {
  "kernelspec": {
   "display_name": "Python 3",
   "language": "python",
   "name": "python3"
  },
  "language_info": {
   "codemirror_mode": {
    "name": "ipython",
    "version": 3
   },
   "file_extension": ".py",
   "mimetype": "text/x-python",
   "name": "python",
   "nbconvert_exporter": "python",
   "pygments_lexer": "ipython3",
   "version": "3.7.3"
  }
 },
 "nbformat": 4,
 "nbformat_minor": 2
}
