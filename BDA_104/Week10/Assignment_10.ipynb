{
 "cells": [
  {
   "cell_type": "markdown",
   "metadata": {},
   "source": [
    "### 1. Define mean shift clustering?"
   ]
  },
  {
   "cell_type": "markdown",
   "metadata": {},
   "source": [
    "MSC groups points among local maximums. This is repeated iteratively and all points move to the cluster centers. The points are filtered to remove near-duplicates to form the final set of centroids. The algorithm automatically determines the number of clusters. The downside of MSC is computational complexity at $O(N^2)$"
   ]
  },
  {
   "cell_type": "code",
   "execution_count": 1,
   "metadata": {},
   "outputs": [],
   "source": [
    "### 2. Implement mean shift from the ground up. \n",
    "\n",
    "%matplotlib inline\n",
    "import random as rnd\n",
    "import numpy as np\n",
    "import math\n",
    "\n",
    "import matplotlib.pyplot as plt\n",
    "\n",
    "# from scipy import stats"
   ]
  },
  {
   "cell_type": "code",
   "execution_count": null,
   "metadata": {},
   "outputs": [],
   "source": []
  },
  {
   "cell_type": "code",
   "execution_count": 2,
   "metadata": {},
   "outputs": [],
   "source": [
    "def is_same_point(p1, p2):\n",
    "    return math.isclose(p1[0], p2[0], abs_tol=0.001) and math.isclose(p1[1], p2[1], abs_tol=0.001)\n",
    "    \n",
    "# Gets euclidiance distance b/w two points\n",
    "def distance(p1, p2):\n",
    "    return math.sqrt((p2[0] - p1[0])**2 + (p2[1] - p1[1])**2)  \n",
    "\n",
    "# Gets all neighbours within the given threshold for the specified point\n",
    "def get_neighbours(point, all_points, dist_threshold):\n",
    "    result = [];\n",
    "    for p in all_points:\n",
    "        dist = distance(point, p)\n",
    "        if (dist <= dist_threshold):\n",
    "            result.append(p)\n",
    "    return result\n",
    "\n",
    "# Gets weight for the given distance using gaussian kernel\n",
    "def get_weight(distance, bandwidth):\n",
    "    d = np.sqrt(distance)**2\n",
    "    result = (1/(bandwidth*math.sqrt(2*math.pi))) * np.exp(-0.5*((d / bandwidth))**2)\n",
    "    return result\n",
    "\n",
    "# Gets weighted average for the specified point\n",
    "def get_weighted_average(point, points, bandwidth):\n",
    "    shift_x = 0.0\n",
    "    shift_y = 0.0\n",
    "    scale_factor = 0.0\n",
    "    \n",
    "    for p in points:\n",
    "        weight = get_weight(distance(point, p), bandwidth)\n",
    "        shift_x += p[0] * weight\n",
    "        shift_y += p[1] * weight\n",
    "        scale_factor += weight\n",
    "    shift_x = shift_x / scale_factor\n",
    "    shift_y = shift_y / scale_factor\n",
    "    return [shift_x, shift_y]\n",
    "\n",
    "def lists_of_points_equal(list1, list2):\n",
    "    if (len(list1) != len(list2)):\n",
    "        return False\n",
    "    for i in range(len(list1)):\n",
    "        if not is_same_point(list1[i], list2[i]):\n",
    "            return False\n",
    "    return True\n",
    "\n",
    "def unique(X):\n",
    "    X_unique = []\n",
    "    for x in X:\n",
    "        is_found = False\n",
    "        for y in X_unique:\n",
    "            if is_same_point(x, y):\n",
    "                is_found = True\n",
    "                break\n",
    "        if not is_found:\n",
    "            X_unique.append(x)\n",
    "    return X_unique\n",
    "\n",
    "def msc(X, bandwidth):\n",
    "    while True:\n",
    "        X_tmp = []\n",
    "        for x in X:\n",
    "            # find all possible neighbors within certain distance.\n",
    "            neighbors = get_neighbours(x, X, bandwidth)\n",
    "            if len(neighbors) == 0:\n",
    "                X_tmp.append(x)\n",
    "            else:\n",
    "                # Calculate the weighted average of the group of neighbors.\n",
    "                weighted_average = get_weighted_average(x, neighbors, bandwidth)\n",
    "                # Replace the point with the weighted average of its neighbors\n",
    "                X_tmp.append(weighted_average)\n",
    "        # Repeat 1. until the points and their averages are the same,\n",
    "        # or until certain stop condition is achieved\n",
    "        if lists_of_points_equal(X, X_tmp):\n",
    "            break\n",
    "        else:\n",
    "            X = unique(X_tmp)\n",
    "    return unique(X_tmp)"
   ]
  },
  {
   "cell_type": "markdown",
   "metadata": {},
   "source": [
    "### 3. Use the make_blob function from previous assignment for testing. "
   ]
  },
  {
   "cell_type": "code",
   "execution_count": 3,
   "metadata": {},
   "outputs": [
    {
     "data": {
      "image/png": "[encoded data removed]",
      "text/plain": [
       "<Figure size 432x288 with 1 Axes>"
      ]
     },
     "metadata": {
      "needs_background": "light"
     },
     "output_type": "display_data"
    }
   ],
   "source": [
    "from sklearn.datasets.samples_generator import make_blobs\n",
    "center = rnd.randint(2, 10)\n",
    "cluster_std = 0.01 + (rnd.random() * (0.99 - 0.01))\n",
    "X, y = make_blobs(n_samples=100, centers=center,\n",
    "                  random_state=0, cluster_std=cluster_std)\n",
    "\n",
    "plt.scatter(X[:, 0], X[:, 1], s=50);"
   ]
  },
  {
   "cell_type": "code",
   "execution_count": 4,
   "metadata": {},
   "outputs": [
    {
     "name": "stdout",
     "output_type": "stream",
     "text": [
      "[[-1.37788045  7.89509527]\n",
      " [-1.46576146  3.27979759]\n",
      " [ 0.96992038  4.3075048 ]\n",
      " [ 9.27974003 -2.44701026]\n",
      " [ 1.9508701   0.8187166 ]]\n"
     ]
    },
    {
     "data": {
      "image/png": "[encoded data removed]",
      "text/plain": [
       "<Figure size 432x288 with 1 Axes>"
      ]
     },
     "metadata": {
      "needs_background": "light"
     },
     "output_type": "display_data"
    }
   ],
   "source": [
    "centroids = np.array(msc(X, 1.0))\n",
    "print(centroids)\n",
    "plt.scatter(centroids[:, 0], centroids[:, 1], s=50);"
   ]
  },
  {
   "cell_type": "code",
   "execution_count": null,
   "metadata": {},
   "outputs": [],
   "source": []
  }
 ],
 "metadata": {
  "kernelspec": {
   "display_name": "Python 3",
   "language": "python",
   "name": "python3"
  },
  "language_info": {
   "codemirror_mode": {
    "name": "ipython",
    "version": 3
   },
   "file_extension": ".py",
   "mimetype": "text/x-python",
   "name": "python",
   "nbconvert_exporter": "python",
   "pygments_lexer": "ipython3",
   "version": "3.7.4"
  }
 },
 "nbformat": 4,
 "nbformat_minor": 2
}
