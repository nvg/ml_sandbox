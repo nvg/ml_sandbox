{
 "cells": [
  {
   "cell_type": "code",
   "execution_count": 1,
   "metadata": {},
   "outputs": [],
   "source": [
    "# 1.\tImport the dataset and run a complete analysis of it.\n",
    "#    a.\tYour target is column name “gnd”"
   ]
  },
  {
   "cell_type": "code",
   "execution_count": 2,
   "metadata": {},
   "outputs": [
    {
     "data": {
      "text/html": [
       "<div>\n",
       "<style scoped>\n",
       "    .dataframe tbody tr th:only-of-type {\n",
       "        vertical-align: middle;\n",
       "    }\n",
       "\n",
       "    .dataframe tbody tr th {\n",
       "        vertical-align: top;\n",
       "    }\n",
       "\n",
       "    .dataframe thead th {\n",
       "        text-align: right;\n",
       "    }\n",
       "</style>\n",
       "<table border=\"1\" class=\"dataframe\">\n",
       "  <thead>\n",
       "    <tr style=\"text-align: right;\">\n",
       "      <th></th>\n",
       "      <th>fea.1</th>\n",
       "      <th>fea.2</th>\n",
       "      <th>fea.3</th>\n",
       "      <th>fea.4</th>\n",
       "      <th>fea.5</th>\n",
       "      <th>fea.6</th>\n",
       "      <th>fea.7</th>\n",
       "      <th>fea.8</th>\n",
       "      <th>fea.9</th>\n",
       "      <th>fea.10</th>\n",
       "      <th>...</th>\n",
       "      <th>fea.248</th>\n",
       "      <th>fea.249</th>\n",
       "      <th>fea.250</th>\n",
       "      <th>fea.251</th>\n",
       "      <th>fea.252</th>\n",
       "      <th>fea.253</th>\n",
       "      <th>fea.254</th>\n",
       "      <th>fea.255</th>\n",
       "      <th>fea.256</th>\n",
       "      <th>gnd</th>\n",
       "    </tr>\n",
       "  </thead>\n",
       "  <tbody>\n",
       "    <tr>\n",
       "      <td>1</td>\n",
       "      <td>-1.000000</td>\n",
       "      <td>-0.999977</td>\n",
       "      <td>-0.998420</td>\n",
       "      <td>-0.969256</td>\n",
       "      <td>-0.774192</td>\n",
       "      <td>-0.275283</td>\n",
       "      <td>0.034194</td>\n",
       "      <td>-0.399883</td>\n",
       "      <td>-0.815319</td>\n",
       "      <td>-0.955680</td>\n",
       "      <td>...</td>\n",
       "      <td>0.427150</td>\n",
       "      <td>0.404087</td>\n",
       "      <td>0.213519</td>\n",
       "      <td>-0.104366</td>\n",
       "      <td>-0.444652</td>\n",
       "      <td>-0.740973</td>\n",
       "      <td>-0.931514</td>\n",
       "      <td>-0.992336</td>\n",
       "      <td>-0.999660</td>\n",
       "      <td>0</td>\n",
       "    </tr>\n",
       "    <tr>\n",
       "      <td>2</td>\n",
       "      <td>-1.000000</td>\n",
       "      <td>-0.999998</td>\n",
       "      <td>-0.999760</td>\n",
       "      <td>-0.992020</td>\n",
       "      <td>-0.901515</td>\n",
       "      <td>-0.545999</td>\n",
       "      <td>0.030940</td>\n",
       "      <td>0.411866</td>\n",
       "      <td>0.390567</td>\n",
       "      <td>0.008434</td>\n",
       "      <td>...</td>\n",
       "      <td>0.358344</td>\n",
       "      <td>0.374951</td>\n",
       "      <td>-0.040142</td>\n",
       "      <td>-0.586220</td>\n",
       "      <td>-0.911391</td>\n",
       "      <td>-0.993541</td>\n",
       "      <td>-0.999839</td>\n",
       "      <td>-0.999998</td>\n",
       "      <td>-1.000000</td>\n",
       "      <td>0</td>\n",
       "    </tr>\n",
       "    <tr>\n",
       "      <td>3</td>\n",
       "      <td>-0.999999</td>\n",
       "      <td>-0.999970</td>\n",
       "      <td>-0.999545</td>\n",
       "      <td>-0.995613</td>\n",
       "      <td>-0.961828</td>\n",
       "      <td>-0.717215</td>\n",
       "      <td>-0.144694</td>\n",
       "      <td>0.092191</td>\n",
       "      <td>-0.260683</td>\n",
       "      <td>-0.687438</td>\n",
       "      <td>...</td>\n",
       "      <td>0.414912</td>\n",
       "      <td>0.334299</td>\n",
       "      <td>-0.060454</td>\n",
       "      <td>-0.541605</td>\n",
       "      <td>-0.867137</td>\n",
       "      <td>-0.981191</td>\n",
       "      <td>-0.999056</td>\n",
       "      <td>-0.999990</td>\n",
       "      <td>-1.000000</td>\n",
       "      <td>0</td>\n",
       "    </tr>\n",
       "    <tr>\n",
       "      <td>4</td>\n",
       "      <td>-1.000000</td>\n",
       "      <td>-1.000000</td>\n",
       "      <td>-0.999878</td>\n",
       "      <td>-0.989419</td>\n",
       "      <td>-0.832602</td>\n",
       "      <td>-0.368054</td>\n",
       "      <td>-0.080497</td>\n",
       "      <td>-0.246663</td>\n",
       "      <td>-0.263954</td>\n",
       "      <td>-0.317376</td>\n",
       "      <td>...</td>\n",
       "      <td>0.480128</td>\n",
       "      <td>0.487418</td>\n",
       "      <td>0.356270</td>\n",
       "      <td>-0.015310</td>\n",
       "      <td>-0.530088</td>\n",
       "      <td>-0.893466</td>\n",
       "      <td>-0.993412</td>\n",
       "      <td>-0.999916</td>\n",
       "      <td>-1.000000</td>\n",
       "      <td>0</td>\n",
       "    </tr>\n",
       "    <tr>\n",
       "      <td>5</td>\n",
       "      <td>-1.000000</td>\n",
       "      <td>-1.000000</td>\n",
       "      <td>-0.999999</td>\n",
       "      <td>-0.999821</td>\n",
       "      <td>-0.988678</td>\n",
       "      <td>-0.829627</td>\n",
       "      <td>-0.330878</td>\n",
       "      <td>0.013998</td>\n",
       "      <td>-0.345315</td>\n",
       "      <td>-0.803120</td>\n",
       "      <td>...</td>\n",
       "      <td>0.080920</td>\n",
       "      <td>0.086649</td>\n",
       "      <td>-0.458626</td>\n",
       "      <td>-0.885111</td>\n",
       "      <td>-0.993165</td>\n",
       "      <td>-0.999919</td>\n",
       "      <td>-1.000000</td>\n",
       "      <td>-1.000000</td>\n",
       "      <td>-1.000000</td>\n",
       "      <td>0</td>\n",
       "    </tr>\n",
       "    <tr>\n",
       "      <td>...</td>\n",
       "      <td>...</td>\n",
       "      <td>...</td>\n",
       "      <td>...</td>\n",
       "      <td>...</td>\n",
       "      <td>...</td>\n",
       "      <td>...</td>\n",
       "      <td>...</td>\n",
       "      <td>...</td>\n",
       "      <td>...</td>\n",
       "      <td>...</td>\n",
       "      <td>...</td>\n",
       "      <td>...</td>\n",
       "      <td>...</td>\n",
       "      <td>...</td>\n",
       "      <td>...</td>\n",
       "      <td>...</td>\n",
       "      <td>...</td>\n",
       "      <td>...</td>\n",
       "      <td>...</td>\n",
       "      <td>...</td>\n",
       "      <td>...</td>\n",
       "    </tr>\n",
       "    <tr>\n",
       "      <td>96</td>\n",
       "      <td>-0.999983</td>\n",
       "      <td>-0.999677</td>\n",
       "      <td>-0.997581</td>\n",
       "      <td>-0.985618</td>\n",
       "      <td>-0.943078</td>\n",
       "      <td>-0.865156</td>\n",
       "      <td>-0.585582</td>\n",
       "      <td>0.015372</td>\n",
       "      <td>0.052664</td>\n",
       "      <td>-0.374417</td>\n",
       "      <td>...</td>\n",
       "      <td>0.418921</td>\n",
       "      <td>0.413375</td>\n",
       "      <td>0.140868</td>\n",
       "      <td>-0.169044</td>\n",
       "      <td>-0.546019</td>\n",
       "      <td>-0.858477</td>\n",
       "      <td>-0.979059</td>\n",
       "      <td>-0.998765</td>\n",
       "      <td>-0.999975</td>\n",
       "      <td>0</td>\n",
       "    </tr>\n",
       "    <tr>\n",
       "      <td>97</td>\n",
       "      <td>-1.000000</td>\n",
       "      <td>-1.000000</td>\n",
       "      <td>-0.999864</td>\n",
       "      <td>-0.988330</td>\n",
       "      <td>-0.817178</td>\n",
       "      <td>-0.328147</td>\n",
       "      <td>-0.051155</td>\n",
       "      <td>-0.314685</td>\n",
       "      <td>-0.674496</td>\n",
       "      <td>-0.900748</td>\n",
       "      <td>...</td>\n",
       "      <td>0.459953</td>\n",
       "      <td>0.317293</td>\n",
       "      <td>0.115960</td>\n",
       "      <td>-0.202135</td>\n",
       "      <td>-0.563494</td>\n",
       "      <td>-0.855621</td>\n",
       "      <td>-0.975504</td>\n",
       "      <td>-0.997813</td>\n",
       "      <td>-0.999915</td>\n",
       "      <td>0</td>\n",
       "    </tr>\n",
       "    <tr>\n",
       "      <td>98</td>\n",
       "      <td>-1.000000</td>\n",
       "      <td>-1.000000</td>\n",
       "      <td>-1.000000</td>\n",
       "      <td>-0.999928</td>\n",
       "      <td>-0.993694</td>\n",
       "      <td>-0.891117</td>\n",
       "      <td>-0.458492</td>\n",
       "      <td>0.105748</td>\n",
       "      <td>-0.032210</td>\n",
       "      <td>-0.668645</td>\n",
       "      <td>...</td>\n",
       "      <td>0.403512</td>\n",
       "      <td>0.428734</td>\n",
       "      <td>0.111674</td>\n",
       "      <td>-0.431850</td>\n",
       "      <td>-0.847565</td>\n",
       "      <td>-0.982839</td>\n",
       "      <td>-0.999268</td>\n",
       "      <td>-0.999992</td>\n",
       "      <td>-1.000000</td>\n",
       "      <td>0</td>\n",
       "    </tr>\n",
       "    <tr>\n",
       "      <td>99</td>\n",
       "      <td>-1.000000</td>\n",
       "      <td>-1.000000</td>\n",
       "      <td>-0.999999</td>\n",
       "      <td>-0.999917</td>\n",
       "      <td>-0.995284</td>\n",
       "      <td>-0.921218</td>\n",
       "      <td>-0.545783</td>\n",
       "      <td>0.086557</td>\n",
       "      <td>0.099046</td>\n",
       "      <td>-0.565427</td>\n",
       "      <td>...</td>\n",
       "      <td>0.355637</td>\n",
       "      <td>0.269142</td>\n",
       "      <td>-0.100894</td>\n",
       "      <td>-0.500051</td>\n",
       "      <td>-0.810840</td>\n",
       "      <td>-0.963215</td>\n",
       "      <td>-0.997648</td>\n",
       "      <td>-0.999957</td>\n",
       "      <td>-1.000000</td>\n",
       "      <td>0</td>\n",
       "    </tr>\n",
       "    <tr>\n",
       "      <td>100</td>\n",
       "      <td>-1.000000</td>\n",
       "      <td>-0.999989</td>\n",
       "      <td>-0.998898</td>\n",
       "      <td>-0.969383</td>\n",
       "      <td>-0.696368</td>\n",
       "      <td>-0.059581</td>\n",
       "      <td>0.250138</td>\n",
       "      <td>0.133856</td>\n",
       "      <td>-0.209044</td>\n",
       "      <td>-0.621917</td>\n",
       "      <td>...</td>\n",
       "      <td>0.335092</td>\n",
       "      <td>0.074610</td>\n",
       "      <td>-0.449336</td>\n",
       "      <td>-0.855085</td>\n",
       "      <td>-0.983479</td>\n",
       "      <td>-0.998646</td>\n",
       "      <td>-0.999935</td>\n",
       "      <td>-0.999999</td>\n",
       "      <td>-1.000000</td>\n",
       "      <td>0</td>\n",
       "    </tr>\n",
       "  </tbody>\n",
       "</table>\n",
       "<p>100 rows × 257 columns</p>\n",
       "</div>"
      ],
      "text/plain": [
       "        fea.1     fea.2     fea.3     fea.4     fea.5     fea.6     fea.7  \\\n",
       "1   -1.000000 -0.999977 -0.998420 -0.969256 -0.774192 -0.275283  0.034194   \n",
       "2   -1.000000 -0.999998 -0.999760 -0.992020 -0.901515 -0.545999  0.030940   \n",
       "3   -0.999999 -0.999970 -0.999545 -0.995613 -0.961828 -0.717215 -0.144694   \n",
       "4   -1.000000 -1.000000 -0.999878 -0.989419 -0.832602 -0.368054 -0.080497   \n",
       "5   -1.000000 -1.000000 -0.999999 -0.999821 -0.988678 -0.829627 -0.330878   \n",
       "..        ...       ...       ...       ...       ...       ...       ...   \n",
       "96  -0.999983 -0.999677 -0.997581 -0.985618 -0.943078 -0.865156 -0.585582   \n",
       "97  -1.000000 -1.000000 -0.999864 -0.988330 -0.817178 -0.328147 -0.051155   \n",
       "98  -1.000000 -1.000000 -1.000000 -0.999928 -0.993694 -0.891117 -0.458492   \n",
       "99  -1.000000 -1.000000 -0.999999 -0.999917 -0.995284 -0.921218 -0.545783   \n",
       "100 -1.000000 -0.999989 -0.998898 -0.969383 -0.696368 -0.059581  0.250138   \n",
       "\n",
       "        fea.8     fea.9    fea.10  ...   fea.248   fea.249   fea.250  \\\n",
       "1   -0.399883 -0.815319 -0.955680  ...  0.427150  0.404087  0.213519   \n",
       "2    0.411866  0.390567  0.008434  ...  0.358344  0.374951 -0.040142   \n",
       "3    0.092191 -0.260683 -0.687438  ...  0.414912  0.334299 -0.060454   \n",
       "4   -0.246663 -0.263954 -0.317376  ...  0.480128  0.487418  0.356270   \n",
       "5    0.013998 -0.345315 -0.803120  ...  0.080920  0.086649 -0.458626   \n",
       "..        ...       ...       ...  ...       ...       ...       ...   \n",
       "96   0.015372  0.052664 -0.374417  ...  0.418921  0.413375  0.140868   \n",
       "97  -0.314685 -0.674496 -0.900748  ...  0.459953  0.317293  0.115960   \n",
       "98   0.105748 -0.032210 -0.668645  ...  0.403512  0.428734  0.111674   \n",
       "99   0.086557  0.099046 -0.565427  ...  0.355637  0.269142 -0.100894   \n",
       "100  0.133856 -0.209044 -0.621917  ...  0.335092  0.074610 -0.449336   \n",
       "\n",
       "      fea.251   fea.252   fea.253   fea.254   fea.255   fea.256  gnd  \n",
       "1   -0.104366 -0.444652 -0.740973 -0.931514 -0.992336 -0.999660    0  \n",
       "2   -0.586220 -0.911391 -0.993541 -0.999839 -0.999998 -1.000000    0  \n",
       "3   -0.541605 -0.867137 -0.981191 -0.999056 -0.999990 -1.000000    0  \n",
       "4   -0.015310 -0.530088 -0.893466 -0.993412 -0.999916 -1.000000    0  \n",
       "5   -0.885111 -0.993165 -0.999919 -1.000000 -1.000000 -1.000000    0  \n",
       "..        ...       ...       ...       ...       ...       ...  ...  \n",
       "96  -0.169044 -0.546019 -0.858477 -0.979059 -0.998765 -0.999975    0  \n",
       "97  -0.202135 -0.563494 -0.855621 -0.975504 -0.997813 -0.999915    0  \n",
       "98  -0.431850 -0.847565 -0.982839 -0.999268 -0.999992 -1.000000    0  \n",
       "99  -0.500051 -0.810840 -0.963215 -0.997648 -0.999957 -1.000000    0  \n",
       "100 -0.855085 -0.983479 -0.998646 -0.999935 -0.999999 -1.000000    0  \n",
       "\n",
       "[100 rows x 257 columns]"
      ]
     },
     "execution_count": 2,
     "metadata": {},
     "output_type": "execute_result"
    }
   ],
   "source": [
    "import numpy as np\n",
    "import pandas as pd\n",
    "from pandas import Series, DataFrame\n",
    "import matplotlib.pyplot as plt\n",
    "import seaborn as sns\n",
    "%matplotlib inline\n",
    "\n",
    "df = pd.read_csv('Data.csv', index_col=0)\n",
    "df.head(100)"
   ]
  },
  {
   "cell_type": "code",
   "execution_count": 3,
   "metadata": {},
   "outputs": [
    {
     "data": {
      "text/html": [
       "<div>\n",
       "<style scoped>\n",
       "    .dataframe tbody tr th:only-of-type {\n",
       "        vertical-align: middle;\n",
       "    }\n",
       "\n",
       "    .dataframe tbody tr th {\n",
       "        vertical-align: top;\n",
       "    }\n",
       "\n",
       "    .dataframe thead th {\n",
       "        text-align: right;\n",
       "    }\n",
       "</style>\n",
       "<table border=\"1\" class=\"dataframe\">\n",
       "  <thead>\n",
       "    <tr style=\"text-align: right;\">\n",
       "      <th></th>\n",
       "      <th>fea.1</th>\n",
       "      <th>fea.2</th>\n",
       "      <th>fea.3</th>\n",
       "      <th>fea.4</th>\n",
       "      <th>fea.5</th>\n",
       "      <th>fea.6</th>\n",
       "      <th>fea.7</th>\n",
       "      <th>fea.8</th>\n",
       "      <th>fea.9</th>\n",
       "      <th>fea.10</th>\n",
       "      <th>...</th>\n",
       "      <th>fea.248</th>\n",
       "      <th>fea.249</th>\n",
       "      <th>fea.250</th>\n",
       "      <th>fea.251</th>\n",
       "      <th>fea.252</th>\n",
       "      <th>fea.253</th>\n",
       "      <th>fea.254</th>\n",
       "      <th>fea.255</th>\n",
       "      <th>fea.256</th>\n",
       "      <th>gnd</th>\n",
       "    </tr>\n",
       "  </thead>\n",
       "  <tbody>\n",
       "    <tr>\n",
       "      <td>count</td>\n",
       "      <td>800.000000</td>\n",
       "      <td>800.000000</td>\n",
       "      <td>800.000000</td>\n",
       "      <td>800.000000</td>\n",
       "      <td>800.000000</td>\n",
       "      <td>800.000000</td>\n",
       "      <td>800.000000</td>\n",
       "      <td>800.000000</td>\n",
       "      <td>800.000000</td>\n",
       "      <td>800.000000</td>\n",
       "      <td>...</td>\n",
       "      <td>800.000000</td>\n",
       "      <td>800.000000</td>\n",
       "      <td>800.000000</td>\n",
       "      <td>800.000000</td>\n",
       "      <td>800.000000</td>\n",
       "      <td>800.000000</td>\n",
       "      <td>800.000000</td>\n",
       "      <td>800.000000</td>\n",
       "      <td>800.000000</td>\n",
       "      <td>800.000000</td>\n",
       "    </tr>\n",
       "    <tr>\n",
       "      <td>mean</td>\n",
       "      <td>-0.991409</td>\n",
       "      <td>-0.968831</td>\n",
       "      <td>-0.917406</td>\n",
       "      <td>-0.820467</td>\n",
       "      <td>-0.676586</td>\n",
       "      <td>-0.495195</td>\n",
       "      <td>-0.266342</td>\n",
       "      <td>-0.080204</td>\n",
       "      <td>-0.153667</td>\n",
       "      <td>-0.420881</td>\n",
       "      <td>...</td>\n",
       "      <td>-0.108339</td>\n",
       "      <td>-0.139846</td>\n",
       "      <td>-0.371067</td>\n",
       "      <td>-0.597333</td>\n",
       "      <td>-0.743848</td>\n",
       "      <td>-0.838149</td>\n",
       "      <td>-0.901319</td>\n",
       "      <td>-0.945590</td>\n",
       "      <td>-0.977662</td>\n",
       "      <td>1.500000</td>\n",
       "    </tr>\n",
       "    <tr>\n",
       "      <td>std</td>\n",
       "      <td>0.047754</td>\n",
       "      <td>0.118036</td>\n",
       "      <td>0.207387</td>\n",
       "      <td>0.309470</td>\n",
       "      <td>0.411327</td>\n",
       "      <td>0.467895</td>\n",
       "      <td>0.448563</td>\n",
       "      <td>0.419555</td>\n",
       "      <td>0.429422</td>\n",
       "      <td>0.444938</td>\n",
       "      <td>...</td>\n",
       "      <td>0.467927</td>\n",
       "      <td>0.478690</td>\n",
       "      <td>0.457282</td>\n",
       "      <td>0.420004</td>\n",
       "      <td>0.352270</td>\n",
       "      <td>0.289812</td>\n",
       "      <td>0.231492</td>\n",
       "      <td>0.166216</td>\n",
       "      <td>0.088638</td>\n",
       "      <td>1.118733</td>\n",
       "    </tr>\n",
       "    <tr>\n",
       "      <td>min</td>\n",
       "      <td>-1.000000</td>\n",
       "      <td>-1.000000</td>\n",
       "      <td>-1.000000</td>\n",
       "      <td>-1.000000</td>\n",
       "      <td>-1.000000</td>\n",
       "      <td>-1.000000</td>\n",
       "      <td>-1.000000</td>\n",
       "      <td>-1.000000</td>\n",
       "      <td>-1.000000</td>\n",
       "      <td>-1.000000</td>\n",
       "      <td>...</td>\n",
       "      <td>-1.000000</td>\n",
       "      <td>-1.000000</td>\n",
       "      <td>-1.000000</td>\n",
       "      <td>-1.000000</td>\n",
       "      <td>-1.000000</td>\n",
       "      <td>-1.000000</td>\n",
       "      <td>-1.000000</td>\n",
       "      <td>-1.000000</td>\n",
       "      <td>-1.000000</td>\n",
       "      <td>0.000000</td>\n",
       "    </tr>\n",
       "    <tr>\n",
       "      <td>25%</td>\n",
       "      <td>-1.000000</td>\n",
       "      <td>-1.000000</td>\n",
       "      <td>-1.000000</td>\n",
       "      <td>-0.999894</td>\n",
       "      <td>-0.993603</td>\n",
       "      <td>-0.931390</td>\n",
       "      <td>-0.650476</td>\n",
       "      <td>-0.281855</td>\n",
       "      <td>-0.429037</td>\n",
       "      <td>-0.812446</td>\n",
       "      <td>...</td>\n",
       "      <td>-0.371477</td>\n",
       "      <td>-0.502065</td>\n",
       "      <td>-0.774185</td>\n",
       "      <td>-0.961959</td>\n",
       "      <td>-0.995128</td>\n",
       "      <td>-0.999893</td>\n",
       "      <td>-1.000000</td>\n",
       "      <td>-1.000000</td>\n",
       "      <td>-1.000000</td>\n",
       "      <td>0.750000</td>\n",
       "    </tr>\n",
       "    <tr>\n",
       "      <td>50%</td>\n",
       "      <td>-1.000000</td>\n",
       "      <td>-0.999974</td>\n",
       "      <td>-0.998744</td>\n",
       "      <td>-0.984838</td>\n",
       "      <td>-0.885552</td>\n",
       "      <td>-0.636180</td>\n",
       "      <td>-0.266676</td>\n",
       "      <td>0.015630</td>\n",
       "      <td>-0.080399</td>\n",
       "      <td>-0.536104</td>\n",
       "      <td>...</td>\n",
       "      <td>0.007508</td>\n",
       "      <td>-0.005554</td>\n",
       "      <td>-0.409066</td>\n",
       "      <td>-0.754701</td>\n",
       "      <td>-0.924648</td>\n",
       "      <td>-0.981403</td>\n",
       "      <td>-0.997410</td>\n",
       "      <td>-0.999896</td>\n",
       "      <td>-0.999998</td>\n",
       "      <td>1.500000</td>\n",
       "    </tr>\n",
       "    <tr>\n",
       "      <td>75%</td>\n",
       "      <td>-0.999922</td>\n",
       "      <td>-0.996333</td>\n",
       "      <td>-0.953918</td>\n",
       "      <td>-0.762624</td>\n",
       "      <td>-0.450571</td>\n",
       "      <td>-0.080920</td>\n",
       "      <td>0.125815</td>\n",
       "      <td>0.232491</td>\n",
       "      <td>0.184588</td>\n",
       "      <td>-0.046353</td>\n",
       "      <td>...</td>\n",
       "      <td>0.261937</td>\n",
       "      <td>0.231007</td>\n",
       "      <td>0.020544</td>\n",
       "      <td>-0.319118</td>\n",
       "      <td>-0.606411</td>\n",
       "      <td>-0.819666</td>\n",
       "      <td>-0.943618</td>\n",
       "      <td>-0.991112</td>\n",
       "      <td>-0.999377</td>\n",
       "      <td>2.250000</td>\n",
       "    </tr>\n",
       "    <tr>\n",
       "      <td>max</td>\n",
       "      <td>-0.342725</td>\n",
       "      <td>0.112006</td>\n",
       "      <td>0.367011</td>\n",
       "      <td>0.468162</td>\n",
       "      <td>0.523140</td>\n",
       "      <td>0.527240</td>\n",
       "      <td>0.530853</td>\n",
       "      <td>0.531079</td>\n",
       "      <td>0.531191</td>\n",
       "      <td>0.529644</td>\n",
       "      <td>...</td>\n",
       "      <td>0.526726</td>\n",
       "      <td>0.529774</td>\n",
       "      <td>0.531124</td>\n",
       "      <td>0.526003</td>\n",
       "      <td>0.489672</td>\n",
       "      <td>0.505559</td>\n",
       "      <td>0.469148</td>\n",
       "      <td>0.168234</td>\n",
       "      <td>-0.230614</td>\n",
       "      <td>3.000000</td>\n",
       "    </tr>\n",
       "  </tbody>\n",
       "</table>\n",
       "<p>8 rows × 257 columns</p>\n",
       "</div>"
      ],
      "text/plain": [
       "            fea.1       fea.2       fea.3       fea.4       fea.5       fea.6  \\\n",
       "count  800.000000  800.000000  800.000000  800.000000  800.000000  800.000000   \n",
       "mean    -0.991409   -0.968831   -0.917406   -0.820467   -0.676586   -0.495195   \n",
       "std      0.047754    0.118036    0.207387    0.309470    0.411327    0.467895   \n",
       "min     -1.000000   -1.000000   -1.000000   -1.000000   -1.000000   -1.000000   \n",
       "25%     -1.000000   -1.000000   -1.000000   -0.999894   -0.993603   -0.931390   \n",
       "50%     -1.000000   -0.999974   -0.998744   -0.984838   -0.885552   -0.636180   \n",
       "75%     -0.999922   -0.996333   -0.953918   -0.762624   -0.450571   -0.080920   \n",
       "max     -0.342725    0.112006    0.367011    0.468162    0.523140    0.527240   \n",
       "\n",
       "            fea.7       fea.8       fea.9      fea.10  ...     fea.248  \\\n",
       "count  800.000000  800.000000  800.000000  800.000000  ...  800.000000   \n",
       "mean    -0.266342   -0.080204   -0.153667   -0.420881  ...   -0.108339   \n",
       "std      0.448563    0.419555    0.429422    0.444938  ...    0.467927   \n",
       "min     -1.000000   -1.000000   -1.000000   -1.000000  ...   -1.000000   \n",
       "25%     -0.650476   -0.281855   -0.429037   -0.812446  ...   -0.371477   \n",
       "50%     -0.266676    0.015630   -0.080399   -0.536104  ...    0.007508   \n",
       "75%      0.125815    0.232491    0.184588   -0.046353  ...    0.261937   \n",
       "max      0.530853    0.531079    0.531191    0.529644  ...    0.526726   \n",
       "\n",
       "          fea.249     fea.250     fea.251     fea.252     fea.253     fea.254  \\\n",
       "count  800.000000  800.000000  800.000000  800.000000  800.000000  800.000000   \n",
       "mean    -0.139846   -0.371067   -0.597333   -0.743848   -0.838149   -0.901319   \n",
       "std      0.478690    0.457282    0.420004    0.352270    0.289812    0.231492   \n",
       "min     -1.000000   -1.000000   -1.000000   -1.000000   -1.000000   -1.000000   \n",
       "25%     -0.502065   -0.774185   -0.961959   -0.995128   -0.999893   -1.000000   \n",
       "50%     -0.005554   -0.409066   -0.754701   -0.924648   -0.981403   -0.997410   \n",
       "75%      0.231007    0.020544   -0.319118   -0.606411   -0.819666   -0.943618   \n",
       "max      0.529774    0.531124    0.526003    0.489672    0.505559    0.469148   \n",
       "\n",
       "          fea.255     fea.256         gnd  \n",
       "count  800.000000  800.000000  800.000000  \n",
       "mean    -0.945590   -0.977662    1.500000  \n",
       "std      0.166216    0.088638    1.118733  \n",
       "min     -1.000000   -1.000000    0.000000  \n",
       "25%     -1.000000   -1.000000    0.750000  \n",
       "50%     -0.999896   -0.999998    1.500000  \n",
       "75%     -0.991112   -0.999377    2.250000  \n",
       "max      0.168234   -0.230614    3.000000  \n",
       "\n",
       "[8 rows x 257 columns]"
      ]
     },
     "execution_count": 3,
     "metadata": {},
     "output_type": "execute_result"
    }
   ],
   "source": [
    "df.describe()"
   ]
  },
  {
   "cell_type": "code",
   "execution_count": 4,
   "metadata": {},
   "outputs": [],
   "source": [
    "y = df['gnd']\n",
    "X = df.drop('gnd', axis = 1)"
   ]
  },
  {
   "cell_type": "code",
   "execution_count": 5,
   "metadata": {},
   "outputs": [],
   "source": [
    "# 2.\tSplit the data into training and testing"
   ]
  },
  {
   "cell_type": "code",
   "execution_count": 6,
   "metadata": {},
   "outputs": [],
   "source": [
    "from sklearn.model_selection import train_test_split\n",
    "X_train, X_test, y_train, y_test = train_test_split(X, y, test_size = 1/3, random_state = 0)"
   ]
  },
  {
   "cell_type": "code",
   "execution_count": 7,
   "metadata": {},
   "outputs": [],
   "source": [
    "# 3.\tApply any feature selection algorithm and choose the best features."
   ]
  },
  {
   "cell_type": "code",
   "execution_count": 8,
   "metadata": {},
   "outputs": [
    {
     "name": "stdout",
     "output_type": "stream",
     "text": [
      "(800, 10)\n"
     ]
    }
   ],
   "source": [
    "from sklearn.datasets import make_classification\n",
    "from sklearn.feature_selection import SelectKBest\n",
    "from sklearn.feature_selection import f_classif\n",
    "\n",
    "# define feature selection\n",
    "fs = SelectKBest(score_func=f_classif, k=10)\n",
    "# apply feature selection\n",
    "X_sel = fs.fit_transform(X, y)\n",
    "print(X_sel.shape)"
   ]
  },
  {
   "cell_type": "code",
   "execution_count": 9,
   "metadata": {},
   "outputs": [],
   "source": [
    "# 4.\tUse any classifier and report the accuracy "
   ]
  },
  {
   "cell_type": "code",
   "execution_count": 10,
   "metadata": {},
   "outputs": [
    {
     "data": {
      "text/plain": [
       "SVC(C=1.0, cache_size=200, class_weight=None, coef0=0.0,\n",
       "    decision_function_shape='ovr', degree=3, gamma='auto', kernel='rbf',\n",
       "    max_iter=-1, probability=False, random_state=None, shrinking=True,\n",
       "    tol=0.001, verbose=False)"
      ]
     },
     "execution_count": 10,
     "metadata": {},
     "output_type": "execute_result"
    }
   ],
   "source": [
    "from sklearn.svm import SVC\n",
    "model = SVC(gamma='auto')\n",
    "\n",
    "X_train, X_test, Y_train, Y_test = train_test_split(X_sel, y)\n",
    "model.fit(X_train,Y_train)"
   ]
  },
  {
   "cell_type": "code",
   "execution_count": 11,
   "metadata": {},
   "outputs": [
    {
     "name": "stdout",
     "output_type": "stream",
     "text": [
      "0.91\n"
     ]
    }
   ],
   "source": [
    "from sklearn import metrics\n",
    "\n",
    "predicted = model.predict(X_test)\n",
    "expected = Y_test\n",
    "\n",
    "print(metrics.accuracy_score(expected,predicted))"
   ]
  },
  {
   "cell_type": "code",
   "execution_count": 12,
   "metadata": {},
   "outputs": [],
   "source": [
    "# 5.\tApply PCA dimensionality reduction technique to the data. "
   ]
  },
  {
   "cell_type": "code",
   "execution_count": 13,
   "metadata": {},
   "outputs": [],
   "source": [
    "from sklearn.decomposition import PCA\n",
    "pca = PCA(n_components = 2)\n",
    "X_pca = pca.fit_transform(X)\n",
    "explained_variance = pca.explained_variance_ratio_ "
   ]
  },
  {
   "cell_type": "code",
   "execution_count": 14,
   "metadata": {},
   "outputs": [
    {
     "name": "stdout",
     "output_type": "stream",
     "text": [
      "[0.33649824 0.11535367]\n"
     ]
    }
   ],
   "source": [
    "print(explained_variance)"
   ]
  },
  {
   "cell_type": "code",
   "execution_count": 15,
   "metadata": {},
   "outputs": [],
   "source": [
    "# 6.\tPlot a 2-dimensional representation of the data based on the first and second principal components, \n",
    "# explain the results versus the known classes (display each class with a different color). "
   ]
  },
  {
   "cell_type": "code",
   "execution_count": 16,
   "metadata": {},
   "outputs": [
    {
     "data": {
      "image/png": "[encoded data removed]",
      "text/plain": [
       "<Figure size 432x360 with 1 Axes>"
      ]
     },
     "metadata": {
      "needs_background": "light"
     },
     "output_type": "display_data"
    }
   ],
   "source": [
    "target_ids = range(4)\n",
    "plt.figure(figsize=(6, 5))\n",
    "for i, c, label in zip(target_ids, 'rgbcmykw', [0, 1, 2, 3]):\n",
    "    plt.scatter(X_pca[y == i, 0], X_pca[y == i, 1], c=c, label=label)\n",
    "plt.legend()\n",
    "plt.show()"
   ]
  },
  {
   "cell_type": "code",
   "execution_count": 17,
   "metadata": {},
   "outputs": [],
   "source": [
    "# 7.\tRepeat step 6 for the 20th and 21st components and comment on the result"
   ]
  },
  {
   "cell_type": "code",
   "execution_count": 18,
   "metadata": {},
   "outputs": [],
   "source": [
    "pca22 = PCA(n_components = 22)\n",
    "X_pca22 = pca22.fit_transform(X)"
   ]
  },
  {
   "cell_type": "code",
   "execution_count": 19,
   "metadata": {},
   "outputs": [
    {
     "data": {
      "image/png": "[encoded data removed]",
      "text/plain": [
       "<Figure size 432x360 with 1 Axes>"
      ]
     },
     "metadata": {
      "needs_background": "light"
     },
     "output_type": "display_data"
    }
   ],
   "source": [
    "target_ids = range(4)\n",
    "plt.figure(figsize=(6, 5))\n",
    "for i, c, label in zip(target_ids, 'rgbcmykw', [0, 1, 2, 3]):\n",
    "    plt.scatter(X_pca22[y == i, 20], X_pca22[y == i, 21], c=c, label=label)\n",
    "plt.legend()\n",
    "plt.show()"
   ]
  },
  {
   "cell_type": "code",
   "execution_count": 20,
   "metadata": {},
   "outputs": [],
   "source": [
    "# 8.\tPlot a 2-dimensional representation of the data based using t-SNE, \n",
    "# compare the output with PCA’s output in 6 and 7,\n",
    "# and explain the results versus the known classes."
   ]
  },
  {
   "cell_type": "code",
   "execution_count": 21,
   "metadata": {},
   "outputs": [],
   "source": [
    "from sklearn.manifold import TSNE\n",
    "tsne = TSNE()\n",
    "X_tsne = tsne.fit_transform(X)"
   ]
  },
  {
   "cell_type": "code",
   "execution_count": 22,
   "metadata": {},
   "outputs": [
    {
     "data": {
      "text/plain": [
       "<matplotlib.axes._subplots.AxesSubplot at 0x1ba2a5b5748>"
      ]
     },
     "execution_count": 22,
     "metadata": {},
     "output_type": "execute_result"
    },
    {
     "data": {
      "image/png": "[encoded data removed]",
      "text/plain": [
       "<Figure size 432x288 with 1 Axes>"
      ]
     },
     "metadata": {
      "needs_background": "light"
     },
     "output_type": "display_data"
    }
   ],
   "source": [
    "sns.scatterplot(X_tsne[:,0], X_tsne[:,1], hue=y, legend='full')"
   ]
  },
  {
   "cell_type": "code",
   "execution_count": 23,
   "metadata": {},
   "outputs": [],
   "source": [
    "# 9.\tUse the any classifier to classify 6 sets of dimensionality \n",
    "# reduced data (using 2, 4, 10, 30, 40, 256 PCA components)."
   ]
  },
  {
   "cell_type": "code",
   "execution_count": 24,
   "metadata": {},
   "outputs": [],
   "source": [
    "from sklearn.svm import SVC\n",
    "model = SVC(gamma='auto')\n",
    "\n",
    "acs = []\n",
    "pcas = (2, 4, 10, 30, 40, 256)\n",
    "\n",
    "for i in pcas:\n",
    "    pca = PCA(n_components = i)\n",
    "    X_tmp = pca.fit_transform(X)\n",
    "    X_train, X_test, Y_train, Y_test = train_test_split(X_tmp, y)\n",
    "    model.fit(X_train,Y_train)\n",
    "    predicted = model.predict(X_test)\n",
    "    expected = Y_test\n",
    "    acs.append(metrics.accuracy_score(expected,predicted))"
   ]
  },
  {
   "cell_type": "code",
   "execution_count": 25,
   "metadata": {},
   "outputs": [],
   "source": [
    "# 10.   Plot the classification error for the 6 sets and the number of chosen components. "
   ]
  },
  {
   "cell_type": "code",
   "execution_count": 26,
   "metadata": {},
   "outputs": [
    {
     "name": "stdout",
     "output_type": "stream",
     "text": [
      "[0.915, 0.965, 0.985, 0.98, 0.985, 1.0]\n"
     ]
    }
   ],
   "source": [
    "print(acs)"
   ]
  },
  {
   "cell_type": "code",
   "execution_count": 27,
   "metadata": {},
   "outputs": [
    {
     "data": {
      "text/plain": [
       "<matplotlib.axes._subplots.AxesSubplot at 0x1ba2a560308>"
      ]
     },
     "execution_count": 27,
     "metadata": {},
     "output_type": "execute_result"
    },
    {
     "data": {
      "image/png": "[encoded data removed]",
      "text/plain": [
       "<Figure size 432x288 with 1 Axes>"
      ]
     },
     "metadata": {
      "needs_background": "light"
     },
     "output_type": "display_data"
    }
   ],
   "source": [
    "sns.lineplot(y=np.array(acs), x=pcas)"
   ]
  },
  {
   "cell_type": "code",
   "execution_count": null,
   "metadata": {},
   "outputs": [],
   "source": []
  }
 ],
 "metadata": {
  "kernelspec": {
   "display_name": "Python 3",
   "language": "python",
   "name": "python3"
  },
  "language_info": {
   "codemirror_mode": {
    "name": "ipython",
    "version": 3
   },
   "file_extension": ".py",
   "mimetype": "text/x-python",
   "name": "python",
   "nbconvert_exporter": "python",
   "pygments_lexer": "ipython3",
   "version": "3.7.4"
  }
 },
 "nbformat": 4,
 "nbformat_minor": 2
}
