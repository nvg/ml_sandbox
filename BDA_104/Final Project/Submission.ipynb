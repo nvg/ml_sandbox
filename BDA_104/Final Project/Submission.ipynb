{
 "cells": [
  {
   "cell_type": "code",
   "execution_count": 1,
   "metadata": {},
   "outputs": [],
   "source": [
    "import pandas as pd\n",
    "import numpy as np\n",
    "\n",
    "import matplotlib as pyplot\n",
    "import matplotlib.pyplot as plt; plt.rcdefaults()\n",
    "import matplotlib.pyplot as plt\n",
    "%matplotlib inline\n",
    "\n",
    "import seaborn as sns"
   ]
  },
  {
   "cell_type": "code",
   "execution_count": 2,
   "metadata": {},
   "outputs": [],
   "source": [
    "df = pd.read_csv('train.csv')"
   ]
  },
  {
   "cell_type": "markdown",
   "metadata": {},
   "source": [
    "# Review the data set"
   ]
  },
  {
   "cell_type": "code",
   "execution_count": 3,
   "metadata": {
    "scrolled": true
   },
   "outputs": [
    {
     "name": "stdout",
     "output_type": "stream",
     "text": [
      "<class 'pandas.core.frame.DataFrame'>\n",
      "RangeIndex: 550068 entries, 0 to 550067\n",
      "Data columns (total 12 columns):\n",
      "User_ID                       550068 non-null int64\n",
      "Product_ID                    550068 non-null object\n",
      "Gender                        550068 non-null object\n",
      "Age                           550068 non-null object\n",
      "Occupation                    550068 non-null int64\n",
      "City_Category                 550068 non-null object\n",
      "Stay_In_Current_City_Years    550068 non-null object\n",
      "Marital_Status                550068 non-null int64\n",
      "Product_Category_1            550068 non-null int64\n",
      "Product_Category_2            376430 non-null float64\n",
      "Product_Category_3            166821 non-null float64\n",
      "Purchase                      550068 non-null int64\n",
      "dtypes: float64(2), int64(5), object(5)\n",
      "memory usage: 50.4+ MB\n"
     ]
    }
   ],
   "source": [
    "df.info()"
   ]
  },
  {
   "cell_type": "code",
   "execution_count": 4,
   "metadata": {},
   "outputs": [
    {
     "data": {
      "text/html": [
       "<div>\n",
       "<style scoped>\n",
       "    .dataframe tbody tr th:only-of-type {\n",
       "        vertical-align: middle;\n",
       "    }\n",
       "\n",
       "    .dataframe tbody tr th {\n",
       "        vertical-align: top;\n",
       "    }\n",
       "\n",
       "    .dataframe thead th {\n",
       "        text-align: right;\n",
       "    }\n",
       "</style>\n",
       "<table border=\"1\" class=\"dataframe\">\n",
       "  <thead>\n",
       "    <tr style=\"text-align: right;\">\n",
       "      <th></th>\n",
       "      <th>User_ID</th>\n",
       "      <th>Occupation</th>\n",
       "      <th>Marital_Status</th>\n",
       "      <th>Product_Category_1</th>\n",
       "      <th>Product_Category_2</th>\n",
       "      <th>Product_Category_3</th>\n",
       "      <th>Purchase</th>\n",
       "    </tr>\n",
       "  </thead>\n",
       "  <tbody>\n",
       "    <tr>\n",
       "      <td>count</td>\n",
       "      <td>5.500680e+05</td>\n",
       "      <td>550068.000000</td>\n",
       "      <td>550068.000000</td>\n",
       "      <td>550068.000000</td>\n",
       "      <td>376430.000000</td>\n",
       "      <td>166821.000000</td>\n",
       "      <td>550068.000000</td>\n",
       "    </tr>\n",
       "    <tr>\n",
       "      <td>mean</td>\n",
       "      <td>1.003029e+06</td>\n",
       "      <td>8.076707</td>\n",
       "      <td>0.409653</td>\n",
       "      <td>5.404270</td>\n",
       "      <td>9.842329</td>\n",
       "      <td>12.668243</td>\n",
       "      <td>9263.968713</td>\n",
       "    </tr>\n",
       "    <tr>\n",
       "      <td>std</td>\n",
       "      <td>1.727592e+03</td>\n",
       "      <td>6.522660</td>\n",
       "      <td>0.491770</td>\n",
       "      <td>3.936211</td>\n",
       "      <td>5.086590</td>\n",
       "      <td>4.125338</td>\n",
       "      <td>5023.065394</td>\n",
       "    </tr>\n",
       "    <tr>\n",
       "      <td>min</td>\n",
       "      <td>1.000001e+06</td>\n",
       "      <td>0.000000</td>\n",
       "      <td>0.000000</td>\n",
       "      <td>1.000000</td>\n",
       "      <td>2.000000</td>\n",
       "      <td>3.000000</td>\n",
       "      <td>12.000000</td>\n",
       "    </tr>\n",
       "    <tr>\n",
       "      <td>25%</td>\n",
       "      <td>1.001516e+06</td>\n",
       "      <td>2.000000</td>\n",
       "      <td>0.000000</td>\n",
       "      <td>1.000000</td>\n",
       "      <td>5.000000</td>\n",
       "      <td>9.000000</td>\n",
       "      <td>5823.000000</td>\n",
       "    </tr>\n",
       "    <tr>\n",
       "      <td>50%</td>\n",
       "      <td>1.003077e+06</td>\n",
       "      <td>7.000000</td>\n",
       "      <td>0.000000</td>\n",
       "      <td>5.000000</td>\n",
       "      <td>9.000000</td>\n",
       "      <td>14.000000</td>\n",
       "      <td>8047.000000</td>\n",
       "    </tr>\n",
       "    <tr>\n",
       "      <td>75%</td>\n",
       "      <td>1.004478e+06</td>\n",
       "      <td>14.000000</td>\n",
       "      <td>1.000000</td>\n",
       "      <td>8.000000</td>\n",
       "      <td>15.000000</td>\n",
       "      <td>16.000000</td>\n",
       "      <td>12054.000000</td>\n",
       "    </tr>\n",
       "    <tr>\n",
       "      <td>max</td>\n",
       "      <td>1.006040e+06</td>\n",
       "      <td>20.000000</td>\n",
       "      <td>1.000000</td>\n",
       "      <td>20.000000</td>\n",
       "      <td>18.000000</td>\n",
       "      <td>18.000000</td>\n",
       "      <td>23961.000000</td>\n",
       "    </tr>\n",
       "  </tbody>\n",
       "</table>\n",
       "</div>"
      ],
      "text/plain": [
       "            User_ID     Occupation  Marital_Status  Product_Category_1  \\\n",
       "count  5.500680e+05  550068.000000   550068.000000       550068.000000   \n",
       "mean   1.003029e+06       8.076707        0.409653            5.404270   \n",
       "std    1.727592e+03       6.522660        0.491770            3.936211   \n",
       "min    1.000001e+06       0.000000        0.000000            1.000000   \n",
       "25%    1.001516e+06       2.000000        0.000000            1.000000   \n",
       "50%    1.003077e+06       7.000000        0.000000            5.000000   \n",
       "75%    1.004478e+06      14.000000        1.000000            8.000000   \n",
       "max    1.006040e+06      20.000000        1.000000           20.000000   \n",
       "\n",
       "       Product_Category_2  Product_Category_3       Purchase  \n",
       "count       376430.000000       166821.000000  550068.000000  \n",
       "mean             9.842329           12.668243    9263.968713  \n",
       "std              5.086590            4.125338    5023.065394  \n",
       "min              2.000000            3.000000      12.000000  \n",
       "25%              5.000000            9.000000    5823.000000  \n",
       "50%              9.000000           14.000000    8047.000000  \n",
       "75%             15.000000           16.000000   12054.000000  \n",
       "max             18.000000           18.000000   23961.000000  "
      ]
     },
     "execution_count": 4,
     "metadata": {},
     "output_type": "execute_result"
    }
   ],
   "source": [
    "df.describe()"
   ]
  },
  {
   "cell_type": "code",
   "execution_count": 5,
   "metadata": {},
   "outputs": [
    {
     "data": {
      "text/html": [
       "<div>\n",
       "<style scoped>\n",
       "    .dataframe tbody tr th:only-of-type {\n",
       "        vertical-align: middle;\n",
       "    }\n",
       "\n",
       "    .dataframe tbody tr th {\n",
       "        vertical-align: top;\n",
       "    }\n",
       "\n",
       "    .dataframe thead th {\n",
       "        text-align: right;\n",
       "    }\n",
       "</style>\n",
       "<table border=\"1\" class=\"dataframe\">\n",
       "  <thead>\n",
       "    <tr style=\"text-align: right;\">\n",
       "      <th></th>\n",
       "      <th>User_ID</th>\n",
       "      <th>Product_ID</th>\n",
       "      <th>Gender</th>\n",
       "      <th>Age</th>\n",
       "      <th>Occupation</th>\n",
       "      <th>City_Category</th>\n",
       "      <th>Stay_In_Current_City_Years</th>\n",
       "      <th>Marital_Status</th>\n",
       "      <th>Product_Category_1</th>\n",
       "      <th>Product_Category_2</th>\n",
       "      <th>Product_Category_3</th>\n",
       "      <th>Purchase</th>\n",
       "    </tr>\n",
       "  </thead>\n",
       "  <tbody>\n",
       "    <tr>\n",
       "      <td>0</td>\n",
       "      <td>1000001</td>\n",
       "      <td>P00069042</td>\n",
       "      <td>F</td>\n",
       "      <td>0-17</td>\n",
       "      <td>10</td>\n",
       "      <td>A</td>\n",
       "      <td>2</td>\n",
       "      <td>0</td>\n",
       "      <td>3</td>\n",
       "      <td>NaN</td>\n",
       "      <td>NaN</td>\n",
       "      <td>8370</td>\n",
       "    </tr>\n",
       "    <tr>\n",
       "      <td>1</td>\n",
       "      <td>1000001</td>\n",
       "      <td>P00248942</td>\n",
       "      <td>F</td>\n",
       "      <td>0-17</td>\n",
       "      <td>10</td>\n",
       "      <td>A</td>\n",
       "      <td>2</td>\n",
       "      <td>0</td>\n",
       "      <td>1</td>\n",
       "      <td>6.0</td>\n",
       "      <td>14.0</td>\n",
       "      <td>15200</td>\n",
       "    </tr>\n",
       "    <tr>\n",
       "      <td>2</td>\n",
       "      <td>1000001</td>\n",
       "      <td>P00087842</td>\n",
       "      <td>F</td>\n",
       "      <td>0-17</td>\n",
       "      <td>10</td>\n",
       "      <td>A</td>\n",
       "      <td>2</td>\n",
       "      <td>0</td>\n",
       "      <td>12</td>\n",
       "      <td>NaN</td>\n",
       "      <td>NaN</td>\n",
       "      <td>1422</td>\n",
       "    </tr>\n",
       "    <tr>\n",
       "      <td>3</td>\n",
       "      <td>1000001</td>\n",
       "      <td>P00085442</td>\n",
       "      <td>F</td>\n",
       "      <td>0-17</td>\n",
       "      <td>10</td>\n",
       "      <td>A</td>\n",
       "      <td>2</td>\n",
       "      <td>0</td>\n",
       "      <td>12</td>\n",
       "      <td>14.0</td>\n",
       "      <td>NaN</td>\n",
       "      <td>1057</td>\n",
       "    </tr>\n",
       "    <tr>\n",
       "      <td>4</td>\n",
       "      <td>1000002</td>\n",
       "      <td>P00285442</td>\n",
       "      <td>M</td>\n",
       "      <td>55+</td>\n",
       "      <td>16</td>\n",
       "      <td>C</td>\n",
       "      <td>4+</td>\n",
       "      <td>0</td>\n",
       "      <td>8</td>\n",
       "      <td>NaN</td>\n",
       "      <td>NaN</td>\n",
       "      <td>7969</td>\n",
       "    </tr>\n",
       "  </tbody>\n",
       "</table>\n",
       "</div>"
      ],
      "text/plain": [
       "   User_ID Product_ID Gender   Age  Occupation City_Category  \\\n",
       "0  1000001  P00069042      F  0-17          10             A   \n",
       "1  1000001  P00248942      F  0-17          10             A   \n",
       "2  1000001  P00087842      F  0-17          10             A   \n",
       "3  1000001  P00085442      F  0-17          10             A   \n",
       "4  1000002  P00285442      M   55+          16             C   \n",
       "\n",
       "  Stay_In_Current_City_Years  Marital_Status  Product_Category_1  \\\n",
       "0                          2               0                   3   \n",
       "1                          2               0                   1   \n",
       "2                          2               0                  12   \n",
       "3                          2               0                  12   \n",
       "4                         4+               0                   8   \n",
       "\n",
       "   Product_Category_2  Product_Category_3  Purchase  \n",
       "0                 NaN                 NaN      8370  \n",
       "1                 6.0                14.0     15200  \n",
       "2                 NaN                 NaN      1422  \n",
       "3                14.0                 NaN      1057  \n",
       "4                 NaN                 NaN      7969  "
      ]
     },
     "execution_count": 5,
     "metadata": {},
     "output_type": "execute_result"
    }
   ],
   "source": [
    "df.head()"
   ]
  },
  {
   "cell_type": "code",
   "execution_count": 6,
   "metadata": {},
   "outputs": [
    {
     "data": {
      "text/plain": [
       "array([ 3,  1, 12,  8,  5,  4,  2,  6, 14, 11, 13, 15,  7, 16, 18, 10, 17,\n",
       "        9, 20, 19], dtype=int64)"
      ]
     },
     "execution_count": 6,
     "metadata": {},
     "output_type": "execute_result"
    }
   ],
   "source": [
    "df['Product_Category_1'].unique()"
   ]
  },
  {
   "cell_type": "code",
   "execution_count": 7,
   "metadata": {},
   "outputs": [
    {
     "data": {
      "text/plain": [
       "<matplotlib.axes._subplots.AxesSubplot at 0x1d58335b8c8>"
      ]
     },
     "execution_count": 7,
     "metadata": {},
     "output_type": "execute_result"
    },
    {
     "data": {
      "image/png": "[encoded data removed]",
      "text/plain": [
       "<Figure size 432x288 with 1 Axes>"
      ]
     },
     "metadata": {
      "needs_background": "light"
     },
     "output_type": "display_data"
    }
   ],
   "source": [
    "sns.heatmap(df.isnull(), cbar=False)"
   ]
  },
  {
   "cell_type": "code",
   "execution_count": 8,
   "metadata": {},
   "outputs": [
    {
     "data": {
      "text/plain": [
       "User_ID                            0\n",
       "Product_ID                         0\n",
       "Gender                             0\n",
       "Age                                0\n",
       "Occupation                         0\n",
       "City_Category                      0\n",
       "Stay_In_Current_City_Years         0\n",
       "Marital_Status                     0\n",
       "Product_Category_1                 0\n",
       "Product_Category_2            173638\n",
       "Product_Category_3            383247\n",
       "Purchase                           0\n",
       "dtype: int64"
      ]
     },
     "execution_count": 8,
     "metadata": {},
     "output_type": "execute_result"
    }
   ],
   "source": [
    "# Clear null values\n",
    "df.isnull().sum()"
   ]
  },
  {
   "cell_type": "code",
   "execution_count": 9,
   "metadata": {},
   "outputs": [
    {
     "data": {
      "text/plain": [
       "<matplotlib.axes._subplots.AxesSubplot at 0x1d582ba5988>"
      ]
     },
     "execution_count": 9,
     "metadata": {},
     "output_type": "execute_result"
    },
    {
     "data": {
      "image/png": "[encoded data removed]",
      "text/plain": [
       "<Figure size 432x288 with 1 Axes>"
      ]
     },
     "metadata": {
      "needs_background": "light"
     },
     "output_type": "display_data"
    }
   ],
   "source": [
    "sns.countplot(df['Age'], hue=df['Gender'])"
   ]
  },
  {
   "cell_type": "code",
   "execution_count": 10,
   "metadata": {},
   "outputs": [
    {
     "data": {
      "text/plain": [
       "<matplotlib.axes._subplots.AxesSubplot at 0x1d5820eefc8>"
      ]
     },
     "execution_count": 10,
     "metadata": {},
     "output_type": "execute_result"
    },
    {
     "data": {
      "image/png": "[encoded data removed]",
      "text/plain": [
       "<Figure size 432x288 with 1 Axes>"
      ]
     },
     "metadata": {
      "needs_background": "light"
     },
     "output_type": "display_data"
    }
   ],
   "source": [
    "sns.countplot(df['Stay_In_Current_City_Years'])"
   ]
  },
  {
   "cell_type": "code",
   "execution_count": 11,
   "metadata": {},
   "outputs": [
    {
     "data": {
      "text/plain": [
       "<matplotlib.axes._subplots.AxesSubplot at 0x1d58214b088>"
      ]
     },
     "execution_count": 11,
     "metadata": {},
     "output_type": "execute_result"
    },
    {
     "data": {
      "image/png": "[encoded data removed]",
      "text/plain": [
       "<Figure size 432x288 with 1 Axes>"
      ]
     },
     "metadata": {
      "needs_background": "light"
     },
     "output_type": "display_data"
    }
   ],
   "source": [
    "sns.countplot(df['Occupation'])"
   ]
  },
  {
   "cell_type": "code",
   "execution_count": 12,
   "metadata": {},
   "outputs": [
    {
     "data": {
      "text/plain": [
       "<matplotlib.axes._subplots.AxesSubplot at 0x1d582224108>"
      ]
     },
     "execution_count": 12,
     "metadata": {},
     "output_type": "execute_result"
    },
    {
     "data": {
      "image/png": "[encoded data removed]",
      "text/plain": [
       "<Figure size 432x288 with 1 Axes>"
      ]
     },
     "metadata": {
      "needs_background": "light"
     },
     "output_type": "display_data"
    }
   ],
   "source": [
    "sns.countplot(df['Product_Category_1'])"
   ]
  },
  {
   "cell_type": "code",
   "execution_count": 13,
   "metadata": {},
   "outputs": [
    {
     "data": {
      "text/plain": [
       "<matplotlib.axes._subplots.AxesSubplot at 0x1d582224fc8>"
      ]
     },
     "execution_count": 13,
     "metadata": {},
     "output_type": "execute_result"
    },
    {
     "data": {
      "image/png": "[encoded data removed]",
      "text/plain": [
       "<Figure size 432x288 with 1 Axes>"
      ]
     },
     "metadata": {
      "needs_background": "light"
     },
     "output_type": "display_data"
    }
   ],
   "source": [
    "sns.distplot(df['Purchase'])"
   ]
  },
  {
   "cell_type": "markdown",
   "metadata": {},
   "source": [
    "We have labeled data - can use supervised learning\n",
    "We want to predict how much $$$ people spend - regression task\n",
    "\n",
    "When we think about sales - consider demographic (age/gender/income/home), store (location/size/ads/product stock)"
   ]
  },
  {
   "cell_type": "code",
   "execution_count": 14,
   "metadata": {},
   "outputs": [
    {
     "name": "stdout",
     "output_type": "stream",
     "text": [
      "['P00069042' 'P00248942' 'P00087842' ... 'P00370293' 'P00371644'\n",
      " 'P00370853']\n",
      "3631\n"
     ]
    }
   ],
   "source": [
    "print(df['Product_ID'].unique())\n",
    "print(len(df['Product_ID'].unique()))"
   ]
  },
  {
   "cell_type": "markdown",
   "metadata": {},
   "source": [
    "# Prepare data"
   ]
  },
  {
   "cell_type": "code",
   "execution_count": 15,
   "metadata": {},
   "outputs": [],
   "source": [
    "X = df.drop(['Purchase', 'Product_Category_2', 'Product_Category_3'], axis=1)"
   ]
  },
  {
   "cell_type": "code",
   "execution_count": 16,
   "metadata": {},
   "outputs": [],
   "source": [
    "for cat in ['Age', 'City_Category', 'Stay_In_Current_City_Years']:\n",
    "    tmp = pd.get_dummies(X[cat], prefix=cat, drop_first=True)\n",
    "    X.drop(cat, axis=1, inplace=True)\n",
    "    X = pd.concat([X, tmp], axis=1)"
   ]
  },
  {
   "cell_type": "code",
   "execution_count": 17,
   "metadata": {},
   "outputs": [],
   "source": [
    "X['Gender'] = pd.get_dummies(X['Gender'], drop_first=True)"
   ]
  },
  {
   "cell_type": "code",
   "execution_count": 18,
   "metadata": {},
   "outputs": [],
   "source": [
    "from sklearn.preprocessing import LabelEncoder\n",
    "\n",
    "for c in ['Product_ID']:\n",
    "    enc = LabelEncoder()\n",
    "    X[c] = enc.fit_transform(X[c])"
   ]
  },
  {
   "cell_type": "code",
   "execution_count": 19,
   "metadata": {},
   "outputs": [],
   "source": [
    "X[\"Occupation\"] = X[\"Occupation\"].astype('category')"
   ]
  },
  {
   "cell_type": "code",
   "execution_count": 20,
   "metadata": {},
   "outputs": [
    {
     "data": {
      "text/html": [
       "<div>\n",
       "<style scoped>\n",
       "    .dataframe tbody tr th:only-of-type {\n",
       "        vertical-align: middle;\n",
       "    }\n",
       "\n",
       "    .dataframe tbody tr th {\n",
       "        vertical-align: top;\n",
       "    }\n",
       "\n",
       "    .dataframe thead th {\n",
       "        text-align: right;\n",
       "    }\n",
       "</style>\n",
       "<table border=\"1\" class=\"dataframe\">\n",
       "  <thead>\n",
       "    <tr style=\"text-align: right;\">\n",
       "      <th></th>\n",
       "      <th>User_ID</th>\n",
       "      <th>Product_ID</th>\n",
       "      <th>Gender</th>\n",
       "      <th>Occupation</th>\n",
       "      <th>Marital_Status</th>\n",
       "      <th>Product_Category_1</th>\n",
       "      <th>Age_18-25</th>\n",
       "      <th>Age_26-35</th>\n",
       "      <th>Age_36-45</th>\n",
       "      <th>Age_46-50</th>\n",
       "      <th>Age_51-55</th>\n",
       "      <th>Age_55+</th>\n",
       "      <th>City_Category_B</th>\n",
       "      <th>City_Category_C</th>\n",
       "      <th>Stay_In_Current_City_Years_1</th>\n",
       "      <th>Stay_In_Current_City_Years_2</th>\n",
       "      <th>Stay_In_Current_City_Years_3</th>\n",
       "      <th>Stay_In_Current_City_Years_4+</th>\n",
       "    </tr>\n",
       "  </thead>\n",
       "  <tbody>\n",
       "    <tr>\n",
       "      <td>0</td>\n",
       "      <td>1000001</td>\n",
       "      <td>672</td>\n",
       "      <td>0</td>\n",
       "      <td>10</td>\n",
       "      <td>0</td>\n",
       "      <td>3</td>\n",
       "      <td>0</td>\n",
       "      <td>0</td>\n",
       "      <td>0</td>\n",
       "      <td>0</td>\n",
       "      <td>0</td>\n",
       "      <td>0</td>\n",
       "      <td>0</td>\n",
       "      <td>0</td>\n",
       "      <td>0</td>\n",
       "      <td>1</td>\n",
       "      <td>0</td>\n",
       "      <td>0</td>\n",
       "    </tr>\n",
       "    <tr>\n",
       "      <td>1</td>\n",
       "      <td>1000001</td>\n",
       "      <td>2376</td>\n",
       "      <td>0</td>\n",
       "      <td>10</td>\n",
       "      <td>0</td>\n",
       "      <td>1</td>\n",
       "      <td>0</td>\n",
       "      <td>0</td>\n",
       "      <td>0</td>\n",
       "      <td>0</td>\n",
       "      <td>0</td>\n",
       "      <td>0</td>\n",
       "      <td>0</td>\n",
       "      <td>0</td>\n",
       "      <td>0</td>\n",
       "      <td>1</td>\n",
       "      <td>0</td>\n",
       "      <td>0</td>\n",
       "    </tr>\n",
       "    <tr>\n",
       "      <td>2</td>\n",
       "      <td>1000001</td>\n",
       "      <td>852</td>\n",
       "      <td>0</td>\n",
       "      <td>10</td>\n",
       "      <td>0</td>\n",
       "      <td>12</td>\n",
       "      <td>0</td>\n",
       "      <td>0</td>\n",
       "      <td>0</td>\n",
       "      <td>0</td>\n",
       "      <td>0</td>\n",
       "      <td>0</td>\n",
       "      <td>0</td>\n",
       "      <td>0</td>\n",
       "      <td>0</td>\n",
       "      <td>1</td>\n",
       "      <td>0</td>\n",
       "      <td>0</td>\n",
       "    </tr>\n",
       "    <tr>\n",
       "      <td>3</td>\n",
       "      <td>1000001</td>\n",
       "      <td>828</td>\n",
       "      <td>0</td>\n",
       "      <td>10</td>\n",
       "      <td>0</td>\n",
       "      <td>12</td>\n",
       "      <td>0</td>\n",
       "      <td>0</td>\n",
       "      <td>0</td>\n",
       "      <td>0</td>\n",
       "      <td>0</td>\n",
       "      <td>0</td>\n",
       "      <td>0</td>\n",
       "      <td>0</td>\n",
       "      <td>0</td>\n",
       "      <td>1</td>\n",
       "      <td>0</td>\n",
       "      <td>0</td>\n",
       "    </tr>\n",
       "    <tr>\n",
       "      <td>4</td>\n",
       "      <td>1000002</td>\n",
       "      <td>2734</td>\n",
       "      <td>1</td>\n",
       "      <td>16</td>\n",
       "      <td>0</td>\n",
       "      <td>8</td>\n",
       "      <td>0</td>\n",
       "      <td>0</td>\n",
       "      <td>0</td>\n",
       "      <td>0</td>\n",
       "      <td>0</td>\n",
       "      <td>1</td>\n",
       "      <td>0</td>\n",
       "      <td>1</td>\n",
       "      <td>0</td>\n",
       "      <td>0</td>\n",
       "      <td>0</td>\n",
       "      <td>1</td>\n",
       "    </tr>\n",
       "  </tbody>\n",
       "</table>\n",
       "</div>"
      ],
      "text/plain": [
       "   User_ID  Product_ID  Gender Occupation  Marital_Status  Product_Category_1  \\\n",
       "0  1000001         672       0         10               0                   3   \n",
       "1  1000001        2376       0         10               0                   1   \n",
       "2  1000001         852       0         10               0                  12   \n",
       "3  1000001         828       0         10               0                  12   \n",
       "4  1000002        2734       1         16               0                   8   \n",
       "\n",
       "   Age_18-25  Age_26-35  Age_36-45  Age_46-50  Age_51-55  Age_55+  \\\n",
       "0          0          0          0          0          0        0   \n",
       "1          0          0          0          0          0        0   \n",
       "2          0          0          0          0          0        0   \n",
       "3          0          0          0          0          0        0   \n",
       "4          0          0          0          0          0        1   \n",
       "\n",
       "   City_Category_B  City_Category_C  Stay_In_Current_City_Years_1  \\\n",
       "0                0                0                             0   \n",
       "1                0                0                             0   \n",
       "2                0                0                             0   \n",
       "3                0                0                             0   \n",
       "4                0                1                             0   \n",
       "\n",
       "   Stay_In_Current_City_Years_2  Stay_In_Current_City_Years_3  \\\n",
       "0                             1                             0   \n",
       "1                             1                             0   \n",
       "2                             1                             0   \n",
       "3                             1                             0   \n",
       "4                             0                             0   \n",
       "\n",
       "   Stay_In_Current_City_Years_4+  \n",
       "0                              0  \n",
       "1                              0  \n",
       "2                              0  \n",
       "3                              0  \n",
       "4                              1  "
      ]
     },
     "execution_count": 20,
     "metadata": {},
     "output_type": "execute_result"
    }
   ],
   "source": [
    "X.head()"
   ]
  },
  {
   "cell_type": "code",
   "execution_count": 21,
   "metadata": {},
   "outputs": [
    {
     "name": "stdout",
     "output_type": "stream",
     "text": [
      "<class 'pandas.core.frame.DataFrame'>\n",
      "RangeIndex: 550068 entries, 0 to 550067\n",
      "Data columns (total 18 columns):\n",
      "User_ID                          550068 non-null int64\n",
      "Product_ID                       550068 non-null int32\n",
      "Gender                           550068 non-null uint8\n",
      "Occupation                       550068 non-null category\n",
      "Marital_Status                   550068 non-null int64\n",
      "Product_Category_1               550068 non-null int64\n",
      "Age_18-25                        550068 non-null uint8\n",
      "Age_26-35                        550068 non-null uint8\n",
      "Age_36-45                        550068 non-null uint8\n",
      "Age_46-50                        550068 non-null uint8\n",
      "Age_51-55                        550068 non-null uint8\n",
      "Age_55+                          550068 non-null uint8\n",
      "City_Category_B                  550068 non-null uint8\n",
      "City_Category_C                  550068 non-null uint8\n",
      "Stay_In_Current_City_Years_1     550068 non-null uint8\n",
      "Stay_In_Current_City_Years_2     550068 non-null uint8\n",
      "Stay_In_Current_City_Years_3     550068 non-null uint8\n",
      "Stay_In_Current_City_Years_4+    550068 non-null uint8\n",
      "dtypes: category(1), int32(1), int64(3), uint8(13)\n",
      "memory usage: 22.0 MB\n"
     ]
    }
   ],
   "source": [
    "X.info()"
   ]
  },
  {
   "cell_type": "code",
   "execution_count": 22,
   "metadata": {},
   "outputs": [],
   "source": [
    "y = df[\"Purchase\"]"
   ]
  },
  {
   "cell_type": "code",
   "execution_count": 23,
   "metadata": {},
   "outputs": [],
   "source": [
    "X = X.drop([\"User_ID\"], axis=1)"
   ]
  },
  {
   "cell_type": "code",
   "execution_count": 24,
   "metadata": {},
   "outputs": [],
   "source": [
    "from sklearn.preprocessing import StandardScaler"
   ]
  },
  {
   "cell_type": "code",
   "execution_count": 25,
   "metadata": {},
   "outputs": [],
   "source": [
    "scaler = StandardScaler()\n",
    "Xs = scaler.fit_transform(X)"
   ]
  },
  {
   "cell_type": "markdown",
   "metadata": {},
   "source": [
    "## Regression Model Comparison"
   ]
  },
  {
   "cell_type": "code",
   "execution_count": 26,
   "metadata": {},
   "outputs": [],
   "source": [
    "import sklearn\n",
    "import xgboost as xgb\n",
    "\n",
    "from sklearn.model_selection import train_test_split\n",
    "from sklearn.linear_model import LinearRegression\n",
    "from sklearn.tree import DecisionTreeRegressor\n",
    "from sklearn.ensemble import RandomForestRegressor\n",
    "from sklearn.ensemble import GradientBoostingRegressor\n",
    "from sklearn.svm import SVC\n",
    "from sklearn.neighbors import KNeighborsRegressor\n",
    "from sklearn.linear_model import Ridge\n",
    "from sklearn.linear_model import Lasso\n",
    "from sklearn.preprocessing import PolynomialFeatures \n",
    "from sklearn import svm"
   ]
  },
  {
   "cell_type": "code",
   "execution_count": 27,
   "metadata": {},
   "outputs": [],
   "source": [
    "from sklearn import metrics\n",
    "\n",
    "def get_metrics(reg, y_test, y_pred):\n",
    "    res = []\n",
    "    \n",
    "    res.append(str(reg.__class__.__name__))\n",
    "    mae = metrics.mean_absolute_error(y_test, y_pred)\n",
    "    res.append(mae)\n",
    "    mse = metrics.mean_squared_error(y_test, y_pred)\n",
    "    res.append(mse)\n",
    "    rmse = np.sqrt(metrics.mean_squared_error(y_test, y_pred))\n",
    "    res.append(rmse)\n",
    "    r2 = metrics.r2_score(y_test, y_pred)\n",
    "    res.append(r2)\n",
    "    \n",
    "    return res\n",
    "               \n",
    "def show_metrics(res):\n",
    "    print(res[0])\n",
    "    print(' MAE : ', res[1])\n",
    "    print(' MSE : ', res[2])\n",
    "    print(' RMSE: ', res[3])\n",
    "    print(' R^2 : ', res[4])"
   ]
  },
  {
   "cell_type": "code",
   "execution_count": 28,
   "metadata": {},
   "outputs": [],
   "source": [
    "X_train, X_test, y_train, y_test = train_test_split(Xs, y, test_size = 1/3, random_state = 0)"
   ]
  },
  {
   "cell_type": "code",
   "execution_count": 29,
   "metadata": {},
   "outputs": [],
   "source": [
    "# Start with plolynomial regression\n",
    "pf = PolynomialFeatures(degree=2)\n",
    "X_poly_train = pf.fit_transform(X_train)\n",
    "X_poly_test = pf.fit_transform(X_test)"
   ]
  },
  {
   "cell_type": "code",
   "execution_count": 30,
   "metadata": {},
   "outputs": [
    {
     "data": {
      "text/plain": [
       "LinearRegression(copy_X=True, fit_intercept=True, n_jobs=None, normalize=False)"
      ]
     },
     "execution_count": 30,
     "metadata": {},
     "output_type": "execute_result"
    }
   ],
   "source": [
    "lr = LinearRegression()\n",
    "lr.fit(X_poly_train, y_train)"
   ]
  },
  {
   "cell_type": "code",
   "execution_count": 31,
   "metadata": {},
   "outputs": [
    {
     "name": "stdout",
     "output_type": "stream",
     "text": [
      "[13430.  5046.  8612. ...  6992.  7640. 12166.]\n"
     ]
    }
   ],
   "source": [
    "y_pred = lr.predict(X_poly_test)\n",
    "print(y_pred)"
   ]
  },
  {
   "cell_type": "code",
   "execution_count": 32,
   "metadata": {},
   "outputs": [
    {
     "name": "stdout",
     "output_type": "stream",
     "text": [
      "PolynomialRegression\n",
      " MAE :  3309.7693721503524\n",
      " MSE :  19261763.36996335\n",
      " RMSE:  4388.8225493819355\n",
      " R^2 :  0.23849099326810363\n"
     ]
    }
   ],
   "source": [
    "results = []\n",
    "m = get_metrics(lr, y_test, y_pred)\n",
    "m[0] = 'PolynomialRegression'\n",
    "show_metrics(m)\n",
    "results.append(m)"
   ]
  },
  {
   "cell_type": "code",
   "execution_count": 33,
   "metadata": {},
   "outputs": [],
   "source": [
    "regressors = [\n",
    "    Ridge(alpha=.5),\n",
    "    Lasso(alpha=0.1),\n",
    "    LinearRegression(), \n",
    "    DecisionTreeRegressor(), \n",
    "    # RandomForestRegressor(),\n",
    "    GradientBoostingRegressor(), \n",
    "    xgb.XGBRegressor(objective ='reg:squarederror', colsample_bytree = 0.3, learning_rate = 0.1, \n",
    "                     max_depth = 5, alpha = 10, n_estimators = 10), \n",
    "    # svm.SVC(kernel='rbf', gamma=0.7, C=1.0),\n",
    "    # KNeighborsRegressor(n_neighbors=3)\n",
    "]\n",
    "\n",
    "### Commented out regressors are processing over 100 minutes"
   ]
  },
  {
   "cell_type": "code",
   "execution_count": 34,
   "metadata": {
    "scrolled": true
   },
   "outputs": [
    {
     "name": "stdout",
     "output_type": "stream",
     "text": [
      "======================================================================================\n",
      "Running Ridge(alpha=0.5, copy_X=True, fit_intercept=True, max_iter=None,\n",
      "      normalize=False, random_state=None, solver='auto', tol=0.001)\n",
      "Ridge\n",
      " MAE :  3593.786762298473\n",
      " MSE :  21952039.01848128\n",
      " RMSE:  4685.300312518001\n",
      " R^2 :  0.1321316170475143\n",
      "======================================================================================\n",
      "\n",
      "======================================================================================\n",
      "Running Lasso(alpha=0.1, copy_X=True, fit_intercept=True, max_iter=1000,\n",
      "      normalize=False, positive=False, precompute=False, random_state=None,\n",
      "      selection='cyclic', tol=0.0001, warm_start=False)\n",
      "Lasso\n",
      " MAE :  3593.7848869242807\n",
      " MSE :  21952043.356074445\n",
      " RMSE:  4685.300775411803\n",
      " R^2 :  0.1321314455618513\n",
      "======================================================================================\n",
      "\n",
      "======================================================================================\n",
      "Running LinearRegression(copy_X=True, fit_intercept=True, n_jobs=None, normalize=False)\n",
      "LinearRegression\n",
      " MAE :  3593.786431714285\n",
      " MSE :  21952039.006256834\n",
      " RMSE:  4685.300311213448\n",
      " R^2 :  0.13213161753080482\n",
      "======================================================================================\n",
      "\n",
      "======================================================================================\n",
      "Running DecisionTreeRegressor(criterion='mse', max_depth=None, max_features=None,\n",
      "                      max_leaf_nodes=None, min_impurity_decrease=0.0,\n",
      "                      min_impurity_split=None, min_samples_leaf=1,\n",
      "                      min_samples_split=2, min_weight_fraction_leaf=0.0,\n",
      "                      presort=False, random_state=None, splitter='best')\n",
      "DecisionTreeRegressor\n",
      " MAE :  2630.0882628802965\n",
      " MSE :  13883245.762236407\n",
      " RMSE:  3726.022780692089\n",
      " R^2 :  0.4511293443101013\n",
      "======================================================================================\n",
      "\n",
      "======================================================================================\n",
      "Running GradientBoostingRegressor(alpha=0.9, criterion='friedman_mse', init=None,\n",
      "                          learning_rate=0.1, loss='ls', max_depth=3,\n",
      "                          max_features=None, max_leaf_nodes=None,\n",
      "                          min_impurity_decrease=0.0, min_impurity_split=None,\n",
      "                          min_samples_leaf=1, min_samples_split=2,\n",
      "                          min_weight_fraction_leaf=0.0, n_estimators=100,\n",
      "                          n_iter_no_change=None, presort='auto',\n",
      "                          random_state=None, subsample=1.0, tol=0.0001,\n",
      "                          validation_fraction=0.1, verbose=0, warm_start=False)\n",
      "GradientBoostingRegressor\n",
      " MAE :  2214.385903708551\n",
      " MSE :  8516361.504627584\n",
      " RMSE:  2918.2805733218293\n",
      " R^2 :  0.6633077737590829\n",
      "======================================================================================\n",
      "\n",
      "======================================================================================\n",
      "Running XGBRegressor(alpha=10, base_score=None, booster=None, colsample_bylevel=None,\n",
      "             colsample_bynode=None, colsample_bytree=0.3, gamma=None,\n",
      "             gpu_id=None, importance_type='gain', interaction_constraints=None,\n",
      "             learning_rate=0.1, max_delta_step=None, max_depth=5,\n",
      "             min_child_weight=None, missing=nan, monotone_constraints=None,\n",
      "             n_estimators=10, n_jobs=None, num_parallel_tree=None,\n",
      "             objective='reg:squarederror', random_state=None, reg_alpha=None,\n",
      "             reg_lambda=None, scale_pos_weight=None, subsample=None,\n",
      "             tree_method=None, validate_parameters=False, verbosity=None)\n",
      "XGBRegressor\n",
      " MAE :  4221.34148385129\n",
      " MSE :  32038236.70648072\n",
      " RMSE:  5660.2329198082225\n",
      " R^2 :  -0.266623690842275\n",
      "======================================================================================\n",
      "\n"
     ]
    }
   ],
   "source": [
    "for r in regressors: \n",
    "    print('======================================================================================')\n",
    "    print('Running %s' % (r))\n",
    "    r.fit(X_train, y_train)\n",
    "    # print('Accuracy score for %s is %s' % (r, r.score(X_test, y_test) * 100))\n",
    "    m = get_metrics(r, y_test, r.predict(X_test))\n",
    "    show_metrics(m)\n",
    "    results.append(m)\n",
    "    print('======================================================================================')\n",
    "    print('')"
   ]
  },
  {
   "cell_type": "markdown",
   "metadata": {},
   "source": [
    "### Try ANN"
   ]
  },
  {
   "cell_type": "code",
   "execution_count": 35,
   "metadata": {},
   "outputs": [
    {
     "name": "stderr",
     "output_type": "stream",
     "text": [
      "Using TensorFlow backend.\n"
     ]
    }
   ],
   "source": [
    "from sklearn.pipeline import Pipeline\n",
    "from sklearn.preprocessing import MinMaxScaler\n",
    "from keras.optimizers import Adam\n",
    "from keras.models import Sequential\n",
    "from keras.layers import Dense\n",
    "from keras.wrappers.scikit_learn import KerasRegressor"
   ]
  },
  {
   "cell_type": "code",
   "execution_count": 40,
   "metadata": {},
   "outputs": [],
   "source": [
    "model = Sequential()\n",
    "model.add(Dense(17, input_dim=17, kernel_initializer='normal', activation='relu'))\n",
    "model.add(Dense(27, activation='relu'))\n",
    "model.add(Dense(11, activation='relu'))\n",
    "model.add(Dense(3, activation='relu'))\n",
    "model.add(Dense(1, activation='relu'))\n",
    "\n",
    "optimizer = Adam(lr=0.35)\n",
    "model.compile(loss='mse', optimizer=optimizer, metrics=['mse', 'mae'])"
   ]
  },
  {
   "cell_type": "code",
   "execution_count": 41,
   "metadata": {},
   "outputs": [
    {
     "name": "stdout",
     "output_type": "stream",
     "text": [
      "Epoch 1/300\n",
      "366712/366712 [==============================] - 2s 6us/step - loss: 27566457.0961 - mse: 27566458.0000 - mae: 3892.9680\n",
      "Epoch 2/300\n",
      "366712/366712 [==============================] - 1s 2us/step - loss: 18155575.8553 - mse: 18155578.0000 - mae: 3146.8047\n",
      "Epoch 3/300\n",
      "366712/366712 [==============================] - 1s 2us/step - loss: 17709590.5912 - mse: 17709594.0000 - mae: 3101.3469\n",
      "Epoch 4/300\n",
      "366712/366712 [==============================] - 1s 3us/step - loss: 17617609.4716 - mse: 17617608.0000 - mae: 3090.4272: 0s - loss: 17589826.9583 - mse: 175898\n",
      "Epoch 5/300\n",
      "366712/366712 [==============================] - 1s 2us/step - loss: 17417587.5991 - mse: 17417586.0000 - mae: 3076.9624\n",
      "Epoch 6/300\n",
      "366712/366712 [==============================] - 1s 2us/step - loss: 16836138.8668 - mse: 16836136.0000 - mae: 3039.1636\n",
      "Epoch 7/300\n",
      "366712/366712 [==============================] - 1s 2us/step - loss: 15343121.9271 - mse: 15343123.0000 - mae: 2890.7642\n",
      "Epoch 8/300\n",
      "366712/366712 [==============================] - 1s 2us/step - loss: 14433659.5955 - mse: 14433658.0000 - mae: 2806.2732\n",
      "Epoch 9/300\n",
      "366712/366712 [==============================] - 1s 2us/step - loss: 14382953.2371 - mse: 14382955.0000 - mae: 2796.9297\n",
      "Epoch 10/300\n",
      "366712/366712 [==============================] - 1s 2us/step - loss: 13690740.8503 - mse: 13690739.0000 - mae: 2723.4956\n",
      "Epoch 11/300\n",
      "366712/366712 [==============================] - 1s 2us/step - loss: 13688914.2997 - mse: 13688915.0000 - mae: 2717.2585\n",
      "Epoch 12/300\n",
      "366712/366712 [==============================] - 1s 2us/step - loss: 13654765.5893 - mse: 13654766.0000 - mae: 2714.2927\n",
      "Epoch 13/300\n",
      "366712/366712 [==============================] - 1s 2us/step - loss: 13380119.0325 - mse: 13380120.0000 - mae: 2687.5605\n",
      "Epoch 14/300\n",
      "366712/366712 [==============================] - 1s 2us/step - loss: 13299816.1718 - mse: 13299815.0000 - mae: 2676.7517\n",
      "Epoch 15/300\n",
      "366712/366712 [==============================] - 1s 2us/step - loss: 13382749.9990 - mse: 13382750.0000 - mae: 2687.4331\n",
      "Epoch 16/300\n",
      "366712/366712 [==============================] - 1s 2us/step - loss: 11874820.6825 - mse: 11874820.0000 - mae: 2521.8562\n",
      "Epoch 17/300\n",
      "366712/366712 [==============================] - 1s 2us/step - loss: 11727736.5814 - mse: 11727736.0000 - mae: 2508.2390\n",
      "Epoch 18/300\n",
      "366712/366712 [==============================] - 1s 2us/step - loss: 11591506.5662 - mse: 11591506.0000 - mae: 2519.7754\n",
      "Epoch 19/300\n",
      "366712/366712 [==============================] - 1s 2us/step - loss: 10809297.7641 - mse: 10809297.0000 - mae: 2449.8906\n",
      "Epoch 20/300\n",
      "366712/366712 [==============================] - 1s 2us/step - loss: 10334512.7353 - mse: 10334511.0000 - mae: 2422.5027\n",
      "Epoch 21/300\n",
      "366712/366712 [==============================] - 1s 2us/step - loss: 10449478.4259 - mse: 10449481.0000 - mae: 2441.7683\n",
      "Epoch 22/300\n",
      "366712/366712 [==============================] - 1s 2us/step - loss: 10063614.5407 - mse: 10063614.0000 - mae: 2393.3210\n",
      "Epoch 23/300\n",
      "366712/366712 [==============================] - 1s 2us/step - loss: 9788621.2686 - mse: 9788623.0000 - mae: 2359.0725\n",
      "Epoch 24/300\n",
      "366712/366712 [==============================] - 1s 2us/step - loss: 9682214.9945 - mse: 9682217.0000 - mae: 2343.3918\n",
      "Epoch 25/300\n",
      "366712/366712 [==============================] - 1s 3us/step - loss: 9736293.1011 - mse: 9736294.0000 - mae: 2350.6621\n",
      "Epoch 26/300\n",
      "366712/366712 [==============================] - 1s 2us/step - loss: 9672760.4686 - mse: 9672760.0000 - mae: 2342.8025\n",
      "Epoch 27/300\n",
      "366712/366712 [==============================] - 1s 3us/step - loss: 9596132.0624 - mse: 9596131.0000 - mae: 2331.1653\n",
      "Epoch 28/300\n",
      "366712/366712 [==============================] - 1s 2us/step - loss: 9677652.1810 - mse: 9677654.0000 - mae: 2340.2192\n",
      "Epoch 29/300\n",
      "366712/366712 [==============================] - 1s 2us/step - loss: 9672646.8368 - mse: 9672645.0000 - mae: 2340.7590\n",
      "Epoch 30/300\n",
      "366712/366712 [==============================] - 1s 3us/step - loss: 9781406.4210 - mse: 9781407.0000 - mae: 2350.5854\n",
      "Epoch 31/300\n",
      "366712/366712 [==============================] - 1s 2us/step - loss: 9666910.2915 - mse: 9666910.0000 - mae: 2337.0762\n",
      "Epoch 32/300\n",
      "366712/366712 [==============================] - 1s 3us/step - loss: 9531534.8193 - mse: 9531536.0000 - mae: 2320.3962\n",
      "Epoch 33/300\n",
      "366712/366712 [==============================] - 1s 2us/step - loss: 9574740.1837 - mse: 9574740.0000 - mae: 2326.6885\n",
      "Epoch 34/300\n",
      "366712/366712 [==============================] - 1s 2us/step - loss: 9549219.0031 - mse: 9549220.0000 - mae: 2320.8315\n",
      "Epoch 35/300\n",
      "366712/366712 [==============================] - 1s 2us/step - loss: 9663928.1324 - mse: 9663929.0000 - mae: 2335.9019\n",
      "Epoch 36/300\n",
      "366712/366712 [==============================] - 1s 2us/step - loss: 9658621.9911 - mse: 9658620.0000 - mae: 2336.1797\n",
      "Epoch 37/300\n",
      "366712/366712 [==============================] - 1s 2us/step - loss: 9608433.0282 - mse: 9608433.0000 - mae: 2328.7632\n",
      "Epoch 38/300\n",
      "366712/366712 [==============================] - 1s 2us/step - loss: 9525277.4172 - mse: 9525276.0000 - mae: 2318.7634\n",
      "Epoch 39/300\n",
      "366712/366712 [==============================] - 1s 2us/step - loss: 9588182.3798 - mse: 9588184.0000 - mae: 2325.8813\n",
      "Epoch 40/300\n",
      "366712/366712 [==============================] - 1s 2us/step - loss: 9561839.6719 - mse: 9561840.0000 - mae: 2321.1184\n",
      "Epoch 41/300\n",
      "366712/366712 [==============================] - 1s 2us/step - loss: 9563451.4717 - mse: 9563451.0000 - mae: 2322.7925\n",
      "Epoch 42/300\n",
      "366712/366712 [==============================] - 1s 2us/step - loss: 9560651.0680 - mse: 9560652.0000 - mae: 2322.2097\n",
      "Epoch 43/300\n",
      "366712/366712 [==============================] - 1s 2us/step - loss: 9630215.0896 - mse: 9630217.0000 - mae: 2330.1890\n",
      "Epoch 44/300\n",
      "366712/366712 [==============================] - 1s 2us/step - loss: 9575963.7866 - mse: 9575963.0000 - mae: 2325.0088\n",
      "Epoch 45/300\n",
      "366712/366712 [==============================] - 1s 2us/step - loss: 9823015.6479 - mse: 9823016.0000 - mae: 2353.6211\n",
      "Epoch 46/300\n",
      "366712/366712 [==============================] - 1s 2us/step - loss: 9524715.9945 - mse: 9524717.0000 - mae: 2317.1604\n",
      "Epoch 47/300\n",
      "366712/366712 [==============================] - 1s 2us/step - loss: 9568686.7560 - mse: 9568686.0000 - mae: 2321.9500\n",
      "Epoch 48/300\n",
      "366712/366712 [==============================] - 1s 2us/step - loss: 9699987.3759 - mse: 9699989.0000 - mae: 2338.8167\n",
      "Epoch 49/300\n",
      "366712/366712 [==============================] - 1s 2us/step - loss: 9543302.0974 - mse: 9543302.0000 - mae: 2320.7268\n",
      "Epoch 50/300\n",
      "366712/366712 [==============================] - 1s 2us/step - loss: 9558917.8465 - mse: 9558918.0000 - mae: 2322.4424\n",
      "Epoch 51/300\n",
      "366712/366712 [==============================] - 1s 2us/step - loss: 9570779.7930 - mse: 9570779.0000 - mae: 2324.4131\n",
      "Epoch 52/300\n",
      "366712/366712 [==============================] - 1s 2us/step - loss: 9605766.1311 - mse: 9605766.0000 - mae: 2326.2822\n",
      "Epoch 53/300\n",
      "366712/366712 [==============================] - 1s 2us/step - loss: 9665805.7417 - mse: 9665804.0000 - mae: 2334.4146\n",
      "Epoch 54/300\n",
      "366712/366712 [==============================] - 1s 2us/step - loss: 9527854.1078 - mse: 9527855.0000 - mae: 2317.2952\n",
      "Epoch 55/300\n",
      "366712/366712 [==============================] - 1s 2us/step - loss: 9628171.4703 - mse: 9628173.0000 - mae: 2333.4609\n",
      "Epoch 56/300\n",
      "366712/366712 [==============================] - 1s 2us/step - loss: 9556299.2570 - mse: 9556297.0000 - mae: 2320.8977\n",
      "Epoch 57/300\n",
      "366712/366712 [==============================] - 1s 3us/step - loss: 9605078.5954 - mse: 9605079.0000 - mae: 2327.0354\n",
      "Epoch 58/300\n",
      "366712/366712 [==============================] - 1s 3us/step - loss: 9558210.1980 - mse: 9558212.0000 - mae: 2319.5010\n",
      "Epoch 59/300\n",
      "366712/366712 [==============================] - 1s 3us/step - loss: 9766392.0511 - mse: 9766392.0000 - mae: 2342.9207\n",
      "Epoch 60/300\n",
      "366712/366712 [==============================] - 1s 2us/step - loss: 9503875.3321 - mse: 9503875.0000 - mae: 2315.2939\n",
      "Epoch 61/300\n",
      "366712/366712 [==============================] - 1s 2us/step - loss: 9612797.2083 - mse: 9612798.0000 - mae: 2327.5896\n",
      "Epoch 62/300\n"
     ]
    },
    {
     "name": "stdout",
     "output_type": "stream",
     "text": [
      "366712/366712 [==============================] - 1s 2us/step - loss: 9522419.6064 - mse: 9522421.0000 - mae: 2315.7263\n",
      "Epoch 63/300\n",
      "366712/366712 [==============================] - 1s 2us/step - loss: 9479498.4123 - mse: 9479498.0000 - mae: 2310.6299\n",
      "Epoch 64/300\n",
      "366712/366712 [==============================] - 1s 2us/step - loss: 9625531.4836 - mse: 9625532.0000 - mae: 2326.4646\n",
      "Epoch 65/300\n",
      "366712/366712 [==============================] - 1s 2us/step - loss: 9515839.4748 - mse: 9515838.0000 - mae: 2313.9478\n",
      "Epoch 66/300\n",
      "366712/366712 [==============================] - 1s 2us/step - loss: 9586487.5034 - mse: 9586488.0000 - mae: 2321.4202\n",
      "Epoch 67/300\n",
      "366712/366712 [==============================] - 1s 2us/step - loss: 9532380.5223 - mse: 9532381.0000 - mae: 2313.5784\n",
      "Epoch 68/300\n",
      "366712/366712 [==============================] - 1s 2us/step - loss: 9580003.6430 - mse: 9580002.0000 - mae: 2320.7878\n",
      "Epoch 69/300\n",
      "366712/366712 [==============================] - 1s 2us/step - loss: 9482342.2999 - mse: 9482344.0000 - mae: 2308.6274\n",
      "Epoch 70/300\n",
      "366712/366712 [==============================] - 1s 2us/step - loss: 9699507.4152 - mse: 9699510.0000 - mae: 2334.2437\n",
      "Epoch 71/300\n",
      "366712/366712 [==============================] - 1s 2us/step - loss: 9539046.9176 - mse: 9539048.0000 - mae: 2318.2107\n",
      "Epoch 72/300\n",
      "366712/366712 [==============================] - 1s 2us/step - loss: 9490328.4618 - mse: 9490330.0000 - mae: 2311.5081\n",
      "Epoch 73/300\n",
      "366712/366712 [==============================] - 1s 2us/step - loss: 9566497.2657 - mse: 9566497.0000 - mae: 2319.8174\n",
      "Epoch 74/300\n",
      "366712/366712 [==============================] - 1s 2us/step - loss: 9514495.8332 - mse: 9514496.0000 - mae: 2314.1528\n",
      "Epoch 75/300\n",
      "366712/366712 [==============================] - 1s 2us/step - loss: 9563095.8430 - mse: 9563096.0000 - mae: 2318.5552\n",
      "Epoch 76/300\n",
      "366712/366712 [==============================] - 1s 3us/step - loss: 9564973.2278 - mse: 9564974.0000 - mae: 2318.4941\n",
      "Epoch 77/300\n",
      "366712/366712 [==============================] - 1s 2us/step - loss: 9579012.9544 - mse: 9579011.0000 - mae: 2319.9790\n",
      "Epoch 78/300\n",
      "366712/366712 [==============================] - 1s 2us/step - loss: 9594900.6445 - mse: 9594900.0000 - mae: 2322.5603: 0s - loss: 9545236.2500 - mse: 95452\n",
      "Epoch 79/300\n",
      "366712/366712 [==============================] - 1s 2us/step - loss: 9664227.7063 - mse: 9664227.0000 - mae: 2330.7361\n",
      "Epoch 80/300\n",
      "366712/366712 [==============================] - 1s 2us/step - loss: 9519596.7381 - mse: 9519596.0000 - mae: 2314.4243\n",
      "Epoch 81/300\n",
      "366712/366712 [==============================] - 1s 2us/step - loss: 9600849.2284 - mse: 9600848.0000 - mae: 2323.1797\n",
      "Epoch 82/300\n",
      "366712/366712 [==============================] - 1s 2us/step - loss: 9594275.8196 - mse: 9594275.0000 - mae: 2322.0149\n",
      "Epoch 83/300\n",
      "366712/366712 [==============================] - 1s 2us/step - loss: 9689016.7872 - mse: 9689016.0000 - mae: 2331.0742\n",
      "Epoch 84/300\n",
      "366712/366712 [==============================] - 1s 2us/step - loss: 9564572.4126 - mse: 9564572.0000 - mae: 2320.2744\n",
      "Epoch 85/300\n",
      "366712/366712 [==============================] - 1s 2us/step - loss: 9527621.7555 - mse: 9527623.0000 - mae: 2315.1670\n",
      "Epoch 86/300\n",
      "366712/366712 [==============================] - 1s 2us/step - loss: 9528360.5672 - mse: 9528360.0000 - mae: 2314.4675\n",
      "Epoch 87/300\n",
      "366712/366712 [==============================] - 1s 2us/step - loss: 9534493.4754 - mse: 9534494.0000 - mae: 2313.1929\n",
      "Epoch 88/300\n",
      "366712/366712 [==============================] - 1s 2us/step - loss: 9513129.6605 - mse: 9513130.0000 - mae: 2313.9724\n",
      "Epoch 89/300\n",
      "366712/366712 [==============================] - 1s 2us/step - loss: 9514071.8209 - mse: 9514073.0000 - mae: 2314.0059\n",
      "Epoch 90/300\n",
      "366712/366712 [==============================] - 1s 2us/step - loss: 9475697.0454 - mse: 9475697.0000 - mae: 2306.5635\n",
      "Epoch 91/300\n",
      "366712/366712 [==============================] - 1s 2us/step - loss: 9540461.7908 - mse: 9540462.0000 - mae: 2314.0225\n",
      "Epoch 92/300\n",
      "366712/366712 [==============================] - 1s 3us/step - loss: 9572057.6786 - mse: 9572057.0000 - mae: 2315.8145\n",
      "Epoch 93/300\n",
      "366712/366712 [==============================] - 1s 2us/step - loss: 9506031.5420 - mse: 9506030.0000 - mae: 2311.8608: 0s - loss: 9503666.8082 - mse: 9503665.0000 - mae: 2311.53\n",
      "Epoch 94/300\n",
      "366712/366712 [==============================] - 1s 2us/step - loss: 9525349.5760 - mse: 9525350.0000 - mae: 2313.4312\n",
      "Epoch 95/300\n",
      "366712/366712 [==============================] - 1s 2us/step - loss: 9576890.6649 - mse: 9576890.0000 - mae: 2319.4302\n",
      "Epoch 96/300\n",
      "366712/366712 [==============================] - 1s 2us/step - loss: 9478071.6824 - mse: 9478073.0000 - mae: 2307.2793\n",
      "Epoch 97/300\n",
      "366712/366712 [==============================] - 1s 2us/step - loss: 9483753.3310 - mse: 9483754.0000 - mae: 2309.2314\n",
      "Epoch 98/300\n",
      "366712/366712 [==============================] - 1s 2us/step - loss: 9485275.5943 - mse: 9485276.0000 - mae: 2306.0242\n",
      "Epoch 99/300\n",
      "366712/366712 [==============================] - 1s 2us/step - loss: 9793189.6697 - mse: 9793191.0000 - mae: 2345.7314\n",
      "Epoch 100/300\n",
      "366712/366712 [==============================] - 1s 2us/step - loss: 9505902.3170 - mse: 9505903.0000 - mae: 2311.0393\n",
      "Epoch 101/300\n",
      "366712/366712 [==============================] - 1s 3us/step - loss: 9458323.6680 - mse: 9458322.0000 - mae: 2305.1763\n",
      "Epoch 102/300\n",
      "366712/366712 [==============================] - 1s 2us/step - loss: 9576583.4781 - mse: 9576583.0000 - mae: 2317.7812\n",
      "Epoch 103/300\n",
      "366712/366712 [==============================] - 1s 2us/step - loss: 9513621.3253 - mse: 9513620.0000 - mae: 2312.8506\n",
      "Epoch 104/300\n",
      "366712/366712 [==============================] - 1s 2us/step - loss: 9487375.9286 - mse: 9487375.0000 - mae: 2309.5510\n",
      "Epoch 105/300\n",
      "366712/366712 [==============================] - 1s 2us/step - loss: 9495301.5786 - mse: 9495303.0000 - mae: 2309.3716\n",
      "Epoch 106/300\n",
      "366712/366712 [==============================] - 1s 2us/step - loss: 9463837.5824 - mse: 9463835.0000 - mae: 2305.0359\n",
      "Epoch 107/300\n",
      "366712/366712 [==============================] - 1s 2us/step - loss: 9566610.1745 - mse: 9566610.0000 - mae: 2316.4182\n",
      "Epoch 108/300\n",
      "366712/366712 [==============================] - 1s 3us/step - loss: 9500049.5009 - mse: 9500049.0000 - mae: 2309.7439\n",
      "Epoch 109/300\n",
      "366712/366712 [==============================] - 1s 4us/step - loss: 9685691.9954 - mse: 9685693.0000 - mae: 2332.9314\n",
      "Epoch 110/300\n",
      "366712/366712 [==============================] - 1s 2us/step - loss: 9632415.2683 - mse: 9632415.0000 - mae: 2325.7932\n",
      "Epoch 111/300\n",
      "366712/366712 [==============================] - 1s 2us/step - loss: 9651981.9315 - mse: 9651983.0000 - mae: 2329.2258: 0s - loss: 9538576.6667 - mse:\n",
      "Epoch 112/300\n",
      "366712/366712 [==============================] - 1s 2us/step - loss: 9544850.7367 - mse: 9544850.0000 - mae: 2315.0010\n",
      "Epoch 113/300\n",
      "366712/366712 [==============================] - 1s 2us/step - loss: 9452286.0735 - mse: 9452285.0000 - mae: 2305.0471\n",
      "Epoch 114/300\n",
      "366712/366712 [==============================] - 1s 2us/step - loss: 9457101.7032 - mse: 9457102.0000 - mae: 2304.6455\n",
      "Epoch 115/300\n",
      "366712/366712 [==============================] - 1s 2us/step - loss: 9470539.1950 - mse: 9470540.0000 - mae: 2304.6704\n",
      "Epoch 116/300\n",
      "366712/366712 [==============================] - 1s 2us/step - loss: 9502312.3437 - mse: 9502312.0000 - mae: 2309.9656\n",
      "Epoch 117/300\n",
      "366712/366712 [==============================] - 1s 2us/step - loss: 9463223.4674 - mse: 9463225.0000 - mae: 2304.2517\n",
      "Epoch 118/300\n",
      "366712/366712 [==============================] - 1s 3us/step - loss: 9637313.3955 - mse: 9637312.0000 - mae: 2327.9441\n",
      "Epoch 119/300\n",
      "366712/366712 [==============================] - 2s 6us/step - loss: 9500069.7534 - mse: 9500069.0000 - mae: 2309.5757\n",
      "Epoch 120/300\n",
      "366712/366712 [==============================] - 1s 3us/step - loss: 9847388.2315 - mse: 9847387.0000 - mae: 2348.2651\n",
      "Epoch 121/300\n",
      "366712/366712 [==============================] - 1s 3us/step - loss: 9599080.2094 - mse: 9599079.0000 - mae: 2318.9788\n",
      "Epoch 122/300\n"
     ]
    },
    {
     "name": "stdout",
     "output_type": "stream",
     "text": [
      "366712/366712 [==============================] - 1s 3us/step - loss: 9667505.2546 - mse: 9667505.0000 - mae: 2329.4675: 0s - loss: 9673957.1970 - mse: 9673957.0000 - mae: 2330.\n",
      "Epoch 123/300\n",
      "366712/366712 [==============================] - 1s 3us/step - loss: 9557374.9596 - mse: 9557375.0000 - mae: 2317.6094\n",
      "Epoch 124/300\n",
      "366712/366712 [==============================] - 1s 3us/step - loss: 9479398.4175 - mse: 9479398.0000 - mae: 2307.2368\n",
      "Epoch 125/300\n",
      "366712/366712 [==============================] - 1s 3us/step - loss: 9437408.2586 - mse: 9437408.0000 - mae: 2302.3767\n",
      "Epoch 126/300\n",
      "366712/366712 [==============================] - 1s 3us/step - loss: 9471900.9334 - mse: 9471899.0000 - mae: 2306.6313\n",
      "Epoch 127/300\n",
      "366712/366712 [==============================] - 1s 3us/step - loss: 9475421.5841 - mse: 9475423.0000 - mae: 2304.3997\n",
      "Epoch 128/300\n",
      "366712/366712 [==============================] - 1s 3us/step - loss: 9518460.1023 - mse: 9518457.0000 - mae: 2308.9858: 0s - loss: 9418157.1778 - mse: 9418156.0\n",
      "Epoch 129/300\n",
      "366712/366712 [==============================] - 1s 3us/step - loss: 9517223.7325 - mse: 9517223.0000 - mae: 2311.2344\n",
      "Epoch 130/300\n",
      "366712/366712 [==============================] - 1s 4us/step - loss: 9492475.0986 - mse: 9492476.0000 - mae: 2308.3354: 0s - loss: 9465246.9245 - mse: 9465248.0000 - ma\n",
      "Epoch 131/300\n",
      "366712/366712 [==============================] - 1s 3us/step - loss: 9537766.7159 - mse: 9537766.0000 - mae: 2313.4060\n",
      "Epoch 132/300\n",
      "366712/366712 [==============================] - 1s 2us/step - loss: 9490250.2955 - mse: 9490251.0000 - mae: 2310.7935\n",
      "Epoch 133/300\n",
      "366712/366712 [==============================] - 1s 2us/step - loss: 9526012.9935 - mse: 9526012.0000 - mae: 2312.7180\n",
      "Epoch 134/300\n",
      "366712/366712 [==============================] - 1s 2us/step - loss: 9467574.8395 - mse: 9467573.0000 - mae: 2305.4460\n",
      "Epoch 135/300\n",
      "366712/366712 [==============================] - 1s 2us/step - loss: 9503734.7851 - mse: 9503737.0000 - mae: 2307.7031\n",
      "Epoch 136/300\n",
      "366712/366712 [==============================] - 1s 2us/step - loss: 9462683.3265 - mse: 9462684.0000 - mae: 2304.8569\n",
      "Epoch 137/300\n",
      "366712/366712 [==============================] - 1s 2us/step - loss: 9563656.4919 - mse: 9563657.0000 - mae: 2316.4688: 0s - loss: 9417905.9167 - mse: 9417905.0\n",
      "Epoch 138/300\n",
      "366712/366712 [==============================] - 1s 2us/step - loss: 9567411.7732 - mse: 9567410.0000 - mae: 2319.2104\n",
      "Epoch 139/300\n",
      "366712/366712 [==============================] - 1s 3us/step - loss: 9615947.8427 - mse: 9615950.0000 - mae: 2320.2620\n",
      "Epoch 140/300\n",
      "366712/366712 [==============================] - 1s 3us/step - loss: 9570181.3945 - mse: 9570182.0000 - mae: 2315.4546\n",
      "Epoch 141/300\n",
      "366712/366712 [==============================] - 1s 2us/step - loss: 9484786.8370 - mse: 9484789.0000 - mae: 2306.3953\n",
      "Epoch 142/300\n",
      "366712/366712 [==============================] - 1s 2us/step - loss: 9560307.4016 - mse: 9560310.0000 - mae: 2312.8921\n",
      "Epoch 143/300\n",
      "366712/366712 [==============================] - 1s 2us/step - loss: 9454061.1555 - mse: 9454060.0000 - mae: 2304.0015\n",
      "Epoch 144/300\n",
      "366712/366712 [==============================] - 1s 2us/step - loss: 9452333.3173 - mse: 9452336.0000 - mae: 2305.9121\n",
      "Epoch 145/300\n",
      "366712/366712 [==============================] - 1s 2us/step - loss: 9449883.1364 - mse: 9449885.0000 - mae: 2303.2380\n",
      "Epoch 146/300\n",
      "366712/366712 [==============================] - 1s 2us/step - loss: 9460715.4622 - mse: 9460718.0000 - mae: 2303.5750\n",
      "Epoch 147/300\n",
      "366712/366712 [==============================] - 1s 2us/step - loss: 9627734.3632 - mse: 9627737.0000 - mae: 2322.9360\n",
      "Epoch 148/300\n",
      "366712/366712 [==============================] - 1s 2us/step - loss: 9593954.6605 - mse: 9593954.0000 - mae: 2318.9814\n",
      "Epoch 149/300\n",
      "366712/366712 [==============================] - 1s 2us/step - loss: 9560938.7770 - mse: 9560941.0000 - mae: 2313.8586\n",
      "Epoch 150/300\n",
      "366712/366712 [==============================] - 1s 2us/step - loss: 9535162.4143 - mse: 9535161.0000 - mae: 2312.8586\n",
      "Epoch 151/300\n",
      "366712/366712 [==============================] - 1s 2us/step - loss: 9513962.3172 - mse: 9513960.0000 - mae: 2310.7913\n",
      "Epoch 152/300\n",
      "366712/366712 [==============================] - 1s 2us/step - loss: 9553212.8433 - mse: 9553213.0000 - mae: 2315.0415\n",
      "Epoch 153/300\n",
      "366712/366712 [==============================] - 1s 2us/step - loss: 9444318.4855 - mse: 9444317.0000 - mae: 2301.2722\n",
      "Epoch 154/300\n",
      "366712/366712 [==============================] - 1s 3us/step - loss: 9543155.2121 - mse: 9543156.0000 - mae: 2312.5261\n",
      "Epoch 155/300\n",
      "366712/366712 [==============================] - 1s 2us/step - loss: 9510204.0876 - mse: 9510202.0000 - mae: 2310.5620\n",
      "Epoch 156/300\n",
      "366712/366712 [==============================] - 1s 2us/step - loss: 9452618.4504 - mse: 9452620.0000 - mae: 2304.3032\n",
      "Epoch 157/300\n",
      "366712/366712 [==============================] - 1s 2us/step - loss: 9490223.8677 - mse: 9490224.0000 - mae: 2307.5591\n",
      "Epoch 158/300\n",
      "366712/366712 [==============================] - 1s 2us/step - loss: 9498567.5690 - mse: 9498567.0000 - mae: 2309.3606\n",
      "Epoch 159/300\n",
      "366712/366712 [==============================] - 1s 2us/step - loss: 9485770.0792 - mse: 9485772.0000 - mae: 2306.6824\n",
      "Epoch 160/300\n",
      "366712/366712 [==============================] - 1s 2us/step - loss: 9461478.6789 - mse: 9461479.0000 - mae: 2304.0168\n",
      "Epoch 161/300\n",
      "366712/366712 [==============================] - 1s 2us/step - loss: 9423796.3334 - mse: 9423795.0000 - mae: 2301.4304\n",
      "Epoch 162/300\n",
      "366712/366712 [==============================] - 1s 2us/step - loss: 9424074.8424 - mse: 9424076.0000 - mae: 2300.1577\n",
      "Epoch 163/300\n",
      "366712/366712 [==============================] - 1s 2us/step - loss: 9577456.2300 - mse: 9577459.0000 - mae: 2314.7478\n",
      "Epoch 164/300\n",
      "366712/366712 [==============================] - 1s 2us/step - loss: 9506525.1982 - mse: 9506527.0000 - mae: 2308.2600\n",
      "Epoch 165/300\n",
      "366712/366712 [==============================] - 1s 2us/step - loss: 9473600.8048 - mse: 9473598.0000 - mae: 2305.2256\n",
      "Epoch 166/300\n",
      "366712/366712 [==============================] - 1s 2us/step - loss: 9867914.3872 - mse: 9867917.0000 - mae: 2349.7920\n",
      "Epoch 167/300\n",
      "366712/366712 [==============================] - 1s 2us/step - loss: 9586437.8433 - mse: 9586436.0000 - mae: 2321.9846\n",
      "Epoch 168/300\n",
      "366712/366712 [==============================] - 1s 2us/step - loss: 9471385.9650 - mse: 9471386.0000 - mae: 2307.9172\n",
      "Epoch 169/300\n",
      "366712/366712 [==============================] - 1s 3us/step - loss: 9519717.0878 - mse: 9519717.0000 - mae: 2310.2097\n",
      "Epoch 170/300\n",
      "366712/366712 [==============================] - 1s 2us/step - loss: 9496604.6580 - mse: 9496604.0000 - mae: 2306.7998\n",
      "Epoch 171/300\n",
      "366712/366712 [==============================] - 1s 2us/step - loss: 9520839.1338 - mse: 9520836.0000 - mae: 2310.4326\n",
      "Epoch 172/300\n",
      "366712/366712 [==============================] - 1s 3us/step - loss: 9454452.6619 - mse: 9454452.0000 - mae: 2303.9443\n",
      "Epoch 173/300\n",
      "366712/366712 [==============================] - 1s 2us/step - loss: 9461687.3319 - mse: 9461687.0000 - mae: 2306.5342\n",
      "Epoch 174/300\n",
      "366712/366712 [==============================] - 1s 2us/step - loss: 9705396.2090 - mse: 9705398.0000 - mae: 2334.0552\n",
      "Epoch 175/300\n",
      "366712/366712 [==============================] - 1s 3us/step - loss: 9458464.9740 - mse: 9458465.0000 - mae: 2301.6460\n",
      "Epoch 176/300\n",
      "366712/366712 [==============================] - 1s 2us/step - loss: 9473885.0445 - mse: 9473885.0000 - mae: 2304.1296\n",
      "Epoch 177/300\n",
      "366712/366712 [==============================] - 1s 2us/step - loss: 9479864.8400 - mse: 9479865.0000 - mae: 2306.5208\n",
      "Epoch 178/300\n",
      "366712/366712 [==============================] - 2s 4us/step - loss: 9432322.2835 - mse: 9432323.0000 - mae: 2299.6455\n",
      "Epoch 179/300\n",
      "366712/366712 [==============================] - 2s 4us/step - loss: 9465954.1566 - mse: 9465955.0000 - mae: 2305.0339: 1s - loss: 9404910.9615 - mse: 9404911.0000 - mae: - ETA: 0s - loss: 9441375.6750 - mse: 9441376\n",
      "Epoch 180/300\n",
      "366712/366712 [==============================] - 2s 4us/step - loss: 9808570.9398 - mse: 9808571.0000 - mae: 2340.3110: 0s - loss: 9899909.7667 - mse: 9899909.0000 - mae:\n",
      "Epoch 181/300\n"
     ]
    },
    {
     "name": "stdout",
     "output_type": "stream",
     "text": [
      "366712/366712 [==============================] - 1s 3us/step - loss: 9522021.5999 - mse: 9522020.0000 - mae: 2314.4263\n",
      "Epoch 182/300\n",
      "366712/366712 [==============================] - 1s 3us/step - loss: 9523603.6872 - mse: 9523602.0000 - mae: 2313.0552\n",
      "Epoch 183/300\n",
      "366712/366712 [==============================] - 1s 2us/step - loss: 9459887.2559 - mse: 9459888.0000 - mae: 2303.7012\n",
      "Epoch 184/300\n",
      "366712/366712 [==============================] - 1s 2us/step - loss: 9512661.1006 - mse: 9512660.0000 - mae: 2307.7314\n",
      "Epoch 185/300\n",
      "366712/366712 [==============================] - 1s 2us/step - loss: 9460243.6368 - mse: 9460243.0000 - mae: 2303.8113\n",
      "Epoch 186/300\n",
      "366712/366712 [==============================] - 1s 2us/step - loss: 9430511.5339 - mse: 9430512.0000 - mae: 2300.0930\n",
      "Epoch 187/300\n",
      "366712/366712 [==============================] - 1s 2us/step - loss: 9550325.2303 - mse: 9550324.0000 - mae: 2313.6638\n",
      "Epoch 188/300\n",
      "366712/366712 [==============================] - 1s 2us/step - loss: 9465894.5287 - mse: 9465895.0000 - mae: 2303.6665\n",
      "Epoch 189/300\n",
      "366712/366712 [==============================] - 1s 2us/step - loss: 9525308.6633 - mse: 9525310.0000 - mae: 2309.3528\n",
      "Epoch 190/300\n",
      "366712/366712 [==============================] - 1s 2us/step - loss: 9632088.2042 - mse: 9632086.0000 - mae: 2326.3135\n",
      "Epoch 191/300\n",
      "366712/366712 [==============================] - 1s 2us/step - loss: 9632367.7596 - mse: 9632369.0000 - mae: 2323.3760\n",
      "Epoch 192/300\n",
      "366712/366712 [==============================] - 1s 2us/step - loss: 9469028.0069 - mse: 9469031.0000 - mae: 2304.6152\n",
      "Epoch 193/300\n",
      "366712/366712 [==============================] - 1s 2us/step - loss: 9432206.0896 - mse: 9432207.0000 - mae: 2300.0496\n",
      "Epoch 194/300\n",
      "366712/366712 [==============================] - 1s 2us/step - loss: 9631437.5407 - mse: 9631436.0000 - mae: 2320.7566\n",
      "Epoch 195/300\n",
      "366712/366712 [==============================] - 1s 2us/step - loss: 9470215.6690 - mse: 9470215.0000 - mae: 2304.7983\n",
      "Epoch 196/300\n",
      "366712/366712 [==============================] - 1s 2us/step - loss: 9504443.6084 - mse: 9504443.0000 - mae: 2307.6265\n",
      "Epoch 197/300\n",
      "366712/366712 [==============================] - 1s 2us/step - loss: 9493345.9104 - mse: 9493346.0000 - mae: 2306.6138\n",
      "Epoch 198/300\n",
      "366712/366712 [==============================] - 1s 2us/step - loss: 9466417.0002 - mse: 9466418.0000 - mae: 2303.8464\n",
      "Epoch 199/300\n",
      "366712/366712 [==============================] - 1s 2us/step - loss: 9491565.7695 - mse: 9491566.0000 - mae: 2306.1943\n",
      "Epoch 200/300\n",
      "366712/366712 [==============================] - 1s 2us/step - loss: 9459222.8420 - mse: 9459222.0000 - mae: 2303.7236\n",
      "Epoch 201/300\n",
      "366712/366712 [==============================] - 1s 2us/step - loss: 9435150.2631 - mse: 9435149.0000 - mae: 2300.5344\n",
      "Epoch 202/300\n",
      "366712/366712 [==============================] - 1s 2us/step - loss: 9472583.7199 - mse: 9472583.0000 - mae: 2304.1001\n",
      "Epoch 203/300\n",
      "366712/366712 [==============================] - 1s 2us/step - loss: 9478707.8235 - mse: 9478707.0000 - mae: 2304.1377\n",
      "Epoch 204/300\n",
      "366712/366712 [==============================] - 1s 2us/step - loss: 9460589.5057 - mse: 9460589.0000 - mae: 2303.1306\n",
      "Epoch 205/300\n",
      "366712/366712 [==============================] - 1s 2us/step - loss: 9478700.1241 - mse: 9478700.0000 - mae: 2306.0940\n",
      "Epoch 206/300\n",
      "366712/366712 [==============================] - 1s 2us/step - loss: 9506964.3228 - mse: 9506967.0000 - mae: 2306.2749\n",
      "Epoch 207/300\n",
      "366712/366712 [==============================] - 1s 2us/step - loss: 9500199.4584 - mse: 9500198.0000 - mae: 2306.6162\n",
      "Epoch 208/300\n",
      "366712/366712 [==============================] - 1s 2us/step - loss: 9506655.9631 - mse: 9506657.0000 - mae: 2308.9548\n",
      "Epoch 209/300\n",
      "366712/366712 [==============================] - 1s 2us/step - loss: 9817076.1291 - mse: 9817077.0000 - mae: 2343.4758\n",
      "Epoch 210/300\n",
      "366712/366712 [==============================] - 1s 2us/step - loss: 9420981.2453 - mse: 9420980.0000 - mae: 2302.4182\n",
      "Epoch 211/300\n",
      "366712/366712 [==============================] - 1s 2us/step - loss: 9482623.1704 - mse: 9482622.0000 - mae: 2306.9675\n",
      "Epoch 212/300\n",
      "366712/366712 [==============================] - 1s 2us/step - loss: 9522866.1883 - mse: 9522865.0000 - mae: 2308.2759\n",
      "Epoch 213/300\n",
      "366712/366712 [==============================] - 1s 2us/step - loss: 9460037.9876 - mse: 9460036.0000 - mae: 2301.6379\n",
      "Epoch 214/300\n",
      "366712/366712 [==============================] - 1s 2us/step - loss: 9488830.3260 - mse: 9488830.0000 - mae: 2305.5386\n",
      "Epoch 215/300\n",
      "366712/366712 [==============================] - 1s 2us/step - loss: 9489282.7427 - mse: 9489282.0000 - mae: 2305.9407\n",
      "Epoch 216/300\n",
      "366712/366712 [==============================] - 1s 2us/step - loss: 9421344.6859 - mse: 9421345.0000 - mae: 2300.0630\n",
      "Epoch 217/300\n",
      "366712/366712 [==============================] - 1s 2us/step - loss: 9542572.6234 - mse: 9542574.0000 - mae: 2312.4565\n",
      "Epoch 218/300\n",
      "366712/366712 [==============================] - 1s 2us/step - loss: 9472848.2724 - mse: 9472849.0000 - mae: 2302.9543\n",
      "Epoch 219/300\n",
      "366712/366712 [==============================] - 1s 2us/step - loss: 9463604.7168 - mse: 9463603.0000 - mae: 2303.2292\n",
      "Epoch 220/300\n",
      "366712/366712 [==============================] - 1s 2us/step - loss: 9497778.1974 - mse: 9497779.0000 - mae: 2305.8286\n",
      "Epoch 221/300\n",
      "366712/366712 [==============================] - 1s 2us/step - loss: 9521604.0488 - mse: 9521603.0000 - mae: 2309.5220\n",
      "Epoch 222/300\n",
      "366712/366712 [==============================] - 1s 2us/step - loss: 9463720.4617 - mse: 9463721.0000 - mae: 2303.6152\n",
      "Epoch 223/300\n",
      "366712/366712 [==============================] - 1s 2us/step - loss: 9602619.9210 - mse: 9602620.0000 - mae: 2318.5715\n",
      "Epoch 224/300\n",
      "366712/366712 [==============================] - 1s 2us/step - loss: 9477626.0869 - mse: 9477627.0000 - mae: 2307.6775\n",
      "Epoch 225/300\n",
      "366712/366712 [==============================] - 1s 2us/step - loss: 9562010.3856 - mse: 9562010.0000 - mae: 2313.4424\n",
      "Epoch 226/300\n",
      "366712/366712 [==============================] - 1s 2us/step - loss: 9482329.5455 - mse: 9482330.0000 - mae: 2306.3284\n",
      "Epoch 227/300\n",
      "366712/366712 [==============================] - 1s 2us/step - loss: 9636868.5604 - mse: 9636869.0000 - mae: 2319.7122\n",
      "Epoch 228/300\n",
      "366712/366712 [==============================] - 1s 2us/step - loss: 9512327.3252 - mse: 9512328.0000 - mae: 2309.7241\n",
      "Epoch 229/300\n",
      "366712/366712 [==============================] - 1s 2us/step - loss: 9500472.9029 - mse: 9500473.0000 - mae: 2308.6245\n",
      "Epoch 230/300\n",
      "366712/366712 [==============================] - 1s 2us/step - loss: 9472387.2068 - mse: 9472388.0000 - mae: 2305.1987\n",
      "Epoch 231/300\n",
      "366712/366712 [==============================] - 1s 2us/step - loss: 9584234.0174 - mse: 9584235.0000 - mae: 2316.8633\n",
      "Epoch 232/300\n",
      "366712/366712 [==============================] - 1s 2us/step - loss: 9428788.7241 - mse: 9428790.0000 - mae: 2299.5728\n",
      "Epoch 233/300\n",
      "366712/366712 [==============================] - 1s 2us/step - loss: 9445118.0483 - mse: 9445120.0000 - mae: 2301.1082\n",
      "Epoch 234/300\n",
      "366712/366712 [==============================] - 1s 2us/step - loss: 9521121.1451 - mse: 9521120.0000 - mae: 2309.2856\n",
      "Epoch 235/300\n",
      "366712/366712 [==============================] - 1s 2us/step - loss: 9441341.9867 - mse: 9441342.0000 - mae: 2303.4531\n",
      "Epoch 236/300\n",
      "366712/366712 [==============================] - 1s 2us/step - loss: 9488745.2570 - mse: 9488745.0000 - mae: 2306.8083\n",
      "Epoch 237/300\n",
      "366712/366712 [==============================] - 1s 2us/step - loss: 9742233.5215 - mse: 9742233.0000 - mae: 2333.3071\n",
      "Epoch 238/300\n",
      "366712/366712 [==============================] - 1s 2us/step - loss: 9539148.2440 - mse: 9539149.0000 - mae: 2310.5938\n",
      "Epoch 239/300\n",
      "366712/366712 [==============================] - 1s 2us/step - loss: 9402917.7184 - mse: 9402916.0000 - mae: 2297.9421\n",
      "Epoch 240/300\n",
      "366712/366712 [==============================] - 1s 2us/step - loss: 9486492.7374 - mse: 9486491.0000 - mae: 2304.7402\n",
      "Epoch 241/300\n",
      "366712/366712 [==============================] - 1s 2us/step - loss: 9469998.7230 - mse: 9469998.0000 - mae: 2302.8772\n",
      "Epoch 242/300\n"
     ]
    },
    {
     "name": "stdout",
     "output_type": "stream",
     "text": [
      "366712/366712 [==============================] - 1s 2us/step - loss: 9502137.2233 - mse: 9502137.0000 - mae: 2308.8210\n",
      "Epoch 243/300\n",
      "366712/366712 [==============================] - 1s 2us/step - loss: 9426415.3396 - mse: 9426417.0000 - mae: 2300.2900\n",
      "Epoch 244/300\n",
      "366712/366712 [==============================] - 1s 2us/step - loss: 9602611.2764 - mse: 9602610.0000 - mae: 2317.3118\n",
      "Epoch 245/300\n",
      "366712/366712 [==============================] - 1s 2us/step - loss: 9573392.4223 - mse: 9573394.0000 - mae: 2315.1045\n",
      "Epoch 246/300\n",
      "366712/366712 [==============================] - 1s 2us/step - loss: 9513254.1822 - mse: 9513255.0000 - mae: 2309.2612\n",
      "Epoch 247/300\n",
      "366712/366712 [==============================] - 1s 2us/step - loss: 9504046.8928 - mse: 9504046.0000 - mae: 2308.0728\n",
      "Epoch 248/300\n",
      "366712/366712 [==============================] - 1s 2us/step - loss: 9510217.7771 - mse: 9510218.0000 - mae: 2307.4836\n",
      "Epoch 249/300\n",
      "366712/366712 [==============================] - 1s 2us/step - loss: 9431415.6665 - mse: 9431414.0000 - mae: 2299.8135\n",
      "Epoch 250/300\n",
      "366712/366712 [==============================] - 1s 2us/step - loss: 9476117.2149 - mse: 9476116.0000 - mae: 2305.0112\n",
      "Epoch 251/300\n",
      "366712/366712 [==============================] - 1s 2us/step - loss: 9552843.8443 - mse: 9552844.0000 - mae: 2308.9573\n",
      "Epoch 252/300\n",
      "366712/366712 [==============================] - 1s 2us/step - loss: 9549579.5514 - mse: 9549580.0000 - mae: 2310.4470\n",
      "Epoch 253/300\n",
      "366712/366712 [==============================] - 1s 2us/step - loss: 9516400.5847 - mse: 9516401.0000 - mae: 2308.5215\n",
      "Epoch 254/300\n",
      "366712/366712 [==============================] - 1s 2us/step - loss: 9441389.5085 - mse: 9441389.0000 - mae: 2298.5334\n",
      "Epoch 255/300\n",
      "366712/366712 [==============================] - 1s 2us/step - loss: 9580762.6539 - mse: 9580764.0000 - mae: 2313.5339\n",
      "Epoch 256/300\n",
      "366712/366712 [==============================] - 1s 2us/step - loss: 9586117.3073 - mse: 9586117.0000 - mae: 2313.1497\n",
      "Epoch 257/300\n",
      "366712/366712 [==============================] - 1s 2us/step - loss: 9460280.8369 - mse: 9460283.0000 - mae: 2303.5022\n",
      "Epoch 258/300\n",
      "366712/366712 [==============================] - 1s 2us/step - loss: 9449211.5555 - mse: 9449211.0000 - mae: 2300.8464\n",
      "Epoch 259/300\n",
      "366712/366712 [==============================] - 1s 2us/step - loss: 9513918.5989 - mse: 9513920.0000 - mae: 2305.4141\n",
      "Epoch 260/300\n",
      "366712/366712 [==============================] - 1s 2us/step - loss: 9497094.6401 - mse: 9497096.0000 - mae: 2305.4221\n",
      "Epoch 261/300\n",
      "366712/366712 [==============================] - 1s 2us/step - loss: 9522454.2504 - mse: 9522455.0000 - mae: 2307.2380\n",
      "Epoch 262/300\n",
      "366712/366712 [==============================] - 1s 2us/step - loss: 9564896.7329 - mse: 9564897.0000 - mae: 2309.2227\n",
      "Epoch 263/300\n",
      "366712/366712 [==============================] - 1s 2us/step - loss: 9481990.6517 - mse: 9481990.0000 - mae: 2303.4424\n",
      "Epoch 264/300\n",
      "366712/366712 [==============================] - 1s 2us/step - loss: 9431987.2031 - mse: 9431986.0000 - mae: 2299.8188\n",
      "Epoch 265/300\n",
      "366712/366712 [==============================] - 1s 2us/step - loss: 9436322.4994 - mse: 9436320.0000 - mae: 2298.8481\n",
      "Epoch 266/300\n",
      "366712/366712 [==============================] - 1s 2us/step - loss: 9462109.6939 - mse: 9462109.0000 - mae: 2299.7705\n",
      "Epoch 267/300\n",
      "366712/366712 [==============================] - 1s 2us/step - loss: 9581154.4087 - mse: 9581155.0000 - mae: 2312.3093\n",
      "Epoch 268/300\n",
      "366712/366712 [==============================] - 1s 2us/step - loss: 9468732.6301 - mse: 9468733.0000 - mae: 2301.4756\n",
      "Epoch 269/300\n",
      "366712/366712 [==============================] - 1s 2us/step - loss: 9554243.5962 - mse: 9554243.0000 - mae: 2309.6587\n",
      "Epoch 270/300\n",
      "366712/366712 [==============================] - 1s 2us/step - loss: 9553300.1604 - mse: 9553300.0000 - mae: 2310.8479\n",
      "Epoch 271/300\n",
      "366712/366712 [==============================] - 1s 2us/step - loss: 9520765.9546 - mse: 9520766.0000 - mae: 2308.5886\n",
      "Epoch 272/300\n",
      "366712/366712 [==============================] - 1s 2us/step - loss: 9479813.9144 - mse: 9479813.0000 - mae: 2301.8403\n",
      "Epoch 273/300\n",
      "366712/366712 [==============================] - 1s 2us/step - loss: 9451168.3347 - mse: 9451169.0000 - mae: 2300.2402\n",
      "Epoch 274/300\n",
      "366712/366712 [==============================] - 1s 2us/step - loss: 9403141.3049 - mse: 9403143.0000 - mae: 2293.8948\n",
      "Epoch 275/300\n",
      "366712/366712 [==============================] - 1s 3us/step - loss: 9555205.7892 - mse: 9555206.0000 - mae: 2310.4978\n",
      "Epoch 276/300\n",
      "366712/366712 [==============================] - 1s 2us/step - loss: 9449800.4919 - mse: 9449803.0000 - mae: 2300.2344\n",
      "Epoch 277/300\n",
      "366712/366712 [==============================] - 1s 3us/step - loss: 9722498.3460 - mse: 9722496.0000 - mae: 2333.8916\n",
      "Epoch 278/300\n",
      "366712/366712 [==============================] - 1s 3us/step - loss: 9561276.5992 - mse: 9561278.0000 - mae: 2313.3013: 3s - loss: 9822249.5000 \n",
      "Epoch 279/300\n",
      "366712/366712 [==============================] - 1s 2us/step - loss: 9483770.2584 - mse: 9483766.0000 - mae: 2302.0930\n",
      "Epoch 280/300\n",
      "366712/366712 [==============================] - 1s 2us/step - loss: 9456207.3793 - mse: 9456209.0000 - mae: 2299.0764\n",
      "Epoch 281/300\n",
      "366712/366712 [==============================] - 1s 2us/step - loss: 9451744.6766 - mse: 9451746.0000 - mae: 2297.5195\n",
      "Epoch 282/300\n",
      "366712/366712 [==============================] - 1s 3us/step - loss: 9468743.2446 - mse: 9468743.0000 - mae: 2300.4807: 2s - loss: 9550341.5000 - mse: 9550342.000 - ETA: 0s - loss: 9513102.4412 - mse: 9513103.000\n",
      "Epoch 283/300\n",
      "366712/366712 [==============================] - 1s 2us/step - loss: 9525751.6491 - mse: 9525751.0000 - mae: 2305.5229\n",
      "Epoch 284/300\n",
      "366712/366712 [==============================] - 1s 2us/step - loss: 9450096.5452 - mse: 9450097.0000 - mae: 2298.1140\n",
      "Epoch 285/300\n",
      "366712/366712 [==============================] - 1s 2us/step - loss: 9583306.7728 - mse: 9583306.0000 - mae: 2311.6223: 0s - loss: 9477838.1250 - mse: 94778\n",
      "Epoch 286/300\n",
      "366712/366712 [==============================] - 1s 2us/step - loss: 9529450.4160 - mse: 9529450.0000 - mae: 2306.9453\n",
      "Epoch 287/300\n",
      "155000/366712 [===========>..................] - ETA: 0s - loss: 9483482.0645 - mse: 9483481.0000 - mae: 2303.5291"
     ]
    },
    {
     "ename": "KeyboardInterrupt",
     "evalue": "",
     "output_type": "error",
     "traceback": [
      "\u001b[1;31m---------------------------------------------------------------------------\u001b[0m",
      "\u001b[1;31mKeyboardInterrupt\u001b[0m                         Traceback (most recent call last)",
      "\u001b[1;32m<ipython-input-41-95c88bae555a>\u001b[0m in \u001b[0;36m<module>\u001b[1;34m\u001b[0m\n\u001b[1;32m----> 1\u001b[1;33m \u001b[0mmodel\u001b[0m\u001b[1;33m.\u001b[0m\u001b[0mfit\u001b[0m\u001b[1;33m(\u001b[0m\u001b[0mX_train\u001b[0m\u001b[1;33m,\u001b[0m \u001b[0my_train\u001b[0m\u001b[1;33m,\u001b[0m \u001b[0mepochs\u001b[0m\u001b[1;33m=\u001b[0m\u001b[1;36m300\u001b[0m\u001b[1;33m,\u001b[0m \u001b[0mbatch_size\u001b[0m\u001b[1;33m=\u001b[0m\u001b[1;36m5000\u001b[0m\u001b[1;33m,\u001b[0m \u001b[0mverbose\u001b[0m\u001b[1;33m=\u001b[0m\u001b[1;36m1\u001b[0m\u001b[1;33m)\u001b[0m\u001b[1;33m\u001b[0m\u001b[1;33m\u001b[0m\u001b[0m\n\u001b[0m",
      "\u001b[1;32mC:\\Sources\\Anaconda3\\lib\\site-packages\\keras\\engine\\training.py\u001b[0m in \u001b[0;36mfit\u001b[1;34m(self, x, y, batch_size, epochs, verbose, callbacks, validation_split, validation_data, shuffle, class_weight, sample_weight, initial_epoch, steps_per_epoch, validation_steps, validation_freq, max_queue_size, workers, use_multiprocessing, **kwargs)\u001b[0m\n\u001b[0;32m   1237\u001b[0m                                         \u001b[0msteps_per_epoch\u001b[0m\u001b[1;33m=\u001b[0m\u001b[0msteps_per_epoch\u001b[0m\u001b[1;33m,\u001b[0m\u001b[1;33m\u001b[0m\u001b[1;33m\u001b[0m\u001b[0m\n\u001b[0;32m   1238\u001b[0m                                         \u001b[0mvalidation_steps\u001b[0m\u001b[1;33m=\u001b[0m\u001b[0mvalidation_steps\u001b[0m\u001b[1;33m,\u001b[0m\u001b[1;33m\u001b[0m\u001b[1;33m\u001b[0m\u001b[0m\n\u001b[1;32m-> 1239\u001b[1;33m                                         validation_freq=validation_freq)\n\u001b[0m\u001b[0;32m   1240\u001b[0m \u001b[1;33m\u001b[0m\u001b[0m\n\u001b[0;32m   1241\u001b[0m     def evaluate(self,\n",
      "\u001b[1;32mC:\\Sources\\Anaconda3\\lib\\site-packages\\keras\\engine\\training_arrays.py\u001b[0m in \u001b[0;36mfit_loop\u001b[1;34m(model, fit_function, fit_inputs, out_labels, batch_size, epochs, verbose, callbacks, val_function, val_inputs, shuffle, initial_epoch, steps_per_epoch, validation_steps, validation_freq)\u001b[0m\n\u001b[0;32m    194\u001b[0m                     \u001b[0mins_batch\u001b[0m\u001b[1;33m[\u001b[0m\u001b[0mi\u001b[0m\u001b[1;33m]\u001b[0m \u001b[1;33m=\u001b[0m \u001b[0mins_batch\u001b[0m\u001b[1;33m[\u001b[0m\u001b[0mi\u001b[0m\u001b[1;33m]\u001b[0m\u001b[1;33m.\u001b[0m\u001b[0mtoarray\u001b[0m\u001b[1;33m(\u001b[0m\u001b[1;33m)\u001b[0m\u001b[1;33m\u001b[0m\u001b[1;33m\u001b[0m\u001b[0m\n\u001b[0;32m    195\u001b[0m \u001b[1;33m\u001b[0m\u001b[0m\n\u001b[1;32m--> 196\u001b[1;33m                 \u001b[0mouts\u001b[0m \u001b[1;33m=\u001b[0m \u001b[0mfit_function\u001b[0m\u001b[1;33m(\u001b[0m\u001b[0mins_batch\u001b[0m\u001b[1;33m)\u001b[0m\u001b[1;33m\u001b[0m\u001b[1;33m\u001b[0m\u001b[0m\n\u001b[0m\u001b[0;32m    197\u001b[0m                 \u001b[0mouts\u001b[0m \u001b[1;33m=\u001b[0m \u001b[0mto_list\u001b[0m\u001b[1;33m(\u001b[0m\u001b[0mouts\u001b[0m\u001b[1;33m)\u001b[0m\u001b[1;33m\u001b[0m\u001b[1;33m\u001b[0m\u001b[0m\n\u001b[0;32m    198\u001b[0m                 \u001b[1;32mfor\u001b[0m \u001b[0ml\u001b[0m\u001b[1;33m,\u001b[0m \u001b[0mo\u001b[0m \u001b[1;32min\u001b[0m \u001b[0mzip\u001b[0m\u001b[1;33m(\u001b[0m\u001b[0mout_labels\u001b[0m\u001b[1;33m,\u001b[0m \u001b[0mouts\u001b[0m\u001b[1;33m)\u001b[0m\u001b[1;33m:\u001b[0m\u001b[1;33m\u001b[0m\u001b[1;33m\u001b[0m\u001b[0m\n",
      "\u001b[1;32mC:\\Sources\\Anaconda3\\lib\\site-packages\\tensorflow_core\\python\\keras\\backend.py\u001b[0m in \u001b[0;36m__call__\u001b[1;34m(self, inputs)\u001b[0m\n\u001b[0;32m   3725\u001b[0m         \u001b[0mvalue\u001b[0m \u001b[1;33m=\u001b[0m \u001b[0mmath_ops\u001b[0m\u001b[1;33m.\u001b[0m\u001b[0mcast\u001b[0m\u001b[1;33m(\u001b[0m\u001b[0mvalue\u001b[0m\u001b[1;33m,\u001b[0m \u001b[0mtensor\u001b[0m\u001b[1;33m.\u001b[0m\u001b[0mdtype\u001b[0m\u001b[1;33m)\u001b[0m\u001b[1;33m\u001b[0m\u001b[1;33m\u001b[0m\u001b[0m\n\u001b[0;32m   3726\u001b[0m       \u001b[0mconverted_inputs\u001b[0m\u001b[1;33m.\u001b[0m\u001b[0mappend\u001b[0m\u001b[1;33m(\u001b[0m\u001b[0mvalue\u001b[0m\u001b[1;33m)\u001b[0m\u001b[1;33m\u001b[0m\u001b[1;33m\u001b[0m\u001b[0m\n\u001b[1;32m-> 3727\u001b[1;33m     \u001b[0moutputs\u001b[0m \u001b[1;33m=\u001b[0m \u001b[0mself\u001b[0m\u001b[1;33m.\u001b[0m\u001b[0m_graph_fn\u001b[0m\u001b[1;33m(\u001b[0m\u001b[1;33m*\u001b[0m\u001b[0mconverted_inputs\u001b[0m\u001b[1;33m)\u001b[0m\u001b[1;33m\u001b[0m\u001b[1;33m\u001b[0m\u001b[0m\n\u001b[0m\u001b[0;32m   3728\u001b[0m \u001b[1;33m\u001b[0m\u001b[0m\n\u001b[0;32m   3729\u001b[0m     \u001b[1;31m# EagerTensor.numpy() will often make a copy to ensure memory safety.\u001b[0m\u001b[1;33m\u001b[0m\u001b[1;33m\u001b[0m\u001b[1;33m\u001b[0m\u001b[0m\n",
      "\u001b[1;32mC:\\Sources\\Anaconda3\\lib\\site-packages\\tensorflow_core\\python\\eager\\function.py\u001b[0m in \u001b[0;36m__call__\u001b[1;34m(self, *args, **kwargs)\u001b[0m\n\u001b[0;32m   1549\u001b[0m       \u001b[0mTypeError\u001b[0m\u001b[1;33m:\u001b[0m \u001b[0mFor\u001b[0m \u001b[0minvalid\u001b[0m \u001b[0mpositional\u001b[0m\u001b[1;33m/\u001b[0m\u001b[0mkeyword\u001b[0m \u001b[0margument\u001b[0m \u001b[0mcombinations\u001b[0m\u001b[1;33m.\u001b[0m\u001b[1;33m\u001b[0m\u001b[1;33m\u001b[0m\u001b[0m\n\u001b[0;32m   1550\u001b[0m     \"\"\"\n\u001b[1;32m-> 1551\u001b[1;33m     \u001b[1;32mreturn\u001b[0m \u001b[0mself\u001b[0m\u001b[1;33m.\u001b[0m\u001b[0m_call_impl\u001b[0m\u001b[1;33m(\u001b[0m\u001b[0margs\u001b[0m\u001b[1;33m,\u001b[0m \u001b[0mkwargs\u001b[0m\u001b[1;33m)\u001b[0m\u001b[1;33m\u001b[0m\u001b[1;33m\u001b[0m\u001b[0m\n\u001b[0m\u001b[0;32m   1552\u001b[0m \u001b[1;33m\u001b[0m\u001b[0m\n\u001b[0;32m   1553\u001b[0m   \u001b[1;32mdef\u001b[0m \u001b[0m_call_impl\u001b[0m\u001b[1;33m(\u001b[0m\u001b[0mself\u001b[0m\u001b[1;33m,\u001b[0m \u001b[0margs\u001b[0m\u001b[1;33m,\u001b[0m \u001b[0mkwargs\u001b[0m\u001b[1;33m,\u001b[0m \u001b[0mcancellation_manager\u001b[0m\u001b[1;33m=\u001b[0m\u001b[1;32mNone\u001b[0m\u001b[1;33m)\u001b[0m\u001b[1;33m:\u001b[0m\u001b[1;33m\u001b[0m\u001b[1;33m\u001b[0m\u001b[0m\n",
      "\u001b[1;32mC:\\Sources\\Anaconda3\\lib\\site-packages\\tensorflow_core\\python\\eager\\function.py\u001b[0m in \u001b[0;36m_call_impl\u001b[1;34m(self, args, kwargs, cancellation_manager)\u001b[0m\n\u001b[0;32m   1589\u001b[0m       raise TypeError(\"Keyword arguments {} unknown. Expected {}.\".format(\n\u001b[0;32m   1590\u001b[0m           list(kwargs.keys()), list(self._arg_keywords)))\n\u001b[1;32m-> 1591\u001b[1;33m     \u001b[1;32mreturn\u001b[0m \u001b[0mself\u001b[0m\u001b[1;33m.\u001b[0m\u001b[0m_call_flat\u001b[0m\u001b[1;33m(\u001b[0m\u001b[0margs\u001b[0m\u001b[1;33m,\u001b[0m \u001b[0mself\u001b[0m\u001b[1;33m.\u001b[0m\u001b[0mcaptured_inputs\u001b[0m\u001b[1;33m,\u001b[0m \u001b[0mcancellation_manager\u001b[0m\u001b[1;33m)\u001b[0m\u001b[1;33m\u001b[0m\u001b[1;33m\u001b[0m\u001b[0m\n\u001b[0m\u001b[0;32m   1592\u001b[0m \u001b[1;33m\u001b[0m\u001b[0m\n\u001b[0;32m   1593\u001b[0m   \u001b[1;32mdef\u001b[0m \u001b[0m_filtered_call\u001b[0m\u001b[1;33m(\u001b[0m\u001b[0mself\u001b[0m\u001b[1;33m,\u001b[0m \u001b[0margs\u001b[0m\u001b[1;33m,\u001b[0m \u001b[0mkwargs\u001b[0m\u001b[1;33m)\u001b[0m\u001b[1;33m:\u001b[0m\u001b[1;33m\u001b[0m\u001b[1;33m\u001b[0m\u001b[0m\n",
      "\u001b[1;32mC:\\Sources\\Anaconda3\\lib\\site-packages\\tensorflow_core\\python\\eager\\function.py\u001b[0m in \u001b[0;36m_call_flat\u001b[1;34m(self, args, captured_inputs, cancellation_manager)\u001b[0m\n\u001b[0;32m   1690\u001b[0m       \u001b[1;31m# No tape is watching; skip to running the function.\u001b[0m\u001b[1;33m\u001b[0m\u001b[1;33m\u001b[0m\u001b[1;33m\u001b[0m\u001b[0m\n\u001b[0;32m   1691\u001b[0m       return self._build_call_outputs(self._inference_function.call(\n\u001b[1;32m-> 1692\u001b[1;33m           ctx, args, cancellation_manager=cancellation_manager))\n\u001b[0m\u001b[0;32m   1693\u001b[0m     forward_backward = self._select_forward_and_backward_functions(\n\u001b[0;32m   1694\u001b[0m         \u001b[0margs\u001b[0m\u001b[1;33m,\u001b[0m\u001b[1;33m\u001b[0m\u001b[1;33m\u001b[0m\u001b[0m\n",
      "\u001b[1;32mC:\\Sources\\Anaconda3\\lib\\site-packages\\tensorflow_core\\python\\eager\\function.py\u001b[0m in \u001b[0;36mcall\u001b[1;34m(self, ctx, args, cancellation_manager)\u001b[0m\n\u001b[0;32m    543\u001b[0m               \u001b[0minputs\u001b[0m\u001b[1;33m=\u001b[0m\u001b[0margs\u001b[0m\u001b[1;33m,\u001b[0m\u001b[1;33m\u001b[0m\u001b[1;33m\u001b[0m\u001b[0m\n\u001b[0;32m    544\u001b[0m               \u001b[0mattrs\u001b[0m\u001b[1;33m=\u001b[0m\u001b[1;33m(\u001b[0m\u001b[1;34m\"executor_type\"\u001b[0m\u001b[1;33m,\u001b[0m \u001b[0mexecutor_type\u001b[0m\u001b[1;33m,\u001b[0m \u001b[1;34m\"config_proto\"\u001b[0m\u001b[1;33m,\u001b[0m \u001b[0mconfig\u001b[0m\u001b[1;33m)\u001b[0m\u001b[1;33m,\u001b[0m\u001b[1;33m\u001b[0m\u001b[1;33m\u001b[0m\u001b[0m\n\u001b[1;32m--> 545\u001b[1;33m               ctx=ctx)\n\u001b[0m\u001b[0;32m    546\u001b[0m         \u001b[1;32melse\u001b[0m\u001b[1;33m:\u001b[0m\u001b[1;33m\u001b[0m\u001b[1;33m\u001b[0m\u001b[0m\n\u001b[0;32m    547\u001b[0m           outputs = execute.execute_with_cancellation(\n",
      "\u001b[1;32mC:\\Sources\\Anaconda3\\lib\\site-packages\\tensorflow_core\\python\\eager\\execute.py\u001b[0m in \u001b[0;36mquick_execute\u001b[1;34m(op_name, num_outputs, inputs, attrs, ctx, name)\u001b[0m\n\u001b[0;32m     59\u001b[0m     tensors = pywrap_tensorflow.TFE_Py_Execute(ctx._handle, device_name,\n\u001b[0;32m     60\u001b[0m                                                \u001b[0mop_name\u001b[0m\u001b[1;33m,\u001b[0m \u001b[0minputs\u001b[0m\u001b[1;33m,\u001b[0m \u001b[0mattrs\u001b[0m\u001b[1;33m,\u001b[0m\u001b[1;33m\u001b[0m\u001b[1;33m\u001b[0m\u001b[0m\n\u001b[1;32m---> 61\u001b[1;33m                                                num_outputs)\n\u001b[0m\u001b[0;32m     62\u001b[0m   \u001b[1;32mexcept\u001b[0m \u001b[0mcore\u001b[0m\u001b[1;33m.\u001b[0m\u001b[0m_NotOkStatusException\u001b[0m \u001b[1;32mas\u001b[0m \u001b[0me\u001b[0m\u001b[1;33m:\u001b[0m\u001b[1;33m\u001b[0m\u001b[1;33m\u001b[0m\u001b[0m\n\u001b[0;32m     63\u001b[0m     \u001b[1;32mif\u001b[0m \u001b[0mname\u001b[0m \u001b[1;32mis\u001b[0m \u001b[1;32mnot\u001b[0m \u001b[1;32mNone\u001b[0m\u001b[1;33m:\u001b[0m\u001b[1;33m\u001b[0m\u001b[1;33m\u001b[0m\u001b[0m\n",
      "\u001b[1;31mKeyboardInterrupt\u001b[0m: "
     ]
    }
   ],
   "source": [
    "model.fit(X_train, y_train, epochs=300, batch_size=5000, verbose=1)"
   ]
  },
  {
   "cell_type": "code",
   "execution_count": null,
   "metadata": {},
   "outputs": [],
   "source": [
    "m = get_metrics(model, y_test, model.predict(X_test))\n",
    "m[0] = 'ANN'\n",
    "show_metrics(m)\n",
    "results.append(m)"
   ]
  },
  {
   "cell_type": "code",
   "execution_count": null,
   "metadata": {},
   "outputs": [],
   "source": [
    "res = pd.DataFrame(np.array(results))\n",
    "res.columns = ['Name', 'MAE', 'MSE', 'RMSE', 'R^2']"
   ]
  },
  {
   "cell_type": "code",
   "execution_count": null,
   "metadata": {},
   "outputs": [],
   "source": [
    "sns.barplot(data=res, y='Name', x='R^2')"
   ]
  }
 ],
 "metadata": {
  "kernelspec": {
   "display_name": "Python 3",
   "language": "python",
   "name": "python3"
  },
  "language_info": {
   "codemirror_mode": {
    "name": "ipython",
    "version": 3
   },
   "file_extension": ".py",
   "mimetype": "text/x-python",
   "name": "python",
   "nbconvert_exporter": "python",
   "pygments_lexer": "ipython3",
   "version": "3.7.4"
  }
 },
 "nbformat": 4,
 "nbformat_minor": 2
}
