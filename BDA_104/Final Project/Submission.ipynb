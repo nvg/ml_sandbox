{
 "cells": [
  {
   "cell_type": "code",
   "execution_count": 1,
   "metadata": {},
   "outputs": [],
   "source": [
    "import pandas as pd\n",
    "import numpy as np\n",
    "\n",
    "import matplotlib as pyplot\n",
    "import matplotlib.pyplot as plt; plt.rcdefaults()\n",
    "import matplotlib.pyplot as plt\n",
    "%matplotlib inline\n",
    "\n",
    "import seaborn as sns"
   ]
  },
  {
   "cell_type": "code",
   "execution_count": 2,
   "metadata": {},
   "outputs": [],
   "source": [
    "df = pd.read_csv('train.csv')"
   ]
  },
  {
   "cell_type": "markdown",
   "metadata": {},
   "source": [
    "## Review the data set"
   ]
  },
  {
   "cell_type": "code",
   "execution_count": 3,
   "metadata": {
    "scrolled": true
   },
   "outputs": [
    {
     "name": "stdout",
     "output_type": "stream",
     "text": [
      "<class 'pandas.core.frame.DataFrame'>\n",
      "RangeIndex: 550068 entries, 0 to 550067\n",
      "Data columns (total 12 columns):\n",
      " #   Column                      Non-Null Count   Dtype  \n",
      "---  ------                      --------------   -----  \n",
      " 0   User_ID                     550068 non-null  int64  \n",
      " 1   Product_ID                  550068 non-null  object \n",
      " 2   Gender                      550068 non-null  object \n",
      " 3   Age                         550068 non-null  object \n",
      " 4   Occupation                  550068 non-null  int64  \n",
      " 5   City_Category               550068 non-null  object \n",
      " 6   Stay_In_Current_City_Years  550068 non-null  object \n",
      " 7   Marital_Status              550068 non-null  int64  \n",
      " 8   Product_Category_1          550068 non-null  int64  \n",
      " 9   Product_Category_2          376430 non-null  float64\n",
      " 10  Product_Category_3          166821 non-null  float64\n",
      " 11  Purchase                    550068 non-null  int64  \n",
      "dtypes: float64(2), int64(5), object(5)\n",
      "memory usage: 50.4+ MB\n"
     ]
    }
   ],
   "source": [
    "df.info()"
   ]
  },
  {
   "cell_type": "code",
   "execution_count": 4,
   "metadata": {},
   "outputs": [
    {
     "data": {
      "text/html": [
       "<div>\n",
       "<style scoped>\n",
       "    .dataframe tbody tr th:only-of-type {\n",
       "        vertical-align: middle;\n",
       "    }\n",
       "\n",
       "    .dataframe tbody tr th {\n",
       "        vertical-align: top;\n",
       "    }\n",
       "\n",
       "    .dataframe thead th {\n",
       "        text-align: right;\n",
       "    }\n",
       "</style>\n",
       "<table border=\"1\" class=\"dataframe\">\n",
       "  <thead>\n",
       "    <tr style=\"text-align: right;\">\n",
       "      <th></th>\n",
       "      <th>User_ID</th>\n",
       "      <th>Occupation</th>\n",
       "      <th>Marital_Status</th>\n",
       "      <th>Product_Category_1</th>\n",
       "      <th>Product_Category_2</th>\n",
       "      <th>Product_Category_3</th>\n",
       "      <th>Purchase</th>\n",
       "    </tr>\n",
       "  </thead>\n",
       "  <tbody>\n",
       "    <tr>\n",
       "      <th>count</th>\n",
       "      <td>5.500680e+05</td>\n",
       "      <td>550068.000000</td>\n",
       "      <td>550068.000000</td>\n",
       "      <td>550068.000000</td>\n",
       "      <td>376430.000000</td>\n",
       "      <td>166821.000000</td>\n",
       "      <td>550068.000000</td>\n",
       "    </tr>\n",
       "    <tr>\n",
       "      <th>mean</th>\n",
       "      <td>1.003029e+06</td>\n",
       "      <td>8.076707</td>\n",
       "      <td>0.409653</td>\n",
       "      <td>5.404270</td>\n",
       "      <td>9.842329</td>\n",
       "      <td>12.668243</td>\n",
       "      <td>9263.968713</td>\n",
       "    </tr>\n",
       "    <tr>\n",
       "      <th>std</th>\n",
       "      <td>1.727592e+03</td>\n",
       "      <td>6.522660</td>\n",
       "      <td>0.491770</td>\n",
       "      <td>3.936211</td>\n",
       "      <td>5.086590</td>\n",
       "      <td>4.125338</td>\n",
       "      <td>5023.065394</td>\n",
       "    </tr>\n",
       "    <tr>\n",
       "      <th>min</th>\n",
       "      <td>1.000001e+06</td>\n",
       "      <td>0.000000</td>\n",
       "      <td>0.000000</td>\n",
       "      <td>1.000000</td>\n",
       "      <td>2.000000</td>\n",
       "      <td>3.000000</td>\n",
       "      <td>12.000000</td>\n",
       "    </tr>\n",
       "    <tr>\n",
       "      <th>25%</th>\n",
       "      <td>1.001516e+06</td>\n",
       "      <td>2.000000</td>\n",
       "      <td>0.000000</td>\n",
       "      <td>1.000000</td>\n",
       "      <td>5.000000</td>\n",
       "      <td>9.000000</td>\n",
       "      <td>5823.000000</td>\n",
       "    </tr>\n",
       "    <tr>\n",
       "      <th>50%</th>\n",
       "      <td>1.003077e+06</td>\n",
       "      <td>7.000000</td>\n",
       "      <td>0.000000</td>\n",
       "      <td>5.000000</td>\n",
       "      <td>9.000000</td>\n",
       "      <td>14.000000</td>\n",
       "      <td>8047.000000</td>\n",
       "    </tr>\n",
       "    <tr>\n",
       "      <th>75%</th>\n",
       "      <td>1.004478e+06</td>\n",
       "      <td>14.000000</td>\n",
       "      <td>1.000000</td>\n",
       "      <td>8.000000</td>\n",
       "      <td>15.000000</td>\n",
       "      <td>16.000000</td>\n",
       "      <td>12054.000000</td>\n",
       "    </tr>\n",
       "    <tr>\n",
       "      <th>max</th>\n",
       "      <td>1.006040e+06</td>\n",
       "      <td>20.000000</td>\n",
       "      <td>1.000000</td>\n",
       "      <td>20.000000</td>\n",
       "      <td>18.000000</td>\n",
       "      <td>18.000000</td>\n",
       "      <td>23961.000000</td>\n",
       "    </tr>\n",
       "  </tbody>\n",
       "</table>\n",
       "</div>"
      ],
      "text/plain": [
       "            User_ID     Occupation  Marital_Status  Product_Category_1  \\\n",
       "count  5.500680e+05  550068.000000   550068.000000       550068.000000   \n",
       "mean   1.003029e+06       8.076707        0.409653            5.404270   \n",
       "std    1.727592e+03       6.522660        0.491770            3.936211   \n",
       "min    1.000001e+06       0.000000        0.000000            1.000000   \n",
       "25%    1.001516e+06       2.000000        0.000000            1.000000   \n",
       "50%    1.003077e+06       7.000000        0.000000            5.000000   \n",
       "75%    1.004478e+06      14.000000        1.000000            8.000000   \n",
       "max    1.006040e+06      20.000000        1.000000           20.000000   \n",
       "\n",
       "       Product_Category_2  Product_Category_3       Purchase  \n",
       "count       376430.000000       166821.000000  550068.000000  \n",
       "mean             9.842329           12.668243    9263.968713  \n",
       "std              5.086590            4.125338    5023.065394  \n",
       "min              2.000000            3.000000      12.000000  \n",
       "25%              5.000000            9.000000    5823.000000  \n",
       "50%              9.000000           14.000000    8047.000000  \n",
       "75%             15.000000           16.000000   12054.000000  \n",
       "max             18.000000           18.000000   23961.000000  "
      ]
     },
     "execution_count": 4,
     "metadata": {},
     "output_type": "execute_result"
    }
   ],
   "source": [
    "df.describe()"
   ]
  },
  {
   "cell_type": "code",
   "execution_count": 5,
   "metadata": {},
   "outputs": [
    {
     "data": {
      "text/html": [
       "<div>\n",
       "<style scoped>\n",
       "    .dataframe tbody tr th:only-of-type {\n",
       "        vertical-align: middle;\n",
       "    }\n",
       "\n",
       "    .dataframe tbody tr th {\n",
       "        vertical-align: top;\n",
       "    }\n",
       "\n",
       "    .dataframe thead th {\n",
       "        text-align: right;\n",
       "    }\n",
       "</style>\n",
       "<table border=\"1\" class=\"dataframe\">\n",
       "  <thead>\n",
       "    <tr style=\"text-align: right;\">\n",
       "      <th></th>\n",
       "      <th>User_ID</th>\n",
       "      <th>Product_ID</th>\n",
       "      <th>Gender</th>\n",
       "      <th>Age</th>\n",
       "      <th>Occupation</th>\n",
       "      <th>City_Category</th>\n",
       "      <th>Stay_In_Current_City_Years</th>\n",
       "      <th>Marital_Status</th>\n",
       "      <th>Product_Category_1</th>\n",
       "      <th>Product_Category_2</th>\n",
       "      <th>Product_Category_3</th>\n",
       "      <th>Purchase</th>\n",
       "    </tr>\n",
       "  </thead>\n",
       "  <tbody>\n",
       "    <tr>\n",
       "      <th>0</th>\n",
       "      <td>1000001</td>\n",
       "      <td>P00069042</td>\n",
       "      <td>F</td>\n",
       "      <td>0-17</td>\n",
       "      <td>10</td>\n",
       "      <td>A</td>\n",
       "      <td>2</td>\n",
       "      <td>0</td>\n",
       "      <td>3</td>\n",
       "      <td>NaN</td>\n",
       "      <td>NaN</td>\n",
       "      <td>8370</td>\n",
       "    </tr>\n",
       "    <tr>\n",
       "      <th>1</th>\n",
       "      <td>1000001</td>\n",
       "      <td>P00248942</td>\n",
       "      <td>F</td>\n",
       "      <td>0-17</td>\n",
       "      <td>10</td>\n",
       "      <td>A</td>\n",
       "      <td>2</td>\n",
       "      <td>0</td>\n",
       "      <td>1</td>\n",
       "      <td>6.0</td>\n",
       "      <td>14.0</td>\n",
       "      <td>15200</td>\n",
       "    </tr>\n",
       "    <tr>\n",
       "      <th>2</th>\n",
       "      <td>1000001</td>\n",
       "      <td>P00087842</td>\n",
       "      <td>F</td>\n",
       "      <td>0-17</td>\n",
       "      <td>10</td>\n",
       "      <td>A</td>\n",
       "      <td>2</td>\n",
       "      <td>0</td>\n",
       "      <td>12</td>\n",
       "      <td>NaN</td>\n",
       "      <td>NaN</td>\n",
       "      <td>1422</td>\n",
       "    </tr>\n",
       "    <tr>\n",
       "      <th>3</th>\n",
       "      <td>1000001</td>\n",
       "      <td>P00085442</td>\n",
       "      <td>F</td>\n",
       "      <td>0-17</td>\n",
       "      <td>10</td>\n",
       "      <td>A</td>\n",
       "      <td>2</td>\n",
       "      <td>0</td>\n",
       "      <td>12</td>\n",
       "      <td>14.0</td>\n",
       "      <td>NaN</td>\n",
       "      <td>1057</td>\n",
       "    </tr>\n",
       "    <tr>\n",
       "      <th>4</th>\n",
       "      <td>1000002</td>\n",
       "      <td>P00285442</td>\n",
       "      <td>M</td>\n",
       "      <td>55+</td>\n",
       "      <td>16</td>\n",
       "      <td>C</td>\n",
       "      <td>4+</td>\n",
       "      <td>0</td>\n",
       "      <td>8</td>\n",
       "      <td>NaN</td>\n",
       "      <td>NaN</td>\n",
       "      <td>7969</td>\n",
       "    </tr>\n",
       "  </tbody>\n",
       "</table>\n",
       "</div>"
      ],
      "text/plain": [
       "   User_ID Product_ID Gender   Age  Occupation City_Category  \\\n",
       "0  1000001  P00069042      F  0-17          10             A   \n",
       "1  1000001  P00248942      F  0-17          10             A   \n",
       "2  1000001  P00087842      F  0-17          10             A   \n",
       "3  1000001  P00085442      F  0-17          10             A   \n",
       "4  1000002  P00285442      M   55+          16             C   \n",
       "\n",
       "  Stay_In_Current_City_Years  Marital_Status  Product_Category_1  \\\n",
       "0                          2               0                   3   \n",
       "1                          2               0                   1   \n",
       "2                          2               0                  12   \n",
       "3                          2               0                  12   \n",
       "4                         4+               0                   8   \n",
       "\n",
       "   Product_Category_2  Product_Category_3  Purchase  \n",
       "0                 NaN                 NaN      8370  \n",
       "1                 6.0                14.0     15200  \n",
       "2                 NaN                 NaN      1422  \n",
       "3                14.0                 NaN      1057  \n",
       "4                 NaN                 NaN      7969  "
      ]
     },
     "execution_count": 5,
     "metadata": {},
     "output_type": "execute_result"
    }
   ],
   "source": [
    "df.head()"
   ]
  },
  {
   "cell_type": "code",
   "execution_count": 6,
   "metadata": {},
   "outputs": [
    {
     "data": {
      "text/plain": [
       "User_ID                            0\n",
       "Product_ID                         0\n",
       "Gender                             0\n",
       "Age                                0\n",
       "Occupation                         0\n",
       "City_Category                      0\n",
       "Stay_In_Current_City_Years         0\n",
       "Marital_Status                     0\n",
       "Product_Category_1                 0\n",
       "Product_Category_2            173638\n",
       "Product_Category_3            383247\n",
       "Purchase                           0\n",
       "dtype: int64"
      ]
     },
     "execution_count": 6,
     "metadata": {},
     "output_type": "execute_result"
    }
   ],
   "source": [
    "# Clear null values\n",
    "df.isnull().sum()"
   ]
  },
  {
   "cell_type": "code",
   "execution_count": 7,
   "metadata": {},
   "outputs": [],
   "source": [
    "null_values = ['Product_Category_2', 'Product_Category_3'] \n",
    "for nv in null_values:\n",
    "    df[nv].fillna(df[nv].value_counts().idxmax(), inplace=True)"
   ]
  },
  {
   "cell_type": "code",
   "execution_count": 8,
   "metadata": {},
   "outputs": [
    {
     "data": {
      "text/plain": [
       "User_ID                       0\n",
       "Product_ID                    0\n",
       "Gender                        0\n",
       "Age                           0\n",
       "Occupation                    0\n",
       "City_Category                 0\n",
       "Stay_In_Current_City_Years    0\n",
       "Marital_Status                0\n",
       "Product_Category_1            0\n",
       "Product_Category_2            0\n",
       "Product_Category_3            0\n",
       "Purchase                      0\n",
       "dtype: int64"
      ]
     },
     "execution_count": 8,
     "metadata": {},
     "output_type": "execute_result"
    }
   ],
   "source": [
    "df.isnull().sum()"
   ]
  },
  {
   "cell_type": "code",
   "execution_count": 9,
   "metadata": {},
   "outputs": [
    {
     "data": {
      "text/plain": [
       "<matplotlib.axes._subplots.AxesSubplot at 0x2278fb3ea48>"
      ]
     },
     "execution_count": 9,
     "metadata": {},
     "output_type": "execute_result"
    },
    {
     "data": {
      "image/png": "[encoded data removed]",
      "text/plain": [
       "<Figure size 432x288 with 1 Axes>"
      ]
     },
     "metadata": {
      "needs_background": "light"
     },
     "output_type": "display_data"
    }
   ],
   "source": [
    "sns.countplot(df['Age'], hue=df['Gender'])"
   ]
  },
  {
   "cell_type": "code",
   "execution_count": 10,
   "metadata": {},
   "outputs": [
    {
     "data": {
      "text/plain": [
       "<matplotlib.axes._subplots.AxesSubplot at 0x2278f2a4948>"
      ]
     },
     "execution_count": 10,
     "metadata": {},
     "output_type": "execute_result"
    },
    {
     "data": {
      "image/png": "[encoded data removed]",
      "text/plain": [
       "<Figure size 432x288 with 1 Axes>"
      ]
     },
     "metadata": {
      "needs_background": "light"
     },
     "output_type": "display_data"
    }
   ],
   "source": [
    "sns.countplot(df['Stay_In_Current_City_Years'])"
   ]
  },
  {
   "cell_type": "code",
   "execution_count": 11,
   "metadata": {},
   "outputs": [
    {
     "data": {
      "text/plain": [
       "<matplotlib.axes._subplots.AxesSubplot at 0x2278f2dfd08>"
      ]
     },
     "execution_count": 11,
     "metadata": {},
     "output_type": "execute_result"
    },
    {
     "data": {
      "image/png": "[encoded data removed]",
      "text/plain": [
       "<Figure size 432x288 with 1 Axes>"
      ]
     },
     "metadata": {
      "needs_background": "light"
     },
     "output_type": "display_data"
    }
   ],
   "source": [
    "sns.countplot(df['Occupation'])"
   ]
  },
  {
   "cell_type": "code",
   "execution_count": 12,
   "metadata": {},
   "outputs": [
    {
     "data": {
      "text/plain": [
       "<matplotlib.axes._subplots.AxesSubplot at 0x2278f3b3108>"
      ]
     },
     "execution_count": 12,
     "metadata": {},
     "output_type": "execute_result"
    },
    {
     "data": {
      "image/png": "[encoded data removed]",
      "text/plain": [
       "<Figure size 432x288 with 1 Axes>"
      ]
     },
     "metadata": {
      "needs_background": "light"
     },
     "output_type": "display_data"
    }
   ],
   "source": [
    "sns.countplot(df['Product_Category_1'])"
   ]
  },
  {
   "cell_type": "code",
   "execution_count": 13,
   "metadata": {},
   "outputs": [
    {
     "data": {
      "text/plain": [
       "<matplotlib.axes._subplots.AxesSubplot at 0x2278f3f5808>"
      ]
     },
     "execution_count": 13,
     "metadata": {},
     "output_type": "execute_result"
    },
    {
     "data": {
      "image/png": "[encoded data removed]",
      "text/plain": [
       "<Figure size 432x288 with 1 Axes>"
      ]
     },
     "metadata": {
      "needs_background": "light"
     },
     "output_type": "display_data"
    }
   ],
   "source": [
    "sns.countplot(df['Product_Category_2'])"
   ]
  },
  {
   "cell_type": "code",
   "execution_count": 14,
   "metadata": {},
   "outputs": [
    {
     "data": {
      "text/plain": [
       "<matplotlib.axes._subplots.AxesSubplot at 0x2278f4970c8>"
      ]
     },
     "execution_count": 14,
     "metadata": {},
     "output_type": "execute_result"
    },
    {
     "data": {
      "image/png": "[encoded data removed]",
      "text/plain": [
       "<Figure size 432x288 with 1 Axes>"
      ]
     },
     "metadata": {
      "needs_background": "light"
     },
     "output_type": "display_data"
    }
   ],
   "source": [
    "sns.countplot(df['Product_Category_3'])"
   ]
  },
  {
   "cell_type": "code",
   "execution_count": 15,
   "metadata": {},
   "outputs": [
    {
     "data": {
      "text/plain": [
       "<matplotlib.axes._subplots.AxesSubplot at 0x2278f5c5bc8>"
      ]
     },
     "execution_count": 15,
     "metadata": {},
     "output_type": "execute_result"
    },
    {
     "data": {
      "image/png": "[encoded data removed]",
      "text/plain": [
       "<Figure size 432x288 with 1 Axes>"
      ]
     },
     "metadata": {
      "needs_background": "light"
     },
     "output_type": "display_data"
    }
   ],
   "source": [
    "sns.distplot(df['Purchase'])"
   ]
  },
  {
   "cell_type": "markdown",
   "metadata": {},
   "source": [
    "We have labeled data - can use supervised learning\n",
    "We want to predict how much $$$ people spend - regression task\n",
    "\n",
    "When we think about sales - consider demographic (age/gender/income/home), store (location/size/ads/product stock)"
   ]
  },
  {
   "cell_type": "code",
   "execution_count": 16,
   "metadata": {},
   "outputs": [
    {
     "name": "stdout",
     "output_type": "stream",
     "text": [
      "['P00069042' 'P00248942' 'P00087842' ... 'P00370293' 'P00371644'\n",
      " 'P00370853']\n",
      "3631\n"
     ]
    }
   ],
   "source": [
    "print(df['Product_ID'].unique())\n",
    "print(len(df['Product_ID'].unique()))"
   ]
  },
  {
   "cell_type": "markdown",
   "metadata": {},
   "source": [
    "## Prepare data"
   ]
  },
  {
   "cell_type": "code",
   "execution_count": 17,
   "metadata": {},
   "outputs": [],
   "source": [
    "X = df.drop([\"Purchase\"], axis=1)"
   ]
  },
  {
   "cell_type": "code",
   "execution_count": 18,
   "metadata": {},
   "outputs": [],
   "source": [
    "for cat in ['Age', 'Occupation', 'City_Category', 'Stay_In_Current_City_Years']:\n",
    "    tmp = pd.get_dummies(X[cat], prefix=cat, drop_first=True)\n",
    "    X.drop(cat, axis=1, inplace=True)\n",
    "    X = pd.concat([X, tmp], axis=1)"
   ]
  },
  {
   "cell_type": "code",
   "execution_count": 19,
   "metadata": {},
   "outputs": [],
   "source": [
    "X['Gender'] = pd.get_dummies(X['Gender'], drop_first=True)"
   ]
  },
  {
   "cell_type": "code",
   "execution_count": 20,
   "metadata": {},
   "outputs": [],
   "source": [
    "from sklearn.preprocessing import LabelEncoder\n",
    "\n",
    "for c in ['Product_ID']:\n",
    "    enc = LabelEncoder()\n",
    "    X[c] = enc.fit_transform(X[c])"
   ]
  },
  {
   "cell_type": "code",
   "execution_count": 21,
   "metadata": {},
   "outputs": [
    {
     "data": {
      "text/html": [
       "<div>\n",
       "<style scoped>\n",
       "    .dataframe tbody tr th:only-of-type {\n",
       "        vertical-align: middle;\n",
       "    }\n",
       "\n",
       "    .dataframe tbody tr th {\n",
       "        vertical-align: top;\n",
       "    }\n",
       "\n",
       "    .dataframe thead th {\n",
       "        text-align: right;\n",
       "    }\n",
       "</style>\n",
       "<table border=\"1\" class=\"dataframe\">\n",
       "  <thead>\n",
       "    <tr style=\"text-align: right;\">\n",
       "      <th></th>\n",
       "      <th>User_ID</th>\n",
       "      <th>Product_ID</th>\n",
       "      <th>Gender</th>\n",
       "      <th>Marital_Status</th>\n",
       "      <th>Product_Category_1</th>\n",
       "      <th>Product_Category_2</th>\n",
       "      <th>Product_Category_3</th>\n",
       "      <th>Age_18-25</th>\n",
       "      <th>Age_26-35</th>\n",
       "      <th>Age_36-45</th>\n",
       "      <th>...</th>\n",
       "      <th>Occupation_17</th>\n",
       "      <th>Occupation_18</th>\n",
       "      <th>Occupation_19</th>\n",
       "      <th>Occupation_20</th>\n",
       "      <th>City_Category_B</th>\n",
       "      <th>City_Category_C</th>\n",
       "      <th>Stay_In_Current_City_Years_1</th>\n",
       "      <th>Stay_In_Current_City_Years_2</th>\n",
       "      <th>Stay_In_Current_City_Years_3</th>\n",
       "      <th>Stay_In_Current_City_Years_4+</th>\n",
       "    </tr>\n",
       "  </thead>\n",
       "  <tbody>\n",
       "    <tr>\n",
       "      <th>0</th>\n",
       "      <td>1000001</td>\n",
       "      <td>672</td>\n",
       "      <td>0</td>\n",
       "      <td>0</td>\n",
       "      <td>3</td>\n",
       "      <td>8.0</td>\n",
       "      <td>16.0</td>\n",
       "      <td>0</td>\n",
       "      <td>0</td>\n",
       "      <td>0</td>\n",
       "      <td>...</td>\n",
       "      <td>0</td>\n",
       "      <td>0</td>\n",
       "      <td>0</td>\n",
       "      <td>0</td>\n",
       "      <td>0</td>\n",
       "      <td>0</td>\n",
       "      <td>0</td>\n",
       "      <td>1</td>\n",
       "      <td>0</td>\n",
       "      <td>0</td>\n",
       "    </tr>\n",
       "    <tr>\n",
       "      <th>1</th>\n",
       "      <td>1000001</td>\n",
       "      <td>2376</td>\n",
       "      <td>0</td>\n",
       "      <td>0</td>\n",
       "      <td>1</td>\n",
       "      <td>6.0</td>\n",
       "      <td>14.0</td>\n",
       "      <td>0</td>\n",
       "      <td>0</td>\n",
       "      <td>0</td>\n",
       "      <td>...</td>\n",
       "      <td>0</td>\n",
       "      <td>0</td>\n",
       "      <td>0</td>\n",
       "      <td>0</td>\n",
       "      <td>0</td>\n",
       "      <td>0</td>\n",
       "      <td>0</td>\n",
       "      <td>1</td>\n",
       "      <td>0</td>\n",
       "      <td>0</td>\n",
       "    </tr>\n",
       "    <tr>\n",
       "      <th>2</th>\n",
       "      <td>1000001</td>\n",
       "      <td>852</td>\n",
       "      <td>0</td>\n",
       "      <td>0</td>\n",
       "      <td>12</td>\n",
       "      <td>8.0</td>\n",
       "      <td>16.0</td>\n",
       "      <td>0</td>\n",
       "      <td>0</td>\n",
       "      <td>0</td>\n",
       "      <td>...</td>\n",
       "      <td>0</td>\n",
       "      <td>0</td>\n",
       "      <td>0</td>\n",
       "      <td>0</td>\n",
       "      <td>0</td>\n",
       "      <td>0</td>\n",
       "      <td>0</td>\n",
       "      <td>1</td>\n",
       "      <td>0</td>\n",
       "      <td>0</td>\n",
       "    </tr>\n",
       "    <tr>\n",
       "      <th>3</th>\n",
       "      <td>1000001</td>\n",
       "      <td>828</td>\n",
       "      <td>0</td>\n",
       "      <td>0</td>\n",
       "      <td>12</td>\n",
       "      <td>14.0</td>\n",
       "      <td>16.0</td>\n",
       "      <td>0</td>\n",
       "      <td>0</td>\n",
       "      <td>0</td>\n",
       "      <td>...</td>\n",
       "      <td>0</td>\n",
       "      <td>0</td>\n",
       "      <td>0</td>\n",
       "      <td>0</td>\n",
       "      <td>0</td>\n",
       "      <td>0</td>\n",
       "      <td>0</td>\n",
       "      <td>1</td>\n",
       "      <td>0</td>\n",
       "      <td>0</td>\n",
       "    </tr>\n",
       "    <tr>\n",
       "      <th>4</th>\n",
       "      <td>1000002</td>\n",
       "      <td>2734</td>\n",
       "      <td>1</td>\n",
       "      <td>0</td>\n",
       "      <td>8</td>\n",
       "      <td>8.0</td>\n",
       "      <td>16.0</td>\n",
       "      <td>0</td>\n",
       "      <td>0</td>\n",
       "      <td>0</td>\n",
       "      <td>...</td>\n",
       "      <td>0</td>\n",
       "      <td>0</td>\n",
       "      <td>0</td>\n",
       "      <td>0</td>\n",
       "      <td>0</td>\n",
       "      <td>1</td>\n",
       "      <td>0</td>\n",
       "      <td>0</td>\n",
       "      <td>0</td>\n",
       "      <td>1</td>\n",
       "    </tr>\n",
       "  </tbody>\n",
       "</table>\n",
       "<p>5 rows × 39 columns</p>\n",
       "</div>"
      ],
      "text/plain": [
       "   User_ID  Product_ID  Gender  Marital_Status  Product_Category_1  \\\n",
       "0  1000001         672       0               0                   3   \n",
       "1  1000001        2376       0               0                   1   \n",
       "2  1000001         852       0               0                  12   \n",
       "3  1000001         828       0               0                  12   \n",
       "4  1000002        2734       1               0                   8   \n",
       "\n",
       "   Product_Category_2  Product_Category_3  Age_18-25  Age_26-35  Age_36-45  \\\n",
       "0                 8.0                16.0          0          0          0   \n",
       "1                 6.0                14.0          0          0          0   \n",
       "2                 8.0                16.0          0          0          0   \n",
       "3                14.0                16.0          0          0          0   \n",
       "4                 8.0                16.0          0          0          0   \n",
       "\n",
       "   ...  Occupation_17  Occupation_18  Occupation_19  Occupation_20  \\\n",
       "0  ...              0              0              0              0   \n",
       "1  ...              0              0              0              0   \n",
       "2  ...              0              0              0              0   \n",
       "3  ...              0              0              0              0   \n",
       "4  ...              0              0              0              0   \n",
       "\n",
       "   City_Category_B  City_Category_C  Stay_In_Current_City_Years_1  \\\n",
       "0                0                0                             0   \n",
       "1                0                0                             0   \n",
       "2                0                0                             0   \n",
       "3                0                0                             0   \n",
       "4                0                1                             0   \n",
       "\n",
       "   Stay_In_Current_City_Years_2  Stay_In_Current_City_Years_3  \\\n",
       "0                             1                             0   \n",
       "1                             1                             0   \n",
       "2                             1                             0   \n",
       "3                             1                             0   \n",
       "4                             0                             0   \n",
       "\n",
       "   Stay_In_Current_City_Years_4+  \n",
       "0                              0  \n",
       "1                              0  \n",
       "2                              0  \n",
       "3                              0  \n",
       "4                              1  \n",
       "\n",
       "[5 rows x 39 columns]"
      ]
     },
     "execution_count": 21,
     "metadata": {},
     "output_type": "execute_result"
    }
   ],
   "source": [
    "X.head()"
   ]
  },
  {
   "cell_type": "code",
   "execution_count": 22,
   "metadata": {},
   "outputs": [
    {
     "name": "stdout",
     "output_type": "stream",
     "text": [
      "<class 'pandas.core.frame.DataFrame'>\n",
      "RangeIndex: 550068 entries, 0 to 550067\n",
      "Data columns (total 39 columns):\n",
      " #   Column                         Non-Null Count   Dtype  \n",
      "---  ------                         --------------   -----  \n",
      " 0   User_ID                        550068 non-null  int64  \n",
      " 1   Product_ID                     550068 non-null  int32  \n",
      " 2   Gender                         550068 non-null  uint8  \n",
      " 3   Marital_Status                 550068 non-null  int64  \n",
      " 4   Product_Category_1             550068 non-null  int64  \n",
      " 5   Product_Category_2             550068 non-null  float64\n",
      " 6   Product_Category_3             550068 non-null  float64\n",
      " 7   Age_18-25                      550068 non-null  uint8  \n",
      " 8   Age_26-35                      550068 non-null  uint8  \n",
      " 9   Age_36-45                      550068 non-null  uint8  \n",
      " 10  Age_46-50                      550068 non-null  uint8  \n",
      " 11  Age_51-55                      550068 non-null  uint8  \n",
      " 12  Age_55+                        550068 non-null  uint8  \n",
      " 13  Occupation_1                   550068 non-null  uint8  \n",
      " 14  Occupation_2                   550068 non-null  uint8  \n",
      " 15  Occupation_3                   550068 non-null  uint8  \n",
      " 16  Occupation_4                   550068 non-null  uint8  \n",
      " 17  Occupation_5                   550068 non-null  uint8  \n",
      " 18  Occupation_6                   550068 non-null  uint8  \n",
      " 19  Occupation_7                   550068 non-null  uint8  \n",
      " 20  Occupation_8                   550068 non-null  uint8  \n",
      " 21  Occupation_9                   550068 non-null  uint8  \n",
      " 22  Occupation_10                  550068 non-null  uint8  \n",
      " 23  Occupation_11                  550068 non-null  uint8  \n",
      " 24  Occupation_12                  550068 non-null  uint8  \n",
      " 25  Occupation_13                  550068 non-null  uint8  \n",
      " 26  Occupation_14                  550068 non-null  uint8  \n",
      " 27  Occupation_15                  550068 non-null  uint8  \n",
      " 28  Occupation_16                  550068 non-null  uint8  \n",
      " 29  Occupation_17                  550068 non-null  uint8  \n",
      " 30  Occupation_18                  550068 non-null  uint8  \n",
      " 31  Occupation_19                  550068 non-null  uint8  \n",
      " 32  Occupation_20                  550068 non-null  uint8  \n",
      " 33  City_Category_B                550068 non-null  uint8  \n",
      " 34  City_Category_C                550068 non-null  uint8  \n",
      " 35  Stay_In_Current_City_Years_1   550068 non-null  uint8  \n",
      " 36  Stay_In_Current_City_Years_2   550068 non-null  uint8  \n",
      " 37  Stay_In_Current_City_Years_3   550068 non-null  uint8  \n",
      " 38  Stay_In_Current_City_Years_4+  550068 non-null  uint8  \n",
      "dtypes: float64(2), int32(1), int64(3), uint8(33)\n",
      "memory usage: 40.4 MB\n"
     ]
    }
   ],
   "source": [
    "X.info()"
   ]
  },
  {
   "cell_type": "code",
   "execution_count": 23,
   "metadata": {},
   "outputs": [],
   "source": [
    "y = df[\"Purchase\"]"
   ]
  },
  {
   "cell_type": "code",
   "execution_count": 24,
   "metadata": {},
   "outputs": [],
   "source": [
    "X = X.drop([\"User_ID\"], axis=1)"
   ]
  },
  {
   "cell_type": "code",
   "execution_count": 25,
   "metadata": {},
   "outputs": [],
   "source": [
    "from sklearn.preprocessing import StandardScaler"
   ]
  },
  {
   "cell_type": "code",
   "execution_count": 26,
   "metadata": {},
   "outputs": [],
   "source": [
    "scaler = StandardScaler()\n",
    "Xs = scaler.fit_transform(X)"
   ]
  },
  {
   "cell_type": "markdown",
   "metadata": {},
   "source": [
    "## Do ML part"
   ]
  },
  {
   "cell_type": "code",
   "execution_count": 27,
   "metadata": {},
   "outputs": [],
   "source": [
    "import sklearn\n",
    "import xgboost as xgb\n",
    "\n",
    "from sklearn.model_selection import train_test_split\n",
    "from sklearn.linear_model import LinearRegression\n",
    "from sklearn.tree import DecisionTreeRegressor\n",
    "from sklearn.ensemble import RandomForestRegressor\n",
    "from sklearn.ensemble import GradientBoostingRegressor\n",
    "from sklearn.svm import SVC\n",
    "from sklearn.neighbors import KNeighborsRegressor\n",
    "from sklearn.linear_model import Ridge\n",
    "from sklearn.linear_model import Lasso\n",
    "from sklearn.preprocessing import PolynomialFeatures \n",
    "from sklearn import svm"
   ]
  },
  {
   "cell_type": "code",
   "execution_count": 28,
   "metadata": {},
   "outputs": [],
   "source": [
    "from sklearn import metrics\n",
    "\n",
    "def get_metrics(reg, y_test, y_pred):\n",
    "    res = []\n",
    "    \n",
    "    res.append(str(reg.__class__.__name__))\n",
    "    mae = metrics.mean_absolute_error(y_test, y_pred)\n",
    "    res.append(mae)\n",
    "    mse = metrics.mean_squared_error(y_test, y_pred)\n",
    "    res.append(mse)\n",
    "    rmse = np.sqrt(metrics.mean_squared_error(y_test, y_pred))\n",
    "    res.append(rmse)\n",
    "    r2 = metrics.r2_score(y_test, y_pred)\n",
    "    res.append(r2)\n",
    "    \n",
    "    return res\n",
    "               \n",
    "def show_metrics(res):\n",
    "    print(res[0])\n",
    "    print(' MAE : ', res[1])\n",
    "    print(' MSE : ', res[2])\n",
    "    print(' RMSE: ', res[3])\n",
    "    print(' R^2 : ', res[4])"
   ]
  },
  {
   "cell_type": "code",
   "execution_count": 29,
   "metadata": {},
   "outputs": [],
   "source": [
    "X_train, X_test, y_train, y_test = train_test_split(Xs, y, test_size = 1/3, random_state = 0)"
   ]
  },
  {
   "cell_type": "code",
   "execution_count": 30,
   "metadata": {},
   "outputs": [],
   "source": [
    "# Start with plolynomial regression\n",
    "pf = PolynomialFeatures(degree=2)\n",
    "X_poly_train = pf.fit_transform(X_train)\n",
    "X_poly_test = pf.fit_transform(X_test)"
   ]
  },
  {
   "cell_type": "code",
   "execution_count": 31,
   "metadata": {},
   "outputs": [
    {
     "data": {
      "text/plain": [
       "LinearRegression(copy_X=True, fit_intercept=True, n_jobs=None, normalize=False)"
      ]
     },
     "execution_count": 31,
     "metadata": {},
     "output_type": "execute_result"
    }
   ],
   "source": [
    "lr = LinearRegression()\n",
    "lr.fit(X_poly_train, y_train)"
   ]
  },
  {
   "cell_type": "code",
   "execution_count": 32,
   "metadata": {},
   "outputs": [
    {
     "name": "stdout",
     "output_type": "stream",
     "text": [
      "[12921.21484375  5155.04296875  8420.54296875 ...  7227.00390625\n",
      "  7297.9609375  12504.53515625]\n"
     ]
    }
   ],
   "source": [
    "y_pred = lr.predict(X_poly_test)\n",
    "print(y_pred)"
   ]
  },
  {
   "cell_type": "code",
   "execution_count": 33,
   "metadata": {},
   "outputs": [
    {
     "name": "stdout",
     "output_type": "stream",
     "text": [
      "PolynomialRegression\n",
      " MAE :  3268.125271521828\n",
      " MSE :  18975006.25354814\n",
      " RMSE:  4356.031020728404\n",
      " R^2 :  0.24982786428559145\n"
     ]
    }
   ],
   "source": [
    "results = []\n",
    "m = get_metrics(lr, y_test, y_pred)\n",
    "m[0] = 'PolynomialRegression'\n",
    "show_metrics(m)\n",
    "results.append(m)"
   ]
  },
  {
   "cell_type": "code",
   "execution_count": 34,
   "metadata": {},
   "outputs": [],
   "source": [
    "regressors = [\n",
    "    Ridge(alpha=.5),\n",
    "    Lasso(alpha=0.1),\n",
    "    LinearRegression(), \n",
    "    DecisionTreeRegressor(), \n",
    "    # RandomForestRegressor(),\n",
    "    GradientBoostingRegressor(), \n",
    "    xgb.XGBRegressor(objective ='reg:squarederror', colsample_bytree = 0.3, learning_rate = 0.1, \n",
    "                     max_depth = 5, alpha = 10, n_estimators = 10), \n",
    "    # svm.SVC(kernel='rbf', gamma=0.7, C=1.0),\n",
    "    # KNeighborsRegressor(n_neighbors=3)\n",
    "]\n",
    "\n",
    "### Commented out regressors are processing over 100 minutes"
   ]
  },
  {
   "cell_type": "code",
   "execution_count": 35,
   "metadata": {
    "scrolled": true
   },
   "outputs": [
    {
     "name": "stdout",
     "output_type": "stream",
     "text": [
      "======================================================================================\n",
      "Running Ridge(alpha=0.5, copy_X=True, fit_intercept=True, max_iter=None,\n",
      "      normalize=False, random_state=None, solver='auto', tol=0.001)\n",
      "Ridge\n",
      " MAE :  3574.465096904877\n",
      " MSE :  21788079.702849247\n",
      " RMSE:  4667.7703138489205\n",
      " R^2 :  0.13861370766368775\n",
      "======================================================================================\n",
      "\n",
      "======================================================================================\n",
      "Running Lasso(alpha=0.1, copy_X=True, fit_intercept=True, max_iter=1000,\n",
      "      normalize=False, positive=False, precompute=False, random_state=None,\n",
      "      selection='cyclic', tol=0.0001, warm_start=False)\n",
      "Lasso\n",
      " MAE :  3574.465697844052\n",
      " MSE :  21788078.015116964\n",
      " RMSE:  4667.770133063213\n",
      " R^2 :  0.13861377438776235\n",
      "======================================================================================\n",
      "\n",
      "======================================================================================\n",
      "Running LinearRegression(copy_X=True, fit_intercept=True, n_jobs=None, normalize=False)\n",
      "LinearRegression\n",
      " MAE :  3574.4648046029615\n",
      " MSE :  21788079.712582797\n",
      " RMSE:  4667.770314891554\n",
      " R^2 :  0.13861370727887412\n",
      "======================================================================================\n",
      "\n",
      "======================================================================================\n",
      "Running DecisionTreeRegressor(ccp_alpha=0.0, criterion='mse', max_depth=None,\n",
      "                      max_features=None, max_leaf_nodes=None,\n",
      "                      min_impurity_decrease=0.0, min_impurity_split=None,\n",
      "                      min_samples_leaf=1, min_samples_split=2,\n",
      "                      min_weight_fraction_leaf=0.0, presort='deprecated',\n",
      "                      random_state=None, splitter='best')\n",
      "DecisionTreeRegressor\n",
      " MAE :  2601.7848839798703\n",
      " MSE :  13633590.758424722\n",
      " RMSE:  3692.369260843872\n",
      " R^2 :  0.46099939256719646\n",
      "======================================================================================\n",
      "\n",
      "======================================================================================\n",
      "Running GradientBoostingRegressor(alpha=0.9, ccp_alpha=0.0, criterion='friedman_mse',\n",
      "                          init=None, learning_rate=0.1, loss='ls', max_depth=3,\n",
      "                          max_features=None, max_leaf_nodes=None,\n",
      "                          min_impurity_decrease=0.0, min_impurity_split=None,\n",
      "                          min_samples_leaf=1, min_samples_split=2,\n",
      "                          min_weight_fraction_leaf=0.0, n_estimators=100,\n",
      "                          n_iter_no_change=None, presort='deprecated',\n",
      "                          random_state=None, subsample=1.0, tol=0.0001,\n",
      "                          validation_fraction=0.1, verbose=0, warm_start=False)\n",
      "GradientBoostingRegressor\n",
      " MAE :  2217.64840251371\n",
      " MSE :  8509598.668296622\n",
      " RMSE:  2917.1216409839035\n",
      " R^2 :  0.6635751408052959\n",
      "======================================================================================\n",
      "\n",
      "======================================================================================\n",
      "Running XGBRegressor(alpha=10, base_score=None, booster=None, colsample_bylevel=None,\n",
      "             colsample_bynode=None, colsample_bytree=0.3, gamma=None,\n",
      "             gpu_id=None, importance_type='gain', interaction_constraints=None,\n",
      "             learning_rate=0.1, max_delta_step=None, max_depth=5,\n",
      "             min_child_weight=None, missing=nan, monotone_constraints=None,\n",
      "             n_estimators=10, n_jobs=None, num_parallel_tree=None,\n",
      "             objective='reg:squarederror', random_state=None, reg_alpha=None,\n",
      "             reg_lambda=None, scale_pos_weight=None, subsample=None,\n",
      "             tree_method=None, validate_parameters=False, verbosity=None)\n",
      "XGBRegressor\n",
      " MAE :  4167.587239453289\n",
      " MSE :  31002502.052134246\n",
      " RMSE:  5567.989049211056\n",
      " R^2 :  -0.22567617982160115\n",
      "======================================================================================\n",
      "\n"
     ]
    }
   ],
   "source": [
    "for r in regressors: \n",
    "    print('======================================================================================')\n",
    "    print('Running %s' % (r))\n",
    "    r.fit(X_train, y_train)\n",
    "    # print('Accuracy score for %s is %s' % (r, r.score(X_test, y_test) * 100))\n",
    "    m = get_metrics(r, y_test, r.predict(X_test))\n",
    "    show_metrics(m)\n",
    "    results.append(m)\n",
    "    print('======================================================================================')\n",
    "    print('')"
   ]
  },
  {
   "cell_type": "markdown",
   "metadata": {},
   "source": [
    "## Try ANN"
   ]
  },
  {
   "cell_type": "code",
   "execution_count": 36,
   "metadata": {},
   "outputs": [
    {
     "name": "stderr",
     "output_type": "stream",
     "text": [
      "Using TensorFlow backend.\n"
     ]
    }
   ],
   "source": [
    "from sklearn.pipeline import Pipeline\n",
    "from sklearn.preprocessing import MinMaxScaler\n",
    "from keras.optimizers import Adam\n",
    "from keras.models import Sequential\n",
    "from keras.layers import Dense\n",
    "from keras.wrappers.scikit_learn import KerasRegressor"
   ]
  },
  {
   "cell_type": "code",
   "execution_count": 37,
   "metadata": {},
   "outputs": [],
   "source": [
    "model = Sequential()\n",
    "model.add(Dense(38, input_dim=38, kernel_initializer='normal', activation='relu'))\n",
    "model.add(Dense(27, activation='relu'))\n",
    "model.add(Dense(11, activation='relu'))\n",
    "model.add(Dense(3, activation='relu'))\n",
    "model.add(Dense(1, activation='relu'))\n",
    "\n",
    "optimizer = Adam(lr=0.35)\n",
    "model.compile(loss='mse', optimizer=optimizer, metrics=['mse', 'mae'])"
   ]
  },
  {
   "cell_type": "code",
   "execution_count": 38,
   "metadata": {},
   "outputs": [
    {
     "name": "stdout",
     "output_type": "stream",
     "text": [
      "Epoch 1/300\n",
      "366712/366712 [==============================] - 1s 1us/step - loss: 57310498.3392 - mse: 57310492.0000 - mae: 5721.3047\n",
      "Epoch 2/300\n",
      "366712/366712 [==============================] - 0s 1us/step - loss: 19540834.9576 - mse: 19540834.0000 - mae: 3282.8831\n",
      "Epoch 3/300\n",
      "366712/366712 [==============================] - 0s 1us/step - loss: 17983677.3339 - mse: 17983678.0000 - mae: 3123.5078\n",
      "Epoch 4/300\n",
      "366712/366712 [==============================] - 0s 1us/step - loss: 17652403.8446 - mse: 17652406.0000 - mae: 3094.4150\n",
      "Epoch 5/300\n",
      "366712/366712 [==============================] - 0s 1us/step - loss: 17569257.2119 - mse: 17569256.0000 - mae: 3084.1479\n",
      "Epoch 6/300\n",
      "366712/366712 [==============================] - 0s 1us/step - loss: 17131709.5134 - mse: 17131708.0000 - mae: 3051.0593\n",
      "Epoch 7/300\n",
      "366712/366712 [==============================] - 0s 1us/step - loss: 16616558.9389 - mse: 16616559.0000 - mae: 3022.9678\n",
      "Epoch 8/300\n",
      "366712/366712 [==============================] - 0s 1us/step - loss: 16198000.4562 - mse: 16198003.0000 - mae: 2996.7742\n",
      "Epoch 9/300\n",
      "366712/366712 [==============================] - 0s 1us/step - loss: 15381978.7303 - mse: 15381975.0000 - mae: 2915.7576\n",
      "Epoch 10/300\n",
      "366712/366712 [==============================] - 0s 1us/step - loss: 14594309.9451 - mse: 14594309.0000 - mae: 2842.3481\n",
      "Epoch 11/300\n",
      "366712/366712 [==============================] - 0s 1us/step - loss: 14450777.0536 - mse: 14450779.0000 - mae: 2829.0857\n",
      "Epoch 12/300\n",
      "366712/366712 [==============================] - 0s 1us/step - loss: 14394866.7323 - mse: 14394872.0000 - mae: 2821.6189\n",
      "Epoch 13/300\n",
      "366712/366712 [==============================] - 0s 1us/step - loss: 14140243.7887 - mse: 14140242.0000 - mae: 2799.9526\n",
      "Epoch 14/300\n",
      "366712/366712 [==============================] - 0s 1us/step - loss: 14020530.0862 - mse: 14020531.0000 - mae: 2785.8240\n",
      "Epoch 15/300\n",
      "366712/366712 [==============================] - 0s 1us/step - loss: 13895186.2651 - mse: 13895188.0000 - mae: 2770.7722\n",
      "Epoch 16/300\n",
      "366712/366712 [==============================] - 0s 1us/step - loss: 13714164.2433 - mse: 13714162.0000 - mae: 2754.3157\n",
      "Epoch 17/300\n",
      "366712/366712 [==============================] - 0s 1us/step - loss: 13710770.9630 - mse: 13710772.0000 - mae: 2748.6345\n",
      "Epoch 18/300\n",
      "366712/366712 [==============================] - 0s 1us/step - loss: 13496354.7076 - mse: 13496354.0000 - mae: 2726.5945\n",
      "Epoch 19/300\n",
      "366712/366712 [==============================] - 0s 1us/step - loss: 13391495.9461 - mse: 13391499.0000 - mae: 2715.6516\n",
      "Epoch 20/300\n",
      "366712/366712 [==============================] - 0s 1us/step - loss: 13375332.6265 - mse: 13375333.0000 - mae: 2711.1357\n",
      "Epoch 21/300\n",
      "366712/366712 [==============================] - 0s 1us/step - loss: 13314400.5113 - mse: 13314401.0000 - mae: 2703.3394\n",
      "Epoch 22/300\n",
      "366712/366712 [==============================] - 0s 1us/step - loss: 13089347.8935 - mse: 13089346.0000 - mae: 2682.2622\n",
      "Epoch 23/300\n",
      "366712/366712 [==============================] - 0s 1us/step - loss: 13071161.8119 - mse: 13071159.0000 - mae: 2680.0249\n",
      "Epoch 24/300\n",
      "366712/366712 [==============================] - 0s 1us/step - loss: 12506644.2492 - mse: 12506646.0000 - mae: 2625.1438\n",
      "Epoch 25/300\n",
      "366712/366712 [==============================] - 0s 1us/step - loss: 12462774.0489 - mse: 12462774.0000 - mae: 2620.6807\n",
      "Epoch 26/300\n",
      "366712/366712 [==============================] - 0s 1us/step - loss: 12291998.0013 - mse: 12292000.0000 - mae: 2601.8521\n",
      "Epoch 27/300\n",
      "366712/366712 [==============================] - 0s 1us/step - loss: 12337213.2646 - mse: 12337212.0000 - mae: 2608.5793\n",
      "Epoch 28/300\n",
      "366712/366712 [==============================] - 0s 1us/step - loss: 12149344.2761 - mse: 12149346.0000 - mae: 2590.5417\n",
      "Epoch 29/300\n",
      "366712/366712 [==============================] - 0s 1us/step - loss: 12109741.2920 - mse: 12109741.0000 - mae: 2589.9248\n",
      "Epoch 30/300\n",
      "366712/366712 [==============================] - 0s 1us/step - loss: 11969408.9866 - mse: 11969409.0000 - mae: 2577.6321\n",
      "Epoch 31/300\n",
      "366712/366712 [==============================] - 0s 1us/step - loss: 11751030.0645 - mse: 11751031.0000 - mae: 2554.8669\n",
      "Epoch 32/300\n",
      "366712/366712 [==============================] - 0s 1us/step - loss: 12270524.0599 - mse: 12270523.0000 - mae: 2613.7075\n",
      "Epoch 33/300\n",
      "366712/366712 [==============================] - 0s 1us/step - loss: 11300786.2769 - mse: 11300785.0000 - mae: 2522.3181\n",
      "Epoch 34/300\n",
      "366712/366712 [==============================] - 0s 1us/step - loss: 11745823.3477 - mse: 11745825.0000 - mae: 2573.9731\n",
      "Epoch 35/300\n",
      "366712/366712 [==============================] - 0s 1us/step - loss: 11162129.1993 - mse: 11162130.0000 - mae: 2514.9238\n",
      "Epoch 36/300\n",
      "366712/366712 [==============================] - 0s 1us/step - loss: 10603824.2983 - mse: 10603823.0000 - mae: 2463.9026\n",
      "Epoch 37/300\n",
      "366712/366712 [==============================] - 0s 1us/step - loss: 10562707.5129 - mse: 10562707.0000 - mae: 2455.4900\n",
      "Epoch 38/300\n",
      "366712/366712 [==============================] - 0s 1us/step - loss: 10408813.7453 - mse: 10408816.0000 - mae: 2438.5371\n",
      "Epoch 39/300\n",
      "366712/366712 [==============================] - 0s 1us/step - loss: 10327101.0641 - mse: 10327101.0000 - mae: 2431.0630\n",
      "Epoch 40/300\n",
      "366712/366712 [==============================] - 0s 1us/step - loss: 10347500.3752 - mse: 10347500.0000 - mae: 2426.7454\n",
      "Epoch 41/300\n",
      "366712/366712 [==============================] - 0s 1us/step - loss: 10118275.0008 - mse: 10118273.0000 - mae: 2402.4937\n",
      "Epoch 42/300\n",
      "366712/366712 [==============================] - 0s 1us/step - loss: 10057301.5641 - mse: 10057302.0000 - mae: 2392.3752\n",
      "Epoch 43/300\n",
      "366712/366712 [==============================] - 0s 1us/step - loss: 9936208.3588 - mse: 9936208.0000 - mae: 2378.8965\n",
      "Epoch 44/300\n",
      "366712/366712 [==============================] - 0s 1us/step - loss: 10159320.6947 - mse: 10159321.0000 - mae: 2400.6221\n",
      "Epoch 45/300\n",
      "366712/366712 [==============================] - 0s 1us/step - loss: 9772894.6171 - mse: 9772895.0000 - mae: 2358.9116\n",
      "Epoch 46/300\n",
      "366712/366712 [==============================] - 0s 1us/step - loss: 9831971.2988 - mse: 9831973.0000 - mae: 2364.2661\n",
      "Epoch 47/300\n",
      "366712/366712 [==============================] - 0s 1us/step - loss: 9768767.0362 - mse: 9768768.0000 - mae: 2355.0959\n",
      "Epoch 48/300\n",
      "366712/366712 [==============================] - 0s 1us/step - loss: 9823633.9915 - mse: 9823635.0000 - mae: 2361.2659\n",
      "Epoch 49/300\n",
      "366712/366712 [==============================] - 0s 1us/step - loss: 9707348.8507 - mse: 9707350.0000 - mae: 2347.8660\n",
      "Epoch 50/300\n",
      "366712/366712 [==============================] - 0s 1us/step - loss: 9779643.9662 - mse: 9779646.0000 - mae: 2355.4231\n",
      "Epoch 51/300\n",
      "366712/366712 [==============================] - 0s 1us/step - loss: 9594539.3218 - mse: 9594537.0000 - mae: 2337.6345\n",
      "Epoch 52/300\n",
      "366712/366712 [==============================] - 0s 1us/step - loss: 9920442.5229 - mse: 9920444.0000 - mae: 2371.4321\n",
      "Epoch 53/300\n",
      "366712/366712 [==============================] - 0s 1us/step - loss: 9652526.2924 - mse: 9652525.0000 - mae: 2341.5881\n",
      "Epoch 54/300\n",
      "366712/366712 [==============================] - 0s 1us/step - loss: 9579324.4910 - mse: 9579324.0000 - mae: 2332.4456\n",
      "Epoch 55/300\n",
      "366712/366712 [==============================] - 0s 1us/step - loss: 9546544.3276 - mse: 9546542.0000 - mae: 2329.6736\n",
      "Epoch 56/300\n",
      "366712/366712 [==============================] - 0s 1us/step - loss: 9576152.1457 - mse: 9576153.0000 - mae: 2334.8069\n",
      "Epoch 57/300\n",
      "366712/366712 [==============================] - 0s 1us/step - loss: 9645759.0170 - mse: 9645759.0000 - mae: 2342.5120\n",
      "Epoch 58/300\n",
      "366712/366712 [==============================] - 0s 1us/step - loss: 9566604.2718 - mse: 9566606.0000 - mae: 2331.5198\n",
      "Epoch 59/300\n",
      "366712/366712 [==============================] - 0s 1us/step - loss: 9466042.4396 - mse: 9466043.0000 - mae: 2317.8845\n",
      "Epoch 60/300\n",
      "366712/366712 [==============================] - 0s 1us/step - loss: 9609670.3636 - mse: 9609671.0000 - mae: 2335.2366\n",
      "Epoch 61/300\n",
      "366712/366712 [==============================] - 0s 1us/step - loss: 9561665.0030 - mse: 9561663.0000 - mae: 2328.6094\n",
      "Epoch 62/300\n",
      "366712/366712 [==============================] - 0s 1us/step - loss: 9591797.2475 - mse: 9591797.0000 - mae: 2332.9880\n",
      "Epoch 63/300\n",
      "366712/366712 [==============================] - 0s 1us/step - loss: 9495093.4759 - mse: 9495095.0000 - mae: 2321.5388\n",
      "Epoch 64/300\n",
      "366712/366712 [==============================] - 0s 1us/step - loss: 9599367.5341 - mse: 9599368.0000 - mae: 2332.1404\n",
      "Epoch 65/300\n",
      "366712/366712 [==============================] - 0s 1us/step - loss: 9491993.0573 - mse: 9491994.0000 - mae: 2321.7766\n",
      "Epoch 66/300\n",
      "366712/366712 [==============================] - 0s 1us/step - loss: 9462385.4244 - mse: 9462385.0000 - mae: 2315.3264\n",
      "Epoch 67/300\n",
      "366712/366712 [==============================] - 0s 1us/step - loss: 9474435.6438 - mse: 9474436.0000 - mae: 2317.9370\n",
      "Epoch 68/300\n",
      "366712/366712 [==============================] - 0s 1us/step - loss: 9442378.1823 - mse: 9442378.0000 - mae: 2315.0090\n",
      "Epoch 69/300\n",
      "366712/366712 [==============================] - 0s 1us/step - loss: 9696878.6018 - mse: 9696879.0000 - mae: 2340.9702\n",
      "Epoch 70/300\n",
      "366712/366712 [==============================] - 0s 1us/step - loss: 9455889.8152 - mse: 9455892.0000 - mae: 2316.0256\n",
      "Epoch 71/300\n",
      "366712/366712 [==============================] - 0s 1us/step - loss: 9417687.7693 - mse: 9417688.0000 - mae: 2311.6204\n",
      "Epoch 72/300\n",
      "366712/366712 [==============================] - 0s 1us/step - loss: 9456190.9983 - mse: 9456190.0000 - mae: 2313.3372\n",
      "Epoch 73/300\n",
      "366712/366712 [==============================] - 0s 1us/step - loss: 9497189.9559 - mse: 9497189.0000 - mae: 2318.7390\n",
      "Epoch 74/300\n",
      "366712/366712 [==============================] - 0s 1us/step - loss: 9474129.1535 - mse: 9474130.0000 - mae: 2315.2932\n",
      "Epoch 75/300\n",
      "366712/366712 [==============================] - 0s 1us/step - loss: 9444757.9275 - mse: 9444758.0000 - mae: 2312.0007\n",
      "Epoch 76/300\n",
      "366712/366712 [==============================] - 0s 1us/step - loss: 9689279.7833 - mse: 9689280.0000 - mae: 2338.2432\n",
      "Epoch 77/300\n",
      "366712/366712 [==============================] - 0s 1us/step - loss: 9415519.4002 - mse: 9415522.0000 - mae: 2309.2070\n",
      "Epoch 78/300\n",
      "366712/366712 [==============================] - 0s 1us/step - loss: 9379470.0529 - mse: 9379472.0000 - mae: 2304.9414\n",
      "Epoch 79/300\n",
      "366712/366712 [==============================] - 0s 1us/step - loss: 9426789.9173 - mse: 9426792.0000 - mae: 2309.7368\n",
      "Epoch 80/300\n",
      "366712/366712 [==============================] - 0s 1us/step - loss: 9479567.3567 - mse: 9479567.0000 - mae: 2313.5601\n",
      "Epoch 81/300\n",
      "366712/366712 [==============================] - 0s 1us/step - loss: 9427210.1487 - mse: 9427213.0000 - mae: 2308.6726\n",
      "Epoch 82/300\n",
      "366712/366712 [==============================] - 0s 1us/step - loss: 9442047.6736 - mse: 9442045.0000 - mae: 2310.0947\n",
      "Epoch 83/300\n",
      "366712/366712 [==============================] - 0s 1us/step - loss: 9367059.9670 - mse: 9367059.0000 - mae: 2302.2998\n",
      "Epoch 84/300\n",
      "366712/366712 [==============================] - 0s 1us/step - loss: 9494450.9118 - mse: 9494450.0000 - mae: 2313.0010\n",
      "Epoch 85/300\n",
      "366712/366712 [==============================] - 0s 1us/step - loss: 9350792.5035 - mse: 9350792.0000 - mae: 2300.2344\n",
      "Epoch 86/300\n",
      "366712/366712 [==============================] - 0s 1us/step - loss: 9798113.0590 - mse: 9798113.0000 - mae: 2349.8911\n",
      "Epoch 87/300\n",
      "366712/366712 [==============================] - 0s 1us/step - loss: 9414944.0539 - mse: 9414946.0000 - mae: 2306.2581\n",
      "Epoch 88/300\n",
      "366712/366712 [==============================] - 0s 1us/step - loss: 9623373.1629 - mse: 9623374.0000 - mae: 2329.5310\n",
      "Epoch 89/300\n",
      "366712/366712 [==============================] - 0s 1us/step - loss: 9378665.2944 - mse: 9378666.0000 - mae: 2300.7175\n",
      "Epoch 90/300\n",
      "366712/366712 [==============================] - 0s 1us/step - loss: 9321177.8416 - mse: 9321178.0000 - mae: 2295.5435\n",
      "Epoch 91/300\n",
      "366712/366712 [==============================] - 0s 1us/step - loss: 9388523.4685 - mse: 9388521.0000 - mae: 2301.4065\n",
      "Epoch 92/300\n",
      "366712/366712 [==============================] - 0s 1us/step - loss: 9379679.7266 - mse: 9379679.0000 - mae: 2301.3528\n",
      "Epoch 93/300\n",
      "366712/366712 [==============================] - 0s 1us/step - loss: 9462349.2403 - mse: 9462349.0000 - mae: 2309.5896\n",
      "Epoch 94/300\n",
      "366712/366712 [==============================] - 0s 1us/step - loss: 9595202.4613 - mse: 9595202.0000 - mae: 2323.2998\n",
      "Epoch 95/300\n",
      "366712/366712 [==============================] - 0s 1us/step - loss: 9323330.5482 - mse: 9323333.0000 - mae: 2295.9353\n",
      "Epoch 96/300\n",
      "366712/366712 [==============================] - 0s 1us/step - loss: 9460079.0438 - mse: 9460081.0000 - mae: 2310.5754\n",
      "Epoch 97/300\n",
      "366712/366712 [==============================] - 0s 1us/step - loss: 9606790.4723 - mse: 9606792.0000 - mae: 2326.2327\n",
      "Epoch 98/300\n",
      "366712/366712 [==============================] - 0s 1us/step - loss: 9548076.5474 - mse: 9548079.0000 - mae: 2318.5908\n",
      "Epoch 99/300\n",
      "366712/366712 [==============================] - 0s 1us/step - loss: 9443963.1034 - mse: 9443961.0000 - mae: 2305.6997\n",
      "Epoch 100/300\n",
      "366712/366712 [==============================] - 0s 1us/step - loss: 9343158.7574 - mse: 9343158.0000 - mae: 2296.7725\n",
      "Epoch 101/300\n",
      "366712/366712 [==============================] - 0s 1us/step - loss: 9273517.0392 - mse: 9273518.0000 - mae: 2288.0930\n",
      "Epoch 102/300\n",
      "366712/366712 [==============================] - 0s 1us/step - loss: 9498599.3832 - mse: 9498600.0000 - mae: 2311.1233\n",
      "Epoch 103/300\n",
      "366712/366712 [==============================] - 0s 1us/step - loss: 9384333.6263 - mse: 9384334.0000 - mae: 2300.1716\n",
      "Epoch 104/300\n",
      "366712/366712 [==============================] - 0s 1us/step - loss: 9484363.0739 - mse: 9484362.0000 - mae: 2312.4133\n",
      "Epoch 105/300\n",
      "366712/366712 [==============================] - 0s 1us/step - loss: 9366057.4699 - mse: 9366058.0000 - mae: 2298.0613\n",
      "Epoch 106/300\n",
      "366712/366712 [==============================] - 0s 1us/step - loss: 9303996.2472 - mse: 9303997.0000 - mae: 2291.6794\n",
      "Epoch 107/300\n",
      "366712/366712 [==============================] - 0s 1us/step - loss: 9539420.4561 - mse: 9539420.0000 - mae: 2317.7798\n",
      "Epoch 108/300\n",
      "366712/366712 [==============================] - 0s 1us/step - loss: 9406743.1936 - mse: 9406743.0000 - mae: 2302.8789\n",
      "Epoch 109/300\n",
      "366712/366712 [==============================] - 0s 1us/step - loss: 9438964.4907 - mse: 9438964.0000 - mae: 2303.7141\n",
      "Epoch 110/300\n",
      "366712/366712 [==============================] - 0s 1us/step - loss: 9349815.1535 - mse: 9349816.0000 - mae: 2295.5884\n",
      "Epoch 111/300\n",
      "366712/366712 [==============================] - 0s 1us/step - loss: 9399208.7986 - mse: 9399208.0000 - mae: 2300.6384\n",
      "Epoch 112/300\n",
      "366712/366712 [==============================] - 0s 1us/step - loss: 9509690.2167 - mse: 9509690.0000 - mae: 2310.9905\n",
      "Epoch 113/300\n",
      "366712/366712 [==============================] - 0s 1us/step - loss: 9566195.5685 - mse: 9566195.0000 - mae: 2319.6658\n",
      "Epoch 114/300\n",
      "366712/366712 [==============================] - 0s 1us/step - loss: 9398066.5963 - mse: 9398065.0000 - mae: 2302.0112\n",
      "Epoch 115/300\n",
      "366712/366712 [==============================] - 0s 1us/step - loss: 9375606.7294 - mse: 9375605.0000 - mae: 2299.2107\n",
      "Epoch 116/300\n",
      "366712/366712 [==============================] - 0s 1us/step - loss: 9283397.2671 - mse: 9283397.0000 - mae: 2289.5923\n",
      "Epoch 117/300\n",
      "366712/366712 [==============================] - 0s 1us/step - loss: 9363173.3701 - mse: 9363174.0000 - mae: 2296.6455\n",
      "Epoch 118/300\n",
      "366712/366712 [==============================] - 0s 1us/step - loss: 9433512.2723 - mse: 9433512.0000 - mae: 2305.4116\n",
      "Epoch 119/300\n",
      "366712/366712 [==============================] - 0s 1us/step - loss: 9279969.1519 - mse: 9279969.0000 - mae: 2288.5166\n",
      "Epoch 120/300\n",
      "366712/366712 [==============================] - 0s 1us/step - loss: 9393031.9831 - mse: 9393031.0000 - mae: 2300.2258\n",
      "Epoch 121/300\n",
      "366712/366712 [==============================] - 0s 1us/step - loss: 9455775.7413 - mse: 9455776.0000 - mae: 2306.3347\n",
      "Epoch 122/300\n",
      "366712/366712 [==============================] - 0s 1us/step - loss: 9391084.7522 - mse: 9391085.0000 - mae: 2299.7944\n",
      "Epoch 123/300\n",
      "366712/366712 [==============================] - 0s 1us/step - loss: 9303150.7357 - mse: 9303150.0000 - mae: 2291.1670\n"
     ]
    },
    {
     "name": "stdout",
     "output_type": "stream",
     "text": [
      "Epoch 124/300\n",
      "366712/366712 [==============================] - 0s 1us/step - loss: 9704862.5747 - mse: 9704864.0000 - mae: 2332.1787\n",
      "Epoch 125/300\n",
      "366712/366712 [==============================] - 0s 1us/step - loss: 9317991.1936 - mse: 9317993.0000 - mae: 2292.0200\n",
      "Epoch 126/300\n",
      "366712/366712 [==============================] - 0s 1us/step - loss: 9419798.3003 - mse: 9419798.0000 - mae: 2300.4307\n",
      "Epoch 127/300\n",
      "366712/366712 [==============================] - 0s 1us/step - loss: 9289346.5033 - mse: 9289349.0000 - mae: 2285.6860\n",
      "Epoch 128/300\n",
      "366712/366712 [==============================] - 0s 1us/step - loss: 9420672.1092 - mse: 9420671.0000 - mae: 2300.7307\n",
      "Epoch 129/300\n",
      "366712/366712 [==============================] - 0s 1us/step - loss: 9295702.7415 - mse: 9295702.0000 - mae: 2289.1143\n",
      "Epoch 130/300\n",
      "366712/366712 [==============================] - 0s 1us/step - loss: 9378706.1113 - mse: 9378708.0000 - mae: 2296.1885\n",
      "Epoch 131/300\n",
      "366712/366712 [==============================] - 0s 1us/step - loss: 9530597.5014 - mse: 9530599.0000 - mae: 2313.9060\n",
      "Epoch 132/300\n",
      "366712/366712 [==============================] - 0s 1us/step - loss: 9320648.5003 - mse: 9320648.0000 - mae: 2291.1694\n",
      "Epoch 133/300\n",
      "366712/366712 [==============================] - 0s 1us/step - loss: 9289085.8203 - mse: 9289086.0000 - mae: 2287.1536\n",
      "Epoch 134/300\n",
      "366712/366712 [==============================] - 0s 1us/step - loss: 9448499.9365 - mse: 9448499.0000 - mae: 2304.4863\n",
      "Epoch 135/300\n",
      "366712/366712 [==============================] - 0s 1us/step - loss: 9329713.7672 - mse: 9329715.0000 - mae: 2291.7900\n",
      "Epoch 136/300\n",
      "366712/366712 [==============================] - 0s 1us/step - loss: 9315458.7825 - mse: 9315459.0000 - mae: 2289.2468\n",
      "Epoch 137/300\n",
      "366712/366712 [==============================] - 0s 1us/step - loss: 9430731.4847 - mse: 9430732.0000 - mae: 2301.6165\n",
      "Epoch 138/300\n",
      "366712/366712 [==============================] - 0s 1us/step - loss: 9391158.9777 - mse: 9391159.0000 - mae: 2299.2087\n",
      "Epoch 139/300\n",
      "366712/366712 [==============================] - 0s 1us/step - loss: 9283251.8376 - mse: 9283253.0000 - mae: 2286.1111\n",
      "Epoch 140/300\n",
      "366712/366712 [==============================] - 0s 1us/step - loss: 9261266.3056 - mse: 9261264.0000 - mae: 2283.1792\n",
      "Epoch 141/300\n",
      "366712/366712 [==============================] - 0s 1us/step - loss: 9358029.6674 - mse: 9358027.0000 - mae: 2293.6099\n",
      "Epoch 142/300\n",
      "366712/366712 [==============================] - 0s 1us/step - loss: 9485930.8607 - mse: 9485929.0000 - mae: 2308.1836\n",
      "Epoch 143/300\n",
      "366712/366712 [==============================] - 0s 1us/step - loss: 9281456.8114 - mse: 9281457.0000 - mae: 2287.2561\n",
      "Epoch 144/300\n",
      "366712/366712 [==============================] - 0s 1us/step - loss: 9363410.1773 - mse: 9363411.0000 - mae: 2294.4390\n",
      "Epoch 145/300\n",
      "366712/366712 [==============================] - 0s 1us/step - loss: 9655554.4975 - mse: 9655554.0000 - mae: 2326.8250\n",
      "Epoch 146/300\n",
      "366712/366712 [==============================] - 0s 1us/step - loss: 9350524.7525 - mse: 9350523.0000 - mae: 2295.7124\n",
      "Epoch 147/300\n",
      "366712/366712 [==============================] - 0s 1us/step - loss: 9277741.8344 - mse: 9277742.0000 - mae: 2287.5430\n",
      "Epoch 148/300\n",
      "366712/366712 [==============================] - 0s 1us/step - loss: 9335138.2881 - mse: 9335139.0000 - mae: 2292.1519\n",
      "Epoch 149/300\n",
      "366712/366712 [==============================] - 0s 1us/step - loss: 9252461.9395 - mse: 9252463.0000 - mae: 2283.6499\n",
      "Epoch 150/300\n",
      "366712/366712 [==============================] - 0s 1us/step - loss: 9411047.1834 - mse: 9411049.0000 - mae: 2300.0581\n",
      "Epoch 151/300\n",
      "366712/366712 [==============================] - 0s 1us/step - loss: 9390032.4714 - mse: 9390032.0000 - mae: 2297.8940\n",
      "Epoch 152/300\n",
      "366712/366712 [==============================] - 0s 1us/step - loss: 9324137.6447 - mse: 9324140.0000 - mae: 2289.6992\n",
      "Epoch 153/300\n",
      "366712/366712 [==============================] - 0s 1us/step - loss: 9284312.9332 - mse: 9284312.0000 - mae: 2286.4915\n",
      "Epoch 154/300\n",
      "366712/366712 [==============================] - 0s 1us/step - loss: 9217051.3684 - mse: 9217050.0000 - mae: 2278.4492\n",
      "Epoch 155/300\n",
      "366712/366712 [==============================] - 0s 1us/step - loss: 9458708.0846 - mse: 9458707.0000 - mae: 2302.4312\n",
      "Epoch 156/300\n",
      "366712/366712 [==============================] - 0s 1us/step - loss: 9455443.8950 - mse: 9455443.0000 - mae: 2304.4463\n",
      "Epoch 157/300\n",
      "366712/366712 [==============================] - 0s 1us/step - loss: 9271635.9334 - mse: 9271635.0000 - mae: 2285.9819\n",
      "Epoch 158/300\n",
      "366712/366712 [==============================] - 0s 1us/step - loss: 9253227.5404 - mse: 9253227.0000 - mae: 2282.4949\n",
      "Epoch 159/300\n",
      "366712/366712 [==============================] - 0s 1us/step - loss: 9791968.6067 - mse: 9791969.0000 - mae: 2344.4751\n",
      "Epoch 160/300\n",
      "366712/366712 [==============================] - 0s 1us/step - loss: 9270974.1285 - mse: 9270974.0000 - mae: 2286.3345\n",
      "Epoch 161/300\n",
      "366712/366712 [==============================] - 0s 1us/step - loss: 9233501.0247 - mse: 9233502.0000 - mae: 2282.1746\n",
      "Epoch 162/300\n",
      "366712/366712 [==============================] - 0s 1us/step - loss: 9227792.4532 - mse: 9227792.0000 - mae: 2280.5471\n",
      "Epoch 163/300\n",
      "366712/366712 [==============================] - 0s 1us/step - loss: 9302674.1006 - mse: 9302671.0000 - mae: 2288.5813\n",
      "Epoch 164/300\n",
      "366712/366712 [==============================] - 0s 1us/step - loss: 9469156.8090 - mse: 9469157.0000 - mae: 2306.6113\n",
      "Epoch 165/300\n",
      "366712/366712 [==============================] - 0s 1us/step - loss: 9259777.9741 - mse: 9259779.0000 - mae: 2284.8928\n",
      "Epoch 166/300\n",
      "366712/366712 [==============================] - 0s 1us/step - loss: 9267913.2576 - mse: 9267913.0000 - mae: 2284.0764\n",
      "Epoch 167/300\n",
      "366712/366712 [==============================] - 0s 1us/step - loss: 9188678.0985 - mse: 9188677.0000 - mae: 2274.8159\n",
      "Epoch 168/300\n",
      "366712/366712 [==============================] - 0s 1us/step - loss: 9363422.8513 - mse: 9363422.0000 - mae: 2293.7788\n",
      "Epoch 169/300\n",
      "366712/366712 [==============================] - 0s 1us/step - loss: 9188115.9736 - mse: 9188116.0000 - mae: 2274.5046\n",
      "Epoch 170/300\n",
      "366712/366712 [==============================] - 0s 1us/step - loss: 9974925.1601 - mse: 9974927.0000 - mae: 2364.2578\n",
      "Epoch 171/300\n",
      "366712/366712 [==============================] - 0s 1us/step - loss: 9660002.6603 - mse: 9660003.0000 - mae: 2330.0151\n",
      "Epoch 172/300\n",
      "366712/366712 [==============================] - 0s 1us/step - loss: 9304933.8870 - mse: 9304933.0000 - mae: 2287.1238\n",
      "Epoch 173/300\n",
      "366712/366712 [==============================] - 0s 1us/step - loss: 9196899.4425 - mse: 9196899.0000 - mae: 2277.9592\n",
      "Epoch 174/300\n",
      "366712/366712 [==============================] - 0s 1us/step - loss: 9161217.0807 - mse: 9161216.0000 - mae: 2273.3865\n",
      "Epoch 175/300\n",
      "366712/366712 [==============================] - 0s 1us/step - loss: 9381669.8797 - mse: 9381670.0000 - mae: 2295.2546\n",
      "Epoch 176/300\n",
      "366712/366712 [==============================] - 0s 1us/step - loss: 9250185.8553 - mse: 9250186.0000 - mae: 2281.4348\n",
      "Epoch 177/300\n",
      "366712/366712 [==============================] - 0s 1us/step - loss: 9223595.6777 - mse: 9223597.0000 - mae: 2279.6560\n",
      "Epoch 178/300\n",
      "366712/366712 [==============================] - 0s 1us/step - loss: 9188492.1659 - mse: 9188494.0000 - mae: 2275.2651\n",
      "Epoch 179/300\n",
      "366712/366712 [==============================] - 0s 1us/step - loss: 9216760.7795 - mse: 9216761.0000 - mae: 2280.0938\n",
      "Epoch 180/300\n",
      "366712/366712 [==============================] - 0s 1us/step - loss: 9659199.8061 - mse: 9659197.0000 - mae: 2328.8267\n",
      "Epoch 181/300\n",
      "366712/366712 [==============================] - 0s 1us/step - loss: 9305248.9051 - mse: 9305251.0000 - mae: 2287.5601\n",
      "Epoch 182/300\n",
      "366712/366712 [==============================] - 0s 1us/step - loss: 9232018.4186 - mse: 9232016.0000 - mae: 2280.3970\n",
      "Epoch 183/300\n",
      "366712/366712 [==============================] - 0s 1us/step - loss: 9261213.8832 - mse: 9261213.0000 - mae: 2283.4802\n",
      "Epoch 184/300\n",
      "366712/366712 [==============================] - 0s 1us/step - loss: 9300905.9945 - mse: 9300906.0000 - mae: 2288.0420\n",
      "Epoch 185/300\n",
      "366712/366712 [==============================] - 0s 1us/step - loss: 9343488.8158 - mse: 9343487.0000 - mae: 2290.3584\n",
      "Epoch 186/300\n",
      "366712/366712 [==============================] - 0s 1us/step - loss: 9898192.2250 - mse: 9898193.0000 - mae: 2355.0742\n",
      "Epoch 187/300\n",
      "366712/366712 [==============================] - 0s 1us/step - loss: 9150532.3578 - mse: 9150534.0000 - mae: 2270.8069\n",
      "Epoch 188/300\n",
      "366712/366712 [==============================] - 0s 1us/step - loss: 9263558.3245 - mse: 9263559.0000 - mae: 2282.5679\n",
      "Epoch 189/300\n",
      "366712/366712 [==============================] - 0s 1us/step - loss: 9208437.4881 - mse: 9208435.0000 - mae: 2278.0178\n",
      "Epoch 190/300\n",
      "366712/366712 [==============================] - 0s 1us/step - loss: 9213892.4169 - mse: 9213891.0000 - mae: 2276.3110\n",
      "Epoch 191/300\n",
      "366712/366712 [==============================] - 0s 1us/step - loss: 9307524.9437 - mse: 9307525.0000 - mae: 2289.3574\n",
      "Epoch 192/300\n",
      "366712/366712 [==============================] - 0s 1us/step - loss: 9218877.5597 - mse: 9218876.0000 - mae: 2278.4929\n",
      "Epoch 193/300\n",
      "366712/366712 [==============================] - 0s 1us/step - loss: 9283675.7281 - mse: 9283674.0000 - mae: 2284.6279\n",
      "Epoch 194/300\n",
      "366712/366712 [==============================] - 0s 1us/step - loss: 9480312.0432 - mse: 9480313.0000 - mae: 2306.7698\n",
      "Epoch 195/300\n",
      "366712/366712 [==============================] - 0s 1us/step - loss: 9139380.9172 - mse: 9139381.0000 - mae: 2271.8296\n",
      "Epoch 196/300\n",
      "366712/366712 [==============================] - 0s 1us/step - loss: 9179934.4503 - mse: 9179935.0000 - mae: 2274.7336\n",
      "Epoch 197/300\n",
      "366712/366712 [==============================] - 0s 1us/step - loss: 9214172.6014 - mse: 9214174.0000 - mae: 2277.6426\n",
      "Epoch 198/300\n",
      "366712/366712 [==============================] - 0s 1us/step - loss: 9208665.4023 - mse: 9208666.0000 - mae: 2277.4951\n",
      "Epoch 199/300\n",
      "366712/366712 [==============================] - 0s 1us/step - loss: 10491447.5692 - mse: 10491447.0000 - mae: 2420.9624\n",
      "Epoch 200/300\n",
      "366712/366712 [==============================] - 0s 1us/step - loss: 9277702.0753 - mse: 9277705.0000 - mae: 2285.9731\n",
      "Epoch 201/300\n",
      "366712/366712 [==============================] - 0s 1us/step - loss: 9182628.7133 - mse: 9182629.0000 - mae: 2275.5759\n",
      "Epoch 202/300\n",
      "366712/366712 [==============================] - 0s 1us/step - loss: 9134597.2350 - mse: 9134595.0000 - mae: 2269.4465\n",
      "Epoch 203/300\n",
      "366712/366712 [==============================] - 0s 1us/step - loss: 9336004.2516 - mse: 9336004.0000 - mae: 2292.1616\n",
      "Epoch 204/300\n",
      "366712/366712 [==============================] - 0s 1us/step - loss: 9627336.0690 - mse: 9627337.0000 - mae: 2324.9087\n",
      "Epoch 205/300\n",
      "366712/366712 [==============================] - 0s 1us/step - loss: 9153246.9767 - mse: 9153246.0000 - mae: 2270.7922\n",
      "Epoch 206/300\n",
      "366712/366712 [==============================] - 0s 1us/step - loss: 9218673.3495 - mse: 9218674.0000 - mae: 2278.5173\n",
      "Epoch 207/300\n",
      "366712/366712 [==============================] - 0s 1us/step - loss: 9173472.6890 - mse: 9173472.0000 - mae: 2272.4343\n",
      "Epoch 208/300\n",
      "366712/366712 [==============================] - 0s 1us/step - loss: 9190386.1353 - mse: 9190387.0000 - mae: 2274.8320\n",
      "Epoch 209/300\n",
      "366712/366712 [==============================] - 0s 1us/step - loss: 9156894.3531 - mse: 9156898.0000 - mae: 2271.5063\n",
      "Epoch 210/300\n",
      "366712/366712 [==============================] - 0s 1us/step - loss: 9200861.9875 - mse: 9200862.0000 - mae: 2276.1831\n",
      "Epoch 211/300\n",
      "366712/366712 [==============================] - 0s 1us/step - loss: 11142765.4143 - mse: 11142765.0000 - mae: 2473.6479\n",
      "Epoch 212/300\n",
      "366712/366712 [==============================] - 0s 1us/step - loss: 13173404.7155 - mse: 13173407.0000 - mae: 2696.3167\n",
      "Epoch 213/300\n",
      "366712/366712 [==============================] - 0s 1us/step - loss: 10737007.6987 - mse: 10737005.0000 - mae: 2452.1704\n",
      "Epoch 214/300\n",
      "366712/366712 [==============================] - 0s 1us/step - loss: 10284056.1875 - mse: 10284057.0000 - mae: 2413.5000\n",
      "Epoch 215/300\n",
      "366712/366712 [==============================] - 0s 1us/step - loss: 9910636.4494 - mse: 9910636.0000 - mae: 2376.4231\n",
      "Epoch 216/300\n",
      "366712/366712 [==============================] - 0s 1us/step - loss: 9722529.1276 - mse: 9722526.0000 - mae: 2353.0110\n",
      "Epoch 217/300\n",
      "366712/366712 [==============================] - 0s 1us/step - loss: 9586003.5027 - mse: 9586003.0000 - mae: 2338.0710\n",
      "Epoch 218/300\n",
      "366712/366712 [==============================] - 0s 1us/step - loss: 10765672.4330 - mse: 10765674.0000 - mae: 2468.6648\n",
      "Epoch 219/300\n",
      "366712/366712 [==============================] - 0s 1us/step - loss: 9498840.6212 - mse: 9498841.0000 - mae: 2326.6672\n",
      "Epoch 220/300\n",
      "366712/366712 [==============================] - 0s 1us/step - loss: 9538257.3264 - mse: 9538259.0000 - mae: 2325.3630\n",
      "Epoch 221/300\n",
      "366712/366712 [==============================] - 0s 1us/step - loss: 9348667.1079 - mse: 9348668.0000 - mae: 2303.4194\n",
      "Epoch 222/300\n",
      "366712/366712 [==============================] - 0s 1us/step - loss: 9306298.4589 - mse: 9306298.0000 - mae: 2295.2349\n",
      "Epoch 223/300\n",
      "366712/366712 [==============================] - 0s 1us/step - loss: 9290705.0437 - mse: 9290702.0000 - mae: 2291.2288\n",
      "Epoch 224/300\n",
      "366712/366712 [==============================] - 0s 1us/step - loss: 9489250.7282 - mse: 9489251.0000 - mae: 2311.0867\n",
      "Epoch 225/300\n",
      "366712/366712 [==============================] - 0s 1us/step - loss: 9256120.7161 - mse: 9256123.0000 - mae: 2287.9028\n",
      "Epoch 226/300\n",
      "366712/366712 [==============================] - 0s 1us/step - loss: 9265211.6870 - mse: 9265210.0000 - mae: 2285.5483\n",
      "Epoch 227/300\n",
      "366712/366712 [==============================] - 0s 1us/step - loss: 9432310.3641 - mse: 9432311.0000 - mae: 2303.7546\n",
      "Epoch 228/300\n",
      "366712/366712 [==============================] - 0s 1us/step - loss: 9288956.5743 - mse: 9288956.0000 - mae: 2287.8147\n",
      "Epoch 229/300\n",
      "366712/366712 [==============================] - 0s 1us/step - loss: 9373141.2937 - mse: 9373141.0000 - mae: 2294.8027\n",
      "Epoch 230/300\n",
      "366712/366712 [==============================] - 0s 1us/step - loss: 9363654.1090 - mse: 9363652.0000 - mae: 2295.7183\n",
      "Epoch 231/300\n",
      "366712/366712 [==============================] - 0s 1us/step - loss: 9168375.6876 - mse: 9168373.0000 - mae: 2272.4067\n",
      "Epoch 232/300\n",
      "366712/366712 [==============================] - 0s 1us/step - loss: 9304435.3639 - mse: 9304436.0000 - mae: 2286.3792\n",
      "Epoch 233/300\n",
      "366712/366712 [==============================] - 0s 1us/step - loss: 9307804.3220 - mse: 9307803.0000 - mae: 2288.1318\n",
      "Epoch 234/300\n",
      "366712/366712 [==============================] - 0s 1us/step - loss: 9346805.4181 - mse: 9346805.0000 - mae: 2290.9492\n",
      "Epoch 235/300\n",
      "366712/366712 [==============================] - 0s 1us/step - loss: 9144202.1403 - mse: 9144203.0000 - mae: 2271.1599\n",
      "Epoch 236/300\n",
      "366712/366712 [==============================] - 0s 1us/step - loss: 9364093.7982 - mse: 9364093.0000 - mae: 2293.1328\n",
      "Epoch 237/300\n",
      "366712/366712 [==============================] - 0s 1us/step - loss: 9227574.9978 - mse: 9227575.0000 - mae: 2276.9983\n",
      "Epoch 238/300\n",
      "366712/366712 [==============================] - 0s 1us/step - loss: 9442264.9788 - mse: 9442265.0000 - mae: 2301.7632\n",
      "Epoch 239/300\n",
      "366712/366712 [==============================] - 0s 1us/step - loss: 9232417.2838 - mse: 9232417.0000 - mae: 2277.0811\n",
      "Epoch 240/300\n",
      "366712/366712 [==============================] - 0s 1us/step - loss: 9253171.8733 - mse: 9253174.0000 - mae: 2280.1738\n",
      "Epoch 241/300\n",
      "366712/366712 [==============================] - 0s 1us/step - loss: 9194853.1005 - mse: 9194853.0000 - mae: 2273.7563\n",
      "Epoch 242/300\n",
      "366712/366712 [==============================] - 0s 1us/step - loss: 9158727.4164 - mse: 9158729.0000 - mae: 2270.5166\n",
      "Epoch 243/300\n",
      "366712/366712 [==============================] - 0s 1us/step - loss: 9511150.5815 - mse: 9511151.0000 - mae: 2309.7932\n",
      "Epoch 244/300\n",
      "366712/366712 [==============================] - 0s 1us/step - loss: 9258580.2173 - mse: 9258579.0000 - mae: 2281.9202\n",
      "Epoch 245/300\n",
      "366712/366712 [==============================] - 0s 1us/step - loss: 9123129.1123 - mse: 9123130.0000 - mae: 2265.7498\n",
      "Epoch 246/300\n"
     ]
    },
    {
     "name": "stdout",
     "output_type": "stream",
     "text": [
      "366712/366712 [==============================] - 0s 1us/step - loss: 9218723.5758 - mse: 9218725.0000 - mae: 2274.9956\n",
      "Epoch 247/300\n",
      "366712/366712 [==============================] - 0s 1us/step - loss: 9349104.5323 - mse: 9349104.0000 - mae: 2289.4460\n",
      "Epoch 248/300\n",
      "366712/366712 [==============================] - 0s 1us/step - loss: 9312938.3900 - mse: 9312940.0000 - mae: 2288.6909\n",
      "Epoch 249/300\n",
      "366712/366712 [==============================] - 0s 1us/step - loss: 9186394.9982 - mse: 9186393.0000 - mae: 2271.7559\n",
      "Epoch 250/300\n",
      "366712/366712 [==============================] - 0s 1us/step - loss: 9221117.8425 - mse: 9221118.0000 - mae: 2274.8083\n",
      "Epoch 251/300\n",
      "366712/366712 [==============================] - 0s 1us/step - loss: 9470471.4118 - mse: 9470470.0000 - mae: 2304.8586\n",
      "Epoch 252/300\n",
      "366712/366712 [==============================] - 0s 1us/step - loss: 9235568.9370 - mse: 9235569.0000 - mae: 2279.0486\n",
      "Epoch 253/300\n",
      "366712/366712 [==============================] - 0s 1us/step - loss: 9139573.6532 - mse: 9139573.0000 - mae: 2267.9780\n",
      "Epoch 254/300\n",
      "366712/366712 [==============================] - 0s 1us/step - loss: 9087334.4167 - mse: 9087334.0000 - mae: 2261.0754\n",
      "Epoch 255/300\n",
      "366712/366712 [==============================] - 0s 1us/step - loss: 9443564.5442 - mse: 9443565.0000 - mae: 2301.6794\n",
      "Epoch 256/300\n",
      "366712/366712 [==============================] - 0s 1us/step - loss: 9236264.5874 - mse: 9236265.0000 - mae: 2277.5278\n",
      "Epoch 257/300\n",
      "366712/366712 [==============================] - 0s 1us/step - loss: 9248218.2961 - mse: 9248221.0000 - mae: 2277.8838\n",
      "Epoch 258/300\n",
      "366712/366712 [==============================] - 0s 1us/step - loss: 9183852.8642 - mse: 9183852.0000 - mae: 2271.7383\n",
      "Epoch 259/300\n",
      "366712/366712 [==============================] - 0s 1us/step - loss: 9154901.2352 - mse: 9154898.0000 - mae: 2268.0359\n",
      "Epoch 260/300\n",
      "366712/366712 [==============================] - 0s 1us/step - loss: 9372914.6109 - mse: 9372915.0000 - mae: 2294.2385\n",
      "Epoch 261/300\n",
      "366712/366712 [==============================] - 0s 1us/step - loss: 9309976.5217 - mse: 9309974.0000 - mae: 2285.0510\n",
      "Epoch 262/300\n",
      "366712/366712 [==============================] - 0s 1us/step - loss: 9142815.3956 - mse: 9142817.0000 - mae: 2266.7476\n",
      "Epoch 263/300\n",
      "366712/366712 [==============================] - 0s 1us/step - loss: 9165082.4808 - mse: 9165082.0000 - mae: 2271.0740\n",
      "Epoch 264/300\n",
      "366712/366712 [==============================] - 0s 1us/step - loss: 9305165.6659 - mse: 9305166.0000 - mae: 2285.8171\n",
      "Epoch 265/300\n",
      "366712/366712 [==============================] - 0s 1us/step - loss: 9170895.2065 - mse: 9170897.0000 - mae: 2270.6140\n",
      "Epoch 266/300\n",
      "366712/366712 [==============================] - 0s 1us/step - loss: 9112764.0708 - mse: 9112765.0000 - mae: 2262.7615\n",
      "Epoch 267/300\n",
      "366712/366712 [==============================] - 0s 1us/step - loss: 9059423.4386 - mse: 9059423.0000 - mae: 2257.1243\n",
      "Epoch 268/300\n",
      "366712/366712 [==============================] - 0s 1us/step - loss: 9103967.0078 - mse: 9103967.0000 - mae: 2260.9070\n",
      "Epoch 269/300\n",
      "366712/366712 [==============================] - 0s 1us/step - loss: 9840430.2657 - mse: 9840431.0000 - mae: 2344.7839\n",
      "Epoch 270/300\n",
      "366712/366712 [==============================] - 0s 1us/step - loss: 9132287.5465 - mse: 9132288.0000 - mae: 2266.8938\n",
      "Epoch 271/300\n",
      "366712/366712 [==============================] - 0s 1us/step - loss: 9096568.0896 - mse: 9096567.0000 - mae: 2259.6194\n",
      "Epoch 272/300\n",
      "366712/366712 [==============================] - 0s 1us/step - loss: 9130060.4984 - mse: 9130060.0000 - mae: 2263.6943\n",
      "Epoch 273/300\n",
      "366712/366712 [==============================] - 0s 1us/step - loss: 9337380.4793 - mse: 9337378.0000 - mae: 2287.5068\n",
      "Epoch 274/300\n",
      "366712/366712 [==============================] - 0s 1us/step - loss: 9123955.4788 - mse: 9123958.0000 - mae: 2265.5671\n",
      "Epoch 275/300\n",
      "366712/366712 [==============================] - 0s 1us/step - loss: 9137447.1702 - mse: 9137446.0000 - mae: 2262.9966\n",
      "Epoch 276/300\n",
      "366712/366712 [==============================] - 0s 1us/step - loss: 9019653.7749 - mse: 9019653.0000 - mae: 2251.3843\n",
      "Epoch 277/300\n",
      "366712/366712 [==============================] - 0s 1us/step - loss: 9119169.5608 - mse: 9119170.0000 - mae: 2263.1208\n",
      "Epoch 278/300\n",
      "366712/366712 [==============================] - 0s 1us/step - loss: 9443441.4117 - mse: 9443440.0000 - mae: 2297.6021\n",
      "Epoch 279/300\n",
      "366712/366712 [==============================] - 0s 1us/step - loss: 9161201.9342 - mse: 9161203.0000 - mae: 2266.4316\n",
      "Epoch 280/300\n",
      "366712/366712 [==============================] - 0s 1us/step - loss: 9000029.7446 - mse: 9000028.0000 - mae: 2249.0088\n",
      "Epoch 281/300\n",
      "366712/366712 [==============================] - 0s 1us/step - loss: 9183641.6083 - mse: 9183642.0000 - mae: 2269.0015\n",
      "Epoch 282/300\n",
      "366712/366712 [==============================] - 0s 1us/step - loss: 9457165.5576 - mse: 9457165.0000 - mae: 2300.5984\n",
      "Epoch 283/300\n",
      "366712/366712 [==============================] - 0s 1us/step - loss: 9168102.3330 - mse: 9168102.0000 - mae: 2268.2673\n",
      "Epoch 284/300\n",
      "366712/366712 [==============================] - 0s 1us/step - loss: 9132562.6538 - mse: 9132562.0000 - mae: 2262.2522\n",
      "Epoch 285/300\n",
      "366712/366712 [==============================] - 0s 1us/step - loss: 9083181.7044 - mse: 9083182.0000 - mae: 2257.3398\n",
      "Epoch 286/300\n",
      "366712/366712 [==============================] - 0s 1us/step - loss: 9009885.3020 - mse: 9009885.0000 - mae: 2247.7112\n",
      "Epoch 287/300\n",
      "366712/366712 [==============================] - 0s 1us/step - loss: 9271509.1009 - mse: 9271508.0000 - mae: 2276.1921\n",
      "Epoch 288/300\n",
      "366712/366712 [==============================] - 0s 1us/step - loss: 9264321.4443 - mse: 9264323.0000 - mae: 2278.6729\n",
      "Epoch 289/300\n",
      "366712/366712 [==============================] - 0s 1us/step - loss: 9179826.3960 - mse: 9179827.0000 - mae: 2267.0159\n",
      "Epoch 290/300\n",
      "366712/366712 [==============================] - 0s 1us/step - loss: 9110819.2678 - mse: 9110819.0000 - mae: 2258.7979\n",
      "Epoch 291/300\n",
      "366712/366712 [==============================] - 0s 1us/step - loss: 8975113.6463 - mse: 8975115.0000 - mae: 2244.6052\n",
      "Epoch 292/300\n",
      "366712/366712 [==============================] - 0s 1us/step - loss: 9065628.1992 - mse: 9065627.0000 - mae: 2254.1191\n",
      "Epoch 293/300\n",
      "366712/366712 [==============================] - 0s 1us/step - loss: 9964749.7007 - mse: 9964748.0000 - mae: 2356.8960\n",
      "Epoch 294/300\n",
      "366712/366712 [==============================] - 0s 1us/step - loss: 8991247.9309 - mse: 8991250.0000 - mae: 2247.0459\n",
      "Epoch 295/300\n",
      "366712/366712 [==============================] - 0s 1us/step - loss: 9028282.9404 - mse: 9028283.0000 - mae: 2250.3530\n",
      "Epoch 296/300\n",
      "366712/366712 [==============================] - 0s 1us/step - loss: 9110066.4614 - mse: 9110066.0000 - mae: 2256.1204\n",
      "Epoch 297/300\n",
      "366712/366712 [==============================] - 0s 1us/step - loss: 9144159.7134 - mse: 9144158.0000 - mae: 2263.6301\n",
      "Epoch 298/300\n",
      "366712/366712 [==============================] - 0s 1us/step - loss: 9003276.8701 - mse: 9003278.0000 - mae: 2246.3850\n",
      "Epoch 299/300\n",
      "366712/366712 [==============================] - 0s 1us/step - loss: 9236997.3437 - mse: 9236997.0000 - mae: 2271.7183\n",
      "Epoch 300/300\n",
      "366712/366712 [==============================] - 0s 1us/step - loss: 8981988.0820 - mse: 8981991.0000 - mae: 2242.9858\n"
     ]
    },
    {
     "data": {
      "text/plain": [
       "<keras.callbacks.callbacks.History at 0x227b60ee5c8>"
      ]
     },
     "execution_count": 38,
     "metadata": {},
     "output_type": "execute_result"
    }
   ],
   "source": [
    "model.fit(X_train, y_train, epochs=300, batch_size=5000, verbose=1)"
   ]
  },
  {
   "cell_type": "code",
   "execution_count": 39,
   "metadata": {},
   "outputs": [
    {
     "name": "stdout",
     "output_type": "stream",
     "text": [
      "ANN\n",
      " MAE :  2287.662221144573\n",
      " MSE :  9107340.044901585\n",
      " RMSE:  3017.8369811674033\n",
      " R^2 :  0.6399435846887456\n"
     ]
    }
   ],
   "source": [
    "m = get_metrics(model, y_test, model.predict(X_test))\n",
    "m[0] = 'ANN'\n",
    "show_metrics(m)\n",
    "results.append(m)"
   ]
  },
  {
   "cell_type": "code",
   "execution_count": 40,
   "metadata": {},
   "outputs": [],
   "source": [
    "res = pd.DataFrame(np.array(results))\n",
    "res.columns = ['Name', 'MAE', 'MSE', 'RMSE', 'R^2']"
   ]
  },
  {
   "cell_type": "code",
   "execution_count": 41,
   "metadata": {},
   "outputs": [
    {
     "data": {
      "text/plain": [
       "<matplotlib.axes._subplots.AxesSubplot at 0x228848dbe88>"
      ]
     },
     "execution_count": 41,
     "metadata": {},
     "output_type": "execute_result"
    },
    {
     "data": {
      "image/png": "[encoded data removed]",
      "text/plain": [
       "<Figure size 432x288 with 1 Axes>"
      ]
     },
     "metadata": {
      "needs_background": "light"
     },
     "output_type": "display_data"
    }
   ],
   "source": [
    "sns.barplot(data=res, y='Name', x='R^2')"
   ]
  }
 ],
 "metadata": {
  "kernelspec": {
   "display_name": "Python 3",
   "language": "python",
   "name": "python3"
  },
  "language_info": {
   "codemirror_mode": {
    "name": "ipython",
    "version": 3
   },
   "file_extension": ".py",
   "mimetype": "text/x-python",
   "name": "python",
   "nbconvert_exporter": "python",
   "pygments_lexer": "ipython3",
   "version": "3.7.4"
  }
 },
 "nbformat": 4,
 "nbformat_minor": 2
}
