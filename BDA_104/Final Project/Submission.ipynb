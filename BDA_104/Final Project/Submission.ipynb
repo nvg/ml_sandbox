{
 "cells": [
  {
   "cell_type": "code",
   "execution_count": 1,
   "metadata": {},
   "outputs": [],
   "source": [
    "import pandas as pd\n",
    "import numpy as np\n",
    "\n",
    "import matplotlib as pyplot\n",
    "import matplotlib.pyplot as plt; plt.rcdefaults()\n",
    "import matplotlib.pyplot as plt\n",
    "%matplotlib inline\n",
    "\n",
    "import seaborn as sns"
   ]
  },
  {
   "cell_type": "code",
   "execution_count": 2,
   "metadata": {},
   "outputs": [],
   "source": [
    "df = pd.read_csv('train.csv')"
   ]
  },
  {
   "cell_type": "markdown",
   "metadata": {},
   "source": [
    "# Review the data set"
   ]
  },
  {
   "cell_type": "code",
   "execution_count": 3,
   "metadata": {
    "scrolled": true
   },
   "outputs": [
    {
     "name": "stdout",
     "output_type": "stream",
     "text": [
      "<class 'pandas.core.frame.DataFrame'>\n",
      "RangeIndex: 550068 entries, 0 to 550067\n",
      "Data columns (total 12 columns):\n",
      " #   Column                      Non-Null Count   Dtype  \n",
      "---  ------                      --------------   -----  \n",
      " 0   User_ID                     550068 non-null  int64  \n",
      " 1   Product_ID                  550068 non-null  object \n",
      " 2   Gender                      550068 non-null  object \n",
      " 3   Age                         550068 non-null  object \n",
      " 4   Occupation                  550068 non-null  int64  \n",
      " 5   City_Category               550068 non-null  object \n",
      " 6   Stay_In_Current_City_Years  550068 non-null  object \n",
      " 7   Marital_Status              550068 non-null  int64  \n",
      " 8   Product_Category_1          550068 non-null  int64  \n",
      " 9   Product_Category_2          376430 non-null  float64\n",
      " 10  Product_Category_3          166821 non-null  float64\n",
      " 11  Purchase                    550068 non-null  int64  \n",
      "dtypes: float64(2), int64(5), object(5)\n",
      "memory usage: 50.4+ MB\n"
     ]
    }
   ],
   "source": [
    "df.info()"
   ]
  },
  {
   "cell_type": "code",
   "execution_count": 4,
   "metadata": {},
   "outputs": [
    {
     "data": {
      "text/html": [
       "<div>\n",
       "<style scoped>\n",
       "    .dataframe tbody tr th:only-of-type {\n",
       "        vertical-align: middle;\n",
       "    }\n",
       "\n",
       "    .dataframe tbody tr th {\n",
       "        vertical-align: top;\n",
       "    }\n",
       "\n",
       "    .dataframe thead th {\n",
       "        text-align: right;\n",
       "    }\n",
       "</style>\n",
       "<table border=\"1\" class=\"dataframe\">\n",
       "  <thead>\n",
       "    <tr style=\"text-align: right;\">\n",
       "      <th></th>\n",
       "      <th>User_ID</th>\n",
       "      <th>Occupation</th>\n",
       "      <th>Marital_Status</th>\n",
       "      <th>Product_Category_1</th>\n",
       "      <th>Product_Category_2</th>\n",
       "      <th>Product_Category_3</th>\n",
       "      <th>Purchase</th>\n",
       "    </tr>\n",
       "  </thead>\n",
       "  <tbody>\n",
       "    <tr>\n",
       "      <th>count</th>\n",
       "      <td>5.500680e+05</td>\n",
       "      <td>550068.000000</td>\n",
       "      <td>550068.000000</td>\n",
       "      <td>550068.000000</td>\n",
       "      <td>376430.000000</td>\n",
       "      <td>166821.000000</td>\n",
       "      <td>550068.000000</td>\n",
       "    </tr>\n",
       "    <tr>\n",
       "      <th>mean</th>\n",
       "      <td>1.003029e+06</td>\n",
       "      <td>8.076707</td>\n",
       "      <td>0.409653</td>\n",
       "      <td>5.404270</td>\n",
       "      <td>9.842329</td>\n",
       "      <td>12.668243</td>\n",
       "      <td>9263.968713</td>\n",
       "    </tr>\n",
       "    <tr>\n",
       "      <th>std</th>\n",
       "      <td>1.727592e+03</td>\n",
       "      <td>6.522660</td>\n",
       "      <td>0.491770</td>\n",
       "      <td>3.936211</td>\n",
       "      <td>5.086590</td>\n",
       "      <td>4.125338</td>\n",
       "      <td>5023.065394</td>\n",
       "    </tr>\n",
       "    <tr>\n",
       "      <th>min</th>\n",
       "      <td>1.000001e+06</td>\n",
       "      <td>0.000000</td>\n",
       "      <td>0.000000</td>\n",
       "      <td>1.000000</td>\n",
       "      <td>2.000000</td>\n",
       "      <td>3.000000</td>\n",
       "      <td>12.000000</td>\n",
       "    </tr>\n",
       "    <tr>\n",
       "      <th>25%</th>\n",
       "      <td>1.001516e+06</td>\n",
       "      <td>2.000000</td>\n",
       "      <td>0.000000</td>\n",
       "      <td>1.000000</td>\n",
       "      <td>5.000000</td>\n",
       "      <td>9.000000</td>\n",
       "      <td>5823.000000</td>\n",
       "    </tr>\n",
       "    <tr>\n",
       "      <th>50%</th>\n",
       "      <td>1.003077e+06</td>\n",
       "      <td>7.000000</td>\n",
       "      <td>0.000000</td>\n",
       "      <td>5.000000</td>\n",
       "      <td>9.000000</td>\n",
       "      <td>14.000000</td>\n",
       "      <td>8047.000000</td>\n",
       "    </tr>\n",
       "    <tr>\n",
       "      <th>75%</th>\n",
       "      <td>1.004478e+06</td>\n",
       "      <td>14.000000</td>\n",
       "      <td>1.000000</td>\n",
       "      <td>8.000000</td>\n",
       "      <td>15.000000</td>\n",
       "      <td>16.000000</td>\n",
       "      <td>12054.000000</td>\n",
       "    </tr>\n",
       "    <tr>\n",
       "      <th>max</th>\n",
       "      <td>1.006040e+06</td>\n",
       "      <td>20.000000</td>\n",
       "      <td>1.000000</td>\n",
       "      <td>20.000000</td>\n",
       "      <td>18.000000</td>\n",
       "      <td>18.000000</td>\n",
       "      <td>23961.000000</td>\n",
       "    </tr>\n",
       "  </tbody>\n",
       "</table>\n",
       "</div>"
      ],
      "text/plain": [
       "            User_ID     Occupation  Marital_Status  Product_Category_1  \\\n",
       "count  5.500680e+05  550068.000000   550068.000000       550068.000000   \n",
       "mean   1.003029e+06       8.076707        0.409653            5.404270   \n",
       "std    1.727592e+03       6.522660        0.491770            3.936211   \n",
       "min    1.000001e+06       0.000000        0.000000            1.000000   \n",
       "25%    1.001516e+06       2.000000        0.000000            1.000000   \n",
       "50%    1.003077e+06       7.000000        0.000000            5.000000   \n",
       "75%    1.004478e+06      14.000000        1.000000            8.000000   \n",
       "max    1.006040e+06      20.000000        1.000000           20.000000   \n",
       "\n",
       "       Product_Category_2  Product_Category_3       Purchase  \n",
       "count       376430.000000       166821.000000  550068.000000  \n",
       "mean             9.842329           12.668243    9263.968713  \n",
       "std              5.086590            4.125338    5023.065394  \n",
       "min              2.000000            3.000000      12.000000  \n",
       "25%              5.000000            9.000000    5823.000000  \n",
       "50%              9.000000           14.000000    8047.000000  \n",
       "75%             15.000000           16.000000   12054.000000  \n",
       "max             18.000000           18.000000   23961.000000  "
      ]
     },
     "execution_count": 4,
     "metadata": {},
     "output_type": "execute_result"
    }
   ],
   "source": [
    "df.describe()"
   ]
  },
  {
   "cell_type": "code",
   "execution_count": 5,
   "metadata": {},
   "outputs": [
    {
     "data": {
      "text/html": [
       "<div>\n",
       "<style scoped>\n",
       "    .dataframe tbody tr th:only-of-type {\n",
       "        vertical-align: middle;\n",
       "    }\n",
       "\n",
       "    .dataframe tbody tr th {\n",
       "        vertical-align: top;\n",
       "    }\n",
       "\n",
       "    .dataframe thead th {\n",
       "        text-align: right;\n",
       "    }\n",
       "</style>\n",
       "<table border=\"1\" class=\"dataframe\">\n",
       "  <thead>\n",
       "    <tr style=\"text-align: right;\">\n",
       "      <th></th>\n",
       "      <th>User_ID</th>\n",
       "      <th>Product_ID</th>\n",
       "      <th>Gender</th>\n",
       "      <th>Age</th>\n",
       "      <th>Occupation</th>\n",
       "      <th>City_Category</th>\n",
       "      <th>Stay_In_Current_City_Years</th>\n",
       "      <th>Marital_Status</th>\n",
       "      <th>Product_Category_1</th>\n",
       "      <th>Product_Category_2</th>\n",
       "      <th>Product_Category_3</th>\n",
       "      <th>Purchase</th>\n",
       "    </tr>\n",
       "  </thead>\n",
       "  <tbody>\n",
       "    <tr>\n",
       "      <th>0</th>\n",
       "      <td>1000001</td>\n",
       "      <td>P00069042</td>\n",
       "      <td>F</td>\n",
       "      <td>0-17</td>\n",
       "      <td>10</td>\n",
       "      <td>A</td>\n",
       "      <td>2</td>\n",
       "      <td>0</td>\n",
       "      <td>3</td>\n",
       "      <td>NaN</td>\n",
       "      <td>NaN</td>\n",
       "      <td>8370</td>\n",
       "    </tr>\n",
       "    <tr>\n",
       "      <th>1</th>\n",
       "      <td>1000001</td>\n",
       "      <td>P00248942</td>\n",
       "      <td>F</td>\n",
       "      <td>0-17</td>\n",
       "      <td>10</td>\n",
       "      <td>A</td>\n",
       "      <td>2</td>\n",
       "      <td>0</td>\n",
       "      <td>1</td>\n",
       "      <td>6.0</td>\n",
       "      <td>14.0</td>\n",
       "      <td>15200</td>\n",
       "    </tr>\n",
       "    <tr>\n",
       "      <th>2</th>\n",
       "      <td>1000001</td>\n",
       "      <td>P00087842</td>\n",
       "      <td>F</td>\n",
       "      <td>0-17</td>\n",
       "      <td>10</td>\n",
       "      <td>A</td>\n",
       "      <td>2</td>\n",
       "      <td>0</td>\n",
       "      <td>12</td>\n",
       "      <td>NaN</td>\n",
       "      <td>NaN</td>\n",
       "      <td>1422</td>\n",
       "    </tr>\n",
       "    <tr>\n",
       "      <th>3</th>\n",
       "      <td>1000001</td>\n",
       "      <td>P00085442</td>\n",
       "      <td>F</td>\n",
       "      <td>0-17</td>\n",
       "      <td>10</td>\n",
       "      <td>A</td>\n",
       "      <td>2</td>\n",
       "      <td>0</td>\n",
       "      <td>12</td>\n",
       "      <td>14.0</td>\n",
       "      <td>NaN</td>\n",
       "      <td>1057</td>\n",
       "    </tr>\n",
       "    <tr>\n",
       "      <th>4</th>\n",
       "      <td>1000002</td>\n",
       "      <td>P00285442</td>\n",
       "      <td>M</td>\n",
       "      <td>55+</td>\n",
       "      <td>16</td>\n",
       "      <td>C</td>\n",
       "      <td>4+</td>\n",
       "      <td>0</td>\n",
       "      <td>8</td>\n",
       "      <td>NaN</td>\n",
       "      <td>NaN</td>\n",
       "      <td>7969</td>\n",
       "    </tr>\n",
       "  </tbody>\n",
       "</table>\n",
       "</div>"
      ],
      "text/plain": [
       "   User_ID Product_ID Gender   Age  Occupation City_Category  \\\n",
       "0  1000001  P00069042      F  0-17          10             A   \n",
       "1  1000001  P00248942      F  0-17          10             A   \n",
       "2  1000001  P00087842      F  0-17          10             A   \n",
       "3  1000001  P00085442      F  0-17          10             A   \n",
       "4  1000002  P00285442      M   55+          16             C   \n",
       "\n",
       "  Stay_In_Current_City_Years  Marital_Status  Product_Category_1  \\\n",
       "0                          2               0                   3   \n",
       "1                          2               0                   1   \n",
       "2                          2               0                  12   \n",
       "3                          2               0                  12   \n",
       "4                         4+               0                   8   \n",
       "\n",
       "   Product_Category_2  Product_Category_3  Purchase  \n",
       "0                 NaN                 NaN      8370  \n",
       "1                 6.0                14.0     15200  \n",
       "2                 NaN                 NaN      1422  \n",
       "3                14.0                 NaN      1057  \n",
       "4                 NaN                 NaN      7969  "
      ]
     },
     "execution_count": 5,
     "metadata": {},
     "output_type": "execute_result"
    }
   ],
   "source": [
    "df.head()"
   ]
  },
  {
   "cell_type": "code",
   "execution_count": 6,
   "metadata": {},
   "outputs": [
    {
     "data": {
      "text/plain": [
       "array([ 3,  1, 12,  8,  5,  4,  2,  6, 14, 11, 13, 15,  7, 16, 18, 10, 17,\n",
       "        9, 20, 19], dtype=int64)"
      ]
     },
     "execution_count": 6,
     "metadata": {},
     "output_type": "execute_result"
    }
   ],
   "source": [
    "df['Product_Category_1'].unique()"
   ]
  },
  {
   "cell_type": "code",
   "execution_count": 7,
   "metadata": {},
   "outputs": [
    {
     "data": {
      "text/plain": [
       "<matplotlib.axes._subplots.AxesSubplot at 0x1f9bebf3108>"
      ]
     },
     "execution_count": 7,
     "metadata": {},
     "output_type": "execute_result"
    },
    {
     "data": {
      "image/png": "[encoded data removed]",
      "text/plain": [
       "<Figure size 432x288 with 1 Axes>"
      ]
     },
     "metadata": {
      "needs_background": "light"
     },
     "output_type": "display_data"
    }
   ],
   "source": [
    "sns.heatmap(df.isnull(), cbar=False)"
   ]
  },
  {
   "cell_type": "code",
   "execution_count": 8,
   "metadata": {},
   "outputs": [
    {
     "data": {
      "text/plain": [
       "User_ID                            0\n",
       "Product_ID                         0\n",
       "Gender                             0\n",
       "Age                                0\n",
       "Occupation                         0\n",
       "City_Category                      0\n",
       "Stay_In_Current_City_Years         0\n",
       "Marital_Status                     0\n",
       "Product_Category_1                 0\n",
       "Product_Category_2            173638\n",
       "Product_Category_3            383247\n",
       "Purchase                           0\n",
       "dtype: int64"
      ]
     },
     "execution_count": 8,
     "metadata": {},
     "output_type": "execute_result"
    }
   ],
   "source": [
    "# Clear null values\n",
    "df.isnull().sum()"
   ]
  },
  {
   "cell_type": "code",
   "execution_count": 9,
   "metadata": {},
   "outputs": [
    {
     "data": {
      "text/plain": [
       "<matplotlib.axes._subplots.AxesSubplot at 0x1f9c10e1c08>"
      ]
     },
     "execution_count": 9,
     "metadata": {},
     "output_type": "execute_result"
    },
    {
     "data": {
      "image/png": "[encoded data removed]",
      "text/plain": [
       "<Figure size 432x288 with 1 Axes>"
      ]
     },
     "metadata": {
      "needs_background": "light"
     },
     "output_type": "display_data"
    }
   ],
   "source": [
    "sns.countplot(df['Age'], hue=df['Gender'])"
   ]
  },
  {
   "cell_type": "code",
   "execution_count": 10,
   "metadata": {},
   "outputs": [
    {
     "data": {
      "text/plain": [
       "<matplotlib.axes._subplots.AxesSubplot at 0x1f9c16b47c8>"
      ]
     },
     "execution_count": 10,
     "metadata": {},
     "output_type": "execute_result"
    },
    {
     "data": {
      "image/png": "[encoded data removed]",
      "text/plain": [
       "<Figure size 432x288 with 1 Axes>"
      ]
     },
     "metadata": {
      "needs_background": "light"
     },
     "output_type": "display_data"
    }
   ],
   "source": [
    "sns.countplot(df['Stay_In_Current_City_Years'])"
   ]
  },
  {
   "cell_type": "code",
   "execution_count": 11,
   "metadata": {},
   "outputs": [
    {
     "data": {
      "text/plain": [
       "<matplotlib.axes._subplots.AxesSubplot at 0x1f9c1488ec8>"
      ]
     },
     "execution_count": 11,
     "metadata": {},
     "output_type": "execute_result"
    },
    {
     "data": {
      "image/png": "[encoded data removed]",
      "text/plain": [
       "<Figure size 432x288 with 1 Axes>"
      ]
     },
     "metadata": {
      "needs_background": "light"
     },
     "output_type": "display_data"
    }
   ],
   "source": [
    "sns.countplot(df['Occupation'])"
   ]
  },
  {
   "cell_type": "code",
   "execution_count": 12,
   "metadata": {},
   "outputs": [
    {
     "data": {
      "text/plain": [
       "<matplotlib.axes._subplots.AxesSubplot at 0x1f9c1d63288>"
      ]
     },
     "execution_count": 12,
     "metadata": {},
     "output_type": "execute_result"
    },
    {
     "data": {
      "image/png": "[encoded data removed]",
      "text/plain": [
       "<Figure size 432x288 with 1 Axes>"
      ]
     },
     "metadata": {
      "needs_background": "light"
     },
     "output_type": "display_data"
    }
   ],
   "source": [
    "sns.countplot(df['Product_Category_1'])"
   ]
  },
  {
   "cell_type": "code",
   "execution_count": 13,
   "metadata": {},
   "outputs": [
    {
     "data": {
      "text/plain": [
       "<matplotlib.axes._subplots.AxesSubplot at 0x1f9c13d6288>"
      ]
     },
     "execution_count": 13,
     "metadata": {},
     "output_type": "execute_result"
    },
    {
     "data": {
      "image/png": "[encoded data removed]",
      "text/plain": [
       "<Figure size 432x288 with 1 Axes>"
      ]
     },
     "metadata": {
      "needs_background": "light"
     },
     "output_type": "display_data"
    }
   ],
   "source": [
    "sns.distplot(df['Purchase'])"
   ]
  },
  {
   "cell_type": "markdown",
   "metadata": {},
   "source": [
    "We have labeled data - can use supervised learning\n",
    "We want to predict how much $$$ people spend - regression task\n",
    "\n",
    "When we think about sales - consider demographic (age/gender/income/home), store (location/size/ads/product stock)"
   ]
  },
  {
   "cell_type": "code",
   "execution_count": 14,
   "metadata": {},
   "outputs": [
    {
     "name": "stdout",
     "output_type": "stream",
     "text": [
      "['P00069042' 'P00248942' 'P00087842' ... 'P00370293' 'P00371644'\n",
      " 'P00370853']\n",
      "3631\n"
     ]
    }
   ],
   "source": [
    "print(df['Product_ID'].unique())\n",
    "print(len(df['Product_ID'].unique()))"
   ]
  },
  {
   "cell_type": "markdown",
   "metadata": {},
   "source": [
    "# Prepare data"
   ]
  },
  {
   "cell_type": "code",
   "execution_count": 15,
   "metadata": {},
   "outputs": [],
   "source": [
    "X = df.drop(['Purchase', 'Product_Category_2', 'Product_Category_3'], axis=1)"
   ]
  },
  {
   "cell_type": "code",
   "execution_count": 16,
   "metadata": {},
   "outputs": [],
   "source": [
    "for cat in ['Age', 'City_Category', 'Stay_In_Current_City_Years']:\n",
    "    tmp = pd.get_dummies(X[cat], prefix=cat, drop_first=True)\n",
    "    X.drop(cat, axis=1, inplace=True)\n",
    "    X = pd.concat([X, tmp], axis=1)"
   ]
  },
  {
   "cell_type": "code",
   "execution_count": 17,
   "metadata": {},
   "outputs": [],
   "source": [
    "X['Gender'] = pd.get_dummies(X['Gender'], drop_first=True)"
   ]
  },
  {
   "cell_type": "code",
   "execution_count": 18,
   "metadata": {},
   "outputs": [],
   "source": [
    "from sklearn.preprocessing import LabelEncoder\n",
    "\n",
    "for c in ['Product_ID']:\n",
    "    enc = LabelEncoder()\n",
    "    X[c] = enc.fit_transform(X[c])"
   ]
  },
  {
   "cell_type": "code",
   "execution_count": 19,
   "metadata": {},
   "outputs": [],
   "source": [
    "X[\"Occupation\"] = X[\"Occupation\"].astype('category')"
   ]
  },
  {
   "cell_type": "code",
   "execution_count": 20,
   "metadata": {},
   "outputs": [
    {
     "data": {
      "text/html": [
       "<div>\n",
       "<style scoped>\n",
       "    .dataframe tbody tr th:only-of-type {\n",
       "        vertical-align: middle;\n",
       "    }\n",
       "\n",
       "    .dataframe tbody tr th {\n",
       "        vertical-align: top;\n",
       "    }\n",
       "\n",
       "    .dataframe thead th {\n",
       "        text-align: right;\n",
       "    }\n",
       "</style>\n",
       "<table border=\"1\" class=\"dataframe\">\n",
       "  <thead>\n",
       "    <tr style=\"text-align: right;\">\n",
       "      <th></th>\n",
       "      <th>User_ID</th>\n",
       "      <th>Product_ID</th>\n",
       "      <th>Gender</th>\n",
       "      <th>Occupation</th>\n",
       "      <th>Marital_Status</th>\n",
       "      <th>Product_Category_1</th>\n",
       "      <th>Age_18-25</th>\n",
       "      <th>Age_26-35</th>\n",
       "      <th>Age_36-45</th>\n",
       "      <th>Age_46-50</th>\n",
       "      <th>Age_51-55</th>\n",
       "      <th>Age_55+</th>\n",
       "      <th>City_Category_B</th>\n",
       "      <th>City_Category_C</th>\n",
       "      <th>Stay_In_Current_City_Years_1</th>\n",
       "      <th>Stay_In_Current_City_Years_2</th>\n",
       "      <th>Stay_In_Current_City_Years_3</th>\n",
       "      <th>Stay_In_Current_City_Years_4+</th>\n",
       "    </tr>\n",
       "  </thead>\n",
       "  <tbody>\n",
       "    <tr>\n",
       "      <th>0</th>\n",
       "      <td>1000001</td>\n",
       "      <td>672</td>\n",
       "      <td>0</td>\n",
       "      <td>10</td>\n",
       "      <td>0</td>\n",
       "      <td>3</td>\n",
       "      <td>0</td>\n",
       "      <td>0</td>\n",
       "      <td>0</td>\n",
       "      <td>0</td>\n",
       "      <td>0</td>\n",
       "      <td>0</td>\n",
       "      <td>0</td>\n",
       "      <td>0</td>\n",
       "      <td>0</td>\n",
       "      <td>1</td>\n",
       "      <td>0</td>\n",
       "      <td>0</td>\n",
       "    </tr>\n",
       "    <tr>\n",
       "      <th>1</th>\n",
       "      <td>1000001</td>\n",
       "      <td>2376</td>\n",
       "      <td>0</td>\n",
       "      <td>10</td>\n",
       "      <td>0</td>\n",
       "      <td>1</td>\n",
       "      <td>0</td>\n",
       "      <td>0</td>\n",
       "      <td>0</td>\n",
       "      <td>0</td>\n",
       "      <td>0</td>\n",
       "      <td>0</td>\n",
       "      <td>0</td>\n",
       "      <td>0</td>\n",
       "      <td>0</td>\n",
       "      <td>1</td>\n",
       "      <td>0</td>\n",
       "      <td>0</td>\n",
       "    </tr>\n",
       "    <tr>\n",
       "      <th>2</th>\n",
       "      <td>1000001</td>\n",
       "      <td>852</td>\n",
       "      <td>0</td>\n",
       "      <td>10</td>\n",
       "      <td>0</td>\n",
       "      <td>12</td>\n",
       "      <td>0</td>\n",
       "      <td>0</td>\n",
       "      <td>0</td>\n",
       "      <td>0</td>\n",
       "      <td>0</td>\n",
       "      <td>0</td>\n",
       "      <td>0</td>\n",
       "      <td>0</td>\n",
       "      <td>0</td>\n",
       "      <td>1</td>\n",
       "      <td>0</td>\n",
       "      <td>0</td>\n",
       "    </tr>\n",
       "    <tr>\n",
       "      <th>3</th>\n",
       "      <td>1000001</td>\n",
       "      <td>828</td>\n",
       "      <td>0</td>\n",
       "      <td>10</td>\n",
       "      <td>0</td>\n",
       "      <td>12</td>\n",
       "      <td>0</td>\n",
       "      <td>0</td>\n",
       "      <td>0</td>\n",
       "      <td>0</td>\n",
       "      <td>0</td>\n",
       "      <td>0</td>\n",
       "      <td>0</td>\n",
       "      <td>0</td>\n",
       "      <td>0</td>\n",
       "      <td>1</td>\n",
       "      <td>0</td>\n",
       "      <td>0</td>\n",
       "    </tr>\n",
       "    <tr>\n",
       "      <th>4</th>\n",
       "      <td>1000002</td>\n",
       "      <td>2734</td>\n",
       "      <td>1</td>\n",
       "      <td>16</td>\n",
       "      <td>0</td>\n",
       "      <td>8</td>\n",
       "      <td>0</td>\n",
       "      <td>0</td>\n",
       "      <td>0</td>\n",
       "      <td>0</td>\n",
       "      <td>0</td>\n",
       "      <td>1</td>\n",
       "      <td>0</td>\n",
       "      <td>1</td>\n",
       "      <td>0</td>\n",
       "      <td>0</td>\n",
       "      <td>0</td>\n",
       "      <td>1</td>\n",
       "    </tr>\n",
       "  </tbody>\n",
       "</table>\n",
       "</div>"
      ],
      "text/plain": [
       "   User_ID  Product_ID  Gender Occupation  Marital_Status  Product_Category_1  \\\n",
       "0  1000001         672       0         10               0                   3   \n",
       "1  1000001        2376       0         10               0                   1   \n",
       "2  1000001         852       0         10               0                  12   \n",
       "3  1000001         828       0         10               0                  12   \n",
       "4  1000002        2734       1         16               0                   8   \n",
       "\n",
       "   Age_18-25  Age_26-35  Age_36-45  Age_46-50  Age_51-55  Age_55+  \\\n",
       "0          0          0          0          0          0        0   \n",
       "1          0          0          0          0          0        0   \n",
       "2          0          0          0          0          0        0   \n",
       "3          0          0          0          0          0        0   \n",
       "4          0          0          0          0          0        1   \n",
       "\n",
       "   City_Category_B  City_Category_C  Stay_In_Current_City_Years_1  \\\n",
       "0                0                0                             0   \n",
       "1                0                0                             0   \n",
       "2                0                0                             0   \n",
       "3                0                0                             0   \n",
       "4                0                1                             0   \n",
       "\n",
       "   Stay_In_Current_City_Years_2  Stay_In_Current_City_Years_3  \\\n",
       "0                             1                             0   \n",
       "1                             1                             0   \n",
       "2                             1                             0   \n",
       "3                             1                             0   \n",
       "4                             0                             0   \n",
       "\n",
       "   Stay_In_Current_City_Years_4+  \n",
       "0                              0  \n",
       "1                              0  \n",
       "2                              0  \n",
       "3                              0  \n",
       "4                              1  "
      ]
     },
     "execution_count": 20,
     "metadata": {},
     "output_type": "execute_result"
    }
   ],
   "source": [
    "X.head()"
   ]
  },
  {
   "cell_type": "code",
   "execution_count": 21,
   "metadata": {},
   "outputs": [
    {
     "name": "stdout",
     "output_type": "stream",
     "text": [
      "<class 'pandas.core.frame.DataFrame'>\n",
      "RangeIndex: 550068 entries, 0 to 550067\n",
      "Data columns (total 18 columns):\n",
      " #   Column                         Non-Null Count   Dtype   \n",
      "---  ------                         --------------   -----   \n",
      " 0   User_ID                        550068 non-null  int64   \n",
      " 1   Product_ID                     550068 non-null  int32   \n",
      " 2   Gender                         550068 non-null  uint8   \n",
      " 3   Occupation                     550068 non-null  category\n",
      " 4   Marital_Status                 550068 non-null  int64   \n",
      " 5   Product_Category_1             550068 non-null  int64   \n",
      " 6   Age_18-25                      550068 non-null  uint8   \n",
      " 7   Age_26-35                      550068 non-null  uint8   \n",
      " 8   Age_36-45                      550068 non-null  uint8   \n",
      " 9   Age_46-50                      550068 non-null  uint8   \n",
      " 10  Age_51-55                      550068 non-null  uint8   \n",
      " 11  Age_55+                        550068 non-null  uint8   \n",
      " 12  City_Category_B                550068 non-null  uint8   \n",
      " 13  City_Category_C                550068 non-null  uint8   \n",
      " 14  Stay_In_Current_City_Years_1   550068 non-null  uint8   \n",
      " 15  Stay_In_Current_City_Years_2   550068 non-null  uint8   \n",
      " 16  Stay_In_Current_City_Years_3   550068 non-null  uint8   \n",
      " 17  Stay_In_Current_City_Years_4+  550068 non-null  uint8   \n",
      "dtypes: category(1), int32(1), int64(3), uint8(13)\n",
      "memory usage: 22.0 MB\n"
     ]
    }
   ],
   "source": [
    "X.info()"
   ]
  },
  {
   "cell_type": "code",
   "execution_count": 22,
   "metadata": {},
   "outputs": [],
   "source": [
    "y = df[\"Purchase\"]"
   ]
  },
  {
   "cell_type": "code",
   "execution_count": 23,
   "metadata": {},
   "outputs": [],
   "source": [
    "X = X.drop([\"User_ID\"], axis=1)"
   ]
  },
  {
   "cell_type": "code",
   "execution_count": 24,
   "metadata": {},
   "outputs": [],
   "source": [
    "from sklearn.preprocessing import StandardScaler"
   ]
  },
  {
   "cell_type": "code",
   "execution_count": 25,
   "metadata": {},
   "outputs": [],
   "source": [
    "scaler = StandardScaler()\n",
    "Xs = scaler.fit_transform(X)"
   ]
  },
  {
   "cell_type": "markdown",
   "metadata": {},
   "source": [
    "## Regression Model Comparison"
   ]
  },
  {
   "cell_type": "code",
   "execution_count": 26,
   "metadata": {},
   "outputs": [],
   "source": [
    "import sklearn\n",
    "import xgboost as xgb\n",
    "\n",
    "from sklearn.model_selection import train_test_split\n",
    "from sklearn.linear_model import LinearRegression\n",
    "from sklearn.tree import DecisionTreeRegressor\n",
    "from sklearn.ensemble import RandomForestRegressor\n",
    "from sklearn.ensemble import GradientBoostingRegressor\n",
    "from sklearn.svm import SVC\n",
    "from sklearn.neighbors import KNeighborsRegressor\n",
    "from sklearn.linear_model import Ridge\n",
    "from sklearn.linear_model import Lasso\n",
    "from sklearn.preprocessing import PolynomialFeatures \n",
    "from sklearn import svm"
   ]
  },
  {
   "cell_type": "code",
   "execution_count": 27,
   "metadata": {},
   "outputs": [],
   "source": [
    "from sklearn import metrics\n",
    "\n",
    "def get_metrics(reg, y_test, y_pred):\n",
    "    res = []\n",
    "    \n",
    "    res.append(str(reg.__class__.__name__))\n",
    "    mae = metrics.mean_absolute_error(y_test, y_pred)\n",
    "    res.append(mae)\n",
    "    mse = metrics.mean_squared_error(y_test, y_pred)\n",
    "    res.append(mse)\n",
    "    rmse = np.sqrt(metrics.mean_squared_error(y_test, y_pred))\n",
    "    res.append(rmse)\n",
    "    r2 = metrics.r2_score(y_test, y_pred)\n",
    "    res.append(r2)\n",
    "    \n",
    "    return res\n",
    "               \n",
    "def show_metrics(res):\n",
    "    print(res[0])\n",
    "    print(' MAE : ', res[1])\n",
    "    print(' MSE : ', res[2])\n",
    "    print(' RMSE: ', res[3])\n",
    "    print(' R^2 : ', res[4])"
   ]
  },
  {
   "cell_type": "code",
   "execution_count": 28,
   "metadata": {},
   "outputs": [],
   "source": [
    "X_train, X_test, y_train, y_test = train_test_split(Xs, y, test_size = 1/3, random_state = 0)"
   ]
  },
  {
   "cell_type": "code",
   "execution_count": 29,
   "metadata": {},
   "outputs": [],
   "source": [
    "# Start with plolynomial regression\n",
    "pf = PolynomialFeatures(degree=2)\n",
    "X_poly_train = pf.fit_transform(X_train)\n",
    "X_poly_test = pf.fit_transform(X_test)"
   ]
  },
  {
   "cell_type": "code",
   "execution_count": 30,
   "metadata": {},
   "outputs": [
    {
     "data": {
      "text/plain": [
       "LinearRegression(copy_X=True, fit_intercept=True, n_jobs=None, normalize=False)"
      ]
     },
     "execution_count": 30,
     "metadata": {},
     "output_type": "execute_result"
    }
   ],
   "source": [
    "lr = LinearRegression()\n",
    "lr.fit(X_poly_train, y_train)"
   ]
  },
  {
   "cell_type": "code",
   "execution_count": 31,
   "metadata": {},
   "outputs": [
    {
     "name": "stdout",
     "output_type": "stream",
     "text": [
      "[13555.  5193.  8640. ...  7041.  7711. 12155.]\n"
     ]
    }
   ],
   "source": [
    "y_pred = lr.predict(X_poly_test)\n",
    "print(y_pred)"
   ]
  },
  {
   "cell_type": "code",
   "execution_count": 32,
   "metadata": {},
   "outputs": [
    {
     "name": "stdout",
     "output_type": "stream",
     "text": [
      "PolynomialRegression\n",
      " MAE :  3309.958206985318\n",
      " MSE :  19261757.748472918\n",
      " RMSE:  4388.821908949248\n",
      " R^2 :  0.23849121551232466\n"
     ]
    }
   ],
   "source": [
    "results = []\n",
    "m = get_metrics(lr, y_test, y_pred)\n",
    "m[0] = 'PolynomialRegression'\n",
    "show_metrics(m)\n",
    "results.append(m)"
   ]
  },
  {
   "cell_type": "code",
   "execution_count": 33,
   "metadata": {},
   "outputs": [],
   "source": [
    "regressors = [\n",
    "    Ridge(alpha=.5),\n",
    "    Lasso(alpha=0.1),\n",
    "    LinearRegression(), \n",
    "    DecisionTreeRegressor(), \n",
    "    RandomForestRegressor(),\n",
    "    GradientBoostingRegressor(), \n",
    "    xgb.XGBRegressor(objective ='reg:squarederror', colsample_bytree = 0.3, learning_rate = 0.1, \n",
    "                     max_depth = 5, alpha = 10, n_estimators = 10), \n",
    "    # svm.SVC(kernel='rbf', gamma=0.7, C=1.0),\n",
    "    KNeighborsRegressor(n_neighbors=3)\n",
    "]\n",
    "\n",
    "### Commented out regressors are processing over 100 minutes"
   ]
  },
  {
   "cell_type": "code",
   "execution_count": 34,
   "metadata": {
    "scrolled": true
   },
   "outputs": [
    {
     "name": "stdout",
     "output_type": "stream",
     "text": [
      "======================================================================================\n",
      "Running Ridge(alpha=0.5, copy_X=True, fit_intercept=True, max_iter=None,\n",
      "      normalize=False, random_state=None, solver='auto', tol=0.001)\n",
      "Ridge\n",
      " MAE :  3593.7867622984763\n",
      " MSE :  21952039.018481284\n",
      " RMSE:  4685.300312518002\n",
      " R^2 :  0.1321316170475142\n",
      "======================================================================================\n",
      "\n",
      "======================================================================================\n",
      "Running Lasso(alpha=0.1, copy_X=True, fit_intercept=True, max_iter=1000,\n",
      "      normalize=False, positive=False, precompute=False, random_state=None,\n",
      "      selection='cyclic', tol=0.0001, warm_start=False)\n",
      "Lasso\n",
      " MAE :  3593.7848869242807\n",
      " MSE :  21952043.356074445\n",
      " RMSE:  4685.300775411803\n",
      " R^2 :  0.1321314455618513\n",
      "======================================================================================\n",
      "\n",
      "======================================================================================\n",
      "Running LinearRegression(copy_X=True, fit_intercept=True, n_jobs=None, normalize=False)\n",
      "LinearRegression\n",
      " MAE :  3593.786431714285\n",
      " MSE :  21952039.006256834\n",
      " RMSE:  4685.300311213448\n",
      " R^2 :  0.13213161753080482\n",
      "======================================================================================\n",
      "\n",
      "======================================================================================\n",
      "Running DecisionTreeRegressor(ccp_alpha=0.0, criterion='mse', max_depth=None,\n",
      "                      max_features=None, max_leaf_nodes=None,\n",
      "                      min_impurity_decrease=0.0, min_impurity_split=None,\n",
      "                      min_samples_leaf=1, min_samples_split=2,\n",
      "                      min_weight_fraction_leaf=0.0, presort='deprecated',\n",
      "                      random_state=None, splitter='best')\n",
      "DecisionTreeRegressor\n",
      " MAE :  2630.8304546378868\n",
      " MSE :  13872403.005075026\n",
      " RMSE:  3724.5674923506253\n",
      " R^2 :  0.45155801000791973\n",
      "======================================================================================\n",
      "\n",
      "======================================================================================\n",
      "Running RandomForestRegressor(bootstrap=True, ccp_alpha=0.0, criterion='mse',\n",
      "                      max_depth=None, max_features='auto', max_leaf_nodes=None,\n",
      "                      max_samples=None, min_impurity_decrease=0.0,\n",
      "                      min_impurity_split=None, min_samples_leaf=1,\n",
      "                      min_samples_split=2, min_weight_fraction_leaf=0.0,\n",
      "                      n_estimators=100, n_jobs=None, oob_score=False,\n",
      "                      random_state=None, verbose=0, warm_start=False)\n",
      "RandomForestRegressor\n",
      " MAE :  2104.1033457206127\n",
      " MSE :  8211631.213368578\n",
      " RMSE:  2865.5943909368225\n",
      " R^2 :  0.6753552097575768\n",
      "======================================================================================\n",
      "\n",
      "======================================================================================\n",
      "Running GradientBoostingRegressor(alpha=0.9, ccp_alpha=0.0, criterion='friedman_mse',\n",
      "                          init=None, learning_rate=0.1, loss='ls', max_depth=3,\n",
      "                          max_features=None, max_leaf_nodes=None,\n",
      "                          min_impurity_decrease=0.0, min_impurity_split=None,\n",
      "                          min_samples_leaf=1, min_samples_split=2,\n",
      "                          min_weight_fraction_leaf=0.0, n_estimators=100,\n",
      "                          n_iter_no_change=None, presort='deprecated',\n",
      "                          random_state=None, subsample=1.0, tol=0.0001,\n",
      "                          validation_fraction=0.1, verbose=0, warm_start=False)\n",
      "GradientBoostingRegressor\n",
      " MAE :  2214.3859037085513\n",
      " MSE :  8516361.504627585\n",
      " RMSE:  2918.2805733218293\n",
      " R^2 :  0.6633077737590829\n",
      "======================================================================================\n",
      "\n",
      "======================================================================================\n",
      "Running XGBRegressor(alpha=10, base_score=None, booster=None, colsample_bylevel=None,\n",
      "             colsample_bynode=None, colsample_bytree=0.3, gamma=None,\n",
      "             gpu_id=None, importance_type='gain', interaction_constraints=None,\n",
      "             learning_rate=0.1, max_delta_step=None, max_depth=5,\n",
      "             min_child_weight=None, missing=nan, monotone_constraints=None,\n",
      "             n_estimators=10, n_jobs=None, num_parallel_tree=None,\n",
      "             objective='reg:squarederror', random_state=None, reg_alpha=None,\n",
      "             reg_lambda=None, scale_pos_weight=None, subsample=None,\n",
      "             tree_method=None, validate_parameters=False, verbosity=None)\n",
      "XGBRegressor\n",
      " MAE :  4221.34148385129\n",
      " MSE :  32038236.70648072\n",
      " RMSE:  5660.2329198082225\n",
      " R^2 :  -0.266623690842275\n",
      "======================================================================================\n",
      "\n",
      "======================================================================================\n",
      "Running KNeighborsRegressor(algorithm='auto', leaf_size=30, metric='minkowski',\n",
      "                    metric_params=None, n_jobs=None, n_neighbors=3, p=2,\n",
      "                    weights='uniform')\n",
      "KNeighborsRegressor\n",
      " MAE :  2632.356332308006\n",
      " MSE :  13454954.467974264\n",
      " RMSE:  3668.099571709343\n",
      " R^2 :  0.46806173371916626\n",
      "======================================================================================\n",
      "\n"
     ]
    }
   ],
   "source": [
    "for r in regressors: \n",
    "    print('======================================================================================')\n",
    "    print('Running %s' % (r))\n",
    "    r.fit(X_train, y_train)\n",
    "    # print('Accuracy score for %s is %s' % (r, r.score(X_test, y_test) * 100))\n",
    "    m = get_metrics(r, y_test, r.predict(X_test))\n",
    "    show_metrics(m)\n",
    "    results.append(m)\n",
    "    print('======================================================================================')\n",
    "    print('')"
   ]
  },
  {
   "cell_type": "markdown",
   "metadata": {},
   "source": [
    "### Try ANN"
   ]
  },
  {
   "cell_type": "code",
   "execution_count": 35,
   "metadata": {},
   "outputs": [
    {
     "name": "stderr",
     "output_type": "stream",
     "text": [
      "Using TensorFlow backend.\n"
     ]
    }
   ],
   "source": [
    "from sklearn.pipeline import Pipeline\n",
    "from sklearn.preprocessing import MinMaxScaler\n",
    "from keras.optimizers import Adam\n",
    "from keras.models import Sequential\n",
    "from keras.layers import Dense\n",
    "from keras.wrappers.scikit_learn import KerasRegressor"
   ]
  },
  {
   "cell_type": "code",
   "execution_count": 36,
   "metadata": {},
   "outputs": [],
   "source": [
    "model = Sequential()\n",
    "model.add(Dense(17, input_dim=17, kernel_initializer='normal', activation='relu'))\n",
    "model.add(Dense(27, activation='relu'))\n",
    "model.add(Dense(11, activation='relu'))\n",
    "model.add(Dense(3, activation='relu'))\n",
    "model.add(Dense(1, activation='relu'))\n",
    "\n",
    "optimizer = Adam(lr=0.35)\n",
    "model.compile(loss='mse', optimizer=optimizer, metrics=['mse', 'mae'])"
   ]
  },
  {
   "cell_type": "code",
   "execution_count": 37,
   "metadata": {},
   "outputs": [
    {
     "name": "stdout",
     "output_type": "stream",
     "text": [
      "Epoch 1/300\n",
      "366712/366712 [==============================] - 0s 1us/step - loss: 26250183.5921 - mse: 26250192.0000 - mae: 3795.1655\n",
      "Epoch 2/300\n",
      "366712/366712 [==============================] - 0s 1us/step - loss: 18074555.0054 - mse: 18074556.0000 - mae: 3146.5696\n",
      "Epoch 3/300\n",
      "366712/366712 [==============================] - 0s 1us/step - loss: 17228205.3537 - mse: 17228208.0000 - mae: 3051.3696\n",
      "Epoch 4/300\n",
      "366712/366712 [==============================] - 0s 1us/step - loss: 16850510.2117 - mse: 16850510.0000 - mae: 3011.1182\n",
      "Epoch 5/300\n",
      "366712/366712 [==============================] - 0s 1us/step - loss: 17581072.3568 - mse: 17581074.0000 - mae: 3091.6904\n",
      "Epoch 6/300\n",
      "366712/366712 [==============================] - 0s 1us/step - loss: 16342514.0416 - mse: 16342516.0000 - mae: 2964.5261\n",
      "Epoch 7/300\n",
      "366712/366712 [==============================] - 0s 1us/step - loss: 15924482.9780 - mse: 15924482.0000 - mae: 2927.9519\n",
      "Epoch 8/300\n",
      "366712/366712 [==============================] - 0s 1us/step - loss: 15766800.7047 - mse: 15766799.0000 - mae: 2912.5049\n",
      "Epoch 9/300\n",
      "366712/366712 [==============================] - 0s 1us/step - loss: 16444965.8077 - mse: 16444965.0000 - mae: 2979.8274\n",
      "Epoch 10/300\n",
      "366712/366712 [==============================] - 0s 1us/step - loss: 16069738.9382 - mse: 16069736.0000 - mae: 2937.9956\n",
      "Epoch 11/300\n",
      "366712/366712 [==============================] - 0s 1us/step - loss: 15010027.2908 - mse: 15010027.0000 - mae: 2852.6082\n",
      "Epoch 12/300\n",
      "366712/366712 [==============================] - 0s 1us/step - loss: 12847770.6533 - mse: 12847771.0000 - mae: 2656.2136\n",
      "Epoch 13/300\n",
      "366712/366712 [==============================] - 0s 1us/step - loss: 12201562.6525 - mse: 12201563.0000 - mae: 2587.5259\n",
      "Epoch 14/300\n",
      "366712/366712 [==============================] - 0s 1us/step - loss: 11538222.2572 - mse: 11538222.0000 - mae: 2544.5303\n",
      "Epoch 15/300\n",
      "366712/366712 [==============================] - 0s 1us/step - loss: 11169928.6588 - mse: 11169929.0000 - mae: 2525.0774\n",
      "Epoch 16/300\n",
      "366712/366712 [==============================] - 0s 1us/step - loss: 10341835.5542 - mse: 10341836.0000 - mae: 2428.5405\n",
      "Epoch 17/300\n",
      "366712/366712 [==============================] - 0s 1us/step - loss: 10086132.4900 - mse: 10086132.0000 - mae: 2391.1746\n",
      "Epoch 18/300\n",
      "366712/366712 [==============================] - 0s 1us/step - loss: 10143938.5689 - mse: 10143938.0000 - mae: 2388.6416\n",
      "Epoch 19/300\n",
      "366712/366712 [==============================] - 0s 1us/step - loss: 10246179.9599 - mse: 10246182.0000 - mae: 2402.2083\n",
      "Epoch 20/300\n",
      "366712/366712 [==============================] - 0s 1us/step - loss: 9908738.9436 - mse: 9908739.0000 - mae: 2369.1973\n",
      "Epoch 21/300\n",
      "366712/366712 [==============================] - 0s 1us/step - loss: 9922185.5731 - mse: 9922186.0000 - mae: 2365.0410\n",
      "Epoch 22/300\n",
      "366712/366712 [==============================] - 0s 1us/step - loss: 9888522.3552 - mse: 9888521.0000 - mae: 2363.1194\n",
      "Epoch 23/300\n",
      "366712/366712 [==============================] - 0s 1us/step - loss: 9910819.4380 - mse: 9910820.0000 - mae: 2362.5059\n",
      "Epoch 24/300\n",
      "366712/366712 [==============================] - 0s 1us/step - loss: 9990122.8571 - mse: 9990122.0000 - mae: 2369.7012\n",
      "Epoch 25/300\n",
      "366712/366712 [==============================] - 0s 1us/step - loss: 9709715.9835 - mse: 9709717.0000 - mae: 2344.0874\n",
      "Epoch 26/300\n",
      "366712/366712 [==============================] - 0s 1us/step - loss: 9710946.8431 - mse: 9710946.0000 - mae: 2341.9609\n",
      "Epoch 27/300\n",
      "366712/366712 [==============================] - 0s 1us/step - loss: 9732871.0220 - mse: 9732873.0000 - mae: 2345.1130\n",
      "Epoch 28/300\n",
      "366712/366712 [==============================] - 0s 1us/step - loss: 9743610.3308 - mse: 9743611.0000 - mae: 2345.0850\n",
      "Epoch 29/300\n",
      "366712/366712 [==============================] - 0s 1us/step - loss: 9696432.4090 - mse: 9696433.0000 - mae: 2340.1941\n",
      "Epoch 30/300\n",
      "366712/366712 [==============================] - 0s 1us/step - loss: 9707631.2268 - mse: 9707632.0000 - mae: 2345.4424\n",
      "Epoch 31/300\n",
      "366712/366712 [==============================] - 0s 1us/step - loss: 9756122.8368 - mse: 9756121.0000 - mae: 2345.7698\n",
      "Epoch 32/300\n",
      "366712/366712 [==============================] - 0s 1us/step - loss: 9701399.4555 - mse: 9701400.0000 - mae: 2341.1997\n",
      "Epoch 33/300\n",
      "366712/366712 [==============================] - 0s 1us/step - loss: 10412801.4031 - mse: 10412802.0000 - mae: 2421.3953\n",
      "Epoch 34/300\n",
      "366712/366712 [==============================] - 0s 1us/step - loss: 9701116.0670 - mse: 9701115.0000 - mae: 2341.7600\n",
      "Epoch 35/300\n",
      "366712/366712 [==============================] - 0s 1us/step - loss: 9703836.0857 - mse: 9703837.0000 - mae: 2342.3906\n",
      "Epoch 36/300\n",
      "366712/366712 [==============================] - 0s 1us/step - loss: 9586722.6238 - mse: 9586722.0000 - mae: 2331.8931\n",
      "Epoch 37/300\n",
      "366712/366712 [==============================] - 0s 1us/step - loss: 9778585.9705 - mse: 9778586.0000 - mae: 2345.4036\n",
      "Epoch 38/300\n",
      "366712/366712 [==============================] - 0s 1us/step - loss: 9636424.3067 - mse: 9636427.0000 - mae: 2334.0894\n",
      "Epoch 39/300\n",
      "366712/366712 [==============================] - 0s 1us/step - loss: 9683520.9094 - mse: 9683522.0000 - mae: 2338.9558\n",
      "Epoch 40/300\n",
      "366712/366712 [==============================] - 0s 1us/step - loss: 9633872.5176 - mse: 9633872.0000 - mae: 2333.1292\n",
      "Epoch 41/300\n",
      "366712/366712 [==============================] - 0s 1us/step - loss: 9755113.4583 - mse: 9755113.0000 - mae: 2343.7915\n",
      "Epoch 42/300\n",
      "366712/366712 [==============================] - 0s 1us/step - loss: 9644064.9158 - mse: 9644065.0000 - mae: 2331.4402\n",
      "Epoch 43/300\n",
      "366712/366712 [==============================] - 0s 1us/step - loss: 9656338.1112 - mse: 9656336.0000 - mae: 2333.5840\n",
      "Epoch 44/300\n",
      "366712/366712 [==============================] - 0s 1us/step - loss: 9705645.0414 - mse: 9705647.0000 - mae: 2338.1802\n",
      "Epoch 45/300\n",
      "366712/366712 [==============================] - 0s 1us/step - loss: 9594020.7746 - mse: 9594021.0000 - mae: 2326.8833\n",
      "Epoch 46/300\n",
      "366712/366712 [==============================] - 0s 1us/step - loss: 9597769.6450 - mse: 9597771.0000 - mae: 2325.8547\n",
      "Epoch 47/300\n",
      "366712/366712 [==============================] - 0s 1us/step - loss: 9505038.4506 - mse: 9505041.0000 - mae: 2319.0483\n",
      "Epoch 48/300\n",
      "366712/366712 [==============================] - 0s 1us/step - loss: 9633795.4733 - mse: 9633796.0000 - mae: 2335.6812\n",
      "Epoch 49/300\n",
      "366712/366712 [==============================] - 0s 1us/step - loss: 9724959.7473 - mse: 9724960.0000 - mae: 2346.0752\n",
      "Epoch 50/300\n",
      "366712/366712 [==============================] - 0s 1us/step - loss: 9708437.9226 - mse: 9708437.0000 - mae: 2345.7930\n",
      "Epoch 51/300\n",
      "366712/366712 [==============================] - 0s 1us/step - loss: 9702925.6154 - mse: 9702927.0000 - mae: 2346.5125\n",
      "Epoch 52/300\n",
      "366712/366712 [==============================] - 0s 1us/step - loss: 9685234.7907 - mse: 9685233.0000 - mae: 2343.2566\n",
      "Epoch 53/300\n",
      "366712/366712 [==============================] - 0s 1us/step - loss: 9618482.3301 - mse: 9618483.0000 - mae: 2336.3298\n",
      "Epoch 54/300\n",
      "366712/366712 [==============================] - 0s 1us/step - loss: 9613308.0255 - mse: 9613308.0000 - mae: 2335.4792\n",
      "Epoch 55/300\n",
      "366712/366712 [==============================] - 0s 1us/step - loss: 9594229.5126 - mse: 9594229.0000 - mae: 2336.0786\n",
      "Epoch 56/300\n",
      "366712/366712 [==============================] - 0s 1us/step - loss: 9668700.6912 - mse: 9668701.0000 - mae: 2342.2622\n",
      "Epoch 57/300\n",
      "366712/366712 [==============================] - 0s 1us/step - loss: 9756101.3512 - mse: 9756102.0000 - mae: 2351.9653\n",
      "Epoch 58/300\n",
      "366712/366712 [==============================] - 0s 1us/step - loss: 9625767.5926 - mse: 9625766.0000 - mae: 2340.2981\n",
      "Epoch 59/300\n",
      "366712/366712 [==============================] - 0s 1us/step - loss: 9565763.8637 - mse: 9565766.0000 - mae: 2334.7173\n",
      "Epoch 60/300\n",
      "366712/366712 [==============================] - 0s 1us/step - loss: 9601138.0146 - mse: 9601136.0000 - mae: 2338.9863\n",
      "Epoch 61/300\n",
      "366712/366712 [==============================] - 0s 1us/step - loss: 9712998.2358 - mse: 9713000.0000 - mae: 2347.5959\n",
      "Epoch 62/300\n"
     ]
    },
    {
     "name": "stdout",
     "output_type": "stream",
     "text": [
      "366712/366712 [==============================] - 0s 1us/step - loss: 9591201.9888 - mse: 9591201.0000 - mae: 2338.4868\n",
      "Epoch 63/300\n",
      "366712/366712 [==============================] - 0s 1us/step - loss: 9515608.1049 - mse: 9515607.0000 - mae: 2329.4275\n",
      "Epoch 64/300\n",
      "366712/366712 [==============================] - 0s 1us/step - loss: 9432796.5129 - mse: 9432798.0000 - mae: 2318.8931\n",
      "Epoch 65/300\n",
      "366712/366712 [==============================] - 0s 1us/step - loss: 9783744.1578 - mse: 9783743.0000 - mae: 2353.0864\n",
      "Epoch 66/300\n",
      "366712/366712 [==============================] - 0s 1us/step - loss: 9355371.6551 - mse: 9355372.0000 - mae: 2306.7048\n",
      "Epoch 67/300\n",
      "366712/366712 [==============================] - 0s 1us/step - loss: 9484201.5823 - mse: 9484203.0000 - mae: 2318.4502\n",
      "Epoch 68/300\n",
      "366712/366712 [==============================] - 0s 1us/step - loss: 9490307.3100 - mse: 9490306.0000 - mae: 2318.1479\n",
      "Epoch 69/300\n",
      "366712/366712 [==============================] - 0s 1us/step - loss: 9381310.7025 - mse: 9381309.0000 - mae: 2310.7402\n",
      "Epoch 70/300\n",
      "366712/366712 [==============================] - 0s 1us/step - loss: 9471770.1474 - mse: 9471772.0000 - mae: 2320.0735\n",
      "Epoch 71/300\n",
      "366712/366712 [==============================] - 0s 1us/step - loss: 9437774.5226 - mse: 9437775.0000 - mae: 2316.7703\n",
      "Epoch 72/300\n",
      "366712/366712 [==============================] - 0s 1us/step - loss: 9666691.7299 - mse: 9666693.0000 - mae: 2336.4963\n",
      "Epoch 73/300\n",
      "366712/366712 [==============================] - 0s 1us/step - loss: 9588987.1795 - mse: 9588987.0000 - mae: 2328.0537\n",
      "Epoch 74/300\n",
      "366712/366712 [==============================] - 0s 1us/step - loss: 9568648.8091 - mse: 9568648.0000 - mae: 2326.7664\n",
      "Epoch 75/300\n",
      "366712/366712 [==============================] - 0s 1us/step - loss: 9398453.9767 - mse: 9398454.0000 - mae: 2310.9290\n",
      "Epoch 76/300\n",
      "366712/366712 [==============================] - 0s 1us/step - loss: 9361664.3265 - mse: 9361662.0000 - mae: 2305.3618\n",
      "Epoch 77/300\n",
      "366712/366712 [==============================] - 0s 1us/step - loss: 9446218.8260 - mse: 9446220.0000 - mae: 2314.6067\n",
      "Epoch 78/300\n",
      "366712/366712 [==============================] - 0s 1us/step - loss: 9427900.1345 - mse: 9427900.0000 - mae: 2311.1533\n",
      "Epoch 79/300\n",
      "366712/366712 [==============================] - 0s 1us/step - loss: 9325520.8294 - mse: 9325519.0000 - mae: 2303.3374\n",
      "Epoch 80/300\n",
      "366712/366712 [==============================] - 0s 1us/step - loss: 9403787.0723 - mse: 9403788.0000 - mae: 2312.0127\n",
      "Epoch 81/300\n",
      "366712/366712 [==============================] - 0s 1us/step - loss: 9387337.5713 - mse: 9387337.0000 - mae: 2309.5193\n",
      "Epoch 82/300\n",
      "366712/366712 [==============================] - 0s 1us/step - loss: 9422317.3461 - mse: 9422318.0000 - mae: 2314.1582\n",
      "Epoch 83/300\n",
      "366712/366712 [==============================] - 0s 1us/step - loss: 9322004.7709 - mse: 9322005.0000 - mae: 2303.2322\n",
      "Epoch 84/300\n",
      "366712/366712 [==============================] - 0s 1us/step - loss: 9373549.4079 - mse: 9373550.0000 - mae: 2306.2783\n",
      "Epoch 85/300\n",
      "366712/366712 [==============================] - 0s 1us/step - loss: 9444666.2517 - mse: 9444669.0000 - mae: 2315.3254\n",
      "Epoch 86/300\n",
      "366712/366712 [==============================] - 0s 1us/step - loss: 9363026.6161 - mse: 9363027.0000 - mae: 2307.5042\n",
      "Epoch 87/300\n",
      "366712/366712 [==============================] - 0s 1us/step - loss: 9387151.0939 - mse: 9387151.0000 - mae: 2307.1750\n",
      "Epoch 88/300\n",
      "366712/366712 [==============================] - 0s 1us/step - loss: 9380833.5451 - mse: 9380834.0000 - mae: 2308.1311\n",
      "Epoch 89/300\n",
      "366712/366712 [==============================] - 0s 1us/step - loss: 9504074.9277 - mse: 9504076.0000 - mae: 2322.4333\n",
      "Epoch 90/300\n",
      "366712/366712 [==============================] - 0s 1us/step - loss: 9366717.7780 - mse: 9366718.0000 - mae: 2304.9792\n",
      "Epoch 91/300\n",
      "366712/366712 [==============================] - 0s 1us/step - loss: 9404220.3930 - mse: 9404217.0000 - mae: 2311.7634\n",
      "Epoch 92/300\n",
      "366712/366712 [==============================] - 0s 1us/step - loss: 9452297.1243 - mse: 9452296.0000 - mae: 2314.3335\n",
      "Epoch 93/300\n",
      "366712/366712 [==============================] - 0s 1us/step - loss: 9358139.7133 - mse: 9358139.0000 - mae: 2306.3650\n",
      "Epoch 94/300\n",
      "366712/366712 [==============================] - 0s 1us/step - loss: 9400237.1242 - mse: 9400238.0000 - mae: 2309.0894\n",
      "Epoch 95/300\n",
      "366712/366712 [==============================] - 0s 1us/step - loss: 9397916.1738 - mse: 9397917.0000 - mae: 2307.9268\n",
      "Epoch 96/300\n",
      "366712/366712 [==============================] - 0s 1us/step - loss: 9465247.2226 - mse: 9465249.0000 - mae: 2320.6128\n",
      "Epoch 97/300\n",
      "366712/366712 [==============================] - 0s 1us/step - loss: 9389704.2853 - mse: 9389705.0000 - mae: 2310.0596\n",
      "Epoch 98/300\n",
      "366712/366712 [==============================] - 0s 1us/step - loss: 9303925.0310 - mse: 9303926.0000 - mae: 2301.4863\n",
      "Epoch 99/300\n",
      "366712/366712 [==============================] - 0s 1us/step - loss: 9454386.8713 - mse: 9454387.0000 - mae: 2322.0781\n",
      "Epoch 100/300\n",
      "366712/366712 [==============================] - 0s 1us/step - loss: 9474697.2581 - mse: 9474699.0000 - mae: 2315.0825\n",
      "Epoch 101/300\n",
      "366712/366712 [==============================] - 0s 1us/step - loss: 9373658.4078 - mse: 9373658.0000 - mae: 2312.4121\n",
      "Epoch 102/300\n",
      "366712/366712 [==============================] - 0s 1us/step - loss: 9366125.6085 - mse: 9366125.0000 - mae: 2306.9233\n",
      "Epoch 103/300\n",
      "366712/366712 [==============================] - 0s 1us/step - loss: 9341457.4884 - mse: 9341456.0000 - mae: 2308.2600\n",
      "Epoch 104/300\n",
      "366712/366712 [==============================] - 0s 1us/step - loss: 9550419.6722 - mse: 9550419.0000 - mae: 2326.6140\n",
      "Epoch 105/300\n",
      "366712/366712 [==============================] - 0s 1us/step - loss: 9314474.4862 - mse: 9314475.0000 - mae: 2300.2017\n",
      "Epoch 106/300\n",
      "366712/366712 [==============================] - 0s 1us/step - loss: 9302166.0937 - mse: 9302167.0000 - mae: 2302.3455\n",
      "Epoch 107/300\n",
      "366712/366712 [==============================] - 0s 1us/step - loss: 9300235.7489 - mse: 9300237.0000 - mae: 2301.0996\n",
      "Epoch 108/300\n",
      "366712/366712 [==============================] - 0s 1us/step - loss: 9298799.5171 - mse: 9298802.0000 - mae: 2298.8748\n",
      "Epoch 109/300\n",
      "366712/366712 [==============================] - 0s 1us/step - loss: 9323096.8701 - mse: 9323098.0000 - mae: 2305.4551\n",
      "Epoch 110/300\n",
      "366712/366712 [==============================] - 0s 1us/step - loss: 9448883.8222 - mse: 9448887.0000 - mae: 2314.3098\n",
      "Epoch 111/300\n",
      "366712/366712 [==============================] - 0s 1us/step - loss: 9382710.6926 - mse: 9382709.0000 - mae: 2305.8848\n",
      "Epoch 112/300\n",
      "366712/366712 [==============================] - 0s 1us/step - loss: 9302230.7186 - mse: 9302230.0000 - mae: 2300.5906\n",
      "Epoch 113/300\n",
      "366712/366712 [==============================] - 0s 1us/step - loss: 9354126.3517 - mse: 9354126.0000 - mae: 2303.8850\n",
      "Epoch 114/300\n",
      "366712/366712 [==============================] - 0s 1us/step - loss: 9352264.4519 - mse: 9352263.0000 - mae: 2302.5952\n",
      "Epoch 115/300\n",
      "366712/366712 [==============================] - 0s 1us/step - loss: 9273729.7848 - mse: 9273732.0000 - mae: 2298.7073\n",
      "Epoch 116/300\n",
      "366712/366712 [==============================] - 0s 1us/step - loss: 9243037.5978 - mse: 9243038.0000 - mae: 2293.3728\n",
      "Epoch 117/300\n",
      "366712/366712 [==============================] - 0s 1us/step - loss: 9237034.9748 - mse: 9237035.0000 - mae: 2294.6367\n",
      "Epoch 118/300\n",
      "366712/366712 [==============================] - 0s 1us/step - loss: 9376637.6358 - mse: 9376639.0000 - mae: 2314.4084\n",
      "Epoch 119/300\n",
      "366712/366712 [==============================] - 0s 1us/step - loss: 9343994.9954 - mse: 9343996.0000 - mae: 2311.3240\n",
      "Epoch 120/300\n",
      "366712/366712 [==============================] - 0s 1us/step - loss: 9320750.4350 - mse: 9320749.0000 - mae: 2308.6411\n",
      "Epoch 121/300\n",
      "366712/366712 [==============================] - 0s 1us/step - loss: 9266118.6816 - mse: 9266117.0000 - mae: 2301.0986\n",
      "Epoch 122/300\n",
      "366712/366712 [==============================] - 0s 1us/step - loss: 9509819.1031 - mse: 9509819.0000 - mae: 2322.9294\n",
      "Epoch 123/300\n",
      "366712/366712 [==============================] - 0s 1us/step - loss: 9358538.4587 - mse: 9358539.0000 - mae: 2311.2881\n"
     ]
    },
    {
     "name": "stdout",
     "output_type": "stream",
     "text": [
      "Epoch 124/300\n",
      "366712/366712 [==============================] - 0s 1us/step - loss: 9342270.2427 - mse: 9342271.0000 - mae: 2308.9673\n",
      "Epoch 125/300\n",
      "366712/366712 [==============================] - 0s 1us/step - loss: 9420711.7633 - mse: 9420711.0000 - mae: 2317.5581\n",
      "Epoch 126/300\n",
      "366712/366712 [==============================] - 0s 1us/step - loss: 9337466.4532 - mse: 9337467.0000 - mae: 2311.9495\n",
      "Epoch 127/300\n",
      "366712/366712 [==============================] - 0s 1us/step - loss: 9369481.3257 - mse: 9369480.0000 - mae: 2311.1223\n",
      "Epoch 128/300\n",
      "366712/366712 [==============================] - 0s 1us/step - loss: 9246299.3972 - mse: 9246298.0000 - mae: 2299.7759\n",
      "Epoch 129/300\n",
      "366712/366712 [==============================] - 0s 1us/step - loss: 9408368.7301 - mse: 9408369.0000 - mae: 2315.3987\n",
      "Epoch 130/300\n",
      "366712/366712 [==============================] - 0s 1us/step - loss: 9340619.1981 - mse: 9340620.0000 - mae: 2308.2290\n",
      "Epoch 131/300\n",
      "366712/366712 [==============================] - 0s 1us/step - loss: 9416840.3997 - mse: 9416841.0000 - mae: 2315.0728\n",
      "Epoch 132/300\n",
      "366712/366712 [==============================] - 0s 1us/step - loss: 9357616.1461 - mse: 9357616.0000 - mae: 2307.0571\n",
      "Epoch 133/300\n",
      "366712/366712 [==============================] - 0s 1us/step - loss: 9295926.2615 - mse: 9295927.0000 - mae: 2302.0596\n",
      "Epoch 134/300\n",
      "366712/366712 [==============================] - 0s 1us/step - loss: 9245588.6182 - mse: 9245589.0000 - mae: 2298.1306\n",
      "Epoch 135/300\n",
      "366712/366712 [==============================] - 0s 1us/step - loss: 9349925.9998 - mse: 9349926.0000 - mae: 2308.4675\n",
      "Epoch 136/300\n",
      "366712/366712 [==============================] - 0s 1us/step - loss: 9332125.8957 - mse: 9332128.0000 - mae: 2308.4597\n",
      "Epoch 137/300\n",
      "366712/366712 [==============================] - 0s 1us/step - loss: 9387012.6237 - mse: 9387013.0000 - mae: 2314.1707\n",
      "Epoch 138/300\n",
      "366712/366712 [==============================] - 0s 1us/step - loss: 9282447.6609 - mse: 9282446.0000 - mae: 2302.3784\n",
      "Epoch 139/300\n",
      "366712/366712 [==============================] - 0s 1us/step - loss: 9355002.0178 - mse: 9355001.0000 - mae: 2309.0559\n",
      "Epoch 140/300\n",
      "366712/366712 [==============================] - 0s 1us/step - loss: 9311510.3118 - mse: 9311511.0000 - mae: 2302.7561\n",
      "Epoch 141/300\n",
      "366712/366712 [==============================] - 0s 1us/step - loss: 9339333.2357 - mse: 9339335.0000 - mae: 2307.5105\n",
      "Epoch 142/300\n",
      "366712/366712 [==============================] - 0s 1us/step - loss: 9340352.7021 - mse: 9340353.0000 - mae: 2310.2634\n",
      "Epoch 143/300\n",
      "366712/366712 [==============================] - 0s 1us/step - loss: 9263488.8467 - mse: 9263489.0000 - mae: 2301.0581\n",
      "Epoch 144/300\n",
      "366712/366712 [==============================] - 0s 1us/step - loss: 9286802.2970 - mse: 9286802.0000 - mae: 2304.0886\n",
      "Epoch 145/300\n",
      "366712/366712 [==============================] - 0s 1us/step - loss: 9327987.9224 - mse: 9327986.0000 - mae: 2306.8291\n",
      "Epoch 146/300\n",
      "366712/366712 [==============================] - 0s 1us/step - loss: 9294098.1621 - mse: 9294100.0000 - mae: 2302.9092\n",
      "Epoch 147/300\n",
      "366712/366712 [==============================] - 0s 1us/step - loss: 9460004.4581 - mse: 9460004.0000 - mae: 2319.9380\n",
      "Epoch 148/300\n",
      "366712/366712 [==============================] - 0s 1us/step - loss: 9454372.9148 - mse: 9454374.0000 - mae: 2322.7258\n",
      "Epoch 149/300\n",
      "366712/366712 [==============================] - 0s 1us/step - loss: 9404077.6493 - mse: 9404078.0000 - mae: 2312.2869\n",
      "Epoch 150/300\n",
      "366712/366712 [==============================] - 0s 1us/step - loss: 9507597.3257 - mse: 9507598.0000 - mae: 2324.0483\n",
      "Epoch 151/300\n",
      "366712/366712 [==============================] - 0s 1us/step - loss: 9274993.8635 - mse: 9274995.0000 - mae: 2301.8120\n",
      "Epoch 152/300\n",
      "366712/366712 [==============================] - 0s 1us/step - loss: 9248198.9145 - mse: 9248200.0000 - mae: 2299.9727\n",
      "Epoch 153/300\n",
      "366712/366712 [==============================] - 0s 1us/step - loss: 9278587.1240 - mse: 9278586.0000 - mae: 2300.4241\n",
      "Epoch 154/300\n",
      "366712/366712 [==============================] - 0s 1us/step - loss: 9380263.6869 - mse: 9380263.0000 - mae: 2311.7324\n",
      "Epoch 155/300\n",
      "366712/366712 [==============================] - 0s 1us/step - loss: 9437685.0062 - mse: 9437685.0000 - mae: 2318.9270\n",
      "Epoch 156/300\n",
      "366712/366712 [==============================] - 0s 1us/step - loss: 9370982.3517 - mse: 9370983.0000 - mae: 2313.1731\n",
      "Epoch 157/300\n",
      "366712/366712 [==============================] - 0s 1us/step - loss: 9317059.0118 - mse: 9317060.0000 - mae: 2308.2043\n",
      "Epoch 158/300\n",
      "366712/366712 [==============================] - 0s 1us/step - loss: 9303199.0585 - mse: 9303198.0000 - mae: 2305.4683\n",
      "Epoch 159/300\n",
      "366712/366712 [==============================] - 0s 1us/step - loss: 9367111.2370 - mse: 9367112.0000 - mae: 2311.6631\n",
      "Epoch 160/300\n",
      "366712/366712 [==============================] - 0s 1us/step - loss: 9401110.0224 - mse: 9401109.0000 - mae: 2314.0149\n",
      "Epoch 161/300\n",
      "366712/366712 [==============================] - 0s 1us/step - loss: 9297258.1409 - mse: 9297257.0000 - mae: 2301.7886\n",
      "Epoch 162/300\n",
      "366712/366712 [==============================] - 0s 1us/step - loss: 9312481.6689 - mse: 9312478.0000 - mae: 2306.7705\n",
      "Epoch 163/300\n",
      "366712/366712 [==============================] - 0s 1us/step - loss: 9379475.5617 - mse: 9379477.0000 - mae: 2318.5786\n",
      "Epoch 164/300\n",
      "366712/366712 [==============================] - 0s 1us/step - loss: 9303174.6026 - mse: 9303174.0000 - mae: 2303.9219\n",
      "Epoch 165/300\n",
      "366712/366712 [==============================] - 0s 1us/step - loss: 9361510.9316 - mse: 9361511.0000 - mae: 2311.1128\n",
      "Epoch 166/300\n",
      "366712/366712 [==============================] - 0s 1us/step - loss: 9302664.2903 - mse: 9302666.0000 - mae: 2303.8040\n",
      "Epoch 167/300\n",
      "366712/366712 [==============================] - 0s 1us/step - loss: 9253830.0763 - mse: 9253830.0000 - mae: 2299.5498\n",
      "Epoch 168/300\n",
      "366712/366712 [==============================] - 0s 1us/step - loss: 9302568.5828 - mse: 9302569.0000 - mae: 2300.9187\n",
      "Epoch 169/300\n",
      "366712/366712 [==============================] - 0s 1us/step - loss: 9311662.3545 - mse: 9311661.0000 - mae: 2305.2041\n",
      "Epoch 170/300\n",
      "366712/366712 [==============================] - 0s 1us/step - loss: 9277301.1732 - mse: 9277300.0000 - mae: 2300.8252\n",
      "Epoch 171/300\n",
      "366712/366712 [==============================] - 0s 1us/step - loss: 9325680.2893 - mse: 9325678.0000 - mae: 2304.6204\n",
      "Epoch 172/300\n",
      "366712/366712 [==============================] - 0s 1us/step - loss: 9343285.0143 - mse: 9343286.0000 - mae: 2306.2239\n",
      "Epoch 173/300\n",
      "366712/366712 [==============================] - 0s 1us/step - loss: 9303829.0888 - mse: 9303829.0000 - mae: 2303.4275\n",
      "Epoch 174/300\n",
      "366712/366712 [==============================] - 0s 1us/step - loss: 9220914.1411 - mse: 9220915.0000 - mae: 2295.4666\n",
      "Epoch 175/300\n",
      "366712/366712 [==============================] - 0s 1us/step - loss: 9225835.4564 - mse: 9225836.0000 - mae: 2297.6577\n",
      "Epoch 176/300\n",
      "366712/366712 [==============================] - 0s 1us/step - loss: 9234248.8318 - mse: 9234249.0000 - mae: 2295.2371\n",
      "Epoch 177/300\n",
      "366712/366712 [==============================] - 0s 1us/step - loss: 9296135.1077 - mse: 9296135.0000 - mae: 2300.6350\n",
      "Epoch 178/300\n",
      "366712/366712 [==============================] - 0s 1us/step - loss: 9411549.3983 - mse: 9411550.0000 - mae: 2315.9290\n",
      "Epoch 179/300\n",
      "366712/366712 [==============================] - 0s 1us/step - loss: 9376182.8899 - mse: 9376185.0000 - mae: 2309.9084\n",
      "Epoch 180/300\n",
      "366712/366712 [==============================] - 0s 1us/step - loss: 9314525.5902 - mse: 9314526.0000 - mae: 2302.6582\n",
      "Epoch 181/300\n",
      "366712/366712 [==============================] - 0s 1us/step - loss: 9228241.6432 - mse: 9228243.0000 - mae: 2295.8770\n",
      "Epoch 182/300\n",
      "366712/366712 [==============================] - 0s 1us/step - loss: 9336240.8606 - mse: 9336243.0000 - mae: 2307.9871\n",
      "Epoch 183/300\n",
      "366712/366712 [==============================] - 0s 1us/step - loss: 9373489.5379 - mse: 9373488.0000 - mae: 2315.6853\n",
      "Epoch 184/300\n",
      "366712/366712 [==============================] - 0s 1us/step - loss: 9422713.3069 - mse: 9422710.0000 - mae: 2314.5613\n",
      "Epoch 185/300\n"
     ]
    },
    {
     "name": "stdout",
     "output_type": "stream",
     "text": [
      "366712/366712 [==============================] - 0s 1us/step - loss: 9272674.5926 - mse: 9272673.0000 - mae: 2301.5718\n",
      "Epoch 186/300\n",
      "366712/366712 [==============================] - 0s 1us/step - loss: 9216495.2540 - mse: 9216495.0000 - mae: 2293.9473\n",
      "Epoch 187/300\n",
      "366712/366712 [==============================] - 0s 1us/step - loss: 9358852.3012 - mse: 9358852.0000 - mae: 2308.9929\n",
      "Epoch 188/300\n",
      "366712/366712 [==============================] - 0s 1us/step - loss: 9255232.3812 - mse: 9255233.0000 - mae: 2297.8037\n",
      "Epoch 189/300\n",
      "366712/366712 [==============================] - 0s 1us/step - loss: 9261265.4537 - mse: 9261266.0000 - mae: 2297.3308\n",
      "Epoch 190/300\n",
      "366712/366712 [==============================] - 0s 1us/step - loss: 9244177.6707 - mse: 9244179.0000 - mae: 2297.7053\n",
      "Epoch 191/300\n",
      "366712/366712 [==============================] - 0s 1us/step - loss: 9300103.0852 - mse: 9300102.0000 - mae: 2301.1338\n",
      "Epoch 192/300\n",
      "366712/366712 [==============================] - 0s 1us/step - loss: 9307161.0230 - mse: 9307162.0000 - mae: 2304.2185\n",
      "Epoch 193/300\n",
      "366712/366712 [==============================] - 0s 1us/step - loss: 9216908.9944 - mse: 9216909.0000 - mae: 2292.4419\n",
      "Epoch 194/300\n",
      "366712/366712 [==============================] - 0s 1us/step - loss: 9343031.6574 - mse: 9343033.0000 - mae: 2308.5706\n",
      "Epoch 195/300\n",
      "366712/366712 [==============================] - 0s 1us/step - loss: 9302560.9485 - mse: 9302561.0000 - mae: 2301.8545\n",
      "Epoch 196/300\n",
      "366712/366712 [==============================] - 0s 1us/step - loss: 9269207.0385 - mse: 9269207.0000 - mae: 2297.5320\n",
      "Epoch 197/300\n",
      "366712/366712 [==============================] - 0s 1us/step - loss: 9232016.2368 - mse: 9232017.0000 - mae: 2296.0479\n",
      "Epoch 198/300\n",
      "366712/366712 [==============================] - 0s 1us/step - loss: 9248755.5209 - mse: 9248758.0000 - mae: 2296.8081\n",
      "Epoch 199/300\n",
      "366712/366712 [==============================] - 0s 1us/step - loss: 9248052.9916 - mse: 9248054.0000 - mae: 2298.1343\n",
      "Epoch 200/300\n",
      "366712/366712 [==============================] - 0s 1us/step - loss: 9243168.5310 - mse: 9243169.0000 - mae: 2299.0149\n",
      "Epoch 201/300\n",
      "366712/366712 [==============================] - 0s 1us/step - loss: 9207431.9069 - mse: 9207433.0000 - mae: 2294.7737\n",
      "Epoch 202/300\n",
      "366712/366712 [==============================] - 0s 1us/step - loss: 9240293.1469 - mse: 9240294.0000 - mae: 2297.3057\n",
      "Epoch 203/300\n",
      "366712/366712 [==============================] - 0s 1us/step - loss: 9252776.3993 - mse: 9252776.0000 - mae: 2297.6926\n",
      "Epoch 204/300\n",
      "366712/366712 [==============================] - 0s 1us/step - loss: 9393684.9225 - mse: 9393684.0000 - mae: 2311.5605\n",
      "Epoch 205/300\n",
      "366712/366712 [==============================] - 0s 1us/step - loss: 9190348.8969 - mse: 9190349.0000 - mae: 2291.9138\n",
      "Epoch 206/300\n",
      "366712/366712 [==============================] - 0s 1us/step - loss: 9280818.1495 - mse: 9280820.0000 - mae: 2300.2581\n",
      "Epoch 207/300\n",
      "366712/366712 [==============================] - 0s 1us/step - loss: 9256851.6456 - mse: 9256852.0000 - mae: 2298.1631\n",
      "Epoch 208/300\n",
      "366712/366712 [==============================] - 0s 1us/step - loss: 9269578.3321 - mse: 9269577.0000 - mae: 2300.7627\n",
      "Epoch 209/300\n",
      "366712/366712 [==============================] - 0s 1us/step - loss: 9321999.0846 - mse: 9321998.0000 - mae: 2302.2810\n",
      "Epoch 210/300\n",
      "366712/366712 [==============================] - 0s 1us/step - loss: 9451092.8769 - mse: 9451093.0000 - mae: 2319.5930\n",
      "Epoch 211/300\n",
      "366712/366712 [==============================] - 0s 1us/step - loss: 9282557.7048 - mse: 9282559.0000 - mae: 2302.1692\n",
      "Epoch 212/300\n",
      "366712/366712 [==============================] - 0s 1us/step - loss: 9257102.9793 - mse: 9257104.0000 - mae: 2297.7163\n",
      "Epoch 213/300\n",
      "366712/366712 [==============================] - 0s 1us/step - loss: 9319616.0170 - mse: 9319618.0000 - mae: 2303.6504\n",
      "Epoch 214/300\n",
      "366712/366712 [==============================] - 0s 1us/step - loss: 9467821.6365 - mse: 9467820.0000 - mae: 2316.9316\n",
      "Epoch 215/300\n",
      "366712/366712 [==============================] - 0s 1us/step - loss: 9184001.7326 - mse: 9184005.0000 - mae: 2292.4058\n",
      "Epoch 216/300\n",
      "366712/366712 [==============================] - 0s 1us/step - loss: 9185009.3681 - mse: 9185009.0000 - mae: 2291.4363\n",
      "Epoch 217/300\n",
      "366712/366712 [==============================] - 0s 1us/step - loss: 9249408.9152 - mse: 9249409.0000 - mae: 2298.0564\n",
      "Epoch 218/300\n",
      "366712/366712 [==============================] - 0s 1us/step - loss: 9324443.0761 - mse: 9324443.0000 - mae: 2305.6538\n",
      "Epoch 219/300\n",
      "366712/366712 [==============================] - 0s 1us/step - loss: 9248108.4252 - mse: 9248110.0000 - mae: 2298.2085\n",
      "Epoch 220/300\n",
      "366712/366712 [==============================] - 0s 1us/step - loss: 9239078.1524 - mse: 9239078.0000 - mae: 2297.5908\n",
      "Epoch 221/300\n",
      "366712/366712 [==============================] - 0s 1us/step - loss: 9492723.9299 - mse: 9492724.0000 - mae: 2319.4131\n",
      "Epoch 222/300\n",
      "366712/366712 [==============================] - 0s 1us/step - loss: 9306374.4895 - mse: 9306374.0000 - mae: 2303.4705\n",
      "Epoch 223/300\n",
      "366712/366712 [==============================] - 0s 1us/step - loss: 9323835.7285 - mse: 9323835.0000 - mae: 2304.6340\n",
      "Epoch 224/300\n",
      "366712/366712 [==============================] - 0s 1us/step - loss: 9274808.4197 - mse: 9274809.0000 - mae: 2299.0139\n",
      "Epoch 225/300\n",
      "366712/366712 [==============================] - 0s 1us/step - loss: 9284502.7729 - mse: 9284504.0000 - mae: 2297.4839\n",
      "Epoch 226/300\n",
      "366712/366712 [==============================] - 0s 1us/step - loss: 9206590.7221 - mse: 9206589.0000 - mae: 2294.5913\n",
      "Epoch 227/300\n",
      "366712/366712 [==============================] - 0s 1us/step - loss: 9405067.3348 - mse: 9405065.0000 - mae: 2310.9016\n",
      "Epoch 228/300\n",
      "366712/366712 [==============================] - 0s 1us/step - loss: 9344838.9454 - mse: 9344839.0000 - mae: 2301.5117\n",
      "Epoch 229/300\n",
      "366712/366712 [==============================] - 0s 1us/step - loss: 9318942.5319 - mse: 9318943.0000 - mae: 2297.6650\n",
      "Epoch 230/300\n",
      "366712/366712 [==============================] - 0s 1us/step - loss: 9240884.5581 - mse: 9240884.0000 - mae: 2292.0994\n",
      "Epoch 231/300\n",
      "366712/366712 [==============================] - 0s 1us/step - loss: 9196337.8769 - mse: 9196339.0000 - mae: 2287.3633\n",
      "Epoch 232/300\n",
      "366712/366712 [==============================] - 0s 1us/step - loss: 9225947.6970 - mse: 9225949.0000 - mae: 2288.2053\n",
      "Epoch 233/300\n",
      "366712/366712 [==============================] - 0s 1us/step - loss: 9261815.8203 - mse: 9261816.0000 - mae: 2292.4785\n",
      "Epoch 234/300\n",
      "366712/366712 [==============================] - 0s 1us/step - loss: 9179870.2397 - mse: 9179871.0000 - mae: 2286.6035\n",
      "Epoch 235/300\n",
      "366712/366712 [==============================] - 0s 1us/step - loss: 9201750.1048 - mse: 9201752.0000 - mae: 2286.5242\n",
      "Epoch 236/300\n",
      "366712/366712 [==============================] - 0s 1us/step - loss: 9189543.7142 - mse: 9189544.0000 - mae: 2286.6030\n",
      "Epoch 237/300\n",
      "366712/366712 [==============================] - 0s 1us/step - loss: 9130968.9074 - mse: 9130969.0000 - mae: 2279.0544\n",
      "Epoch 238/300\n",
      "366712/366712 [==============================] - 0s 1us/step - loss: 9273682.9822 - mse: 9273684.0000 - mae: 2291.7207\n",
      "Epoch 239/300\n",
      "366712/366712 [==============================] - 0s 1us/step - loss: 9221863.5035 - mse: 9221865.0000 - mae: 2290.5791\n",
      "Epoch 240/300\n",
      "366712/366712 [==============================] - 0s 1us/step - loss: 9216921.2654 - mse: 9216922.0000 - mae: 2289.3137\n",
      "Epoch 241/300\n",
      "366712/366712 [==============================] - 0s 1us/step - loss: 9330170.6211 - mse: 9330171.0000 - mae: 2301.7268\n",
      "Epoch 242/300\n",
      "366712/366712 [==============================] - 0s 1us/step - loss: 9284121.3513 - mse: 9284122.0000 - mae: 2294.2771\n",
      "Epoch 243/300\n",
      "366712/366712 [==============================] - 0s 1us/step - loss: 9280265.7766 - mse: 9280265.0000 - mae: 2300.5796\n",
      "Epoch 244/300\n",
      "366712/366712 [==============================] - 0s 1us/step - loss: 9224248.8320 - mse: 9224248.0000 - mae: 2296.2666\n",
      "Epoch 245/300\n",
      "366712/366712 [==============================] - 0s 1us/step - loss: 9217619.4826 - mse: 9217620.0000 - mae: 2294.3179\n",
      "Epoch 246/300\n"
     ]
    },
    {
     "name": "stdout",
     "output_type": "stream",
     "text": [
      "366712/366712 [==============================] - 0s 1us/step - loss: 9245555.6390 - mse: 9245556.0000 - mae: 2298.8755\n",
      "Epoch 247/300\n",
      "366712/366712 [==============================] - 0s 1us/step - loss: 9363285.7660 - mse: 9363286.0000 - mae: 2304.1472\n",
      "Epoch 248/300\n",
      "366712/366712 [==============================] - 0s 1us/step - loss: 9394991.2534 - mse: 9394992.0000 - mae: 2309.0154\n",
      "Epoch 249/300\n",
      "366712/366712 [==============================] - 0s 1us/step - loss: 9284765.6645 - mse: 9284765.0000 - mae: 2299.2639\n",
      "Epoch 250/300\n",
      "366712/366712 [==============================] - 0s 1us/step - loss: 9135994.2563 - mse: 9135993.0000 - mae: 2280.0906\n",
      "Epoch 251/300\n",
      "366712/366712 [==============================] - 0s 1us/step - loss: 9215400.4340 - mse: 9215401.0000 - mae: 2293.2107\n",
      "Epoch 252/300\n",
      "366712/366712 [==============================] - 0s 1us/step - loss: 9222095.8303 - mse: 9222094.0000 - mae: 2291.9761\n",
      "Epoch 253/300\n",
      "366712/366712 [==============================] - 0s 1us/step - loss: 9195976.5914 - mse: 9195977.0000 - mae: 2286.9712\n",
      "Epoch 254/300\n",
      "366712/366712 [==============================] - 0s 1us/step - loss: 9226572.3891 - mse: 9226572.0000 - mae: 2287.6406\n",
      "Epoch 255/300\n",
      "366712/366712 [==============================] - 0s 1us/step - loss: 9175125.4182 - mse: 9175129.0000 - mae: 2286.3547\n",
      "Epoch 256/300\n",
      "366712/366712 [==============================] - 0s 1us/step - loss: 9185279.2956 - mse: 9185280.0000 - mae: 2282.8638\n",
      "Epoch 257/300\n",
      "366712/366712 [==============================] - 0s 1us/step - loss: 9163688.7911 - mse: 9163690.0000 - mae: 2279.3477\n",
      "Epoch 258/300\n",
      "366712/366712 [==============================] - 0s 1us/step - loss: 9217878.4079 - mse: 9217879.0000 - mae: 2284.3462\n",
      "Epoch 259/300\n",
      "366712/366712 [==============================] - 0s 1us/step - loss: 9209592.0369 - mse: 9209593.0000 - mae: 2285.9683\n",
      "Epoch 260/300\n",
      "366712/366712 [==============================] - 0s 1us/step - loss: 9169959.1212 - mse: 9169960.0000 - mae: 2281.8169\n",
      "Epoch 261/300\n",
      "366712/366712 [==============================] - 0s 1us/step - loss: 9142444.6131 - mse: 9142446.0000 - mae: 2276.6016\n",
      "Epoch 262/300\n",
      "366712/366712 [==============================] - 0s 1us/step - loss: 9317339.7510 - mse: 9317339.0000 - mae: 2294.4763\n",
      "Epoch 263/300\n",
      "366712/366712 [==============================] - 0s 1us/step - loss: 9398547.0960 - mse: 9398547.0000 - mae: 2305.5774\n",
      "Epoch 264/300\n",
      "366712/366712 [==============================] - 0s 1us/step - loss: 9335666.5405 - mse: 9335666.0000 - mae: 2296.6482\n",
      "Epoch 265/300\n",
      "366712/366712 [==============================] - 0s 1us/step - loss: 9202610.3733 - mse: 9202611.0000 - mae: 2286.4180\n",
      "Epoch 266/300\n",
      "366712/366712 [==============================] - 0s 1us/step - loss: 9201521.1133 - mse: 9201522.0000 - mae: 2282.0034\n",
      "Epoch 267/300\n",
      "366712/366712 [==============================] - 0s 1us/step - loss: 9244521.2746 - mse: 9244522.0000 - mae: 2287.1274\n",
      "Epoch 268/300\n",
      "366712/366712 [==============================] - 0s 1us/step - loss: 9255472.7058 - mse: 9255474.0000 - mae: 2288.1289\n",
      "Epoch 269/300\n",
      "366712/366712 [==============================] - 0s 1us/step - loss: 9238853.2449 - mse: 9238853.0000 - mae: 2290.5525\n",
      "Epoch 270/300\n",
      "366712/366712 [==============================] - 0s 1us/step - loss: 9256465.5414 - mse: 9256464.0000 - mae: 2289.3640\n",
      "Epoch 271/300\n",
      "366712/366712 [==============================] - 0s 1us/step - loss: 9188430.7247 - mse: 9188433.0000 - mae: 2282.3677\n",
      "Epoch 272/300\n",
      "366712/366712 [==============================] - 0s 1us/step - loss: 9201522.0546 - mse: 9201523.0000 - mae: 2283.5710\n",
      "Epoch 273/300\n",
      "366712/366712 [==============================] - 0s 1us/step - loss: 9162702.8916 - mse: 9162704.0000 - mae: 2277.2661\n",
      "Epoch 274/300\n",
      "366712/366712 [==============================] - 0s 1us/step - loss: 9130834.5583 - mse: 9130834.0000 - mae: 2274.7588\n",
      "Epoch 275/300\n",
      "366712/366712 [==============================] - 0s 1us/step - loss: 9160330.3490 - mse: 9160328.0000 - mae: 2280.5586\n",
      "Epoch 276/300\n",
      "366712/366712 [==============================] - 0s 1us/step - loss: 9364771.1752 - mse: 9364773.0000 - mae: 2297.2195\n",
      "Epoch 277/300\n",
      "366712/366712 [==============================] - 0s 1us/step - loss: 9148285.0545 - mse: 9148285.0000 - mae: 2278.0481\n",
      "Epoch 278/300\n",
      "366712/366712 [==============================] - 0s 1us/step - loss: 9153370.0765 - mse: 9153370.0000 - mae: 2277.1504\n",
      "Epoch 279/300\n",
      "366712/366712 [==============================] - 0s 1us/step - loss: 9183438.3219 - mse: 9183439.0000 - mae: 2280.4104\n",
      "Epoch 280/300\n",
      "366712/366712 [==============================] - 0s 1us/step - loss: 9147006.0988 - mse: 9147005.0000 - mae: 2274.6133\n",
      "Epoch 281/300\n",
      "366712/366712 [==============================] - 0s 1us/step - loss: 9115206.8543 - mse: 9115207.0000 - mae: 2272.5286\n",
      "Epoch 282/300\n",
      "366712/366712 [==============================] - 0s 1us/step - loss: 9111858.1606 - mse: 9111858.0000 - mae: 2273.0789\n",
      "Epoch 283/300\n",
      "366712/366712 [==============================] - 0s 1us/step - loss: 9183328.8501 - mse: 9183331.0000 - mae: 2278.3179\n",
      "Epoch 284/300\n",
      "366712/366712 [==============================] - 0s 1us/step - loss: 9112287.3945 - mse: 9112289.0000 - mae: 2271.6733\n",
      "Epoch 285/300\n",
      "366712/366712 [==============================] - 0s 1us/step - loss: 9120009.7388 - mse: 9120011.0000 - mae: 2273.9824\n",
      "Epoch 286/300\n",
      "366712/366712 [==============================] - 0s 1us/step - loss: 9163854.5851 - mse: 9163855.0000 - mae: 2278.9250\n",
      "Epoch 287/300\n",
      "366712/366712 [==============================] - 0s 1us/step - loss: 9337041.1211 - mse: 9337041.0000 - mae: 2297.9607\n",
      "Epoch 288/300\n",
      "366712/366712 [==============================] - 0s 1us/step - loss: 9186569.6604 - mse: 9186568.0000 - mae: 2281.1467\n",
      "Epoch 289/300\n",
      "366712/366712 [==============================] - 0s 1us/step - loss: 9176756.0788 - mse: 9176754.0000 - mae: 2281.7783\n",
      "Epoch 290/300\n",
      "366712/366712 [==============================] - 0s 1us/step - loss: 9228731.4415 - mse: 9228731.0000 - mae: 2284.0032\n",
      "Epoch 291/300\n",
      "366712/366712 [==============================] - 0s 1us/step - loss: 9136202.0630 - mse: 9136203.0000 - mae: 2276.3875\n",
      "Epoch 292/300\n",
      "366712/366712 [==============================] - 0s 1us/step - loss: 9182629.8057 - mse: 9182629.0000 - mae: 2280.6443\n",
      "Epoch 293/300\n",
      "366712/366712 [==============================] - 0s 1us/step - loss: 9158111.8654 - mse: 9158112.0000 - mae: 2279.9268\n",
      "Epoch 294/300\n",
      "366712/366712 [==============================] - 0s 1us/step - loss: 9267104.2995 - mse: 9267106.0000 - mae: 2295.0193\n",
      "Epoch 295/300\n",
      "366712/366712 [==============================] - 0s 1us/step - loss: 9254245.2663 - mse: 9254244.0000 - mae: 2292.1548\n",
      "Epoch 296/300\n",
      "366712/366712 [==============================] - 0s 1us/step - loss: 9241684.4802 - mse: 9241685.0000 - mae: 2287.8398\n",
      "Epoch 297/300\n",
      "366712/366712 [==============================] - 0s 1us/step - loss: 9195685.3516 - mse: 9195685.0000 - mae: 2288.4600\n",
      "Epoch 298/300\n",
      "366712/366712 [==============================] - 0s 1us/step - loss: 9310591.7437 - mse: 9310591.0000 - mae: 2289.4380\n",
      "Epoch 299/300\n",
      "366712/366712 [==============================] - 0s 1us/step - loss: 9115542.0368 - mse: 9115544.0000 - mae: 2275.4160\n",
      "Epoch 300/300\n",
      "366712/366712 [==============================] - ETA: 0s - loss: 9240308.5606 - mse: 9240307.0000 - mae: 2283.70 - 0s 1us/step - loss: 9229250.8297 - mse: 9229248.0000 - mae: 2282.3232\n"
     ]
    },
    {
     "data": {
      "text/plain": [
       "<keras.callbacks.callbacks.History at 0x1fa184128c8>"
      ]
     },
     "execution_count": 37,
     "metadata": {},
     "output_type": "execute_result"
    }
   ],
   "source": [
    "model.fit(X_train, y_train, epochs=300, batch_size=5000, verbose=1)"
   ]
  },
  {
   "cell_type": "code",
   "execution_count": 38,
   "metadata": {},
   "outputs": [
    {
     "name": "stdout",
     "output_type": "stream",
     "text": [
      "ANN\n",
      " MAE :  2280.8142783018657\n",
      " MSE :  9094922.777238183\n",
      " RMSE:  3015.778966906922\n",
      " R^2 :  0.640434498266234\n"
     ]
    }
   ],
   "source": [
    "m = get_metrics(model, y_test, model.predict(X_test))\n",
    "m[0] = 'ANN'\n",
    "show_metrics(m)\n",
    "results.append(m)"
   ]
  },
  {
   "cell_type": "code",
   "execution_count": 39,
   "metadata": {},
   "outputs": [],
   "source": [
    "res = pd.DataFrame(np.array(results))\n",
    "res.columns = ['Name', 'MAE', 'MSE', 'RMSE', 'R^2']"
   ]
  },
  {
   "cell_type": "code",
   "execution_count": 40,
   "metadata": {},
   "outputs": [
    {
     "data": {
      "text/plain": [
       "<matplotlib.axes._subplots.AxesSubplot at 0x1fa24883208>"
      ]
     },
     "execution_count": 40,
     "metadata": {},
     "output_type": "execute_result"
    },
    {
     "data": {
      "image/png": "[encoded data removed]",
      "text/plain": [
       "<Figure size 432x288 with 1 Axes>"
      ]
     },
     "metadata": {
      "needs_background": "light"
     },
     "output_type": "display_data"
    }
   ],
   "source": [
    "sns.barplot(data=res, y='Name', x='R^2')"
   ]
  },
  {
   "cell_type": "code",
   "execution_count": 41,
   "metadata": {},
   "outputs": [
    {
     "data": {
      "text/html": [
       "<div>\n",
       "<style scoped>\n",
       "    .dataframe tbody tr th:only-of-type {\n",
       "        vertical-align: middle;\n",
       "    }\n",
       "\n",
       "    .dataframe tbody tr th {\n",
       "        vertical-align: top;\n",
       "    }\n",
       "\n",
       "    .dataframe thead th {\n",
       "        text-align: right;\n",
       "    }\n",
       "</style>\n",
       "<table border=\"1\" class=\"dataframe\">\n",
       "  <thead>\n",
       "    <tr style=\"text-align: right;\">\n",
       "      <th></th>\n",
       "      <th>0</th>\n",
       "      <th>1</th>\n",
       "      <th>2</th>\n",
       "      <th>3</th>\n",
       "      <th>4</th>\n",
       "    </tr>\n",
       "  </thead>\n",
       "  <tbody>\n",
       "    <tr>\n",
       "      <th>0</th>\n",
       "      <td>PolynomialRegression</td>\n",
       "      <td>3309.958207</td>\n",
       "      <td>1.926176e+07</td>\n",
       "      <td>4388.821909</td>\n",
       "      <td>0.238491</td>\n",
       "    </tr>\n",
       "    <tr>\n",
       "      <th>1</th>\n",
       "      <td>Ridge</td>\n",
       "      <td>3593.786762</td>\n",
       "      <td>2.195204e+07</td>\n",
       "      <td>4685.300313</td>\n",
       "      <td>0.132132</td>\n",
       "    </tr>\n",
       "    <tr>\n",
       "      <th>2</th>\n",
       "      <td>Lasso</td>\n",
       "      <td>3593.784887</td>\n",
       "      <td>2.195204e+07</td>\n",
       "      <td>4685.300775</td>\n",
       "      <td>0.132131</td>\n",
       "    </tr>\n",
       "    <tr>\n",
       "      <th>3</th>\n",
       "      <td>LinearRegression</td>\n",
       "      <td>3593.786432</td>\n",
       "      <td>2.195204e+07</td>\n",
       "      <td>4685.300311</td>\n",
       "      <td>0.132132</td>\n",
       "    </tr>\n",
       "    <tr>\n",
       "      <th>4</th>\n",
       "      <td>DecisionTreeRegressor</td>\n",
       "      <td>2630.830455</td>\n",
       "      <td>1.387240e+07</td>\n",
       "      <td>3724.567492</td>\n",
       "      <td>0.451558</td>\n",
       "    </tr>\n",
       "  </tbody>\n",
       "</table>\n",
       "</div>"
      ],
      "text/plain": [
       "                       0            1             2            3         4\n",
       "0   PolynomialRegression  3309.958207  1.926176e+07  4388.821909  0.238491\n",
       "1                  Ridge  3593.786762  2.195204e+07  4685.300313  0.132132\n",
       "2                  Lasso  3593.784887  2.195204e+07  4685.300775  0.132131\n",
       "3       LinearRegression  3593.786432  2.195204e+07  4685.300311  0.132132\n",
       "4  DecisionTreeRegressor  2630.830455  1.387240e+07  3724.567492  0.451558"
      ]
     },
     "execution_count": 41,
     "metadata": {},
     "output_type": "execute_result"
    }
   ],
   "source": [
    "df_r = pd.DataFrame(results)\n",
    "df_r.head()"
   ]
  },
  {
   "cell_type": "markdown",
   "metadata": {},
   "source": [
    "# Clustering Algorithm Comparison"
   ]
  },
  {
   "cell_type": "markdown",
   "metadata": {},
   "source": [
    "### K-Means"
   ]
  },
  {
   "cell_type": "code",
   "execution_count": 42,
   "metadata": {},
   "outputs": [
    {
     "name": "stdout",
     "output_type": "stream",
     "text": [
      "Running KMeans with 1 clusters\n",
      "Running KMeans with 2 clusters\n",
      "Running KMeans with 3 clusters\n",
      "Running KMeans with 4 clusters\n",
      "Running KMeans with 5 clusters\n",
      "Running KMeans with 6 clusters\n",
      "Running KMeans with 7 clusters\n",
      "Running KMeans with 8 clusters\n",
      "Running KMeans with 9 clusters\n",
      "Running KMeans with 10 clusters\n"
     ]
    },
    {
     "data": {
      "image/png": "[encoded data removed]",
      "text/plain": [
       "<Figure size 432x288 with 1 Axes>"
      ]
     },
     "metadata": {
      "needs_background": "light"
     },
     "output_type": "display_data"
    }
   ],
   "source": [
    "from sklearn.cluster import KMeans\n",
    "wcss = []\n",
    "for i in range(1, 11):\n",
    "    print(\"Running KMeans with %s clusters\" % (i))\n",
    "    kmeans = KMeans(n_clusters = i, init = 'k-means++', random_state = 42)\n",
    "    kmeans.fit(X)\n",
    "    wcss.append(kmeans.inertia_)\n",
    "plt.plot(range(1, 11), wcss)\n",
    "plt.title('The Elbow Method')\n",
    "plt.xlabel('Number of clusters')\n",
    "plt.ylabel('WCSS') # sum of squares of the distances of each data point in all clusters to their centroids\n",
    "plt.show()"
   ]
  },
  {
   "cell_type": "markdown",
   "metadata": {},
   "source": [
    "### PCA"
   ]
  },
  {
   "cell_type": "code",
   "execution_count": 43,
   "metadata": {},
   "outputs": [],
   "source": [
    "from sklearn.decomposition import PCA\n",
    "pca = PCA(n_components = 3)\n",
    "X_pca = pca.fit_transform(X)\n",
    "explained_variance = pca.explained_variance_ratio_ "
   ]
  },
  {
   "cell_type": "code",
   "execution_count": 44,
   "metadata": {},
   "outputs": [
    {
     "name": "stdout",
     "output_type": "stream",
     "text": [
      "[9.99941231e-01 4.15276886e-05 1.50365374e-05]\n"
     ]
    }
   ],
   "source": [
    "print(explained_variance) # % of variance explained by each of the selected components"
   ]
  },
  {
   "cell_type": "code",
   "execution_count": 45,
   "metadata": {},
   "outputs": [
    {
     "name": "stdout",
     "output_type": "stream",
     "text": [
      "[[ 9.99999957e-01  6.78015193e-06  4.78419549e-05  5.64613034e-06\n",
      "   2.90559777e-04 -5.80060188e-06 -7.43338167e-06  4.90866276e-06\n",
      "   2.69169851e-06  2.62798511e-06  2.23825144e-06 -2.70419324e-06\n",
      "   3.99272802e-06 -2.55125162e-07  1.24345339e-06  1.95922614e-07\n",
      "  -1.46872062e-06]\n",
      " [-4.57358766e-05  7.79265580e-03  9.99906755e-01  1.83354708e-03\n",
      "  -7.73317533e-03 -5.71348649e-03 -1.68022493e-03  3.58707265e-03\n",
      "   8.55606948e-04  1.20291330e-03  1.30603065e-03 -8.90990100e-04\n",
      "   2.46657997e-03 -1.58035596e-04 -7.60300602e-04  1.51493781e-03\n",
      "   7.71763687e-04]\n",
      " [-2.90943163e-04 -5.05095526e-03  7.73703507e-03  2.48351949e-03\n",
      "   9.99938267e-01 -3.49261764e-03 -2.25884654e-03  1.17554421e-03\n",
      "   1.80871965e-03  1.67135689e-03  1.67204132e-03 -7.35715933e-04\n",
      "  -1.03593996e-03  7.69793887e-04 -7.45522006e-04 -1.04656767e-03\n",
      "   6.59269406e-04]]\n"
     ]
    }
   ],
   "source": [
    "print(pca.components_)"
   ]
  },
  {
   "cell_type": "markdown",
   "metadata": {},
   "source": [
    "# Feature Selection"
   ]
  },
  {
   "cell_type": "code",
   "execution_count": 46,
   "metadata": {},
   "outputs": [
    {
     "data": {
      "text/plain": [
       "array([[672, 0, 10, ..., 0, 0, 0],\n",
       "       [2376, 0, 10, ..., 0, 0, 0],\n",
       "       [852, 0, 10, ..., 0, 0, 0],\n",
       "       ...,\n",
       "       [3568, 0, 15, ..., 1, 0, 0],\n",
       "       [3568, 0, 1, ..., 0, 1, 0],\n",
       "       [3566, 0, 0, ..., 1, 0, 0]], dtype=object)"
      ]
     },
     "execution_count": 46,
     "metadata": {},
     "output_type": "execute_result"
    }
   ],
   "source": [
    "from sklearn.feature_selection import VarianceThreshold\n",
    "Xvt = X.copy(deep=True)\n",
    "sel = VarianceThreshold(threshold=(.8 * (1 - .8))) \n",
    "sel.fit_transform(Xvt)"
   ]
  },
  {
   "cell_type": "code",
   "execution_count": 47,
   "metadata": {},
   "outputs": [
    {
     "name": "stdout",
     "output_type": "stream",
     "text": [
      "======================================================================================\n",
      "Running LinearRegression(copy_X=True, fit_intercept=True, n_jobs=None, normalize=False)\n",
      "LinearRegression\n",
      " MAE :  3593.7864317142844\n",
      " MSE :  21952039.006256834\n",
      " RMSE:  4685.300311213448\n",
      " R^2 :  0.13213161753080482\n",
      "======================================================================================\n",
      "\n",
      "======================================================================================\n",
      "Running RandomForestRegressor(bootstrap=True, ccp_alpha=0.0, criterion='mse',\n",
      "                      max_depth=None, max_features='auto', max_leaf_nodes=None,\n",
      "                      max_samples=None, min_impurity_decrease=0.0,\n",
      "                      min_impurity_split=None, min_samples_leaf=1,\n",
      "                      min_samples_split=2, min_weight_fraction_leaf=0.0,\n",
      "                      n_estimators=100, n_jobs=None, oob_score=False,\n",
      "                      random_state=None, verbose=0, warm_start=False)\n",
      "RandomForestRegressor\n",
      " MAE :  2103.764583410758\n",
      " MSE :  8209169.894973392\n",
      " RMSE:  2865.1648983912587\n",
      " R^2 :  0.6754525173659389\n",
      "======================================================================================\n",
      "\n",
      "======================================================================================\n",
      "Running KNeighborsRegressor(algorithm='auto', leaf_size=30, metric='minkowski',\n",
      "                    metric_params=None, n_jobs=None, n_neighbors=3, p=2,\n",
      "                    weights='uniform')\n",
      "KNeighborsRegressor\n",
      " MAE :  2253.43161572751\n",
      " MSE :  9501839.293711567\n",
      " RMSE:  3082.505359883672\n",
      " R^2 :  0.6243471553614997\n",
      "======================================================================================\n",
      "\n"
     ]
    }
   ],
   "source": [
    "regressors = [\n",
    "    LinearRegression(), \n",
    "    RandomForestRegressor(),\n",
    "    KNeighborsRegressor(n_neighbors=3)\n",
    "]\n",
    "\n",
    "X_train, X_test, y_train, y_test = train_test_split(Xvt, y, test_size = 1/3, random_state = 0)\n",
    "\n",
    "for r in regressors: \n",
    "    print('======================================================================================')\n",
    "    print('Running %s' % (r))\n",
    "    r.fit(X_train, y_train)\n",
    "\n",
    "    m = get_metrics(r, y_test, r.predict(X_test))\n",
    "    show_metrics(m)\n",
    "    print('======================================================================================')\n",
    "    print('')"
   ]
  },
  {
   "cell_type": "markdown",
   "metadata": {},
   "source": [
    "### RFE"
   ]
  },
  {
   "cell_type": "code",
   "execution_count": 48,
   "metadata": {},
   "outputs": [
    {
     "name": "stdout",
     "output_type": "stream",
     "text": [
      "======================================================================================\n",
      "Running LinearRegression(copy_X=True, fit_intercept=True, n_jobs=None, normalize=False)\n",
      "Regressor: LinearRegression\n",
      "Support\n",
      "[False  True False False  True False False False False False False False\n",
      "  True False False False False]\n",
      "Ranking\n",
      "[15  1 14  9  1  7  6  4  5  2  3  8  1 13 10 12 11]\n",
      "======================================================================================\n",
      "\n",
      "======================================================================================\n",
      "Running DecisionTreeRegressor(ccp_alpha=0.0, criterion='mse', max_depth=None,\n",
      "                      max_features=None, max_leaf_nodes=None,\n",
      "                      min_impurity_decrease=0.0, min_impurity_split=None,\n",
      "                      min_samples_leaf=1, min_samples_split=2,\n",
      "                      min_weight_fraction_leaf=0.0, presort='deprecated',\n",
      "                      random_state=None, splitter='best')\n",
      "Regressor: DecisionTreeRegressor\n",
      "Support\n",
      "[ True False  True False  True False False False False False False False\n",
      " False False False False False]\n",
      "Ranking\n",
      "[ 1  7  1  4  1 11  5  9 13 14 15  3 12  2  8  6 10]\n",
      "======================================================================================\n",
      "\n",
      "======================================================================================\n",
      "Running GradientBoostingRegressor(alpha=0.9, ccp_alpha=0.0, criterion='friedman_mse',\n",
      "                          init=None, learning_rate=0.1, loss='ls', max_depth=3,\n",
      "                          max_features=None, max_leaf_nodes=None,\n",
      "                          min_impurity_decrease=0.0, min_impurity_split=None,\n",
      "                          min_samples_leaf=1, min_samples_split=2,\n",
      "                          min_weight_fraction_leaf=0.0, n_estimators=100,\n",
      "                          n_iter_no_change=None, presort='deprecated',\n",
      "                          random_state=None, subsample=1.0, tol=0.0001,\n",
      "                          validation_fraction=0.1, verbose=0, warm_start=False)\n",
      "Regressor: GradientBoostingRegressor\n",
      "Support\n",
      "[ True False False False  True False False False False False False False\n",
      "  True False False False False]\n",
      "Ranking\n",
      "[ 1  7  2 14  1  8  9  6 13  3  5  4  1 10 11 12 15]\n",
      "======================================================================================\n",
      "\n"
     ]
    }
   ],
   "source": [
    "from sklearn.feature_selection import RFE\n",
    "\n",
    "regressors = [\n",
    "    LinearRegression(), \n",
    "    # RandomForestRegressor(),\n",
    "    DecisionTreeRegressor(), \n",
    "    GradientBoostingRegressor()\n",
    "]\n",
    "\n",
    "X_train, X_test, y_train, y_test = train_test_split(Xvt, y, test_size = 1/3, random_state = 0)\n",
    "\n",
    "for r in regressors: \n",
    "    print('======================================================================================')\n",
    "    print('Running %s' % (r))\n",
    "    rfe = RFE(r, 3)\n",
    "    ref = rfe.fit(X_train, y_train)\n",
    "    print(\"Regressor: \" + str(r.__class__.__name__))\n",
    "    print(\"Support\")\n",
    "    print(rfe.support_)\n",
    "    print(\"Ranking\")\n",
    "    print(rfe.ranking_)\n",
    "    print('======================================================================================')\n",
    "    print('')"
   ]
  }
 ],
 "metadata": {
  "kernelspec": {
   "display_name": "Python 3",
   "language": "python",
   "name": "python3"
  },
  "language_info": {
   "codemirror_mode": {
    "name": "ipython",
    "version": 3
   },
   "file_extension": ".py",
   "mimetype": "text/x-python",
   "name": "python",
   "nbconvert_exporter": "python",
   "pygments_lexer": "ipython3",
   "version": "3.7.6"
  }
 },
 "nbformat": 4,
 "nbformat_minor": 2
}
