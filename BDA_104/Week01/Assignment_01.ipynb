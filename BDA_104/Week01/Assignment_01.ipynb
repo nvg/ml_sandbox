{
 "cells": [
  {
   "cell_type": "markdown",
   "metadata": {},
   "source": [
    "# Assignment #1"
   ]
  },
  {
   "cell_type": "code",
   "execution_count": 2,
   "metadata": {},
   "outputs": [],
   "source": [
    "# 1. Import Numpy, Pandas, Scipy, matplotlib, sklearn, csv libraries\n",
    "\n",
    "import numpy as np\n",
    "import pandas as pd\n",
    "import scipy as sc\n",
    "import matplotlib as mp\n",
    "import sklearn as sk\n",
    "import csv"
   ]
  },
  {
   "cell_type": "code",
   "execution_count": 3,
   "metadata": {},
   "outputs": [],
   "source": [
    "# 2. Open supplied CSV file “Office”\n",
    "ds = pd.read_csv('Office.csv')"
   ]
  },
  {
   "cell_type": "code",
   "execution_count": 4,
   "metadata": {},
   "outputs": [
    {
     "data": {
      "text/html": [
       "<div>\n",
       "<style scoped>\n",
       "    .dataframe tbody tr th:only-of-type {\n",
       "        vertical-align: middle;\n",
       "    }\n",
       "\n",
       "    .dataframe tbody tr th {\n",
       "        vertical-align: top;\n",
       "    }\n",
       "\n",
       "    .dataframe thead th {\n",
       "        text-align: right;\n",
       "    }\n",
       "</style>\n",
       "<table border=\"1\" class=\"dataframe\">\n",
       "  <thead>\n",
       "    <tr style=\"text-align: right;\">\n",
       "      <th></th>\n",
       "      <th>Units</th>\n",
       "      <th>Unit Price</th>\n",
       "    </tr>\n",
       "  </thead>\n",
       "  <tbody>\n",
       "    <tr>\n",
       "      <th>count</th>\n",
       "      <td>43.000000</td>\n",
       "      <td>43.000000</td>\n",
       "    </tr>\n",
       "    <tr>\n",
       "      <th>mean</th>\n",
       "      <td>49.325581</td>\n",
       "      <td>20.308605</td>\n",
       "    </tr>\n",
       "    <tr>\n",
       "      <th>std</th>\n",
       "      <td>30.078248</td>\n",
       "      <td>47.345118</td>\n",
       "    </tr>\n",
       "    <tr>\n",
       "      <th>min</th>\n",
       "      <td>2.000000</td>\n",
       "      <td>1.290000</td>\n",
       "    </tr>\n",
       "    <tr>\n",
       "      <th>25%</th>\n",
       "      <td>27.500000</td>\n",
       "      <td>3.990000</td>\n",
       "    </tr>\n",
       "    <tr>\n",
       "      <th>50%</th>\n",
       "      <td>53.000000</td>\n",
       "      <td>4.990000</td>\n",
       "    </tr>\n",
       "    <tr>\n",
       "      <th>75%</th>\n",
       "      <td>74.500000</td>\n",
       "      <td>17.990000</td>\n",
       "    </tr>\n",
       "    <tr>\n",
       "      <th>max</th>\n",
       "      <td>96.000000</td>\n",
       "      <td>275.000000</td>\n",
       "    </tr>\n",
       "  </tbody>\n",
       "</table>\n",
       "</div>"
      ],
      "text/plain": [
       "           Units  Unit Price\n",
       "count  43.000000   43.000000\n",
       "mean   49.325581   20.308605\n",
       "std    30.078248   47.345118\n",
       "min     2.000000    1.290000\n",
       "25%    27.500000    3.990000\n",
       "50%    53.000000    4.990000\n",
       "75%    74.500000   17.990000\n",
       "max    96.000000  275.000000"
      ]
     },
     "execution_count": 4,
     "metadata": {},
     "output_type": "execute_result"
    }
   ],
   "source": [
    "ds.describe()"
   ]
  },
  {
   "cell_type": "code",
   "execution_count": 15,
   "metadata": {},
   "outputs": [],
   "source": [
    "# 4. Create two new variables X and Y with number of values matching length of columns in the imported file: \n",
    "X = np.random.random(ds['Units'].count())\n",
    "Y = np.random.random(ds['Units'].count())"
   ]
  },
  {
   "cell_type": "code",
   "execution_count": 16,
   "metadata": {},
   "outputs": [],
   "source": [
    "# 5.\tScale created variables to be within 0-100 value range\n",
    "# optionally, can use 100 * (X - np.min(X))/np.ptp(X)\n",
    "X = 100 * X\n",
    "Y = 100 * Y"
   ]
  },
  {
   "cell_type": "code",
   "execution_count": 18,
   "metadata": {},
   "outputs": [],
   "source": [
    "# 6.\tCreate third variable Z as a function between X and Y that utilizes functions “+”, “*”, “/”\n",
    "Z = X * Y - X"
   ]
  },
  {
   "cell_type": "code",
   "execution_count": 19,
   "metadata": {},
   "outputs": [],
   "source": [
    "# 7. Create forth dataset ZZ as ascending range of values from 0 to the number of elements each vector should have\n",
    "ZZ = np.arange(ds['Units'].count())"
   ]
  },
  {
   "cell_type": "code",
   "execution_count": 33,
   "metadata": {},
   "outputs": [],
   "source": [
    "# 8. Combine X, Y, Z and ZZ informing a table T:\n",
    "T = np.array(list(zip(X,Y,Z,ZZ)))"
   ]
  },
  {
   "cell_type": "code",
   "execution_count": 67,
   "metadata": {},
   "outputs": [],
   "source": [
    "# 9. Combine T with the original dataset imported from CSV:\n",
    "dfT = pd.DataFrame(T)\n",
    "new_ds = ds.join(dfT)"
   ]
  },
  {
   "cell_type": "code",
   "execution_count": 86,
   "metadata": {},
   "outputs": [],
   "source": [
    "# 10.\tCreate labels for new dataset so X, Y and Z  columns are labeled as “Demand”, Supply”, “Projected growth”, ‘Index’\n",
    "# new_ds = new_ds.rename({0: 'Demand', 1: 'Supply', 2: 'Projected growth', 3: \"Index\"}, axis=1)\n",
    "column_labels = ['Demand', 'Supply', 'Projected growth', 'Index']"
   ]
  },
  {
   "cell_type": "code",
   "execution_count": 91,
   "metadata": {},
   "outputs": [
    {
     "data": {
      "text/html": [
       "<div>\n",
       "<style scoped>\n",
       "    .dataframe tbody tr th:only-of-type {\n",
       "        vertical-align: middle;\n",
       "    }\n",
       "\n",
       "    .dataframe tbody tr th {\n",
       "        vertical-align: top;\n",
       "    }\n",
       "\n",
       "    .dataframe thead th {\n",
       "        text-align: right;\n",
       "    }\n",
       "</style>\n",
       "<table border=\"1\" class=\"dataframe\">\n",
       "  <thead>\n",
       "    <tr style=\"text-align: right;\">\n",
       "      <th></th>\n",
       "      <th>Demand</th>\n",
       "      <th>Supply</th>\n",
       "      <th>Projected growth</th>\n",
       "      <th>Index</th>\n",
       "    </tr>\n",
       "  </thead>\n",
       "  <tbody>\n",
       "    <tr>\n",
       "      <th>0</th>\n",
       "      <td>59.350017</td>\n",
       "      <td>31.046408</td>\n",
       "      <td>1783.254796</td>\n",
       "      <td>0.0</td>\n",
       "    </tr>\n",
       "    <tr>\n",
       "      <th>1</th>\n",
       "      <td>16.743119</td>\n",
       "      <td>11.755532</td>\n",
       "      <td>180.081152</td>\n",
       "      <td>1.0</td>\n",
       "    </tr>\n",
       "    <tr>\n",
       "      <th>2</th>\n",
       "      <td>90.185462</td>\n",
       "      <td>3.286455</td>\n",
       "      <td>206.204989</td>\n",
       "      <td>2.0</td>\n",
       "    </tr>\n",
       "    <tr>\n",
       "      <th>3</th>\n",
       "      <td>2.713320</td>\n",
       "      <td>41.428166</td>\n",
       "      <td>109.694560</td>\n",
       "      <td>3.0</td>\n",
       "    </tr>\n",
       "    <tr>\n",
       "      <th>4</th>\n",
       "      <td>93.191764</td>\n",
       "      <td>14.315265</td>\n",
       "      <td>1240.873051</td>\n",
       "      <td>4.0</td>\n",
       "    </tr>\n",
       "  </tbody>\n",
       "</table>\n",
       "</div>"
      ],
      "text/plain": [
       "      Demand     Supply  Projected growth  Index\n",
       "0  59.350017  31.046408       1783.254796    0.0\n",
       "1  16.743119  11.755532        180.081152    1.0\n",
       "2  90.185462   3.286455        206.204989    2.0\n",
       "3   2.713320  41.428166        109.694560    3.0\n",
       "4  93.191764  14.315265       1240.873051    4.0"
      ]
     },
     "execution_count": 91,
     "metadata": {},
     "output_type": "execute_result"
    }
   ],
   "source": [
    "# 11. Combine labels with the dataset: \n",
    "labelled_ds = pd.DataFrame(new_ds, columns = column_labels) \n",
    "labelled_ds.head()"
   ]
  },
  {
   "cell_type": "code",
   "execution_count": 96,
   "metadata": {},
   "outputs": [],
   "source": [
    "# 12. Select rows that have values satisfying following conditions: \n",
    "filtered_ds = new_ds[(new_ds['Units'] > 20) & (new_ds['Unit Price'] < 100) & (new_ds['Demand'] < 500)]"
   ]
  },
  {
   "cell_type": "code",
   "execution_count": 102,
   "metadata": {},
   "outputs": [
    {
     "data": {
      "image/png": "[encoded data removed]",
      "text/plain": [
       "<Figure size 432x288 with 1 Axes>"
      ]
     },
     "metadata": {
      "needs_background": "light"
     },
     "output_type": "display_data"
    }
   ],
   "source": [
    "# 13. Plot demand as a function of price: \n",
    "import matplotlib.pyplot as plt\n",
    "%matplotlib inline\n",
    "plt.scatter(filtered_ds['Demand'][:],filtered_ds['Unit Price'][:])\n",
    "plt.show()"
   ]
  },
  {
   "cell_type": "code",
   "execution_count": 105,
   "metadata": {},
   "outputs": [],
   "source": [
    "# 14.\tExport the dataset as a CSV file\n",
    "filtered_ds.to_csv('outputfilename.csv')"
   ]
  }
 ],
 "metadata": {
  "kernelspec": {
   "display_name": "Python 3",
   "language": "python",
   "name": "python3"
  },
  "language_info": {
   "codemirror_mode": {
    "name": "ipython",
    "version": 3
   },
   "file_extension": ".py",
   "mimetype": "text/x-python",
   "name": "python",
   "nbconvert_exporter": "python",
   "pygments_lexer": "ipython3",
   "version": "3.7.3"
  }
 },
 "nbformat": 4,
 "nbformat_minor": 2
}
