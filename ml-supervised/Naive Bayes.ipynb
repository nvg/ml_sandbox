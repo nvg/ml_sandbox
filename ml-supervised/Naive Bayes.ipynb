{
 "cells": [
  {
   "cell_type": "markdown",
   "metadata": {},
   "source": [
    "# Naive Bayes\n",
    "\n",
    "Uses Bayes' Theorem for estimating probabilites `P(A|B) = [P(B|A) * P(A)] / P(B)`\n",
    "\n",
    "The 'naive' is due to the assumption that is required for Bayes to work optimally - all features must be independent of each other\n",
    "\n",
    "### Advantages\n",
    "\n",
    "* Easy and fast to predict the class of the test data set.\n",
    "* Performs well in multi-class prediction.\n",
    "* When assumption of independence holds, it performs better compare to other models like logistic regression and you need less training data.\n",
    "* Perform well in case of categorical input variables compared to numerical variable(s). \n",
    "* For numerical variable, normal distribution is assumed (bell curve, which is a strong assumption).\n",
    "\n",
    "### Disadvantage\n",
    "\n",
    "* If categorical variable has a category (in test data set), which was not observed in training data set, then model will assign a 0 (zero) probability and will be unable to make a prediction. This is often known as Zero Frequency. To solve this, we can use the smoothing technique. One of the simplest smoothing techniques is called Laplace estimation.\n",
    "* Naive Bayes is also known as a bad estimator, so the probability outputs are not to be taken too seriously.\n",
    "* Another limitation of Naive Bayes is the assumption of independent predictors. In real life, it is almost impossible that we get a set of predictors which are completely independent.\n",
    "\n",
    "[Medium](https://towardsdatascience.com/all-about-naive-bayes-8e13cef044cf)\n"
   ]
  },
  {
   "cell_type": "code",
   "execution_count": 1,
   "metadata": {},
   "outputs": [],
   "source": [
    "import pandas as pd\n",
    "from pandas import Series,DataFrame\n",
    "\n",
    "import matplotlib.pyplot as plt\n",
    "import seaborn as sns\n",
    "\n",
    "# Gaussian Naive Bayes\n",
    "from sklearn import datasets\n",
    "from sklearn import metrics\n",
    "from sklearn.naive_bayes import GaussianNB"
   ]
  },
  {
   "cell_type": "code",
   "execution_count": 2,
   "metadata": {},
   "outputs": [
    {
     "name": "stdout",
     "output_type": "stream",
     "text": [
      "0.9473684210526315\n"
     ]
    }
   ],
   "source": [
    "iris = datasets.load_iris()\n",
    "\n",
    "X = iris.data\n",
    "Y = iris.target\n",
    "\n",
    "model = GaussianNB()\n",
    "from sklearn.model_selection import train_test_split\n",
    "\n",
    "X_train, X_test, Y_train, Y_test = train_test_split(X, Y)\n",
    "model.fit(X_train,Y_train)\n",
    "\n",
    "predicted = model.predict(X_test)\n",
    "expected = Y_test\n",
    "print (metrics.accuracy_score(expected, predicted))"
   ]
  }
 ],
 "metadata": {
  "kernelspec": {
   "display_name": "Python 3",
   "language": "python",
   "name": "python3"
  },
  "language_info": {
   "codemirror_mode": {
    "name": "ipython",
    "version": 3
   },
   "file_extension": ".py",
   "mimetype": "text/x-python",
   "name": "python",
   "nbconvert_exporter": "python",
   "pygments_lexer": "ipython3",
   "version": "3.7.3"
  }
 },
 "nbformat": 4,
 "nbformat_minor": 2
}
